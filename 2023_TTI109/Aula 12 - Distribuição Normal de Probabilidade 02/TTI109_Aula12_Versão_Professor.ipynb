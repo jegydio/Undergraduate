{
  "nbformat": 4,
  "nbformat_minor": 0,
  "metadata": {
    "colab": {
      "provenance": []
    },
    "kernelspec": {
      "name": "python3",
      "display_name": "Python 3"
    },
    "language_info": {
      "name": "python"
    }
  },
  "cells": [
    {
      "cell_type": "markdown",
      "source": [
        "# **TTI109 - Estatística**\n",
        "# **Aula 12 - Distribuição Normal de Probabilidade 02**\n",
        "\n",
        "Nessa aula vamos aprender a:\n",
        "\n",
        "* Determinar o escore-z relativo à uma certa probabilidade de ocorrência de uma variável aleatória normalmente distribuída;\n",
        "* Calcular o valor da variável aleatória a partir do seu escore-z correspondente;\n",
        "* Calcular média e desvio padrão de distribuições amostrais de médias;\n",
        "* Aplicar o Teorema do Limite Central (TLC)."
      ],
      "metadata": {
        "id": "jKoSqE99BHui"
      }
    },
    {
      "cell_type": "code",
      "source": [
        "# Biblioteca\n",
        "from scipy.stats import norm"
      ],
      "metadata": {
        "id": "XlCYAI9-HXGm"
      },
      "execution_count": 65,
      "outputs": []
    },
    {
      "cell_type": "markdown",
      "source": [
        "## **Encontrando escores-z**\n",
        "\n",
        "Dada uma área (uma probabilidade), qual o correspondente escore-z relativo à uma distribuição normal padrão? O método `ppf()` (*Percent Point Function*) da classe `stats.norm` resolve esse problema.\n",
        "\n",
        "*   Determine o escore-*z* que tenha 96,16% da área de distribuição à sua direita.\n",
        "*   Determine o escore-*z* para o qual 95% da área de distribuição esteja entre *–z* e *z*.\n"
      ],
      "metadata": {
        "id": "CdeADdIO4kg7"
      }
    },
    {
      "cell_type": "code",
      "source": [
        "# Construindo a distribuição normal padrão\n",
        "mu, std = 0, 1\n",
        "normpad = norm(mu, std)"
      ],
      "metadata": {
        "id": "3xRd38FhHneY"
      },
      "execution_count": 66,
      "outputs": []
    },
    {
      "cell_type": "code",
      "source": [
        "# Escore-z que tenha 96,16% da área de distribuição à sua direita\n",
        "z1 = normpad.ppf(1-0.9616)\n",
        "print(f'z1 = {z1:.3f}')\n",
        "print(f'Conferindo... Área à direita = {normpad.sf(z1)*100:.2f}%')"
      ],
      "metadata": {
        "colab": {
          "base_uri": "https://localhost:8080/"
        },
        "id": "fkwc5l8xHvg3",
        "outputId": "7ceb2ec0-ef1e-42a6-fbc4-5b25ef933626"
      },
      "execution_count": 67,
      "outputs": [
        {
          "output_type": "stream",
          "name": "stdout",
          "text": [
            "z1 = -1.770\n",
            "Conferindo... Área à direita = 96.16%\n"
          ]
        }
      ]
    },
    {
      "cell_type": "code",
      "execution_count": 68,
      "metadata": {
        "colab": {
          "base_uri": "https://localhost:8080/"
        },
        "id": "NZ_FkG5tW0QD",
        "outputId": "4eb4e913-6438-45b4-95a5-7a5ce030686e"
      },
      "outputs": [
        {
          "output_type": "stream",
          "name": "stdout",
          "text": [
            "z2 = -1.645\n",
            "Conferindo... Área à esquerda de z = -1.645 é 5.00%\n",
            "Conferindo... Área à direita de z = 1.645 é 5.00%\n"
          ]
        }
      ],
      "source": [
        "# Escore-z para o qual 95% da área de distribuição esteja entre –z e z\n",
        "z2 = normpad.ppf(0.05)\n",
        "print(f'z2 = {z2:.3f}')\n",
        "print(f'Conferindo... Área à esquerda de z = {z2:.3f} é {normpad.cdf(z2)*100:.2f}%')\n",
        "print(f'Conferindo... Área à direita de z = {-z2:.3f} é {normpad.sf(-z2)*100:.2f}%')"
      ]
    },
    {
      "cell_type": "markdown",
      "source": [
        "##**Exercício 01**\n",
        "\n",
        "Um pesquisador testa as distâncias de frenagem de diversos carros. A distância de frenagem de 60 milhas por hora até uma parada completa em pista seca é medida em pés. As distâncias de frenagem de uma\n",
        "amostra de carros são normalmente distribuídas, com média de 129 pés e desvio padrão de 5,18 pés.\n",
        "\n",
        "Qual é a maior distância de frenagem que um desses carros poderia ter e ainda estar no grupo do 1% mais baixo? (*Adaptado de: Consumer Reports*)"
      ],
      "metadata": {
        "id": "1EK-ITbCJdoO"
      }
    },
    {
      "cell_type": "code",
      "source": [
        "# Construindo a distribuição normal das distâncias de frenagem\n",
        "mu, std = 129, 5.18\n",
        "frenagem = norm(mu, std)"
      ],
      "metadata": {
        "id": "y5CLEZqPIZtG"
      },
      "execution_count": 69,
      "outputs": []
    },
    {
      "cell_type": "code",
      "source": [
        "# Distância máxima com 1% da área de distribuição à sua esquerda\n",
        "dist = frenagem.ppf(0.01)\n",
        "print(f'Distância máxima = {dist:.2f} pés')\n",
        "print(f'Conferindo... Área à esquerda = {frenagem.cdf(dist)*100:.2f}%')"
      ],
      "metadata": {
        "colab": {
          "base_uri": "https://localhost:8080/"
        },
        "id": "h8ozlqPSJc_o",
        "outputId": "2e8c6021-fe0b-4c74-a769-3d02f9b0c1ed"
      },
      "execution_count": 70,
      "outputs": [
        {
          "output_type": "stream",
          "name": "stdout",
          "text": [
            "Distância máxima = 116.95 pés\n",
            "Conferindo... Área à esquerda = 1.00%\n"
          ]
        }
      ]
    },
    {
      "cell_type": "markdown",
      "source": [
        "##**Exercício 02**\n",
        "\n",
        "O tempo de trabalho dos funcionários em uma empresa é normalmente distribuído, com média de 11,2 anos e desvio padrão de 2,1 anos.\n",
        "\n",
        "Em uma redução de quadro, os 10% com menos tempo na empresa são demitidos. Qual é o tempo máximo que um funcionário pode ter trabalhado na empresa e ainda assim ser cortado?"
      ],
      "metadata": {
        "id": "54dxW5xhKvEu"
      }
    },
    {
      "cell_type": "code",
      "source": [
        "# Construindo a distribuição normal dos tempos de empresa\n",
        "mu, std = 11.2, 2.1\n",
        "tempos = norm(mu, std)"
      ],
      "metadata": {
        "id": "4IontrmzJDh_"
      },
      "execution_count": 71,
      "outputs": []
    },
    {
      "cell_type": "code",
      "source": [
        "# Tempo de empresa máximo com 10% da área de distribuição à sua esquerda\n",
        "tempo = tempos.ppf(0.1)\n",
        "print(f'Tempo máximo = {tempo:.2f} anos')\n",
        "print(f'Conferindo... Área à esquerda = {tempos.cdf(tempo)*100:.2f}%')"
      ],
      "metadata": {
        "colab": {
          "base_uri": "https://localhost:8080/"
        },
        "id": "m9rd8lK_K4aO",
        "outputId": "0b06d209-1e68-4f22-f506-cc12a258ba3b"
      },
      "execution_count": 72,
      "outputs": [
        {
          "output_type": "stream",
          "name": "stdout",
          "text": [
            "Tempo máximo = 8.51 anos\n",
            "Conferindo... Área à esquerda = 10.00%\n"
          ]
        }
      ]
    },
    {
      "cell_type": "markdown",
      "source": [
        "## **Distribuições amostrais**\n",
        "\n",
        "##**Exercício 03**\n",
        "\n",
        "Os valores populacionais $\\{1, 3, 5, 7\\}$ são equiprováveis. Esses valores são escritos em pedaços de papel e colocados em uma caixa. Então, selecionam-se dois pedaços de papel aleatoriamente, com reposição.\n",
        "\n",
        "**(a)** Liste todas as amostras possíveis de tamanho $𝑛 = 2$ e calcule suas respectivas médias.\n",
        "\n",
        "\n"
      ],
      "metadata": {
        "id": "FH34JYg4BpHj"
      }
    },
    {
      "cell_type": "code",
      "source": [
        "# Bibliotecas\n",
        "import itertools as it\n",
        "import pandas as pd"
      ],
      "metadata": {
        "id": "WH9x6OCtJsTg"
      },
      "execution_count": 73,
      "outputs": []
    },
    {
      "cell_type": "code",
      "source": [
        "## Item (a)\n",
        "# Chave para permutação\n",
        "chave = [1, 3, 5, 7]\n",
        "\n",
        "# Geração de todas as amostras possíveis de tamanho 2\n",
        "amostras_2a2 = list(it.product(chave, repeat=2))\n",
        "\n",
        "# Criação de tabela com possíveis amostras, acompanhadas de suas médias\n",
        "amostras = pd.DataFrame({'Amostras': amostras_2a2,\n",
        "                        'Média': [(x1+x2)/2 for (x1, x2) in amostras_2a2]})\n",
        "display(amostras)"
      ],
      "metadata": {
        "colab": {
          "base_uri": "https://localhost:8080/",
          "height": 551
        },
        "id": "7L96dWDcC20x",
        "outputId": "4ca5434d-f3bd-4287-943e-00b6af4f6109"
      },
      "execution_count": 74,
      "outputs": [
        {
          "output_type": "display_data",
          "data": {
            "text/plain": [
              "   Amostras  Média\n",
              "0    (1, 1)    1.0\n",
              "1    (1, 3)    2.0\n",
              "2    (1, 5)    3.0\n",
              "3    (1, 7)    4.0\n",
              "4    (3, 1)    2.0\n",
              "5    (3, 3)    3.0\n",
              "6    (3, 5)    4.0\n",
              "7    (3, 7)    5.0\n",
              "8    (5, 1)    3.0\n",
              "9    (5, 3)    4.0\n",
              "10   (5, 5)    5.0\n",
              "11   (5, 7)    6.0\n",
              "12   (7, 1)    4.0\n",
              "13   (7, 3)    5.0\n",
              "14   (7, 5)    6.0\n",
              "15   (7, 7)    7.0"
            ],
            "text/html": [
              "\n",
              "  <div id=\"df-7e80f9d9-70a5-4b8e-8d31-efc05496f695\" class=\"colab-df-container\">\n",
              "    <div>\n",
              "<style scoped>\n",
              "    .dataframe tbody tr th:only-of-type {\n",
              "        vertical-align: middle;\n",
              "    }\n",
              "\n",
              "    .dataframe tbody tr th {\n",
              "        vertical-align: top;\n",
              "    }\n",
              "\n",
              "    .dataframe thead th {\n",
              "        text-align: right;\n",
              "    }\n",
              "</style>\n",
              "<table border=\"1\" class=\"dataframe\">\n",
              "  <thead>\n",
              "    <tr style=\"text-align: right;\">\n",
              "      <th></th>\n",
              "      <th>Amostras</th>\n",
              "      <th>Média</th>\n",
              "    </tr>\n",
              "  </thead>\n",
              "  <tbody>\n",
              "    <tr>\n",
              "      <th>0</th>\n",
              "      <td>(1, 1)</td>\n",
              "      <td>1.0</td>\n",
              "    </tr>\n",
              "    <tr>\n",
              "      <th>1</th>\n",
              "      <td>(1, 3)</td>\n",
              "      <td>2.0</td>\n",
              "    </tr>\n",
              "    <tr>\n",
              "      <th>2</th>\n",
              "      <td>(1, 5)</td>\n",
              "      <td>3.0</td>\n",
              "    </tr>\n",
              "    <tr>\n",
              "      <th>3</th>\n",
              "      <td>(1, 7)</td>\n",
              "      <td>4.0</td>\n",
              "    </tr>\n",
              "    <tr>\n",
              "      <th>4</th>\n",
              "      <td>(3, 1)</td>\n",
              "      <td>2.0</td>\n",
              "    </tr>\n",
              "    <tr>\n",
              "      <th>5</th>\n",
              "      <td>(3, 3)</td>\n",
              "      <td>3.0</td>\n",
              "    </tr>\n",
              "    <tr>\n",
              "      <th>6</th>\n",
              "      <td>(3, 5)</td>\n",
              "      <td>4.0</td>\n",
              "    </tr>\n",
              "    <tr>\n",
              "      <th>7</th>\n",
              "      <td>(3, 7)</td>\n",
              "      <td>5.0</td>\n",
              "    </tr>\n",
              "    <tr>\n",
              "      <th>8</th>\n",
              "      <td>(5, 1)</td>\n",
              "      <td>3.0</td>\n",
              "    </tr>\n",
              "    <tr>\n",
              "      <th>9</th>\n",
              "      <td>(5, 3)</td>\n",
              "      <td>4.0</td>\n",
              "    </tr>\n",
              "    <tr>\n",
              "      <th>10</th>\n",
              "      <td>(5, 5)</td>\n",
              "      <td>5.0</td>\n",
              "    </tr>\n",
              "    <tr>\n",
              "      <th>11</th>\n",
              "      <td>(5, 7)</td>\n",
              "      <td>6.0</td>\n",
              "    </tr>\n",
              "    <tr>\n",
              "      <th>12</th>\n",
              "      <td>(7, 1)</td>\n",
              "      <td>4.0</td>\n",
              "    </tr>\n",
              "    <tr>\n",
              "      <th>13</th>\n",
              "      <td>(7, 3)</td>\n",
              "      <td>5.0</td>\n",
              "    </tr>\n",
              "    <tr>\n",
              "      <th>14</th>\n",
              "      <td>(7, 5)</td>\n",
              "      <td>6.0</td>\n",
              "    </tr>\n",
              "    <tr>\n",
              "      <th>15</th>\n",
              "      <td>(7, 7)</td>\n",
              "      <td>7.0</td>\n",
              "    </tr>\n",
              "  </tbody>\n",
              "</table>\n",
              "</div>\n",
              "    <div class=\"colab-df-buttons\">\n",
              "\n",
              "  <div class=\"colab-df-container\">\n",
              "    <button class=\"colab-df-convert\" onclick=\"convertToInteractive('df-7e80f9d9-70a5-4b8e-8d31-efc05496f695')\"\n",
              "            title=\"Convert this dataframe to an interactive table.\"\n",
              "            style=\"display:none;\">\n",
              "\n",
              "  <svg xmlns=\"http://www.w3.org/2000/svg\" height=\"24px\" viewBox=\"0 -960 960 960\">\n",
              "    <path d=\"M120-120v-720h720v720H120Zm60-500h600v-160H180v160Zm220 220h160v-160H400v160Zm0 220h160v-160H400v160ZM180-400h160v-160H180v160Zm440 0h160v-160H620v160ZM180-180h160v-160H180v160Zm440 0h160v-160H620v160Z\"/>\n",
              "  </svg>\n",
              "    </button>\n",
              "\n",
              "  <style>\n",
              "    .colab-df-container {\n",
              "      display:flex;\n",
              "      gap: 12px;\n",
              "    }\n",
              "\n",
              "    .colab-df-convert {\n",
              "      background-color: #E8F0FE;\n",
              "      border: none;\n",
              "      border-radius: 50%;\n",
              "      cursor: pointer;\n",
              "      display: none;\n",
              "      fill: #1967D2;\n",
              "      height: 32px;\n",
              "      padding: 0 0 0 0;\n",
              "      width: 32px;\n",
              "    }\n",
              "\n",
              "    .colab-df-convert:hover {\n",
              "      background-color: #E2EBFA;\n",
              "      box-shadow: 0px 1px 2px rgba(60, 64, 67, 0.3), 0px 1px 3px 1px rgba(60, 64, 67, 0.15);\n",
              "      fill: #174EA6;\n",
              "    }\n",
              "\n",
              "    .colab-df-buttons div {\n",
              "      margin-bottom: 4px;\n",
              "    }\n",
              "\n",
              "    [theme=dark] .colab-df-convert {\n",
              "      background-color: #3B4455;\n",
              "      fill: #D2E3FC;\n",
              "    }\n",
              "\n",
              "    [theme=dark] .colab-df-convert:hover {\n",
              "      background-color: #434B5C;\n",
              "      box-shadow: 0px 1px 3px 1px rgba(0, 0, 0, 0.15);\n",
              "      filter: drop-shadow(0px 1px 2px rgba(0, 0, 0, 0.3));\n",
              "      fill: #FFFFFF;\n",
              "    }\n",
              "  </style>\n",
              "\n",
              "    <script>\n",
              "      const buttonEl =\n",
              "        document.querySelector('#df-7e80f9d9-70a5-4b8e-8d31-efc05496f695 button.colab-df-convert');\n",
              "      buttonEl.style.display =\n",
              "        google.colab.kernel.accessAllowed ? 'block' : 'none';\n",
              "\n",
              "      async function convertToInteractive(key) {\n",
              "        const element = document.querySelector('#df-7e80f9d9-70a5-4b8e-8d31-efc05496f695');\n",
              "        const dataTable =\n",
              "          await google.colab.kernel.invokeFunction('convertToInteractive',\n",
              "                                                    [key], {});\n",
              "        if (!dataTable) return;\n",
              "\n",
              "        const docLinkHtml = 'Like what you see? Visit the ' +\n",
              "          '<a target=\"_blank\" href=https://colab.research.google.com/notebooks/data_table.ipynb>data table notebook</a>'\n",
              "          + ' to learn more about interactive tables.';\n",
              "        element.innerHTML = '';\n",
              "        dataTable['output_type'] = 'display_data';\n",
              "        await google.colab.output.renderOutput(dataTable, element);\n",
              "        const docLink = document.createElement('div');\n",
              "        docLink.innerHTML = docLinkHtml;\n",
              "        element.appendChild(docLink);\n",
              "      }\n",
              "    </script>\n",
              "  </div>\n",
              "\n",
              "\n",
              "<div id=\"df-74f1f53f-5fb4-47ed-9be0-b0f8e6f541e1\">\n",
              "  <button class=\"colab-df-quickchart\" onclick=\"quickchart('df-74f1f53f-5fb4-47ed-9be0-b0f8e6f541e1')\"\n",
              "            title=\"Suggest charts.\"\n",
              "            style=\"display:none;\">\n",
              "\n",
              "<svg xmlns=\"http://www.w3.org/2000/svg\" height=\"24px\"viewBox=\"0 0 24 24\"\n",
              "     width=\"24px\">\n",
              "    <g>\n",
              "        <path d=\"M19 3H5c-1.1 0-2 .9-2 2v14c0 1.1.9 2 2 2h14c1.1 0 2-.9 2-2V5c0-1.1-.9-2-2-2zM9 17H7v-7h2v7zm4 0h-2V7h2v10zm4 0h-2v-4h2v4z\"/>\n",
              "    </g>\n",
              "</svg>\n",
              "  </button>\n",
              "\n",
              "<style>\n",
              "  .colab-df-quickchart {\n",
              "      --bg-color: #E8F0FE;\n",
              "      --fill-color: #1967D2;\n",
              "      --hover-bg-color: #E2EBFA;\n",
              "      --hover-fill-color: #174EA6;\n",
              "      --disabled-fill-color: #AAA;\n",
              "      --disabled-bg-color: #DDD;\n",
              "  }\n",
              "\n",
              "  [theme=dark] .colab-df-quickchart {\n",
              "      --bg-color: #3B4455;\n",
              "      --fill-color: #D2E3FC;\n",
              "      --hover-bg-color: #434B5C;\n",
              "      --hover-fill-color: #FFFFFF;\n",
              "      --disabled-bg-color: #3B4455;\n",
              "      --disabled-fill-color: #666;\n",
              "  }\n",
              "\n",
              "  .colab-df-quickchart {\n",
              "    background-color: var(--bg-color);\n",
              "    border: none;\n",
              "    border-radius: 50%;\n",
              "    cursor: pointer;\n",
              "    display: none;\n",
              "    fill: var(--fill-color);\n",
              "    height: 32px;\n",
              "    padding: 0;\n",
              "    width: 32px;\n",
              "  }\n",
              "\n",
              "  .colab-df-quickchart:hover {\n",
              "    background-color: var(--hover-bg-color);\n",
              "    box-shadow: 0 1px 2px rgba(60, 64, 67, 0.3), 0 1px 3px 1px rgba(60, 64, 67, 0.15);\n",
              "    fill: var(--button-hover-fill-color);\n",
              "  }\n",
              "\n",
              "  .colab-df-quickchart-complete:disabled,\n",
              "  .colab-df-quickchart-complete:disabled:hover {\n",
              "    background-color: var(--disabled-bg-color);\n",
              "    fill: var(--disabled-fill-color);\n",
              "    box-shadow: none;\n",
              "  }\n",
              "\n",
              "  .colab-df-spinner {\n",
              "    border: 2px solid var(--fill-color);\n",
              "    border-color: transparent;\n",
              "    border-bottom-color: var(--fill-color);\n",
              "    animation:\n",
              "      spin 1s steps(1) infinite;\n",
              "  }\n",
              "\n",
              "  @keyframes spin {\n",
              "    0% {\n",
              "      border-color: transparent;\n",
              "      border-bottom-color: var(--fill-color);\n",
              "      border-left-color: var(--fill-color);\n",
              "    }\n",
              "    20% {\n",
              "      border-color: transparent;\n",
              "      border-left-color: var(--fill-color);\n",
              "      border-top-color: var(--fill-color);\n",
              "    }\n",
              "    30% {\n",
              "      border-color: transparent;\n",
              "      border-left-color: var(--fill-color);\n",
              "      border-top-color: var(--fill-color);\n",
              "      border-right-color: var(--fill-color);\n",
              "    }\n",
              "    40% {\n",
              "      border-color: transparent;\n",
              "      border-right-color: var(--fill-color);\n",
              "      border-top-color: var(--fill-color);\n",
              "    }\n",
              "    60% {\n",
              "      border-color: transparent;\n",
              "      border-right-color: var(--fill-color);\n",
              "    }\n",
              "    80% {\n",
              "      border-color: transparent;\n",
              "      border-right-color: var(--fill-color);\n",
              "      border-bottom-color: var(--fill-color);\n",
              "    }\n",
              "    90% {\n",
              "      border-color: transparent;\n",
              "      border-bottom-color: var(--fill-color);\n",
              "    }\n",
              "  }\n",
              "</style>\n",
              "\n",
              "  <script>\n",
              "    async function quickchart(key) {\n",
              "      const quickchartButtonEl =\n",
              "        document.querySelector('#' + key + ' button');\n",
              "      quickchartButtonEl.disabled = true;  // To prevent multiple clicks.\n",
              "      quickchartButtonEl.classList.add('colab-df-spinner');\n",
              "      try {\n",
              "        const charts = await google.colab.kernel.invokeFunction(\n",
              "            'suggestCharts', [key], {});\n",
              "      } catch (error) {\n",
              "        console.error('Error during call to suggestCharts:', error);\n",
              "      }\n",
              "      quickchartButtonEl.classList.remove('colab-df-spinner');\n",
              "      quickchartButtonEl.classList.add('colab-df-quickchart-complete');\n",
              "    }\n",
              "    (() => {\n",
              "      let quickchartButtonEl =\n",
              "        document.querySelector('#df-74f1f53f-5fb4-47ed-9be0-b0f8e6f541e1 button');\n",
              "      quickchartButtonEl.style.display =\n",
              "        google.colab.kernel.accessAllowed ? 'block' : 'none';\n",
              "    })();\n",
              "  </script>\n",
              "</div>\n",
              "    </div>\n",
              "  </div>\n"
            ]
          },
          "metadata": {}
        }
      ]
    },
    {
      "cell_type": "markdown",
      "source": [
        "**(b)** Encontre a média, a variância e o desvio\n",
        "padrão das médias amostrais."
      ],
      "metadata": {
        "id": "ubW6tGy2KIsf"
      }
    },
    {
      "cell_type": "code",
      "source": [
        "## Item (b)\n",
        "# Determinação da frequência de cada média\n",
        "contagem = amostras['Média'].value_counts().sort_index()\n",
        "print(contagem)"
      ],
      "metadata": {
        "colab": {
          "base_uri": "https://localhost:8080/"
        },
        "id": "-Y6E1I83KeOP",
        "outputId": "706f56bf-93ef-4835-c501-f22384fd9100"
      },
      "execution_count": 75,
      "outputs": [
        {
          "output_type": "stream",
          "name": "stdout",
          "text": [
            "1.0    1\n",
            "2.0    2\n",
            "3.0    3\n",
            "4.0    4\n",
            "5.0    3\n",
            "6.0    2\n",
            "7.0    1\n",
            "Name: Média, dtype: int64\n"
          ]
        }
      ]
    },
    {
      "cell_type": "code",
      "source": [
        "# Criação de tabela com as possíveis médias\n",
        "dist_prob = pd.DataFrame({'Médias': contagem.index,\n",
        "                         'Frequência': contagem.values})\n",
        "display(dist_prob)"
      ],
      "metadata": {
        "colab": {
          "base_uri": "https://localhost:8080/",
          "height": 269
        },
        "id": "UzxzGKeHKzVG",
        "outputId": "ae7ed6ee-6e77-479a-e5eb-5a0a90cb8683"
      },
      "execution_count": 76,
      "outputs": [
        {
          "output_type": "display_data",
          "data": {
            "text/plain": [
              "   Médias  Frequência\n",
              "0     1.0           1\n",
              "1     2.0           2\n",
              "2     3.0           3\n",
              "3     4.0           4\n",
              "4     5.0           3\n",
              "5     6.0           2\n",
              "6     7.0           1"
            ],
            "text/html": [
              "\n",
              "  <div id=\"df-891172c4-7b96-4174-9858-86d6671a22f8\" class=\"colab-df-container\">\n",
              "    <div>\n",
              "<style scoped>\n",
              "    .dataframe tbody tr th:only-of-type {\n",
              "        vertical-align: middle;\n",
              "    }\n",
              "\n",
              "    .dataframe tbody tr th {\n",
              "        vertical-align: top;\n",
              "    }\n",
              "\n",
              "    .dataframe thead th {\n",
              "        text-align: right;\n",
              "    }\n",
              "</style>\n",
              "<table border=\"1\" class=\"dataframe\">\n",
              "  <thead>\n",
              "    <tr style=\"text-align: right;\">\n",
              "      <th></th>\n",
              "      <th>Médias</th>\n",
              "      <th>Frequência</th>\n",
              "    </tr>\n",
              "  </thead>\n",
              "  <tbody>\n",
              "    <tr>\n",
              "      <th>0</th>\n",
              "      <td>1.0</td>\n",
              "      <td>1</td>\n",
              "    </tr>\n",
              "    <tr>\n",
              "      <th>1</th>\n",
              "      <td>2.0</td>\n",
              "      <td>2</td>\n",
              "    </tr>\n",
              "    <tr>\n",
              "      <th>2</th>\n",
              "      <td>3.0</td>\n",
              "      <td>3</td>\n",
              "    </tr>\n",
              "    <tr>\n",
              "      <th>3</th>\n",
              "      <td>4.0</td>\n",
              "      <td>4</td>\n",
              "    </tr>\n",
              "    <tr>\n",
              "      <th>4</th>\n",
              "      <td>5.0</td>\n",
              "      <td>3</td>\n",
              "    </tr>\n",
              "    <tr>\n",
              "      <th>5</th>\n",
              "      <td>6.0</td>\n",
              "      <td>2</td>\n",
              "    </tr>\n",
              "    <tr>\n",
              "      <th>6</th>\n",
              "      <td>7.0</td>\n",
              "      <td>1</td>\n",
              "    </tr>\n",
              "  </tbody>\n",
              "</table>\n",
              "</div>\n",
              "    <div class=\"colab-df-buttons\">\n",
              "\n",
              "  <div class=\"colab-df-container\">\n",
              "    <button class=\"colab-df-convert\" onclick=\"convertToInteractive('df-891172c4-7b96-4174-9858-86d6671a22f8')\"\n",
              "            title=\"Convert this dataframe to an interactive table.\"\n",
              "            style=\"display:none;\">\n",
              "\n",
              "  <svg xmlns=\"http://www.w3.org/2000/svg\" height=\"24px\" viewBox=\"0 -960 960 960\">\n",
              "    <path d=\"M120-120v-720h720v720H120Zm60-500h600v-160H180v160Zm220 220h160v-160H400v160Zm0 220h160v-160H400v160ZM180-400h160v-160H180v160Zm440 0h160v-160H620v160ZM180-180h160v-160H180v160Zm440 0h160v-160H620v160Z\"/>\n",
              "  </svg>\n",
              "    </button>\n",
              "\n",
              "  <style>\n",
              "    .colab-df-container {\n",
              "      display:flex;\n",
              "      gap: 12px;\n",
              "    }\n",
              "\n",
              "    .colab-df-convert {\n",
              "      background-color: #E8F0FE;\n",
              "      border: none;\n",
              "      border-radius: 50%;\n",
              "      cursor: pointer;\n",
              "      display: none;\n",
              "      fill: #1967D2;\n",
              "      height: 32px;\n",
              "      padding: 0 0 0 0;\n",
              "      width: 32px;\n",
              "    }\n",
              "\n",
              "    .colab-df-convert:hover {\n",
              "      background-color: #E2EBFA;\n",
              "      box-shadow: 0px 1px 2px rgba(60, 64, 67, 0.3), 0px 1px 3px 1px rgba(60, 64, 67, 0.15);\n",
              "      fill: #174EA6;\n",
              "    }\n",
              "\n",
              "    .colab-df-buttons div {\n",
              "      margin-bottom: 4px;\n",
              "    }\n",
              "\n",
              "    [theme=dark] .colab-df-convert {\n",
              "      background-color: #3B4455;\n",
              "      fill: #D2E3FC;\n",
              "    }\n",
              "\n",
              "    [theme=dark] .colab-df-convert:hover {\n",
              "      background-color: #434B5C;\n",
              "      box-shadow: 0px 1px 3px 1px rgba(0, 0, 0, 0.15);\n",
              "      filter: drop-shadow(0px 1px 2px rgba(0, 0, 0, 0.3));\n",
              "      fill: #FFFFFF;\n",
              "    }\n",
              "  </style>\n",
              "\n",
              "    <script>\n",
              "      const buttonEl =\n",
              "        document.querySelector('#df-891172c4-7b96-4174-9858-86d6671a22f8 button.colab-df-convert');\n",
              "      buttonEl.style.display =\n",
              "        google.colab.kernel.accessAllowed ? 'block' : 'none';\n",
              "\n",
              "      async function convertToInteractive(key) {\n",
              "        const element = document.querySelector('#df-891172c4-7b96-4174-9858-86d6671a22f8');\n",
              "        const dataTable =\n",
              "          await google.colab.kernel.invokeFunction('convertToInteractive',\n",
              "                                                    [key], {});\n",
              "        if (!dataTable) return;\n",
              "\n",
              "        const docLinkHtml = 'Like what you see? Visit the ' +\n",
              "          '<a target=\"_blank\" href=https://colab.research.google.com/notebooks/data_table.ipynb>data table notebook</a>'\n",
              "          + ' to learn more about interactive tables.';\n",
              "        element.innerHTML = '';\n",
              "        dataTable['output_type'] = 'display_data';\n",
              "        await google.colab.output.renderOutput(dataTable, element);\n",
              "        const docLink = document.createElement('div');\n",
              "        docLink.innerHTML = docLinkHtml;\n",
              "        element.appendChild(docLink);\n",
              "      }\n",
              "    </script>\n",
              "  </div>\n",
              "\n",
              "\n",
              "<div id=\"df-2d9292a4-c40f-4eb2-b27f-908b38fab631\">\n",
              "  <button class=\"colab-df-quickchart\" onclick=\"quickchart('df-2d9292a4-c40f-4eb2-b27f-908b38fab631')\"\n",
              "            title=\"Suggest charts.\"\n",
              "            style=\"display:none;\">\n",
              "\n",
              "<svg xmlns=\"http://www.w3.org/2000/svg\" height=\"24px\"viewBox=\"0 0 24 24\"\n",
              "     width=\"24px\">\n",
              "    <g>\n",
              "        <path d=\"M19 3H5c-1.1 0-2 .9-2 2v14c0 1.1.9 2 2 2h14c1.1 0 2-.9 2-2V5c0-1.1-.9-2-2-2zM9 17H7v-7h2v7zm4 0h-2V7h2v10zm4 0h-2v-4h2v4z\"/>\n",
              "    </g>\n",
              "</svg>\n",
              "  </button>\n",
              "\n",
              "<style>\n",
              "  .colab-df-quickchart {\n",
              "      --bg-color: #E8F0FE;\n",
              "      --fill-color: #1967D2;\n",
              "      --hover-bg-color: #E2EBFA;\n",
              "      --hover-fill-color: #174EA6;\n",
              "      --disabled-fill-color: #AAA;\n",
              "      --disabled-bg-color: #DDD;\n",
              "  }\n",
              "\n",
              "  [theme=dark] .colab-df-quickchart {\n",
              "      --bg-color: #3B4455;\n",
              "      --fill-color: #D2E3FC;\n",
              "      --hover-bg-color: #434B5C;\n",
              "      --hover-fill-color: #FFFFFF;\n",
              "      --disabled-bg-color: #3B4455;\n",
              "      --disabled-fill-color: #666;\n",
              "  }\n",
              "\n",
              "  .colab-df-quickchart {\n",
              "    background-color: var(--bg-color);\n",
              "    border: none;\n",
              "    border-radius: 50%;\n",
              "    cursor: pointer;\n",
              "    display: none;\n",
              "    fill: var(--fill-color);\n",
              "    height: 32px;\n",
              "    padding: 0;\n",
              "    width: 32px;\n",
              "  }\n",
              "\n",
              "  .colab-df-quickchart:hover {\n",
              "    background-color: var(--hover-bg-color);\n",
              "    box-shadow: 0 1px 2px rgba(60, 64, 67, 0.3), 0 1px 3px 1px rgba(60, 64, 67, 0.15);\n",
              "    fill: var(--button-hover-fill-color);\n",
              "  }\n",
              "\n",
              "  .colab-df-quickchart-complete:disabled,\n",
              "  .colab-df-quickchart-complete:disabled:hover {\n",
              "    background-color: var(--disabled-bg-color);\n",
              "    fill: var(--disabled-fill-color);\n",
              "    box-shadow: none;\n",
              "  }\n",
              "\n",
              "  .colab-df-spinner {\n",
              "    border: 2px solid var(--fill-color);\n",
              "    border-color: transparent;\n",
              "    border-bottom-color: var(--fill-color);\n",
              "    animation:\n",
              "      spin 1s steps(1) infinite;\n",
              "  }\n",
              "\n",
              "  @keyframes spin {\n",
              "    0% {\n",
              "      border-color: transparent;\n",
              "      border-bottom-color: var(--fill-color);\n",
              "      border-left-color: var(--fill-color);\n",
              "    }\n",
              "    20% {\n",
              "      border-color: transparent;\n",
              "      border-left-color: var(--fill-color);\n",
              "      border-top-color: var(--fill-color);\n",
              "    }\n",
              "    30% {\n",
              "      border-color: transparent;\n",
              "      border-left-color: var(--fill-color);\n",
              "      border-top-color: var(--fill-color);\n",
              "      border-right-color: var(--fill-color);\n",
              "    }\n",
              "    40% {\n",
              "      border-color: transparent;\n",
              "      border-right-color: var(--fill-color);\n",
              "      border-top-color: var(--fill-color);\n",
              "    }\n",
              "    60% {\n",
              "      border-color: transparent;\n",
              "      border-right-color: var(--fill-color);\n",
              "    }\n",
              "    80% {\n",
              "      border-color: transparent;\n",
              "      border-right-color: var(--fill-color);\n",
              "      border-bottom-color: var(--fill-color);\n",
              "    }\n",
              "    90% {\n",
              "      border-color: transparent;\n",
              "      border-bottom-color: var(--fill-color);\n",
              "    }\n",
              "  }\n",
              "</style>\n",
              "\n",
              "  <script>\n",
              "    async function quickchart(key) {\n",
              "      const quickchartButtonEl =\n",
              "        document.querySelector('#' + key + ' button');\n",
              "      quickchartButtonEl.disabled = true;  // To prevent multiple clicks.\n",
              "      quickchartButtonEl.classList.add('colab-df-spinner');\n",
              "      try {\n",
              "        const charts = await google.colab.kernel.invokeFunction(\n",
              "            'suggestCharts', [key], {});\n",
              "      } catch (error) {\n",
              "        console.error('Error during call to suggestCharts:', error);\n",
              "      }\n",
              "      quickchartButtonEl.classList.remove('colab-df-spinner');\n",
              "      quickchartButtonEl.classList.add('colab-df-quickchart-complete');\n",
              "    }\n",
              "    (() => {\n",
              "      let quickchartButtonEl =\n",
              "        document.querySelector('#df-2d9292a4-c40f-4eb2-b27f-908b38fab631 button');\n",
              "      quickchartButtonEl.style.display =\n",
              "        google.colab.kernel.accessAllowed ? 'block' : 'none';\n",
              "    })();\n",
              "  </script>\n",
              "</div>\n",
              "    </div>\n",
              "  </div>\n"
            ]
          },
          "metadata": {}
        }
      ]
    },
    {
      "cell_type": "code",
      "source": [
        "# Cálculo das probabilidades de ocorrência das médias\n",
        "dist_prob['Probabilidade'] = dist_prob['Frequência'] / dist_prob['Frequência'].sum()\n",
        "display(dist_prob)"
      ],
      "metadata": {
        "colab": {
          "base_uri": "https://localhost:8080/",
          "height": 269
        },
        "id": "VKK-7AB6K-d4",
        "outputId": "b9b34e3b-1442-4b19-e5a3-fba1f080b4f7"
      },
      "execution_count": 77,
      "outputs": [
        {
          "output_type": "display_data",
          "data": {
            "text/plain": [
              "   Médias  Frequência  Probabilidade\n",
              "0     1.0           1         0.0625\n",
              "1     2.0           2         0.1250\n",
              "2     3.0           3         0.1875\n",
              "3     4.0           4         0.2500\n",
              "4     5.0           3         0.1875\n",
              "5     6.0           2         0.1250\n",
              "6     7.0           1         0.0625"
            ],
            "text/html": [
              "\n",
              "  <div id=\"df-21ce66d0-8263-4eab-97be-71ea29a0e8f6\" class=\"colab-df-container\">\n",
              "    <div>\n",
              "<style scoped>\n",
              "    .dataframe tbody tr th:only-of-type {\n",
              "        vertical-align: middle;\n",
              "    }\n",
              "\n",
              "    .dataframe tbody tr th {\n",
              "        vertical-align: top;\n",
              "    }\n",
              "\n",
              "    .dataframe thead th {\n",
              "        text-align: right;\n",
              "    }\n",
              "</style>\n",
              "<table border=\"1\" class=\"dataframe\">\n",
              "  <thead>\n",
              "    <tr style=\"text-align: right;\">\n",
              "      <th></th>\n",
              "      <th>Médias</th>\n",
              "      <th>Frequência</th>\n",
              "      <th>Probabilidade</th>\n",
              "    </tr>\n",
              "  </thead>\n",
              "  <tbody>\n",
              "    <tr>\n",
              "      <th>0</th>\n",
              "      <td>1.0</td>\n",
              "      <td>1</td>\n",
              "      <td>0.0625</td>\n",
              "    </tr>\n",
              "    <tr>\n",
              "      <th>1</th>\n",
              "      <td>2.0</td>\n",
              "      <td>2</td>\n",
              "      <td>0.1250</td>\n",
              "    </tr>\n",
              "    <tr>\n",
              "      <th>2</th>\n",
              "      <td>3.0</td>\n",
              "      <td>3</td>\n",
              "      <td>0.1875</td>\n",
              "    </tr>\n",
              "    <tr>\n",
              "      <th>3</th>\n",
              "      <td>4.0</td>\n",
              "      <td>4</td>\n",
              "      <td>0.2500</td>\n",
              "    </tr>\n",
              "    <tr>\n",
              "      <th>4</th>\n",
              "      <td>5.0</td>\n",
              "      <td>3</td>\n",
              "      <td>0.1875</td>\n",
              "    </tr>\n",
              "    <tr>\n",
              "      <th>5</th>\n",
              "      <td>6.0</td>\n",
              "      <td>2</td>\n",
              "      <td>0.1250</td>\n",
              "    </tr>\n",
              "    <tr>\n",
              "      <th>6</th>\n",
              "      <td>7.0</td>\n",
              "      <td>1</td>\n",
              "      <td>0.0625</td>\n",
              "    </tr>\n",
              "  </tbody>\n",
              "</table>\n",
              "</div>\n",
              "    <div class=\"colab-df-buttons\">\n",
              "\n",
              "  <div class=\"colab-df-container\">\n",
              "    <button class=\"colab-df-convert\" onclick=\"convertToInteractive('df-21ce66d0-8263-4eab-97be-71ea29a0e8f6')\"\n",
              "            title=\"Convert this dataframe to an interactive table.\"\n",
              "            style=\"display:none;\">\n",
              "\n",
              "  <svg xmlns=\"http://www.w3.org/2000/svg\" height=\"24px\" viewBox=\"0 -960 960 960\">\n",
              "    <path d=\"M120-120v-720h720v720H120Zm60-500h600v-160H180v160Zm220 220h160v-160H400v160Zm0 220h160v-160H400v160ZM180-400h160v-160H180v160Zm440 0h160v-160H620v160ZM180-180h160v-160H180v160Zm440 0h160v-160H620v160Z\"/>\n",
              "  </svg>\n",
              "    </button>\n",
              "\n",
              "  <style>\n",
              "    .colab-df-container {\n",
              "      display:flex;\n",
              "      gap: 12px;\n",
              "    }\n",
              "\n",
              "    .colab-df-convert {\n",
              "      background-color: #E8F0FE;\n",
              "      border: none;\n",
              "      border-radius: 50%;\n",
              "      cursor: pointer;\n",
              "      display: none;\n",
              "      fill: #1967D2;\n",
              "      height: 32px;\n",
              "      padding: 0 0 0 0;\n",
              "      width: 32px;\n",
              "    }\n",
              "\n",
              "    .colab-df-convert:hover {\n",
              "      background-color: #E2EBFA;\n",
              "      box-shadow: 0px 1px 2px rgba(60, 64, 67, 0.3), 0px 1px 3px 1px rgba(60, 64, 67, 0.15);\n",
              "      fill: #174EA6;\n",
              "    }\n",
              "\n",
              "    .colab-df-buttons div {\n",
              "      margin-bottom: 4px;\n",
              "    }\n",
              "\n",
              "    [theme=dark] .colab-df-convert {\n",
              "      background-color: #3B4455;\n",
              "      fill: #D2E3FC;\n",
              "    }\n",
              "\n",
              "    [theme=dark] .colab-df-convert:hover {\n",
              "      background-color: #434B5C;\n",
              "      box-shadow: 0px 1px 3px 1px rgba(0, 0, 0, 0.15);\n",
              "      filter: drop-shadow(0px 1px 2px rgba(0, 0, 0, 0.3));\n",
              "      fill: #FFFFFF;\n",
              "    }\n",
              "  </style>\n",
              "\n",
              "    <script>\n",
              "      const buttonEl =\n",
              "        document.querySelector('#df-21ce66d0-8263-4eab-97be-71ea29a0e8f6 button.colab-df-convert');\n",
              "      buttonEl.style.display =\n",
              "        google.colab.kernel.accessAllowed ? 'block' : 'none';\n",
              "\n",
              "      async function convertToInteractive(key) {\n",
              "        const element = document.querySelector('#df-21ce66d0-8263-4eab-97be-71ea29a0e8f6');\n",
              "        const dataTable =\n",
              "          await google.colab.kernel.invokeFunction('convertToInteractive',\n",
              "                                                    [key], {});\n",
              "        if (!dataTable) return;\n",
              "\n",
              "        const docLinkHtml = 'Like what you see? Visit the ' +\n",
              "          '<a target=\"_blank\" href=https://colab.research.google.com/notebooks/data_table.ipynb>data table notebook</a>'\n",
              "          + ' to learn more about interactive tables.';\n",
              "        element.innerHTML = '';\n",
              "        dataTable['output_type'] = 'display_data';\n",
              "        await google.colab.output.renderOutput(dataTable, element);\n",
              "        const docLink = document.createElement('div');\n",
              "        docLink.innerHTML = docLinkHtml;\n",
              "        element.appendChild(docLink);\n",
              "      }\n",
              "    </script>\n",
              "  </div>\n",
              "\n",
              "\n",
              "<div id=\"df-03b54d3a-4570-4716-a4e9-81314cf2bf67\">\n",
              "  <button class=\"colab-df-quickchart\" onclick=\"quickchart('df-03b54d3a-4570-4716-a4e9-81314cf2bf67')\"\n",
              "            title=\"Suggest charts.\"\n",
              "            style=\"display:none;\">\n",
              "\n",
              "<svg xmlns=\"http://www.w3.org/2000/svg\" height=\"24px\"viewBox=\"0 0 24 24\"\n",
              "     width=\"24px\">\n",
              "    <g>\n",
              "        <path d=\"M19 3H5c-1.1 0-2 .9-2 2v14c0 1.1.9 2 2 2h14c1.1 0 2-.9 2-2V5c0-1.1-.9-2-2-2zM9 17H7v-7h2v7zm4 0h-2V7h2v10zm4 0h-2v-4h2v4z\"/>\n",
              "    </g>\n",
              "</svg>\n",
              "  </button>\n",
              "\n",
              "<style>\n",
              "  .colab-df-quickchart {\n",
              "      --bg-color: #E8F0FE;\n",
              "      --fill-color: #1967D2;\n",
              "      --hover-bg-color: #E2EBFA;\n",
              "      --hover-fill-color: #174EA6;\n",
              "      --disabled-fill-color: #AAA;\n",
              "      --disabled-bg-color: #DDD;\n",
              "  }\n",
              "\n",
              "  [theme=dark] .colab-df-quickchart {\n",
              "      --bg-color: #3B4455;\n",
              "      --fill-color: #D2E3FC;\n",
              "      --hover-bg-color: #434B5C;\n",
              "      --hover-fill-color: #FFFFFF;\n",
              "      --disabled-bg-color: #3B4455;\n",
              "      --disabled-fill-color: #666;\n",
              "  }\n",
              "\n",
              "  .colab-df-quickchart {\n",
              "    background-color: var(--bg-color);\n",
              "    border: none;\n",
              "    border-radius: 50%;\n",
              "    cursor: pointer;\n",
              "    display: none;\n",
              "    fill: var(--fill-color);\n",
              "    height: 32px;\n",
              "    padding: 0;\n",
              "    width: 32px;\n",
              "  }\n",
              "\n",
              "  .colab-df-quickchart:hover {\n",
              "    background-color: var(--hover-bg-color);\n",
              "    box-shadow: 0 1px 2px rgba(60, 64, 67, 0.3), 0 1px 3px 1px rgba(60, 64, 67, 0.15);\n",
              "    fill: var(--button-hover-fill-color);\n",
              "  }\n",
              "\n",
              "  .colab-df-quickchart-complete:disabled,\n",
              "  .colab-df-quickchart-complete:disabled:hover {\n",
              "    background-color: var(--disabled-bg-color);\n",
              "    fill: var(--disabled-fill-color);\n",
              "    box-shadow: none;\n",
              "  }\n",
              "\n",
              "  .colab-df-spinner {\n",
              "    border: 2px solid var(--fill-color);\n",
              "    border-color: transparent;\n",
              "    border-bottom-color: var(--fill-color);\n",
              "    animation:\n",
              "      spin 1s steps(1) infinite;\n",
              "  }\n",
              "\n",
              "  @keyframes spin {\n",
              "    0% {\n",
              "      border-color: transparent;\n",
              "      border-bottom-color: var(--fill-color);\n",
              "      border-left-color: var(--fill-color);\n",
              "    }\n",
              "    20% {\n",
              "      border-color: transparent;\n",
              "      border-left-color: var(--fill-color);\n",
              "      border-top-color: var(--fill-color);\n",
              "    }\n",
              "    30% {\n",
              "      border-color: transparent;\n",
              "      border-left-color: var(--fill-color);\n",
              "      border-top-color: var(--fill-color);\n",
              "      border-right-color: var(--fill-color);\n",
              "    }\n",
              "    40% {\n",
              "      border-color: transparent;\n",
              "      border-right-color: var(--fill-color);\n",
              "      border-top-color: var(--fill-color);\n",
              "    }\n",
              "    60% {\n",
              "      border-color: transparent;\n",
              "      border-right-color: var(--fill-color);\n",
              "    }\n",
              "    80% {\n",
              "      border-color: transparent;\n",
              "      border-right-color: var(--fill-color);\n",
              "      border-bottom-color: var(--fill-color);\n",
              "    }\n",
              "    90% {\n",
              "      border-color: transparent;\n",
              "      border-bottom-color: var(--fill-color);\n",
              "    }\n",
              "  }\n",
              "</style>\n",
              "\n",
              "  <script>\n",
              "    async function quickchart(key) {\n",
              "      const quickchartButtonEl =\n",
              "        document.querySelector('#' + key + ' button');\n",
              "      quickchartButtonEl.disabled = true;  // To prevent multiple clicks.\n",
              "      quickchartButtonEl.classList.add('colab-df-spinner');\n",
              "      try {\n",
              "        const charts = await google.colab.kernel.invokeFunction(\n",
              "            'suggestCharts', [key], {});\n",
              "      } catch (error) {\n",
              "        console.error('Error during call to suggestCharts:', error);\n",
              "      }\n",
              "      quickchartButtonEl.classList.remove('colab-df-spinner');\n",
              "      quickchartButtonEl.classList.add('colab-df-quickchart-complete');\n",
              "    }\n",
              "    (() => {\n",
              "      let quickchartButtonEl =\n",
              "        document.querySelector('#df-03b54d3a-4570-4716-a4e9-81314cf2bf67 button');\n",
              "      quickchartButtonEl.style.display =\n",
              "        google.colab.kernel.accessAllowed ? 'block' : 'none';\n",
              "    })();\n",
              "  </script>\n",
              "</div>\n",
              "    </div>\n",
              "  </div>\n"
            ]
          },
          "metadata": {}
        }
      ]
    },
    {
      "cell_type": "code",
      "source": [
        "# Cálculo da média das médias amostrais\n",
        "media_amostras = (dist_prob['Médias']*dist_prob['Probabilidade']).sum()\n",
        "print(f'Média das médias amostrais = {media_amostras:.2f}')"
      ],
      "metadata": {
        "colab": {
          "base_uri": "https://localhost:8080/"
        },
        "id": "GjTeXsQkLEfH",
        "outputId": "df2046aa-81db-4041-c72d-42f867e96d2c"
      },
      "execution_count": 78,
      "outputs": [
        {
          "output_type": "stream",
          "name": "stdout",
          "text": [
            "Média das médias amostrais = 4.00\n"
          ]
        }
      ]
    },
    {
      "cell_type": "code",
      "source": [
        "# Cálculo da variância das médias amostrais\n",
        "var_amostras = (dist_prob['Médias']**2*dist_prob['Probabilidade']).sum() - media_amostras**2\n",
        "print(f'Variância das médias amostrais = {var_amostras:.2f}')"
      ],
      "metadata": {
        "colab": {
          "base_uri": "https://localhost:8080/"
        },
        "id": "SAdUOsnpLJC_",
        "outputId": "2562ab81-4ab2-4096-8302-c4c71e6ed272"
      },
      "execution_count": 79,
      "outputs": [
        {
          "output_type": "stream",
          "name": "stdout",
          "text": [
            "Variância das médias amostrais = 2.50\n"
          ]
        }
      ]
    },
    {
      "cell_type": "code",
      "source": [
        "# Cálculo do desvio padrão das médias amostrais\n",
        "std_amostras = var_amostras**(1/2)\n",
        "print(f'Desvio padrão das médias amostrais = {std_amostras:.2f}')"
      ],
      "metadata": {
        "colab": {
          "base_uri": "https://localhost:8080/"
        },
        "id": "3IU0L_aZGaMi",
        "outputId": "4f658c20-6cc5-489b-8fe9-c9a24890c8cd"
      },
      "execution_count": 80,
      "outputs": [
        {
          "output_type": "stream",
          "name": "stdout",
          "text": [
            "Desvio padrão das médias amostrais = 1.58\n"
          ]
        }
      ]
    },
    {
      "cell_type": "markdown",
      "source": [
        "**(c)** Compare seus resultados com a média $\\mu = 4$,\n",
        "variância $\\sigma^2 = 5$, e desvio padrão $\\sigma \\approx 2,236$ da população."
      ],
      "metadata": {
        "id": "4C5T05ScKLom"
      }
    },
    {
      "cell_type": "code",
      "source": [
        "## Item (c)\n",
        "mu, std = 4, 5**(1/2)\n",
        "n_amostras = 2\n",
        "print('De acordo com a teoria das distribuições amostrais:')\n",
        "print(f'A média mu_x = {media_amostras:.2f} deve ser igual a média populacional mu = {mu}.')\n",
        "print(f'O desvio padrão sigma_x = {std_amostras:.2f} deve ser igual a sigma/raiz(n) = {std/(n_amostras**(1/2)):.2f}')"
      ],
      "metadata": {
        "colab": {
          "base_uri": "https://localhost:8080/"
        },
        "id": "uz1hY6mMMpPa",
        "outputId": "7a88c2fb-f25d-4947-ce62-c7c573e1fd5e"
      },
      "execution_count": 81,
      "outputs": [
        {
          "output_type": "stream",
          "name": "stdout",
          "text": [
            "De acordo com a teoria das distribuições amostrais:\n",
            "A média mu_x = 4.00 deve ser igual a média populacional mu = 4.\n",
            "O desvio padrão sigma_x = 1.58 deve ser igual a sigma/raiz(n) = 1.58\n"
          ]
        }
      ]
    },
    {
      "cell_type": "markdown",
      "source": [
        "## **Probabilidades e o TLC**\n",
        "\n",
        "##**Exercício 04**\n",
        "\n",
        "O gasto médio com alojamento e refeição, por ano, em faculdades de quatro anos é de US\\$ 9.126,00. Você seleciona aleatoriamente 9 dessas faculdades. Qual é a probabilidade de que a média de gastos com alojamento e refeição seja menor que US\\$ 9.400,00?\n",
        "\n",
        "Suponha que os gastos com alojamento e refeição sejam normalmente distribuídos, com desvio padrão de US$ 1.500,00 (*Adaptado de: National Center for\n",
        "Education Statistics*)."
      ],
      "metadata": {
        "id": "yFR9X9cbc4gx"
      }
    },
    {
      "cell_type": "code",
      "source": [
        "# Média e desvio padrão populacionais\n",
        "mu, std = 9126, 1500"
      ],
      "metadata": {
        "id": "MUXmBQH9MdiN"
      },
      "execution_count": 82,
      "outputs": []
    },
    {
      "cell_type": "code",
      "source": [
        "# Média e desvio padrão amostrais\n",
        "n = 9\n",
        "mu_x, std_x = mu, std/(n**(1/2))"
      ],
      "metadata": {
        "id": "_9aQDeO6Mr63"
      },
      "execution_count": 83,
      "outputs": []
    },
    {
      "cell_type": "code",
      "source": [
        "# Geração da distribuição normal amostral (TLC)\n",
        "gastos = norm(mu_x, std_x)"
      ],
      "metadata": {
        "id": "NBYGVIJBMuZ3"
      },
      "execution_count": 84,
      "outputs": []
    },
    {
      "cell_type": "code",
      "source": [
        "# Cálculo da probabilidade\n",
        "prob = gastos.cdf(9400)\n",
        "print(f'A probabilidade de que os gastos sejam inferiores a US$ 94k é de {prob*100:.2f}%.')"
      ],
      "metadata": {
        "colab": {
          "base_uri": "https://localhost:8080/"
        },
        "id": "WdysGeb5dUZw",
        "outputId": "12f225a9-e9c1-4a7b-917c-8a1f97719972"
      },
      "execution_count": 85,
      "outputs": [
        {
          "output_type": "stream",
          "name": "stdout",
          "text": [
            "A probabilidade de que os gastos sejam inferiores a US$ 94k é de 70.82%.\n"
          ]
        }
      ]
    },
    {
      "cell_type": "markdown",
      "source": [
        "##**Exercício 05**\n",
        "\n",
        "A dívida média no cartão de crédito mantida por universitários é normalmente distribuída, com média de US\\$ 3.173,00 e desvio padrão de\n",
        "US\\$ 1.120,00 (*Adaptado de: Sallie Mae*).\n",
        "\n",
        "**(a)** Qual é a probabilidade de que um universitário selecionado aleatoriamente,\n",
        "que possui um cartão de crédito, tenha uma divida menor\n",
        "que US\\$ 2.700?"
      ],
      "metadata": {
        "id": "Ia4PRRmIetnW"
      }
    },
    {
      "cell_type": "code",
      "source": [
        "'''Nesse item, devemos calcular a probabilidade associada a um determinado\n",
        "valor da variável aleatória dívida no cartão de crédito.'''\n",
        "# Geração da distribuição normal da população\n",
        "mu, std = 3173, 1120\n",
        "divida_pop = norm(mu, std)"
      ],
      "metadata": {
        "id": "7Jr3NSQPNRS2"
      },
      "execution_count": 86,
      "outputs": []
    },
    {
      "cell_type": "code",
      "source": [
        "# Cálculo da probabilidade\n",
        "prob1 = divida_pop.cdf(2700)\n",
        "print(f'P(dívida <= 2700.00) = {prob1*100:.2f}%.')"
      ],
      "metadata": {
        "colab": {
          "base_uri": "https://localhost:8080/"
        },
        "id": "rCVABFceNZsk",
        "outputId": "f866246d-7892-4783-e50d-9017a0fab749"
      },
      "execution_count": 87,
      "outputs": [
        {
          "output_type": "stream",
          "name": "stdout",
          "text": [
            "P(dívida <= 2700.00) = 33.64%.\n"
          ]
        }
      ]
    },
    {
      "cell_type": "markdown",
      "source": [
        "**(b)** Você seleciona aleatoriamente 25 universitários que possuem cartão\n",
        "de crédito. Qual é a probabilidade de que a média dessas dívidas\n",
        "médias seja menor que US\\$ 2.700?"
      ],
      "metadata": {
        "id": "HCMd-fCANGW3"
      }
    },
    {
      "cell_type": "code",
      "source": [
        "'''Nesse item, devemos calcular uma probabilidade associada a uma\n",
        "média amostral.'''\n",
        "# Geração da distribuição das médias amostrais\n",
        "n = 25\n",
        "mu_x, std_x = mu, std/(n**(1/2))\n",
        "divida_amostra = norm(mu_x, std_x)"
      ],
      "metadata": {
        "id": "GyKdLg0mNnWU"
      },
      "execution_count": 88,
      "outputs": []
    },
    {
      "cell_type": "code",
      "source": [
        "# Cálculo da probabilidade\n",
        "prob2 = divida_amostra.cdf(2700)\n",
        "print(f'P(dívida média <= 2700.00) = {prob2*100:.2f}%.')"
      ],
      "metadata": {
        "colab": {
          "base_uri": "https://localhost:8080/"
        },
        "id": "20UIchWzfeq1",
        "outputId": "b5860176-553d-4826-84bc-d5ca80944952"
      },
      "execution_count": 89,
      "outputs": [
        {
          "output_type": "stream",
          "name": "stdout",
          "text": [
            "P(dívida média <= 2700.00) = 1.74%.\n"
          ]
        }
      ]
    },
    {
      "cell_type": "markdown",
      "source": [
        "## **Estudo de Caso - Teorema do Limite Central**\n",
        "\n",
        "*Adaptado de:* https://statsthinking21.github.io/statsthinking21-python/06-Sampling.html"
      ],
      "metadata": {
        "id": "uG_q0j-GjDSd"
      }
    },
    {
      "cell_type": "markdown",
      "source": [
        "NHANES é a Pesquisa Nacional de Exame de Saúde e Nutrição (*National Health and Nutrition Examination Survey*), administrada pelos Centros de Controle de Doenças dos EUA.\n",
        "\n",
        "Todos os anos, o estudo examina uma amostra representativa de cerca de 5.000 indivíduos de todos os Estados Unidos, utilizando uma ampla gama de pesquisas, medições fisiológicas e testes laboratoriais. Esses dados são úteis para muitos propósitos.\n",
        "\n",
        "Aqui, nosso interesse é usar parte desses dados para exemplificar o Teorema do Limite Central."
      ],
      "metadata": {
        "id": "UNVnhXBUjRNU"
      }
    },
    {
      "cell_type": "code",
      "source": [
        "# Instalação do pacote de dados\n",
        "!pip install nhanes"
      ],
      "metadata": {
        "colab": {
          "base_uri": "https://localhost:8080/"
        },
        "id": "drReNe6yiIa1",
        "outputId": "e4a1f5ea-420a-45f6-b167-8ee8e02d7026"
      },
      "execution_count": 90,
      "outputs": [
        {
          "output_type": "stream",
          "name": "stdout",
          "text": [
            "Requirement already satisfied: nhanes in /usr/local/lib/python3.10/dist-packages (0.5.1)\n"
          ]
        }
      ]
    },
    {
      "cell_type": "markdown",
      "source": [
        "Agora que os dados estão disponíveis para análise, vamos focar nossa atenção aos indivíduos adultos. Para isso, vamos selecionar todas as linhas nas quais a coluna `'AgeInYearsAtScreening'` tem registro superior à 17.\n",
        "\n",
        "Nosso estudo do TLC vai se concentrar na coluna `'StandingHeightCm'` que renomearemos para `'Height'`. Essa coluna registra a altura dos indivíduos em centímetros. Vamos também extrair todas as linhas nas quais essa coluna não possui registro (valores NaN)."
      ],
      "metadata": {
        "id": "ZA-CHbtWkFNF"
      }
    },
    {
      "cell_type": "code",
      "source": [
        "from nhanes.load import load_NHANES_data\n",
        "nhanes_data = load_NHANES_data()\n",
        "adult_nhanes_data = nhanes_data.query('AgeInYearsAtScreening > 17')\n",
        "adult_nhanes_data = adult_nhanes_data.dropna(subset=['StandingHeightCm']).rename(columns={'StandingHeightCm': 'Height'})"
      ],
      "metadata": {
        "id": "babGuq-DhkKF"
      },
      "execution_count": 91,
      "outputs": []
    },
    {
      "cell_type": "markdown",
      "source": [
        "Agora vamos retirar repetidamente amostras de 50 indivíduos do conjunto de dados, calcular a média das alturas e armazenar os valores resultantes."
      ],
      "metadata": {
        "id": "c0G9CjXGlX53"
      }
    },
    {
      "cell_type": "code",
      "source": [
        "# Faremos 5000 amostragens com 50 indivíduos cada, com reposição\n",
        "tamanho_amostra = 50\n",
        "num_amostragens = 5000\n",
        "\n",
        "# Construindo um DataFrame para armazenar as médias das alturas de cada amostragem\n",
        "resultados = pd.DataFrame({'média': np.zeros(num_amostragens)})\n",
        "\n",
        "# Executando as 5000 amostragens\n",
        "for amostragem in range(num_amostragens):\n",
        "    amostra = adult_nhanes_data.sample(tamanho_amostra)\n",
        "    resultados.loc[amostragem, 'média'] = amostra['Height'].mean()\n",
        "\n",
        "# Inspecionando os resultados\n",
        "display(resultados)"
      ],
      "metadata": {
        "colab": {
          "base_uri": "https://localhost:8080/",
          "height": 423
        },
        "id": "2PmLyUwklnXu",
        "outputId": "a1a3ae74-8ea2-4483-bd4a-6d1bba41b6f2"
      },
      "execution_count": 92,
      "outputs": [
        {
          "output_type": "display_data",
          "data": {
            "text/plain": [
              "        média\n",
              "0     167.212\n",
              "1     168.500\n",
              "2     166.522\n",
              "3     164.920\n",
              "4     167.782\n",
              "...       ...\n",
              "4995  165.642\n",
              "4996  165.834\n",
              "4997  168.106\n",
              "4998  166.264\n",
              "4999  164.998\n",
              "\n",
              "[5000 rows x 1 columns]"
            ],
            "text/html": [
              "\n",
              "  <div id=\"df-b512144d-a7a4-438f-bbbf-f1816b1c9f40\" class=\"colab-df-container\">\n",
              "    <div>\n",
              "<style scoped>\n",
              "    .dataframe tbody tr th:only-of-type {\n",
              "        vertical-align: middle;\n",
              "    }\n",
              "\n",
              "    .dataframe tbody tr th {\n",
              "        vertical-align: top;\n",
              "    }\n",
              "\n",
              "    .dataframe thead th {\n",
              "        text-align: right;\n",
              "    }\n",
              "</style>\n",
              "<table border=\"1\" class=\"dataframe\">\n",
              "  <thead>\n",
              "    <tr style=\"text-align: right;\">\n",
              "      <th></th>\n",
              "      <th>média</th>\n",
              "    </tr>\n",
              "  </thead>\n",
              "  <tbody>\n",
              "    <tr>\n",
              "      <th>0</th>\n",
              "      <td>167.212</td>\n",
              "    </tr>\n",
              "    <tr>\n",
              "      <th>1</th>\n",
              "      <td>168.500</td>\n",
              "    </tr>\n",
              "    <tr>\n",
              "      <th>2</th>\n",
              "      <td>166.522</td>\n",
              "    </tr>\n",
              "    <tr>\n",
              "      <th>3</th>\n",
              "      <td>164.920</td>\n",
              "    </tr>\n",
              "    <tr>\n",
              "      <th>4</th>\n",
              "      <td>167.782</td>\n",
              "    </tr>\n",
              "    <tr>\n",
              "      <th>...</th>\n",
              "      <td>...</td>\n",
              "    </tr>\n",
              "    <tr>\n",
              "      <th>4995</th>\n",
              "      <td>165.642</td>\n",
              "    </tr>\n",
              "    <tr>\n",
              "      <th>4996</th>\n",
              "      <td>165.834</td>\n",
              "    </tr>\n",
              "    <tr>\n",
              "      <th>4997</th>\n",
              "      <td>168.106</td>\n",
              "    </tr>\n",
              "    <tr>\n",
              "      <th>4998</th>\n",
              "      <td>166.264</td>\n",
              "    </tr>\n",
              "    <tr>\n",
              "      <th>4999</th>\n",
              "      <td>164.998</td>\n",
              "    </tr>\n",
              "  </tbody>\n",
              "</table>\n",
              "<p>5000 rows × 1 columns</p>\n",
              "</div>\n",
              "    <div class=\"colab-df-buttons\">\n",
              "\n",
              "  <div class=\"colab-df-container\">\n",
              "    <button class=\"colab-df-convert\" onclick=\"convertToInteractive('df-b512144d-a7a4-438f-bbbf-f1816b1c9f40')\"\n",
              "            title=\"Convert this dataframe to an interactive table.\"\n",
              "            style=\"display:none;\">\n",
              "\n",
              "  <svg xmlns=\"http://www.w3.org/2000/svg\" height=\"24px\" viewBox=\"0 -960 960 960\">\n",
              "    <path d=\"M120-120v-720h720v720H120Zm60-500h600v-160H180v160Zm220 220h160v-160H400v160Zm0 220h160v-160H400v160ZM180-400h160v-160H180v160Zm440 0h160v-160H620v160ZM180-180h160v-160H180v160Zm440 0h160v-160H620v160Z\"/>\n",
              "  </svg>\n",
              "    </button>\n",
              "\n",
              "  <style>\n",
              "    .colab-df-container {\n",
              "      display:flex;\n",
              "      gap: 12px;\n",
              "    }\n",
              "\n",
              "    .colab-df-convert {\n",
              "      background-color: #E8F0FE;\n",
              "      border: none;\n",
              "      border-radius: 50%;\n",
              "      cursor: pointer;\n",
              "      display: none;\n",
              "      fill: #1967D2;\n",
              "      height: 32px;\n",
              "      padding: 0 0 0 0;\n",
              "      width: 32px;\n",
              "    }\n",
              "\n",
              "    .colab-df-convert:hover {\n",
              "      background-color: #E2EBFA;\n",
              "      box-shadow: 0px 1px 2px rgba(60, 64, 67, 0.3), 0px 1px 3px 1px rgba(60, 64, 67, 0.15);\n",
              "      fill: #174EA6;\n",
              "    }\n",
              "\n",
              "    .colab-df-buttons div {\n",
              "      margin-bottom: 4px;\n",
              "    }\n",
              "\n",
              "    [theme=dark] .colab-df-convert {\n",
              "      background-color: #3B4455;\n",
              "      fill: #D2E3FC;\n",
              "    }\n",
              "\n",
              "    [theme=dark] .colab-df-convert:hover {\n",
              "      background-color: #434B5C;\n",
              "      box-shadow: 0px 1px 3px 1px rgba(0, 0, 0, 0.15);\n",
              "      filter: drop-shadow(0px 1px 2px rgba(0, 0, 0, 0.3));\n",
              "      fill: #FFFFFF;\n",
              "    }\n",
              "  </style>\n",
              "\n",
              "    <script>\n",
              "      const buttonEl =\n",
              "        document.querySelector('#df-b512144d-a7a4-438f-bbbf-f1816b1c9f40 button.colab-df-convert');\n",
              "      buttonEl.style.display =\n",
              "        google.colab.kernel.accessAllowed ? 'block' : 'none';\n",
              "\n",
              "      async function convertToInteractive(key) {\n",
              "        const element = document.querySelector('#df-b512144d-a7a4-438f-bbbf-f1816b1c9f40');\n",
              "        const dataTable =\n",
              "          await google.colab.kernel.invokeFunction('convertToInteractive',\n",
              "                                                    [key], {});\n",
              "        if (!dataTable) return;\n",
              "\n",
              "        const docLinkHtml = 'Like what you see? Visit the ' +\n",
              "          '<a target=\"_blank\" href=https://colab.research.google.com/notebooks/data_table.ipynb>data table notebook</a>'\n",
              "          + ' to learn more about interactive tables.';\n",
              "        element.innerHTML = '';\n",
              "        dataTable['output_type'] = 'display_data';\n",
              "        await google.colab.output.renderOutput(dataTable, element);\n",
              "        const docLink = document.createElement('div');\n",
              "        docLink.innerHTML = docLinkHtml;\n",
              "        element.appendChild(docLink);\n",
              "      }\n",
              "    </script>\n",
              "  </div>\n",
              "\n",
              "\n",
              "<div id=\"df-4de8d746-2c38-4a5b-8ab5-1ba99661e217\">\n",
              "  <button class=\"colab-df-quickchart\" onclick=\"quickchart('df-4de8d746-2c38-4a5b-8ab5-1ba99661e217')\"\n",
              "            title=\"Suggest charts.\"\n",
              "            style=\"display:none;\">\n",
              "\n",
              "<svg xmlns=\"http://www.w3.org/2000/svg\" height=\"24px\"viewBox=\"0 0 24 24\"\n",
              "     width=\"24px\">\n",
              "    <g>\n",
              "        <path d=\"M19 3H5c-1.1 0-2 .9-2 2v14c0 1.1.9 2 2 2h14c1.1 0 2-.9 2-2V5c0-1.1-.9-2-2-2zM9 17H7v-7h2v7zm4 0h-2V7h2v10zm4 0h-2v-4h2v4z\"/>\n",
              "    </g>\n",
              "</svg>\n",
              "  </button>\n",
              "\n",
              "<style>\n",
              "  .colab-df-quickchart {\n",
              "      --bg-color: #E8F0FE;\n",
              "      --fill-color: #1967D2;\n",
              "      --hover-bg-color: #E2EBFA;\n",
              "      --hover-fill-color: #174EA6;\n",
              "      --disabled-fill-color: #AAA;\n",
              "      --disabled-bg-color: #DDD;\n",
              "  }\n",
              "\n",
              "  [theme=dark] .colab-df-quickchart {\n",
              "      --bg-color: #3B4455;\n",
              "      --fill-color: #D2E3FC;\n",
              "      --hover-bg-color: #434B5C;\n",
              "      --hover-fill-color: #FFFFFF;\n",
              "      --disabled-bg-color: #3B4455;\n",
              "      --disabled-fill-color: #666;\n",
              "  }\n",
              "\n",
              "  .colab-df-quickchart {\n",
              "    background-color: var(--bg-color);\n",
              "    border: none;\n",
              "    border-radius: 50%;\n",
              "    cursor: pointer;\n",
              "    display: none;\n",
              "    fill: var(--fill-color);\n",
              "    height: 32px;\n",
              "    padding: 0;\n",
              "    width: 32px;\n",
              "  }\n",
              "\n",
              "  .colab-df-quickchart:hover {\n",
              "    background-color: var(--hover-bg-color);\n",
              "    box-shadow: 0 1px 2px rgba(60, 64, 67, 0.3), 0 1px 3px 1px rgba(60, 64, 67, 0.15);\n",
              "    fill: var(--button-hover-fill-color);\n",
              "  }\n",
              "\n",
              "  .colab-df-quickchart-complete:disabled,\n",
              "  .colab-df-quickchart-complete:disabled:hover {\n",
              "    background-color: var(--disabled-bg-color);\n",
              "    fill: var(--disabled-fill-color);\n",
              "    box-shadow: none;\n",
              "  }\n",
              "\n",
              "  .colab-df-spinner {\n",
              "    border: 2px solid var(--fill-color);\n",
              "    border-color: transparent;\n",
              "    border-bottom-color: var(--fill-color);\n",
              "    animation:\n",
              "      spin 1s steps(1) infinite;\n",
              "  }\n",
              "\n",
              "  @keyframes spin {\n",
              "    0% {\n",
              "      border-color: transparent;\n",
              "      border-bottom-color: var(--fill-color);\n",
              "      border-left-color: var(--fill-color);\n",
              "    }\n",
              "    20% {\n",
              "      border-color: transparent;\n",
              "      border-left-color: var(--fill-color);\n",
              "      border-top-color: var(--fill-color);\n",
              "    }\n",
              "    30% {\n",
              "      border-color: transparent;\n",
              "      border-left-color: var(--fill-color);\n",
              "      border-top-color: var(--fill-color);\n",
              "      border-right-color: var(--fill-color);\n",
              "    }\n",
              "    40% {\n",
              "      border-color: transparent;\n",
              "      border-right-color: var(--fill-color);\n",
              "      border-top-color: var(--fill-color);\n",
              "    }\n",
              "    60% {\n",
              "      border-color: transparent;\n",
              "      border-right-color: var(--fill-color);\n",
              "    }\n",
              "    80% {\n",
              "      border-color: transparent;\n",
              "      border-right-color: var(--fill-color);\n",
              "      border-bottom-color: var(--fill-color);\n",
              "    }\n",
              "    90% {\n",
              "      border-color: transparent;\n",
              "      border-bottom-color: var(--fill-color);\n",
              "    }\n",
              "  }\n",
              "</style>\n",
              "\n",
              "  <script>\n",
              "    async function quickchart(key) {\n",
              "      const quickchartButtonEl =\n",
              "        document.querySelector('#' + key + ' button');\n",
              "      quickchartButtonEl.disabled = true;  // To prevent multiple clicks.\n",
              "      quickchartButtonEl.classList.add('colab-df-spinner');\n",
              "      try {\n",
              "        const charts = await google.colab.kernel.invokeFunction(\n",
              "            'suggestCharts', [key], {});\n",
              "      } catch (error) {\n",
              "        console.error('Error during call to suggestCharts:', error);\n",
              "      }\n",
              "      quickchartButtonEl.classList.remove('colab-df-spinner');\n",
              "      quickchartButtonEl.classList.add('colab-df-quickchart-complete');\n",
              "    }\n",
              "    (() => {\n",
              "      let quickchartButtonEl =\n",
              "        document.querySelector('#df-4de8d746-2c38-4a5b-8ab5-1ba99661e217 button');\n",
              "      quickchartButtonEl.style.display =\n",
              "        google.colab.kernel.accessAllowed ? 'block' : 'none';\n",
              "    })();\n",
              "  </script>\n",
              "</div>\n",
              "    </div>\n",
              "  </div>\n"
            ]
          },
          "metadata": {}
        }
      ]
    },
    {
      "cell_type": "markdown",
      "source": [
        "Agora vamos representar graficamente a distribuição amostral. Também sobreporemos a distribuição amostral da média prevista com base na média e desvio padrão populacionais, com o intuito de mostrar que nossa representação descreve adequadamente a distribuição amostral real. Também colocaremos uma linha vertical na média da população."
      ],
      "metadata": {
        "id": "aFKFamp2nOPV"
      }
    },
    {
      "cell_type": "code",
      "source": [
        "# Bibliotecas\n",
        "import seaborn as sns\n",
        "import matplotlib.pyplot as plt"
      ],
      "metadata": {
        "id": "E71Bju-inoL-"
      },
      "execution_count": 93,
      "outputs": []
    },
    {
      "cell_type": "code",
      "source": [
        "# Distribuição amostral\n",
        "hist = plt.hist(resultados['média'], 100, density=True, label='Distribuição amostral')\n",
        "'''NOTA: hist[0] contém todos os dados do histograma. Vamos usar o valor máximo\n",
        "desses dados (frequências) para determinar o comprimento da linha vertical\n",
        "que demarcará a média populacional.'''\n",
        "\n",
        "# Mostrando a média populacional\n",
        "plt.axvline(x=adult_nhanes_data['Height'].mean(), ymax=1, color='k', label='Média populacional')\n",
        "\n",
        "# Distribuição normal com média e desvio padrão iguais aos da distribuição amostral\n",
        "hist_bin_min = np.min(hist[1])\n",
        "hist_bin_max = np.max(hist[1])\n",
        "passo = 0.01\n",
        "valores_altura = np.arange(hist_bin_min, hist_bin_max, passo)\n",
        "dist_norm = norm.pdf(valores_altura,\n",
        "                     loc=resultados['média'].mean(),\n",
        "                     scale=resultados['média'].std())\n",
        "plt.plot(valores_altura, dist_norm, color='r', label='Distribuição normal')\n",
        "plt.title('Distribuição amostral de alturas:\\n5000 amostragens com 50 indivíduos cada')\n",
        "plt.xlabel('Alturas (cm)')\n",
        "plt.ylabel('Frequência relativa')\n",
        "plt.legend()\n",
        "plt.show()"
      ],
      "metadata": {
        "colab": {
          "base_uri": "https://localhost:8080/",
          "height": 493
        },
        "id": "8ti3etVLn0Qn",
        "outputId": "d6616bdd-1867-4ac5-bdff-1f9c13c6b249"
      },
      "execution_count": 94,
      "outputs": [
        {
          "output_type": "display_data",
          "data": {
            "text/plain": [
              "<Figure size 640x480 with 1 Axes>"
            ],
            "image/png": "[encoded data removed]"
          },
          "metadata": {}
        }
      ]
    },
    {
      "cell_type": "code",
      "source": [
        "# Checando as médias\n",
        "media_pop = adult_nhanes_data['Height'].mean()\n",
        "print(f'Média populacional = {media_pop:.2f} cm')\n",
        "\n",
        "media_amostral = resultados['média'].mean()\n",
        "print(f'Média amostral = {media_amostral:.2f} cm')"
      ],
      "metadata": {
        "colab": {
          "base_uri": "https://localhost:8080/"
        },
        "id": "d2Ynug_cqyT-",
        "outputId": "78d33cb9-8c36-4889-b526-ddb0bbc6a492"
      },
      "execution_count": 95,
      "outputs": [
        {
          "output_type": "stream",
          "name": "stdout",
          "text": [
            "Média populacional = 166.36 cm\n",
            "Média amostral = 166.34 cm\n"
          ]
        }
      ]
    },
    {
      "cell_type": "code",
      "source": [
        "# Checando os desvios padrão\n",
        "dp_pop = adult_nhanes_data['Height'].std()\n",
        "print(f'Desvio padrão populacional = {dp_pop:.2f} cm')\n",
        "\n",
        "dp_amostral = resultados['média'].std()\n",
        "print(f'Desvio padrão amostral = {dp_amostral:.2f} cm')\n",
        "\n",
        "dp_amostral_teorico = dp_pop/(tamanho_amostra)**(1/2)\n",
        "print(f'Desvio padrão amostral teórico = {dp_amostral_teorico:.2f} cm')"
      ],
      "metadata": {
        "colab": {
          "base_uri": "https://localhost:8080/"
        },
        "id": "5C4Xagg0rlg0",
        "outputId": "4d57a818-8800-4642-abad-26c8efa24c87"
      },
      "execution_count": 96,
      "outputs": [
        {
          "output_type": "stream",
          "name": "stdout",
          "text": [
            "Desvio padrão populacional = 10.07 cm\n",
            "Desvio padrão amostral = 1.44 cm\n",
            "Desvio padrão amostral teórico = 1.42 cm\n"
          ]
        }
      ]
    },
    {
      "cell_type": "markdown",
      "source": [
        "O Teorema do Limite Central nos diz que a distribuição amostral da média torna-se normal à medida que o tamanho da amostra aumenta. Isso foi comprovado em nossa análise anterior! No entanto, é bastante seguro supor que a distribuição populacional original (alturas dos indivíduos) é normal. O que ocorre quando isso não é verdade?\n",
        "\n",
        "Vamos testar a aplicabilidade do TLC à populações não-normais fazendo amostras repetidas de uma variável claramente não normal. Então, podemos observar a normalidade dos resultados usando um gráfico QQ.\n",
        "\n",
        "Um gráfico QQ (\"Q\" significa quantil) é um gráfico de probabilidades que compara duas distribuições de probabilidade, traçando seus quantis uns contra os outros. Se as duas distribuições que estão sendo comparadas são semelhantes, os pontos no gráfico QQ vão repousar aproximadamente na linha $y=x$. Se as distribuições são linearmente relacionadas, os pontos no gráfico QQ irão repousar aproximadamente em uma linha, mas não necessariamente na linha $y=x$.\n",
        "\n",
        "Em nossa análise, vamos invetsigar a variável que representa a renda familiar anual. Esta variável está estranhamente distribuída.\n"
      ],
      "metadata": {
        "id": "2omhy-EIsWJ0"
      }
    },
    {
      "cell_type": "code",
      "source": [
        "plt.hist(adult_nhanes_data['AnnualFamilyIncome'])\n",
        "plt.title('Distribuição da renda familiar anual')\n",
        "plt.xlabel('Renda (US$)')\n",
        "plt.ylabel('Frequência')\n",
        "plt.show()"
      ],
      "metadata": {
        "colab": {
          "base_uri": "https://localhost:8080/",
          "height": 472
        },
        "id": "2D2MKF1qufCL",
        "outputId": "17ffb874-3b6b-4ec3-96b7-49c74eb3ced1"
      },
      "execution_count": 97,
      "outputs": [
        {
          "output_type": "display_data",
          "data": {
            "text/plain": [
              "<Figure size 640x480 with 1 Axes>"
            ],
            "image/png": "[encoded data removed]"
          },
          "metadata": {}
        }
      ]
    },
    {
      "cell_type": "markdown",
      "source": [
        "Vamos realizar 5000 amostragens repetidas dessa variável e então examinar a distribuição amostral das médias. Para isso, vamos construir uma função que executa a amostragem e retorna o valopr da renda média."
      ],
      "metadata": {
        "id": "4q_zvCi_u3qs"
      }
    },
    {
      "cell_type": "code",
      "source": [
        "def amostragem_retorna_media(dados, nome_variavel,\n",
        "                             tamanho_amostra=250, amostragens=5000):\n",
        "    \"\"\"\n",
        "    Toma amostras repetidas de uma variável que é parte de um DataFrame e\n",
        "    calcula a média dessa variável.\n",
        "\n",
        "    Parâmetros:\n",
        "    -----------\n",
        "    dados: DataFrame que contém os dados do experimento\n",
        "    nome_variavel: coluna do DataFrame a ser analisada\n",
        "    tamanho_amostra: número de observações em cada amostragem\n",
        "    amostragens: núemro de amostragens desejado\n",
        "\n",
        "    Reterno:\n",
        "    --------\n",
        "    dist_amostral: DataFrame contendo as médias de cada amostragem\n",
        "    \"\"\"\n",
        "    dist_amostral = pd.DataFrame({'média': np.zeros(amostragens)})\n",
        "    for amostragem in range(amostragens):\n",
        "        amostra_df = dados.sample(tamanho_amostra)\n",
        "        dist_amostral.loc[amostragem, 'média'] = amostra_df[nome_variavel].mean()\n",
        "    return(dist_amostral)"
      ],
      "metadata": {
        "id": "4cXc66gcvMnf"
      },
      "execution_count": 98,
      "outputs": []
    },
    {
      "cell_type": "markdown",
      "source": [
        "Agora, usando a função `amostragem_retorna_media()`, vamos calcular a distribuição amostral para a renda familiar anual e plotar seu histograma."
      ],
      "metadata": {
        "id": "JTheYNWhw6gT"
      }
    },
    {
      "cell_type": "code",
      "source": [
        "adult_income_data = adult_nhanes_data.dropna(subset=['AnnualFamilyIncome'])\n",
        "dist_amostral_renda = amostragem_retorna_media(adult_income_data, 'AnnualFamilyIncome')\n",
        "plt.hist(dist_amostral_renda['média'], 100)\n",
        "plt.title('Distribuição amostral das médias das rendas familiares anuais:\\n5000 amostras de 250 famílias')\n",
        "plt.xlabel('Renda familiar média (US$)')\n",
        "plt.ylabel('Frequência')\n",
        "plt.show()"
      ],
      "metadata": {
        "colab": {
          "base_uri": "https://localhost:8080/",
          "height": 493
        },
        "id": "Ke7LPuO-xNmk",
        "outputId": "40cfac91-0828-43f4-f184-4d60ed6eba81"
      },
      "execution_count": 99,
      "outputs": [
        {
          "output_type": "display_data",
          "data": {
            "text/plain": [
              "<Figure size 640x480 with 1 Axes>"
            ],
            "image/png": "[encoded data removed]"
          },
          "metadata": {}
        }
      ]
    },
    {
      "cell_type": "markdown",
      "source": [
        "O histograma indica que a distribuição se aproxima bastante de um normal. Para nos certificar disso, vamos usar gráficos QQ. No gráfico da esquerda, temos a representação da distribuição original das rendas familiares anuais; no gráfico da direita, usamos a distribuição amostral das rendas médias."
      ],
      "metadata": {
        "id": "RONsdSfL7E4K"
      }
    },
    {
      "cell_type": "code",
      "source": [
        "# Biblioteca\n",
        "from scipy.stats import probplot"
      ],
      "metadata": {
        "id": "qT4omDsH8hqt"
      },
      "execution_count": 100,
      "outputs": []
    },
    {
      "cell_type": "code",
      "source": [
        "# Gráfico QQ - Distribuição original de renda familiar anual\n",
        "plt.figure(figsize=(12, 6))\n",
        "plt.subplot(1, 2, 1)\n",
        "probplot(adult_income_data['AnnualFamilyIncome'], plot=sns.mpl.pyplot)\n",
        "plt.title('Distribuição original')\n",
        "\n",
        "# Gráfico QQ - Distribuição amostral das rendas familiares anuais médias\n",
        "plt.subplot(1, 2, 2)\n",
        "probplot(dist_amostral_renda['média'], plot=sns.mpl.pyplot)\n",
        "plt.title('Distribuição amostral')\n",
        "plt.show()"
      ],
      "metadata": {
        "colab": {
          "base_uri": "https://localhost:8080/",
          "height": 564
        },
        "id": "zyndtY1w8n4E",
        "outputId": "2255ed17-f004-468a-b3d5-e6247952e51b"
      },
      "execution_count": 102,
      "outputs": [
        {
          "output_type": "display_data",
          "data": {
            "text/plain": [
              "<Figure size 1200x600 with 2 Axes>"
            ],
            "image/png": "[encoded data removed]"
          },
          "metadata": {}
        }
      ]
    },
    {
      "cell_type": "markdown",
      "source": [
        "Dos gráficos anteriores podemos afirmar que os dados oroginais de renda familiar anual são altamente anormais. Isso é evidenciado pelo fato de que os valores dos dados divergem muito da linha unitária vermelha. Por outro lado, a distribuição amostral das rendas familiares anuais médias é muito próxima de uma distribuição normal."
      ],
      "metadata": {
        "id": "uY4YtRse-MAY"
      }
    }
  ]
}