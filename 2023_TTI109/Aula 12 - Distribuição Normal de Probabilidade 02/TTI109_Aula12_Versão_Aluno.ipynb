{
  "nbformat": 4,
  "nbformat_minor": 0,
  "metadata": {
    "colab": {
      "provenance": []
    },
    "kernelspec": {
      "name": "python3",
      "display_name": "Python 3"
    },
    "language_info": {
      "name": "python"
    }
  },
  "cells": [
    {
      "cell_type": "markdown",
      "source": [
        "# **TTI109 - Estatística**\n",
        "# **Aula 12 - Distribuição Normal de Probabilidade 02**\n",
        "\n",
        "Nessa aula vamos aprender a:\n",
        "\n",
        "* Determinar o escore-z relativo à uma certa probabilidade de ocorrência de uma variável aleatória normalmente distribuída;\n",
        "* Calcular o valor da variável aleatória a partir do seu escore-z correspondente;\n",
        "* Calcular média e desvio padrão de distribuições amostrais de médias;\n",
        "* Aplicar o Teorema do Limite Central (TLC)."
      ],
      "metadata": {
        "id": "jKoSqE99BHui"
      }
    },
    {
      "cell_type": "code",
      "source": [
        "# Biblioteca\n",
        "from scipy.stats import norm"
      ],
      "metadata": {
        "id": "XlCYAI9-HXGm"
      },
      "execution_count": null,
      "outputs": []
    },
    {
      "cell_type": "markdown",
      "source": [
        "## **Encontrando escores-z**\n",
        "\n",
        "Dada uma área (uma probabilidade), qual o correspondente escore-z relativo à uma distribuição normal padrão? O método `ppf()` (*Percent Point Function*) da classe `stats.norm` resolve esse problema.\n",
        "\n",
        "*   Determine o escore-*z* que tenha 96,16% da área de distribuição à sua direita.\n",
        "*   Determine o escore-*z* para o qual 95% da área de distribuição esteja entre *–z* e *z*.\n"
      ],
      "metadata": {
        "id": "CdeADdIO4kg7"
      }
    },
    {
      "cell_type": "code",
      "source": [
        "# Construindo a distribuição normal padrão\n",
        "mu, std = 'Seu código aqui'\n",
        "normpad = 'Seu código aqui'"
      ],
      "metadata": {
        "id": "3xRd38FhHneY"
      },
      "execution_count": null,
      "outputs": []
    },
    {
      "cell_type": "code",
      "source": [
        "# Escore-z que tenha 96,16% da área de distribuição à sua direita\n",
        "z1 = 'Seu código aqui'\n",
        "print(f'z1 = {z1:.3f}')\n",
        "print(f'Conferindo... Área à direita = {'Seu código aqui':.2f}%')"
      ],
      "metadata": {
        "id": "fkwc5l8xHvg3"
      },
      "execution_count": null,
      "outputs": []
    },
    {
      "cell_type": "code",
      "execution_count": null,
      "metadata": {
        "id": "NZ_FkG5tW0QD"
      },
      "outputs": [],
      "source": [
        "# Escore-z para o qual 95% da área de distribuição esteja entre –z e z\n",
        "z2 = 'Seu código aqui'\n",
        "print(f'z2 = {z2:.3f}')\n",
        "print(f'Conferindo... Área à esquerda de z = {z2:.3f} é {'Seu código aqui'*100:.2f}%')\n",
        "print(f'Conferindo... Área à direita de z = {-z2:.3f} é {'Seu código aqui'*100:.2f}%')"
      ]
    },
    {
      "cell_type": "markdown",
      "source": [
        "##**Exercício 01**\n",
        "\n",
        "Um pesquisador testa as distâncias de frenagem de diversos carros. A distância de frenagem de 60 milhas por hora até uma parada completa em pista seca é medida em pés. As distâncias de frenagem de uma\n",
        "amostra de carros são normalmente distribuídas, com média de 129 pés e desvio padrão de 5,18 pés.\n",
        "\n",
        "Qual é a maior distância de frenagem que um desses carros poderia ter e ainda estar no grupo do 1% mais baixo? (*Adaptado de: Consumer Reports*)"
      ],
      "metadata": {
        "id": "1EK-ITbCJdoO"
      }
    },
    {
      "cell_type": "code",
      "source": [
        "# Construindo a distribuição normal das distâncias de frenagem\n",
        "mu, std = 'Seu código aqui'\n",
        "frenagem = 'Seu código aqui'"
      ],
      "metadata": {
        "id": "y5CLEZqPIZtG"
      },
      "execution_count": null,
      "outputs": []
    },
    {
      "cell_type": "code",
      "source": [
        "# Distância máxima com 1% da área de distribuição à sua esquerda\n",
        "dist = 'Seu código aqui'\n",
        "print(f'Distância máxima = {dist:.2f} pés')\n",
        "print(f'Conferindo... Área à esquerda = {'Seu código aqui'*100:.2f}%')"
      ],
      "metadata": {
        "id": "h8ozlqPSJc_o"
      },
      "execution_count": null,
      "outputs": []
    },
    {
      "cell_type": "markdown",
      "source": [
        "##**Exercício 02**\n",
        "\n",
        "O tempo de trabalho dos funcionários em uma empresa é normalmente distribuído, com média de 11,2 anos e desvio padrão de 2,1 anos.\n",
        "\n",
        "Em uma redução de quadro, os 10% com menos tempo na empresa são demitidos. Qual é o tempo máximo que um funcionário pode ter trabalhado na empresa e ainda assim ser cortado?"
      ],
      "metadata": {
        "id": "54dxW5xhKvEu"
      }
    },
    {
      "cell_type": "code",
      "source": [
        "# Construindo a distribuição normal dos tempos de empresa\n",
        "mu, std = 'Seu código aqui'\n",
        "tempos = 'Seu código aqui'"
      ],
      "metadata": {
        "id": "4IontrmzJDh_"
      },
      "execution_count": null,
      "outputs": []
    },
    {
      "cell_type": "code",
      "source": [
        "# Tempo de empresa máximo com 10% da área de distribuição à sua esquerda\n",
        "tempo = 'Seu código aqui'\n",
        "print(f'Tempo máximo = {tempo:.2f} anos')\n",
        "print(f'Conferindo... Área à esquerda = {'Seu código aqui'*100:.2f}%')"
      ],
      "metadata": {
        "id": "m9rd8lK_K4aO"
      },
      "execution_count": null,
      "outputs": []
    },
    {
      "cell_type": "markdown",
      "source": [
        "## **Distribuições amostrais**\n",
        "\n",
        "##**Exercício 03**\n",
        "\n",
        "Os valores populacionais $\\{1, 3, 5, 7\\}$ são equiprováveis. Esses valores são escritos em pedaços de papel e colocados em uma caixa. Então, selecionam-se dois pedaços de papel aleatoriamente, com reposição.\n",
        "\n",
        "**(a)** Liste todas as amostras possíveis de tamanho $𝑛 = 2$ e calcule suas respectivas médias.\n",
        "\n",
        "\n"
      ],
      "metadata": {
        "id": "FH34JYg4BpHj"
      }
    },
    {
      "cell_type": "code",
      "source": [
        "# Bibliotecas\n",
        "import itertools as it\n",
        "import pandas as pd"
      ],
      "metadata": {
        "id": "WH9x6OCtJsTg"
      },
      "execution_count": null,
      "outputs": []
    },
    {
      "cell_type": "code",
      "source": [
        "## Item (a)\n",
        "# Chave para permutação\n",
        "chave = 'Seu código aqui'\n",
        "\n",
        "# Geração de todas as amostras possíveis de tamanho 2\n",
        "amostras_2a2 = 'Seu código aqui'\n",
        "\n",
        "# Criação de tabela com possíveis amostras, acompanhadas de suas médias\n",
        "amostras = pd.DataFrame({'Amostras': amostras_2a2,\n",
        "                        'Média': 'Seu código aqui'})\n",
        "display(amostras)"
      ],
      "metadata": {
        "id": "7L96dWDcC20x"
      },
      "execution_count": null,
      "outputs": []
    },
    {
      "cell_type": "markdown",
      "source": [
        "**(b)** Encontre a média, a variância e o desvio\n",
        "padrão das médias amostrais."
      ],
      "metadata": {
        "id": "ubW6tGy2KIsf"
      }
    },
    {
      "cell_type": "code",
      "source": [
        "## Item (b)\n",
        "# Determinação da frequência de cada média\n",
        "contagem = 'Seu código aqui'\n",
        "print(contagem)"
      ],
      "metadata": {
        "id": "-Y6E1I83KeOP"
      },
      "execution_count": null,
      "outputs": []
    },
    {
      "cell_type": "code",
      "source": [
        "# Criação de tabela com as possíveis médias\n",
        "dist_prob = 'Seu código aqui'\n",
        "display(dist_prob)"
      ],
      "metadata": {
        "id": "UzxzGKeHKzVG"
      },
      "execution_count": null,
      "outputs": []
    },
    {
      "cell_type": "code",
      "source": [
        "# Cálculo das probabilidades de ocorrência das médias\n",
        "dist_prob['Probabilidade'] = 'Seu código aqui'\n",
        "display(dist_prob)"
      ],
      "metadata": {
        "id": "VKK-7AB6K-d4"
      },
      "execution_count": null,
      "outputs": []
    },
    {
      "cell_type": "code",
      "source": [
        "# Cálculo da média das médias amostrais\n",
        "media_amostras = 'Seu código aqui'\n",
        "print(f'Média das médias amostrais = {media_amostras:.2f}')"
      ],
      "metadata": {
        "id": "GjTeXsQkLEfH"
      },
      "execution_count": null,
      "outputs": []
    },
    {
      "cell_type": "code",
      "source": [
        "# Cálculo da variância das médias amostrais\n",
        "var_amostras = 'Seu código aqui'\n",
        "print(f'Variância das médias amostrais = {var_amostras:.2f}')"
      ],
      "metadata": {
        "id": "SAdUOsnpLJC_"
      },
      "execution_count": null,
      "outputs": []
    },
    {
      "cell_type": "code",
      "source": [
        "# Cálculo do desvio padrão das médias amostrais\n",
        "std_amostras = 'Seu código aqui'\n",
        "print(f'Desvio padrão das médias amostrais = {std_amostras:.2f}')"
      ],
      "metadata": {
        "id": "3IU0L_aZGaMi"
      },
      "execution_count": null,
      "outputs": []
    },
    {
      "cell_type": "markdown",
      "source": [
        "**(c)** Compare seus resultados com a média $\\mu = 4$,\n",
        "variância $\\sigma^2 = 5$, e desvio padrão $\\sigma \\approx 2,236$ da população."
      ],
      "metadata": {
        "id": "4C5T05ScKLom"
      }
    },
    {
      "cell_type": "code",
      "source": [
        "## Item (c)\n",
        "mu, std = 'Seu código aqui'\n",
        "n_amostras = 'Seu código aqui'\n",
        "print('De acordo com a teoria das distribuições amostrais:')\n",
        "print(f'A média mu_x = {'Seu código aqui':.2f} deve ser igual a média populacional mu = {'Seu código aqui'}.')\n",
        "print(f'O desvio padrão sigma_x = {'Seu código aqui':.2f} deve ser igual a sigma/raiz(n) = {'Seu código aqui':.2f}')"
      ],
      "metadata": {
        "id": "uz1hY6mMMpPa"
      },
      "execution_count": null,
      "outputs": []
    },
    {
      "cell_type": "markdown",
      "source": [
        "## **Probabilidades e o TLC**\n",
        "\n",
        "##**Exercício 04**\n",
        "\n",
        "O gasto médio com alojamento e refeição, por ano, em faculdades de quatro anos é de US\\$ 9.126,00. Você seleciona aleatoriamente 9 dessas faculdades. Qual é a probabilidade de que a média de gastos com alojamento e refeição seja menor que US\\$ 9.400,00?\n",
        "\n",
        "Suponha que os gastos com alojamento e refeição sejam normalmente distribuídos, com desvio padrão de US$ 1.500,00 (*Adaptado de: National Center for\n",
        "Education Statistics*)."
      ],
      "metadata": {
        "id": "yFR9X9cbc4gx"
      }
    },
    {
      "cell_type": "code",
      "source": [
        "# Média e desvio padrão populacionais\n",
        "mu, std = 'Seu código aqui'"
      ],
      "metadata": {
        "id": "MUXmBQH9MdiN"
      },
      "execution_count": null,
      "outputs": []
    },
    {
      "cell_type": "code",
      "source": [
        "# Média e desvio padrão amostrais\n",
        "n = 'Seu código aqui'\n",
        "mu_x, std_x = 'Seu código aqui'"
      ],
      "metadata": {
        "id": "_9aQDeO6Mr63"
      },
      "execution_count": null,
      "outputs": []
    },
    {
      "cell_type": "code",
      "source": [
        "# Geração da distribuição normal amostral (TLC)\n",
        "gastos = 'Seu código aqui'"
      ],
      "metadata": {
        "id": "NBYGVIJBMuZ3"
      },
      "execution_count": null,
      "outputs": []
    },
    {
      "cell_type": "code",
      "source": [
        "# Cálculo da probabilidade\n",
        "prob = 'Seu código aqui'\n",
        "print(f'A probabilidade de que os gastos sejam inferiores a US$ 94k é de {prob*100:.2f}%.')"
      ],
      "metadata": {
        "id": "WdysGeb5dUZw"
      },
      "execution_count": null,
      "outputs": []
    },
    {
      "cell_type": "markdown",
      "source": [
        "##**Exercício 05**\n",
        "\n",
        "A dívida média no cartão de crédito mantida por universitários é normalmente distribuída, com média de US\\$ 3.173,00 e desvio padrão de\n",
        "US\\$ 1.120,00 (*Adaptado de: Sallie Mae*).\n",
        "\n",
        "**(a)** Qual é a probabilidade de que um universitário selecionado aleatoriamente,\n",
        "que possui um cartão de crédito, tenha uma divida menor\n",
        "que US\\$ 2.700?"
      ],
      "metadata": {
        "id": "Ia4PRRmIetnW"
      }
    },
    {
      "cell_type": "code",
      "source": [
        "'''Nesse item, devemos calcular a probabilidade associada a um determinado\n",
        "valor da variável aleatória dívida no cartão de crédito.'''\n",
        "# Geração da distribuição normal da população\n",
        "mu, std = 'Seu código aqui'\n",
        "divida_pop = 'Seu código aqui'"
      ],
      "metadata": {
        "id": "7Jr3NSQPNRS2"
      },
      "execution_count": null,
      "outputs": []
    },
    {
      "cell_type": "code",
      "source": [
        "# Cálculo da probabilidade\n",
        "prob1 = 'Seu código aqui'\n",
        "print(f'P(dívida <= 2700.00) = {prob1*100:.2f}%.')"
      ],
      "metadata": {
        "id": "rCVABFceNZsk"
      },
      "execution_count": null,
      "outputs": []
    },
    {
      "cell_type": "markdown",
      "source": [
        "**(b)** Você seleciona aleatoriamente 25 universitários que possuem cartão\n",
        "de crédito. Qual é a probabilidade de que a média dessas dívidas\n",
        "médias seja menor que US\\$ 2.700?"
      ],
      "metadata": {
        "id": "HCMd-fCANGW3"
      }
    },
    {
      "cell_type": "code",
      "source": [
        "'''Nesse item, devemos calcular uma probabilidade associada a uma\n",
        "média amostral.'''\n",
        "# Geração da distribuição das médias amostrais\n",
        "n = 'Seu código aqui'\n",
        "mu_x, std_x = 'Seu código aqui'\n",
        "divida_amostra = 'Seu código aqui'"
      ],
      "metadata": {
        "id": "GyKdLg0mNnWU"
      },
      "execution_count": null,
      "outputs": []
    },
    {
      "cell_type": "code",
      "source": [
        "# Cálculo da probabilidade\n",
        "prob2 = 'Seu código aqui'\n",
        "print(f'P(dívida média <= 2700.00) = {prob2*100:.2f}%.')"
      ],
      "metadata": {
        "id": "20UIchWzfeq1"
      },
      "execution_count": null,
      "outputs": []
    },
    {
      "cell_type": "markdown",
      "source": [
        "## **Estudo de Caso - Teorema do Limite Central**\n",
        "\n",
        "*Adaptado de:* https://statsthinking21.github.io/statsthinking21-python/06-Sampling.html"
      ],
      "metadata": {
        "id": "uG_q0j-GjDSd"
      }
    },
    {
      "cell_type": "markdown",
      "source": [
        "NHANES é a Pesquisa Nacional de Exame de Saúde e Nutrição (*National Health and Nutrition Examination Survey*), administrada pelos Centros de Controle de Doenças dos EUA.\n",
        "\n",
        "Todos os anos, o estudo examina uma amostra representativa de cerca de 5.000 indivíduos de todos os Estados Unidos, utilizando uma ampla gama de pesquisas, medições fisiológicas e testes laboratoriais. Esses dados são úteis para muitos propósitos.\n",
        "\n",
        "Aqui, nosso interesse é usar parte desses dados para exemplificar o Teorema do Limite Central."
      ],
      "metadata": {
        "id": "UNVnhXBUjRNU"
      }
    },
    {
      "cell_type": "code",
      "source": [
        "# Instalação do pacote de dados\n",
        "!pip install nhanes"
      ],
      "metadata": {
        "id": "drReNe6yiIa1"
      },
      "execution_count": null,
      "outputs": []
    },
    {
      "cell_type": "markdown",
      "source": [
        "Agora que os dados estão disponíveis para análise, vamos focar nossa atenção aos indivíduos adultos. Para isso, vamos selecionar todas as linhas nas quais a coluna `'AgeInYearsAtScreening'` tem registro superior à 17.\n",
        "\n",
        "Nosso estudo do TLC vai se concentrar na coluna `'StandingHeightCm'` que renomearemos para `'Height'`. Essa coluna registra a altura dos indivíduos em centímetros. Vamos também extrair todas as linhas nas quais essa coluna não possui registro (valores NaN)."
      ],
      "metadata": {
        "id": "ZA-CHbtWkFNF"
      }
    },
    {
      "cell_type": "code",
      "source": [
        "from nhanes.load import load_NHANES_data\n",
        "nhanes_data = load_NHANES_data()\n",
        "adult_nhanes_data = nhanes_data.query('AgeInYearsAtScreening > 17')\n",
        "adult_nhanes_data = adult_nhanes_data.dropna(subset=['StandingHeightCm']).rename(columns={'StandingHeightCm': 'Height'})"
      ],
      "metadata": {
        "id": "babGuq-DhkKF"
      },
      "execution_count": null,
      "outputs": []
    },
    {
      "cell_type": "markdown",
      "source": [
        "Agora vamos retirar repetidamente amostras de 50 indivíduos do conjunto de dados, calcular a média das alturas e armazenar os valores resultantes."
      ],
      "metadata": {
        "id": "c0G9CjXGlX53"
      }
    },
    {
      "cell_type": "code",
      "source": [
        "# Faremos 5000 amostragens com 50 indivíduos cada, com reposição\n",
        "tamanho_amostra = 'Seu código aqui'\n",
        "num_amostragens = 'Seu código aqui'\n",
        "\n",
        "# Construindo um DataFrame para armazenar as médias das alturas de cada amostragem\n",
        "resultados = 'Seu código aqui'\n",
        "\n",
        "# Executando as 5000 amostragens\n",
        "for amostragem in range(num_amostragens):\n",
        "    amostra = adult_nhanes_data.sample(tamanho_amostra)\n",
        "    resultados.loc[amostragem, 'média'] = amostra['Height'].mean()\n",
        "\n",
        "# Inspecionando os resultados\n",
        "display(resultados)"
      ],
      "metadata": {
        "id": "2PmLyUwklnXu"
      },
      "execution_count": null,
      "outputs": []
    },
    {
      "cell_type": "markdown",
      "source": [
        "Agora vamos representar graficamente a distribuição amostral. Também sobreporemos a distribuição amostral da média prevista com base na média e desvio padrão populacionais, com o intuito de mostrar que nossa representação descreve adequadamente a distribuição amostral real. Também colocaremos uma linha vertical na média da população."
      ],
      "metadata": {
        "id": "aFKFamp2nOPV"
      }
    },
    {
      "cell_type": "code",
      "source": [
        "# Bibliotecas\n",
        "import seaborn as sns\n",
        "import matplotlib.pyplot as plt"
      ],
      "metadata": {
        "id": "E71Bju-inoL-"
      },
      "execution_count": null,
      "outputs": []
    },
    {
      "cell_type": "code",
      "source": [
        "# Distribuição amostral\n",
        "hist = 'Seu código aqui'\n",
        "'''NOTA: hist[0] contém todos os dados do histograma. Vamos usar o valor máximo\n",
        "desses dados (frequências) para determinar o comprimento da linha vertical\n",
        "que demarcará a média populacional.'''\n",
        "\n",
        "# Mostrando a média populacional\n",
        "'Seu código aqui'\n",
        "\n",
        "# Distribuição normal com média e desvio padrão iguais aos da distribuição amostral\n",
        "hist_bin_min = np.min(hist[1])\n",
        "hist_bin_max = np.max(hist[1])\n",
        "passo = 0.01\n",
        "valores_altura = 'Seu código aqui'\n",
        "dist_norm = 'Seu código aqui'\n",
        "plt.plot(valores_altura, dist_norm, color='r', label='Distribuição normal')\n",
        "plt.title('Distribuição amostral de alturas:\\n5000 amostragens com 50 indivíduos cada')\n",
        "plt.xlabel('Alturas (cm)')\n",
        "plt.ylabel('Frequência relativa')\n",
        "plt.legend()\n",
        "plt.show()"
      ],
      "metadata": {
        "id": "8ti3etVLn0Qn"
      },
      "execution_count": null,
      "outputs": []
    },
    {
      "cell_type": "code",
      "source": [
        "# Checando as médias\n",
        "media_pop = 'Seu código aqui'\n",
        "print(f'Média populacional = {media_pop:.2f} cm')\n",
        "\n",
        "media_amostral = 'Seu código aqui'\n",
        "print(f'Média amostral = {media_amostral:.2f} cm')"
      ],
      "metadata": {
        "id": "d2Ynug_cqyT-"
      },
      "execution_count": null,
      "outputs": []
    },
    {
      "cell_type": "code",
      "source": [
        "# Checando os desvios padrão\n",
        "dp_pop = 'Seu código aqui'\n",
        "print(f'Desvio padrão populacional = {dp_pop:.2f} cm')\n",
        "\n",
        "dp_amostral = 'Seu código aqui'\n",
        "print(f'Desvio padrão amostral = {dp_amostral:.2f} cm')\n",
        "\n",
        "dp_amostral_teorico = 'Seu código aqui'\n",
        "print(f'Desvio padrão amostral teórico = {dp_amostral_teorico:.2f} cm')"
      ],
      "metadata": {
        "id": "5C4Xagg0rlg0"
      },
      "execution_count": null,
      "outputs": []
    },
    {
      "cell_type": "markdown",
      "source": [
        "O Teorema do Limite Central nos diz que a distribuição amostral da média torna-se normal à medida que o tamanho da amostra aumenta. Isso foi comprovado em nossa análise anterior! No entanto, é bastante seguro supor que a distribuição populacional original (alturas dos indivíduos) é normal. O que ocorre quando isso não é verdade?\n",
        "\n",
        "Vamos testar a aplicabilidade do TLC à populações não-normais fazendo amostras repetidas de uma variável claramente não normal. Então, podemos observar a normalidade dos resultados usando um gráfico QQ.\n",
        "\n",
        "Um gráfico QQ (\"Q\" significa quantil) é um gráfico de probabilidades que compara duas distribuições de probabilidade, traçando seus quantis uns contra os outros. Se as duas distribuições que estão sendo comparadas são semelhantes, os pontos no gráfico QQ vão repousar aproximadamente na linha $y=x$. Se as distribuições são linearmente relacionadas, os pontos no gráfico QQ irão repousar aproximadamente em uma linha, mas não necessariamente na linha $y=x$.\n",
        "\n",
        "Em nossa análise, vamos invetsigar a variável que representa a renda familiar anual. Esta variável está estranhamente distribuída.\n"
      ],
      "metadata": {
        "id": "2omhy-EIsWJ0"
      }
    },
    {
      "cell_type": "code",
      "source": [
        "'Seu código aqui'\n",
        "plt.title('Distribuição da renda familiar anual')\n",
        "plt.xlabel('Renda (US$)')\n",
        "plt.ylabel('Frequência')\n",
        "plt.show()"
      ],
      "metadata": {
        "id": "2D2MKF1qufCL"
      },
      "execution_count": null,
      "outputs": []
    },
    {
      "cell_type": "markdown",
      "source": [
        "Vamos realizar 5000 amostragens repetidas dessa variável e então examinar a distribuição amostral das médias. Para isso, vamos construir uma função que executa a amostragem e retorna o valopr da renda média."
      ],
      "metadata": {
        "id": "4q_zvCi_u3qs"
      }
    },
    {
      "cell_type": "code",
      "source": [
        "def amostragem_retorna_media(dados, nome_variavel,\n",
        "                             tamanho_amostra=250, amostragens=5000):\n",
        "    \"\"\"\n",
        "    Toma amostras repetidas de uma variável que é parte de um DataFrame e\n",
        "    calcula a média dessa variável.\n",
        "\n",
        "    Parâmetros:\n",
        "    -----------\n",
        "    dados: DataFrame que contém os dados do experimento\n",
        "    nome_variavel: coluna do DataFrame a ser analisada\n",
        "    tamanho_amostra: número de observações em cada amostragem\n",
        "    amostragens: núemro de amostragens desejado\n",
        "\n",
        "    Reterno:\n",
        "    --------\n",
        "    dist_amostral: DataFrame contendo as médias de cada amostragem\n",
        "    \"\"\"\n",
        "    dist_amostral = pd.DataFrame({'média': np.zeros(amostragens)})\n",
        "    for amostragem in range(amostragens):\n",
        "        amostra_df = dados.sample(tamanho_amostra)\n",
        "        dist_amostral.loc[amostragem, 'média'] = amostra_df[nome_variavel].mean()\n",
        "    return(dist_amostral)"
      ],
      "metadata": {
        "id": "4cXc66gcvMnf"
      },
      "execution_count": null,
      "outputs": []
    },
    {
      "cell_type": "markdown",
      "source": [
        "Agora, usando a função `amostragem_retorna_media()`, vamos calcular a distribuição amostral para a renda familiar anual e plotar seu histograma."
      ],
      "metadata": {
        "id": "JTheYNWhw6gT"
      }
    },
    {
      "cell_type": "code",
      "source": [
        "adult_income_data = adult_nhanes_data.dropna(subset=['AnnualFamilyIncome'])\n",
        "dist_amostral_renda = 'Seu código aqui'\n",
        "plt.hist(dist_amostral_renda['média'], 100)\n",
        "plt.title('Distribuição amostral das médias das rendas familiares anuais:\\n5000 amostras de 250 famílias')\n",
        "plt.xlabel('Renda familiar média (US$)')\n",
        "plt.ylabel('Frequência')\n",
        "plt.show()"
      ],
      "metadata": {
        "id": "Ke7LPuO-xNmk"
      },
      "execution_count": null,
      "outputs": []
    },
    {
      "cell_type": "markdown",
      "source": [
        "O histograma indica que a distribuição se aproxima bastante de um normal. Para nos certificar disso, vamos usar gráficos QQ. No gráfico da esquerda, temos a representação da distribuição original das rendas familiares anuais; no gráfico da direita, usamos a distribuição amostral das rendas médias."
      ],
      "metadata": {
        "id": "RONsdSfL7E4K"
      }
    },
    {
      "cell_type": "code",
      "source": [
        "# Biblioteca\n",
        "from scipy.stats import probplot"
      ],
      "metadata": {
        "id": "qT4omDsH8hqt"
      },
      "execution_count": null,
      "outputs": []
    },
    {
      "cell_type": "code",
      "source": [
        "# Gráfico QQ - Distribuição original de renda familiar anual\n",
        "plt.figure(figsize=(12, 6))\n",
        "plt.subplot(1, 2, 1)\n",
        "'Seu código aqui'\n",
        "plt.title('Distribuição original')\n",
        "\n",
        "# Gráfico QQ - Distribuição amostral das rendas familiares anuais médias\n",
        "plt.subplot(1, 2, 2)\n",
        "probplot(dist_amostral_renda['média'], plot=sns.mpl.pyplot)\n",
        "'Seu código aqui'\n",
        "plt.show()"
      ],
      "metadata": {
        "id": "zyndtY1w8n4E"
      },
      "execution_count": null,
      "outputs": []
    },
    {
      "cell_type": "markdown",
      "source": [
        "Dos gráficos anteriores podemos afirmar que os dados oroginais de renda familiar anual são altamente anormais. Isso é evidenciado pelo fato de que os valores dos dados divergem muito da linha unitária vermelha. Por outro lado, a distribuição amostral das rendas familiares anuais médias é muito próxima de uma distribuição normal."
      ],
      "metadata": {
        "id": "uY4YtRse-MAY"
      }
    }
  ]
}