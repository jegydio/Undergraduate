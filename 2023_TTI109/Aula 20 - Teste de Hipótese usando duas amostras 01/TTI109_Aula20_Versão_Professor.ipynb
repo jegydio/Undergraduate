{
  "nbformat": 4,
  "nbformat_minor": 0,
  "metadata": {
    "colab": {
      "provenance": [],
      "collapsed_sections": []
    },
    "kernelspec": {
      "name": "python3",
      "display_name": "Python 3"
    },
    "language_info": {
      "name": "python"
    }
  },
  "cells": [
    {
      "cell_type": "markdown",
      "source": [
        "# Função *teste_z2* para o teste de hipótese da diferença entre médias\n",
        "\n",
        "A função *teste_z2* assume que as amostras são independentes e que $\\sigma_1$ e $\\sigma_2$ são conhecidos. Então, decide sobre a validade da hipótese nula acerca da diferença entre as médias."
      ],
      "metadata": {
        "id": "jb6aCKWmqp3G"
      }
    },
    {
      "cell_type": "code",
      "source": [
        "from scipy import stats as st\n",
        "\n",
        "def teste_z2(xbarra_1=None, sig_1=None, n_1=None,\n",
        "             xbarra_2=None, sig_2=None, n_2=None,\n",
        "             alpha=0.05, teste='bilateral'):\n",
        "  '''Função para teste de hipótese da diferença entre as médias populacionais,\n",
        "     com nível de significância alpha, supondo desvios padrão populacionais\n",
        "     sig_1 e sig_2 conhecidos. Forneça as médias amostrais xbarra_1 e xbarra_2,\n",
        "     os tamanhos das amostras n_1 e n_2 e  informe o tipo de teste: unilateral\n",
        "     à esquerda ('esq'), unilateral à direita ('dir') ou bilateral ('bilateral').'''\n",
        "  # Criação da distribuição normal padrão\n",
        "  dist_padrao = st.norm(loc=0, scale=1)\n",
        "  # Cálculo da estatística de teste padronizada\n",
        "  z = (xbarra_1-xbarra_2)/(sig_1**2/n_1 + sig_2**2/n_2)**0.5\n",
        "  # Hipótese nula inicialmente validade\n",
        "  rejeicao = False\n",
        "  # Cálculo do z crítico, de acordo com o tipo de teste\n",
        "  if teste == 'esq':\n",
        "    z0 = dist_padrao.ppf(alpha)\n",
        "    tipo = 'unilateral à esquerda'\n",
        "    # Decisão sobre pertinência de z à região de rejeição\n",
        "    if z <= z0:\n",
        "      rejeicao = True\n",
        "  elif teste == 'dir':\n",
        "    z0 = dist_padrao.ppf(1-alpha)\n",
        "    tipo = 'unilateral à direita'\n",
        "    # Decisão sobre pertinência de z à região de rejeição\n",
        "    if z >= z0:\n",
        "      rejeicao = True\n",
        "  elif teste == 'bilateral':\n",
        "    z0 = dist_padrao.ppf(alpha/2)\n",
        "    tipo = 'bilateral'\n",
        "    # Decisão sobre pertinência de z à região de rejeição\n",
        "    if (z <= z0) or (z >= -z0):\n",
        "      rejeicao = True\n",
        "  # Saída - Conclusão do teste\n",
        "  print('*** Teste de hipótese para a diferença entre médias populacionais ***')\n",
        "  print('-> Desvios padrão populacionais conhecidos')\n",
        "  if tipo == 'bilateral':\n",
        "    print(f'-> Teste {tipo} com z_padrão = {z:.6f}, z01 = {z0:.6f} e z02 = {-z0:.6f}')\n",
        "  else:\n",
        "    print(f'-> Teste {tipo} com z_padrão = {z:.6f} e z0 = {z0:.6f}')\n",
        "  if rejeicao:\n",
        "    print(f'Hipótese nula rejeitada ao nível de significância {alpha*100}%')\n",
        "  else:\n",
        "    print(f'Hipótese nula NÃO rejeitada ao nível de significância {alpha*100}%')\n",
        "  return z, z0"
      ],
      "metadata": {
        "id": "YM7h-sUirObO"
      },
      "execution_count": 1,
      "outputs": []
    },
    {
      "cell_type": "markdown",
      "source": [
        "# Exercício 01\n",
        "\n",
        "Um grupo de acompanhamento de cartão de crédito afirma que existe diferença entre as médias dos débitos em cartões de crédito de domicílios na Califórnia e em Illinois. Os resultados de uma pesquisa de 250 domicílios de cada estado estão na tabela a seguir.\n",
        "\n",
        "![Notebook Aula 20-01.png](data:image/png;base64,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)\n",
        "\n",
        "As duas amostras são independentes. Suponha que $\\sigma_1=$ US$\\$$1.045 para a Califórnia e $\\sigma_2=$ US$\\$$ 1.350 para Illinois. O resultado confirma a afirmação do grupo? Use $\\alpha = 0,05$. (Fonte: *PlasticEconomy.com*)"
      ],
      "metadata": {
        "id": "7M6E4Xd5xJux"
      }
    },
    {
      "cell_type": "code",
      "source": [
        "# H0: mu1 = mu2\n",
        "# Ha: mu1 != mu2 (afirmação)\n",
        "zpad, z0 = teste_z2(xbarra_1=4777, sig_1=1045, n_1=250, xbarra_2=4866,\n",
        "                    sig_2=1350, n_2=250, alpha=0.05, teste='bilateral')"
      ],
      "metadata": {
        "id": "sT2M4OZTxIix",
        "colab": {
          "base_uri": "https://localhost:8080/"
        },
        "outputId": "856ec9af-fdfc-4673-b910-db8fd80bc577"
      },
      "execution_count": 2,
      "outputs": [
        {
          "output_type": "stream",
          "name": "stdout",
          "text": [
            "*** Teste de hipótese para a diferença entre médias populacionais ***\n",
            "-> Desvios padrão populacionais conhecidos\n",
            "-> Teste bilateral com z_padrão = -0.824283, z01 = -1.959964 e z02 = 1.959964\n",
            "Hipótese nula NÃO rejeitada ao nível de significância 5.0%\n"
          ]
        }
      ]
    },
    {
      "cell_type": "markdown",
      "source": [
        "# Exercício 02\n",
        "\n",
        "Uma pesquisa indica que os salários médios anuais de técnicos de ciências forenses trabalhando para os governos municipais e estaduais norte-americanos são US$\\$$ 55.950 e US$\\$$ 51.100, respectivamente. A pesquisa inclui uma amostra selecionada aleatoriamente de tamanho 100 para cada ramo governamental. \n",
        "\n",
        "Suponha que os desvios padrão populacionais são US$\\$$ 6.200 (município) e US$\\$$ 5.575 (estado). As duas amostras são independentes. Para $\\alpha = 0,10$, há evidência suficiente para concluir que existe uma diferença nos salários médios anuais? (Fonte: *U.S. Bureau of Labor Statistics*)"
      ],
      "metadata": {
        "id": "xy47GVSQDG2L"
      }
    },
    {
      "cell_type": "code",
      "source": [
        "# H0: mu1 = mu2\n",
        "# Ha: mu1 != mu2 (afirmação)\n",
        "zpad, z0 = teste_z2(xbarra_1=55950, sig_1=6200, n_1=100, xbarra_2=51100,\n",
        "                    sig_2=5575, n_2=100, alpha=0.10, teste='bilateral')"
      ],
      "metadata": {
        "colab": {
          "base_uri": "https://localhost:8080/"
        },
        "id": "O9uMHh6FDtb1",
        "outputId": "42e1f5cc-e3a6-4656-eb0b-1df581a224ac"
      },
      "execution_count": 3,
      "outputs": [
        {
          "output_type": "stream",
          "name": "stdout",
          "text": [
            "*** Teste de hipótese para a diferença entre médias populacionais ***\n",
            "-> Desvios padrão populacionais conhecidos\n",
            "-> Teste bilateral com z_padrão = 5.816810, z01 = -1.644854 e z02 = 1.644854\n",
            "Hipótese nula rejeitada ao nível de significância 10.0%\n"
          ]
        }
      ]
    },
    {
      "cell_type": "markdown",
      "source": [
        "# Exercício 03\n",
        "\n",
        "Uma agência de viagem afirma que o custo médio diário de refeições e acomodação para férias no Texas é menor que o custo médio diário na Virgínia. A tabela a seguir mostra os resultados de uma pesquisa aleatória com turistas em cada estado.\n",
        "\n",
        "![Notebook Aula 20-02.png](data:image/png;base64,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)\n",
        "\n",
        "As duas amostras são independentes. Suponha que $\\sigma_1=$ US$\\$$ 19 para o Texas e $\\sigma_2=$ US$\\$$ 24 para a Virgínia e que ambas as populações são normalmente distribuídas.\n",
        "\n",
        "Para $\\alpha = 0,01$, há evidência suficiente para confirmar a afirmação? (Fonte: *American Automobile Association*)"
      ],
      "metadata": {
        "id": "gGzs-i1bAaK6"
      }
    },
    {
      "cell_type": "code",
      "source": [
        "# H0: mu1 >= mu2\n",
        "# Ha: mu1 < mu2 (afirmação)\n",
        "zpad, z0 = teste_z2(xbarra_1=234, sig_1=19, n_1=25, xbarra_2=240,\n",
        "                    sig_2=24, n_2=20, alpha=0.01, teste='esq')"
      ],
      "metadata": {
        "colab": {
          "base_uri": "https://localhost:8080/"
        },
        "id": "tE8JZ-GJAZs6",
        "outputId": "c08c164b-5067-456f-f18f-7e92bde1a490"
      },
      "execution_count": 4,
      "outputs": [
        {
          "output_type": "stream",
          "name": "stdout",
          "text": [
            "*** Teste de hipótese para a diferença entre médias populacionais ***\n",
            "-> Desvios padrão populacionais conhecidos\n",
            "-> Teste unilateral à esquerda com z_padrão = -0.912449 e z0 = -2.326348\n",
            "Hipótese nula NÃO rejeitada ao nível de significância 1.0%\n"
          ]
        }
      ]
    },
    {
      "cell_type": "markdown",
      "source": [
        "# Exercício 04 - A função *ztest* do Python\n",
        "\n",
        "Suponha que os níveis de QI entre indivíduos em duas cidades diferentes sejam normalmente distribuídos, com desvios padrão conhecidos.\n",
        "\n",
        "Uma pesquisadora acredita que o nível médio de QI entre os indivíduos da cidade A e da cidade B são diferentes, então ela seleciona uma amostra aleatória simples de 20 indivíduos de cada cidade e registra seus níveis de QI.\n",
        "\n",
        "É possível corroborar a afirmação da pesquisadora à um nível de significância de 5%?"
      ],
      "metadata": {
        "id": "5ef_ciC2GRwZ"
      }
    },
    {
      "cell_type": "code",
      "source": [
        "from statsmodels.stats.weightstats import ztest as ztest\n",
        "# H0: mu1 = mu2\n",
        "# Ha: mu1 != mu2 (afirmação)\n",
        "\n",
        "# Níveis de QI para 20 indivíduos da cidade A\n",
        "cidadeA = [82, 84, 85, 89, 91, 91, 92, 94, 99, 99,\n",
        "           105, 109, 109, 109, 110, 112, 112, 113, 114, 114]\n",
        "# Níveis de QI para 20 indivíduos da cidade B\n",
        "cidadeB = [90, 91, 91, 91, 95, 95, 99, 99, 108, 109,\n",
        "           109, 114, 115, 116, 117, 117, 128, 129, 130, 133]\n",
        "# Função ztest para duas amostras\n",
        "zpad, p_valor = ztest(x1=cidadeA, x2=cidadeB, value=0, alternative='two-sided')\n",
        "# Conclusão do teste\n",
        "alpha = 0.05\n",
        "if p_valor <= alpha:\n",
        "  print(f'Hipótese nula rejeitada ao nível de significância {alpha*100}%')\n",
        "else:\n",
        "  print(f'Hipótese nula NÃO rejeitada ao nível de significância {alpha*100}%')"
      ],
      "metadata": {
        "colab": {
          "base_uri": "https://localhost:8080/"
        },
        "id": "maRSd9SIjIbX",
        "outputId": "51c08098-54f9-4212-f899-a7047cb12a20"
      },
      "execution_count": 6,
      "outputs": [
        {
          "output_type": "stream",
          "name": "stdout",
          "text": [
            "Hipótese nula rejeitada ao nível de significância 5.0%\n"
          ]
        }
      ]
    },
    {
      "cell_type": "markdown",
      "source": [
        "# Função *teste_t2* para o teste de hipótese da diferença entre médias\n",
        "\n",
        "A função *teste_t2* assume que as amostras são independentes e que $\\sigma_1$ e $\\sigma_2$ são desconhecidos. Então, decide sobre a validade da hipótese nula acerca da diferença entre as médias."
      ],
      "metadata": {
        "id": "ft1n6nJHEFcV"
      }
    },
    {
      "cell_type": "code",
      "source": [
        "def teste_t2(xbarra_1=None, s_1=None, n_1=None,\n",
        "             xbarra_2=None, s_2=None, n_2=None,\n",
        "             alpha=0.05, var='=', teste='bilateral'):\n",
        "  '''Função para teste de hipótese da diferença entre as médias populacionais,\n",
        "     com nível de significância alpha, supondo desvios padrão populacionais\n",
        "     sig_1 e sig_2 conhecidos. Forneça as médias amostrais xbarra_1 e xbarra_2,\n",
        "     os tamanhos das amostras n_1 e n_2 e  informe o tipo de teste: unilateral\n",
        "     à esquerda ('esq'), unilateral à direita ('dir') ou bilateral ('bilateral').'''\n",
        "  # Graus de liberdade e erro padrão\n",
        "  if var == '=':\n",
        "    gl = n_1 + n_2 - 2\n",
        "    sig_chapeu = (((n_1-1)*s_1**2 + (n_2-1)*s_2**2)/gl)**0.5\n",
        "    erro_pad = sig_chapeu*(1/n_1 + 1/n_2)**0.5\n",
        "  elif var == '!=':\n",
        "    gl = min(n_1-1, n_2-1)\n",
        "    erro_pad = (s_1**2/n_1 + s_2**2/n_2)**0.5\n",
        "  # Criação da distribuição t\n",
        "  dist_t = st.t(df=gl)\n",
        "  # Cálculo da estatística de teste padronizada\n",
        "  t = (xbarra_1 - xbarra_2)/erro_pad\n",
        "  # Hipótese nula inicialmente validade\n",
        "  rejeicao = False\n",
        "  # Cálculo do t crítico, de acordo com o tipo de teste\n",
        "  if teste == 'esq':\n",
        "    t0 = dist_t.ppf(alpha)\n",
        "    tipo = 'unilateral à esquerda'\n",
        "    # Decisão sobre pertinência de z à região de rejeição\n",
        "    if t <= t0:\n",
        "      rejeicao = True\n",
        "  elif teste == 'dir':\n",
        "    t0 = dist_t.ppf(1-alpha)\n",
        "    tipo = 'unilateral à direita'\n",
        "    # Decisão sobre pertinência de z à região de rejeição\n",
        "    if t >= t0:\n",
        "      rejeicao = True\n",
        "  elif teste == 'bilateral':\n",
        "    t0 = dist_t.ppf(alpha/2)\n",
        "    tipo = 'bilateral'\n",
        "    # Decisão sobre pertinência de z à região de rejeição\n",
        "    if (t <= t0) or (t >= -t0):\n",
        "      rejeicao = True\n",
        "  # Saída - Conclusão do teste\n",
        "  print('*** Teste de hipótese para a diferença entre médias populacionais ***')\n",
        "  print('-> Desvios padrão populacionais conhecidos')\n",
        "  if tipo == 'bilateral':\n",
        "    print(f'-> Teste {tipo} com t_padrão = {t:.6f}, t01 = {t0:.6f} e t02 = {-t0:.6f}')\n",
        "  else:\n",
        "    print(f'-> Teste {tipo} com t_padrão = {t:.6f} e t0 = {t0:.6f}')\n",
        "  if rejeicao:\n",
        "    print(f'Hipótese nula rejeitada ao nível de significância {alpha*100}%')\n",
        "  else:\n",
        "    print(f'Hipótese nula NÃO rejeitada ao nível de significância {alpha*100}%')\n",
        "  return t, t0"
      ],
      "metadata": {
        "id": "Y9ZkymXwES_W"
      },
      "execution_count": 8,
      "outputs": []
    },
    {
      "cell_type": "markdown",
      "source": [
        "# Exercício 05\n",
        "\n",
        "Os resultados de um teste estadual de matemática para amostras aleatórias de estudantes ensinados por dois professores diferentes na mesma escola estão na tabela a seguir.\n",
        "\n",
        "![Notebook Aula 20-03.png](data:image/png;base64,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)\n",
        "\n",
        "Podemos concluir que há diferença nas pontuações médias dos testes de matemática para todos os estudantes dos dois professores? Use $\\alpha = 0,10$. Suponha que as populações são normalmente distribuídas e que as variâncias populacionais não são iguais."
      ],
      "metadata": {
        "id": "nmJk4IaMIezO"
      }
    },
    {
      "cell_type": "code",
      "source": [
        "# H0: mu1 = mu2\n",
        "# Ha: mu1 != mu2 (afirmação)\n",
        "tpad, t0 = teste_t2(xbarra_1=473, s_1=39.7, n_1=8, xbarra_2=459, s_2=24.5,\n",
        "                    n_2=18, alpha=0.10, var='!=', teste='bilateral')\n"
      ],
      "metadata": {
        "colab": {
          "base_uri": "https://localhost:8080/"
        },
        "id": "KZnks9uzIx__",
        "outputId": "20745ba5-270a-452f-b21c-c09be1a73f1e"
      },
      "execution_count": 9,
      "outputs": [
        {
          "output_type": "stream",
          "name": "stdout",
          "text": [
            "*** Teste de hipótese para a diferença entre médias populacionais ***\n",
            "-> Desvios padrão populacionais conhecidos\n",
            "-> Teste bilateral com t_padrão = 0.922414, t01 = -1.894579 e t02 = 1.894579\n",
            "Hipótese nula NÃO rejeitada ao nível de significância 10.0%\n"
          ]
        }
      ]
    },
    {
      "cell_type": "markdown",
      "source": [
        "# Exercício 06\n",
        "\n",
        "Os ganhos anuais de 19 pessoas com diploma de ensino médio e 16 pessoas com um diploma de tecnólogo são mostrados na tabela a seguir.\n",
        "\n",
        "![Notebook Aula 20-04.png](data:image/png;base64,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)\n",
        "\n",
        "Você pode concluir que há uma diferença nos ganhos médios anuais baseado no nível de instrução? Use $\\alpha = 0,01$. Suponha que as populações são normalmente distribuídas e que as variâncias populacionais não são iguais."
      ],
      "metadata": {
        "id": "1EgCgQP5KHAc"
      }
    },
    {
      "cell_type": "code",
      "source": [
        "# H0: mu1 = mu2\n",
        "# Ha: mu1 != mu2 (afirmação)\n",
        "tpad, t0 = teste_t2(xbarra_1=32493, s_1=3118, n_1=19, xbarra_2=40907, s_2=6162,\n",
        "                    n_2=16, alpha=0.01, var='!=', teste='bilateral')"
      ],
      "metadata": {
        "colab": {
          "base_uri": "https://localhost:8080/"
        },
        "id": "E07uZTc_j0iY",
        "outputId": "d5e622d6-fb09-42b6-8776-719be4c05299"
      },
      "execution_count": 10,
      "outputs": [
        {
          "output_type": "stream",
          "name": "stdout",
          "text": [
            "*** Teste de hipótese para a diferença entre médias populacionais ***\n",
            "-> Desvios padrão populacionais conhecidos\n",
            "-> Teste bilateral com t_padrão = -4.953853, t01 = -2.946713 e t02 = 2.946713\n",
            "Hipótese nula rejeitada ao nível de significância 1.0%\n"
          ]
        }
      ]
    },
    {
      "cell_type": "markdown",
      "source": [
        "# Exercício 07\n",
        "\n",
        "Um fabricante afirma que o custo médio de operação por milha de seus sedans é menor que o do principal concorrente. Você conduz um estudo usando 30 sedans selecionados aleatoriamente do fabricante e 32 do principal concorrente. Os resultados estão na tabela a seguir.\n",
        "\n",
        "![Notebook Aula 20-05.png](data:image/png;base64,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)\n",
        "\n",
        "Para $\\alpha = 0,05$, você pode concordar com a afirmação do fabricante? Suponha\n",
        "que as variâncias populacionais são iguais. (Adaptado de: *American Automobile Association*)"
      ],
      "metadata": {
        "id": "6svsEEtCkWs3"
      }
    },
    {
      "cell_type": "code",
      "source": [
        "# H0: mu1 >= mu2\n",
        "# Ha: mu1 < mu2 (afirmação)\n",
        "tpad, t0 = teste_t2(xbarra_1=0.52, s_1=0.05, n_1=30, xbarra_2=0.55, s_2=0.07,\n",
        "                    n_2=32, alpha=0.05, var='=', teste='esq')"
      ],
      "metadata": {
        "colab": {
          "base_uri": "https://localhost:8080/"
        },
        "id": "LpuONOQWk4c6",
        "outputId": "dfeaa7d9-46af-482a-d5a3-b3e4f6d66f60"
      },
      "execution_count": 11,
      "outputs": [
        {
          "output_type": "stream",
          "name": "stdout",
          "text": [
            "*** Teste de hipótese para a diferença entre médias populacionais ***\n",
            "-> Desvios padrão populacionais conhecidos\n",
            "-> Teste unilateral à esquerda com t_padrão = -1.930302 e t0 = -1.670649\n",
            "Hipótese nula rejeitada ao nível de significância 5.0%\n"
          ]
        }
      ]
    },
    {
      "cell_type": "markdown",
      "source": [
        "# Exercício 08 - A função *ttest_ind* do Pyhton\n",
        "\n",
        "Um pesquisador deseja comparar a eficácia do uso de cloreto de amônio e da uréia no rendimento de grãos do arrozal. Para tanto, conduziu um experimento em que áreas equivalentes de cultivo foram fertilizadas, cada uma com um tipo de produto.\n",
        "\n",
        "Ao nível de significância de 5%, é possível afirmar que os fertilizantes têm a mesma eficácia? Responda assumindo que as variâncias das populações são iguais. A seguir, repita sob a hipótese de que as variâncis populacionais são diferentes. \n",
        "\n"
      ],
      "metadata": {
        "id": "00vxL9lnlduv"
      }
    },
    {
      "cell_type": "code",
      "source": [
        "# H0: mu1 = mu2 (afirmação)\n",
        "# Ha: mu1 != mu2\n",
        "\n",
        "# Conjunto de dados\n",
        "cloreto_de_amonio = [13.4, 10.9, 11.2, 11.8, 14, 15.3,\n",
        "                     14.2, 12.6, 17, 16.2, 16.5, 15.7]\n",
        "ureia = [12, 11.7, 10.7, 11.2, 14.8, 14.4,\n",
        "         13.9, 13.7, 16.9, 16, 15.6, 16]\n",
        "# Função ttest_ind para duas amostras\n",
        "# Assumindo variâncias iguais para as populações\n",
        "t_pad,p_valor=st.ttest_ind(a=cloreto_de_amonio, b=ureia,\n",
        "                           equal_var=True, alternative='two-sided')\n",
        "# Conclusão do teste\n",
        "alpha = 0.05\n",
        "print('*** Assumindo variâncias iguais para as populações:')\n",
        "if p_valor <= alpha:\n",
        "  print(f'Hipótese nula rejeitada ao nível de significância {alpha*100}%')\n",
        "else:\n",
        "  print(f'Hipótese nula NÃO rejeitada ao nível de significância {alpha*100}%')\n",
        "# Assumindo variâncias diferentes para as populações\n",
        "t_pad,p_valor=st.ttest_ind(a=cloreto_de_amonio, b=ureia,\n",
        "                           equal_var=False, alternative='two-sided')\n",
        "# Conclusão do teste\n",
        "alpha = 0.05\n",
        "print('*** Assumindo variâncias diferentes para as populações:')\n",
        "if p_valor <= alpha:\n",
        "  print(f'Hipótese nula rejeitada ao nível de significância {alpha*100}%')\n",
        "else:\n",
        "  print(f'Hipótese nula NÃO rejeitada ao nível de significância {alpha*100}%')"
      ],
      "metadata": {
        "colab": {
          "base_uri": "https://localhost:8080/"
        },
        "id": "FE0IhkFIl6J4",
        "outputId": "b94849c9-f195-4bba-b923-52deb45cec2a"
      },
      "execution_count": 14,
      "outputs": [
        {
          "output_type": "stream",
          "name": "stdout",
          "text": [
            "*** Assumindo variâncias iguais para as populações:\n",
            "Hipótese nula NÃO rejeitada ao nível de significância 5.0%\n",
            "*** Assumindo variâncias diferentes para as populações:\n",
            "Hipótese nula NÃO rejeitada ao nível de significância 5.0%\n"
          ]
        }
      ]
    }
  ]
}