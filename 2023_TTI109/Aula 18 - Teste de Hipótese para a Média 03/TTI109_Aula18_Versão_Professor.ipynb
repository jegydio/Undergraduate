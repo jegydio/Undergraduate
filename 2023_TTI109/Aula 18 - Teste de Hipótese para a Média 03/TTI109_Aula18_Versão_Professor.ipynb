{
  "nbformat": 4,
  "nbformat_minor": 0,
  "metadata": {
    "colab": {
      "provenance": [],
      "collapsed_sections": []
    },
    "kernelspec": {
      "name": "python3",
      "display_name": "Python 3"
    },
    "language_info": {
      "name": "python"
    }
  },
  "cells": [
    {
      "cell_type": "markdown",
      "source": [
        "# Valores críticos em uma distribuição *t*\n",
        "\n",
        "**(a)** Encontre o valor crítico $t_0$ para um teste unilateral à esquerda com\n",
        "$\\alpha = 0,05$ e $n = 21$.\n",
        "\n",
        "**(b)** Encontre o valor crítico $t_0$ para um teste unilateral à direita com\n",
        "$\\alpha = 0,01$ e $n = 17$.\n",
        "\n",
        "**(c)** Encontre os valores críticos $–t_0$ e $t_0$ para um teste bilateral com\n",
        "$\\alpha = 0,10$ e $n = 26$."
      ],
      "metadata": {
        "id": "jb6aCKWmqp3G"
      }
    },
    {
      "cell_type": "code",
      "source": [
        "import scipy.stats as st\n",
        "# Item (a)\n",
        "alpha, n = 0.05, 21\n",
        "dist_t = st.t(df=n-1)\n",
        "t0 = dist_t.ppf(alpha)\n",
        "print(f'Teste unilateral à esquerda com alpha = {alpha*100}% - Valor crítico = {t0:.5f}')\n",
        "# Item (b)\n",
        "alpha, n = 0.01, 17\n",
        "dist_t = st.t(df=n-1)\n",
        "t0 = dist_t.ppf(1-alpha)\n",
        "print(f'Teste unilateral à direita com alpha = {alpha*100}% - Valor crítico = {t0:.5f}')\n",
        "# Item (c)\n",
        "alpha, n = 0.10, 26\n",
        "dist_t = st.t(df=n-1)\n",
        "t0 = dist_t.ppf(alpha/2)\n",
        "print(f'Teste bilateral com alpha = {alpha*100}% - Valores críticos = {t0:.5f} e {-t0:.5f}')"
      ],
      "metadata": {
        "colab": {
          "base_uri": "https://localhost:8080/"
        },
        "id": "YM7h-sUirObO",
        "outputId": "6159b454-2111-493b-dadc-ee169b0a6e5b"
      },
      "execution_count": 13,
      "outputs": [
        {
          "output_type": "stream",
          "name": "stdout",
          "text": [
            "Teste unilateral à esquerda com alpha = 5.0% - Valor crítico = -1.72472\n",
            "Teste unilateral à direita com alpha = 1.0% - Valor crítico = 2.58349\n",
            "Teste bilateral com alpha = 10.0% - Valores críticos = -1.70814 e 1.70814\n"
          ]
        }
      ]
    },
    {
      "cell_type": "markdown",
      "source": [
        "# Função *teste_t* para o teste de hipótese da média\n",
        "\n",
        "A função *teste_t* decide sobre a validade da hipótese nula ao comparar o p-valor da estatística de teste padronizada com o nível de significância do teste."
      ],
      "metadata": {
        "id": "7M6E4Xd5xJux"
      }
    },
    {
      "cell_type": "code",
      "source": [
        "def teste_t(est_amostral=None, n_amostras=None, alpha=0.05,\n",
        "            mu=0, s_amostral=1, teste='esq'):\n",
        "  '''Função para teste de hipótese da média mu, com nível de significância\n",
        "     alpha, supondo desvio padrão populacional sigma desconhecido. Forneça a\n",
        "     média amostral est_amostral, calculada a partir de n_amostras amostras,\n",
        "     o desvio padrão populaciona s_amostral e informe o tipo de teste:\n",
        "     unilateral à esquerda ('esq'), unilateral à direita ('dir') ou\n",
        "     bilateral ('bilateral').'''\n",
        "  # Criação da distribuição t\n",
        "  dist_t = st.t(df=n_amostras-1)\n",
        "  # Cálculo da estatística de teste padronizada\n",
        "  t = (est_amostral-mu)/(s_amostral/n_amostras**0.5)\n",
        "  # Hipótese nula inicialmente validade\n",
        "  rejeicao = False\n",
        "  # Cálculo do z crítico, de acordo com o tipo de teste\n",
        "  if teste == 'esq':\n",
        "    t0 = dist_t.ppf(alpha)\n",
        "    tipo = 'unilateral à esquerda'\n",
        "    # Decisão sobre pertinência de z à região de rejeição\n",
        "    if t <= t0:\n",
        "      rejeicao = True\n",
        "  elif teste == 'dir':\n",
        "    t0 = dist_t.ppf(1-alpha)\n",
        "    tipo = 'unilateral à direita'\n",
        "    # Decisão sobre pertinência de z à região de rejeição\n",
        "    if t >= t0:\n",
        "      rejeicao = True\n",
        "  elif teste == 'bilateral':\n",
        "    t0 = dist_t.ppf(alpha/2)\n",
        "    tipo = 'bilateral'\n",
        "    # Decisão sobre pertinência de z à região de rejeição\n",
        "    if (t <= t0) or (t >= -t0):\n",
        "      rejeicao = True\n",
        "  # Saída - Conclusão do teste\n",
        "  print('*** Teste de hipótese para a média (sigma desconhecido) ***')\n",
        "  print(f'Teste {tipo} com t0 = {t0:.6f}')\n",
        "  if rejeicao:\n",
        "    print(f'Hipótese nula rejeitada ao nível de significância {alpha*100}%')\n",
        "  else:\n",
        "    print(f'Hipótese nula NÃO rejeitada ao nível de significância {alpha*100}%')\n",
        "  return t0"
      ],
      "metadata": {
        "id": "sT2M4OZTxIix"
      },
      "execution_count": 22,
      "outputs": []
    },
    {
      "cell_type": "markdown",
      "source": [
        "# Exercício 01 - Teste unilateral à esquerda\n",
        "\n",
        "Um vendedor de carros usados diz que o preço médio do sedan de dois anos (em boas condições) é de pelo menos US$\\$$ 20.500. Você suspeita que essa afirmação é incorreta e descobre que uma amostra aleatória de 14 veículos similares tem um preço médio de US$\\$$ 19.850 e desvio padrão de US$\\$$ 1.084.\n",
        "\n",
        "Há evidência suficiente para rejeitar a afirmação do vendedor para o nível de significância a = 0,05? Suponha que a população é normalmente distribuída (Adaptado de: *Kelley Blue Book*)."
      ],
      "metadata": {
        "id": "xy47GVSQDG2L"
      }
    },
    {
      "cell_type": "code",
      "source": [
        "# H0: mu >= 20500 (afirmação)\n",
        "# Ha: mu < 20500\n",
        "t0 = teste_t(est_amostral=19850, n_amostras=14, alpha=0.05, mu=20500,\n",
        "             s_amostral=1084, teste='esq')"
      ],
      "metadata": {
        "colab": {
          "base_uri": "https://localhost:8080/"
        },
        "id": "O9uMHh6FDtb1",
        "outputId": "f91256a6-f369-4129-8f15-7b867dd1a770"
      },
      "execution_count": 15,
      "outputs": [
        {
          "output_type": "stream",
          "name": "stdout",
          "text": [
            "*** Teste de hipótese para a média (sigma desconhecido) ***\n",
            "Teste unilateral à esquerda com t0 = -1.770933\n",
            "Hipótese nula rejeitada ao nível de significância 5.0%\n"
          ]
        }
      ]
    },
    {
      "cell_type": "markdown",
      "source": [
        "### Emulando um conjunto de dados para uso da função *ttest_1samp*\n",
        "\n",
        "Vamos resolver o novamente o Exercício 01, agora criando um conjunto de dados aleatórios com características similares àquelas fornecidas no enunciado. O teste de hipótese será realizado pela função *ttest_1samp* do módulo *scipy.stats*.\n",
        "\n",
        "ATENÇÃO: A função *ttest_1samp* retorna a estatística padronizada *t* e o valor-p. Assim, podemos decidir sobre a hipótese nula usando a região de rejeição ou comparando o valor-p com a nível de significância $\\alpha$."
      ],
      "metadata": {
        "id": "3p4lGVixEhdG"
      }
    },
    {
      "cell_type": "code",
      "source": [
        "import numpy as np\n",
        "from numpy.random import randn\n",
        "# Caracterização da distribuição amostral das médias\n",
        "media_preco = 19850\n",
        "std_preco = 1084\n",
        "amostras = 14\n",
        "erro_padrao = std_preco/amostras**0.5\n",
        "# Nível de significância do teste\n",
        "alpha = 0.05\n",
        "# Média populacional a ser testada\n",
        "mu = 20500\n",
        "# Criação do conjunto de dados aleatórios\n",
        "data = std_preco*randn(amostras) + media_preco\n",
        "# Verificação das características desejadas\n",
        "print(f'Média amostral = {np.mean(data):.2f} ; Desvio padrão = {np.std(data):.5f}')\n",
        "# Teste de hipótese usando ttest_1samp\n",
        "t0, p_valor = st.ttest_1samp(a=data, popmean=mu, alternative='less')\n",
        "# Conclusão do teste\n",
        "if p_valor <= alpha:\n",
        "  print(f'Hipótese nula rejeitada ao nível de significância {alpha*100}%')\n",
        "else:\n",
        "  print(f'Hipótese nula NÃO rejeitada ao nível de significância {alpha*100}%')"
      ],
      "metadata": {
        "colab": {
          "base_uri": "https://localhost:8080/"
        },
        "id": "dUDt2Zz4FWfw",
        "outputId": "439614d0-af17-4681-a89e-e3b68b1618a0"
      },
      "execution_count": 17,
      "outputs": [
        {
          "output_type": "stream",
          "name": "stdout",
          "text": [
            "Média amostral = 19537.34 ; Desvio padrão = 1094.01467\n",
            "Hipótese nula rejeitada ao nível de significância 5.0%\n"
          ]
        }
      ]
    },
    {
      "cell_type": "markdown",
      "source": [
        "# Exercício 02 - Teste unilateral à direita\n",
        "\n",
        "Um agente de seguros diz que o custo médio do seguro do sedan de dois anos (em boas condições) é maior que US$\\$$ 1.200. Uma amostra aleatória de 7 cotações de seguro similares tem um custo médio de US$\\$$ 1.275 e um desvio padrão de US$\\$$ 55.\n",
        "\n",
        "Há evidência suficiente para concordar com afirmação do agente considerando nível de significância de 0,10? Suponha que a população é normalmente distribuída."
      ],
      "metadata": {
        "id": "5ef_ciC2GRwZ"
      }
    },
    {
      "cell_type": "code",
      "source": [
        "# H0: mu <= 1200\n",
        "# Ha: mu > 1200 (afirmação)\n",
        "t0 = teste_t(est_amostral=1275, n_amostras=7, alpha=0.1, mu=1200,\n",
        "             s_amostral=55, teste='dir')"
      ],
      "metadata": {
        "colab": {
          "base_uri": "https://localhost:8080/"
        },
        "id": "rIJTRRAJGzQy",
        "outputId": "e43d8830-d235-45e2-da88-12e272564e35"
      },
      "execution_count": 18,
      "outputs": [
        {
          "output_type": "stream",
          "name": "stdout",
          "text": [
            "*** Teste de hipótese para a média (sigma desconhecido) ***\n",
            "Teste unilateral à direita com t0 = 1.439756\n",
            "Hipótese nula rejeitada ao nível de significância 10.0%\n"
          ]
        }
      ]
    },
    {
      "cell_type": "markdown",
      "source": [
        "### Emulando um conjunto de dados para uso da função *ttest_1samp*\n",
        "\n",
        "Vamos resolver o novamente o Exercício 02, agora criando um conjunto de dados aleatórios com características similares àquelas fornecidas no enunciado. O teste de hipótese será realizado pela função *ttest_1samp* do módulo *scipy.stats*."
      ],
      "metadata": {
        "id": "O4Qm2qh1HmRs"
      }
    },
    {
      "cell_type": "code",
      "source": [
        "# Caracterização da distribuição amostral das médias\n",
        "media_seguro = 1275\n",
        "std_seguro = 55\n",
        "amostras = 7\n",
        "erro_padrao = std_seguro/amostras**0.5\n",
        "# Nível de significância do teste\n",
        "alpha = 0.1\n",
        "# Média populacional a ser testada\n",
        "mu = 1200\n",
        "# Criação do conjunto de dados aleatórios\n",
        "data = std_seguro*randn(amostras) + media_seguro\n",
        "# Verificação das características desejadas\n",
        "print(f'Média amostral = {np.mean(data):.2f} ; Desvio padrão = {np.std(data):.5f}')\n",
        "# Teste de hipótese usando ttest_1samp\n",
        "t0, p_valor = st.ttest_1samp(a=data, popmean=mu, alternative='greater')\n",
        "# Conclusão do teste\n",
        "if p_valor <= alpha:\n",
        "  print(f'Hipótese nula rejeitada ao nível de significância {alpha*100}%')\n",
        "else:\n",
        "  print(f'Hipótese nula NÃO rejeitada ao nível de significância {alpha*100}%')"
      ],
      "metadata": {
        "colab": {
          "base_uri": "https://localhost:8080/"
        },
        "id": "aVO06CySHs4L",
        "outputId": "ba3899d5-6241-4937-abbf-a9ef277cd879"
      },
      "execution_count": 20,
      "outputs": [
        {
          "output_type": "stream",
          "name": "stdout",
          "text": [
            "Média amostral = 1284.64 ; Desvio padrão = 51.79774\n",
            "Hipótese nula rejeitada ao nível de significância 10.0%\n"
          ]
        }
      ]
    },
    {
      "cell_type": "markdown",
      "source": [
        "# Exercício 03 - Teste bilateral\n",
        "\n",
        "Uma indústria afirma que o nível médio do pH da água em um rio próximo é de 6,8. Você seleciona aleatoriamente 39 amostras de água e mede o pH de cada uma. A média amostral e o desvio padrão são de 6,7 e 0,35, respectivamente.\n",
        "\n",
        "Há evidência suficiente para rejeitar a afirmação da indústria considerando nível de significância $\\alpha = 0,05$?"
      ],
      "metadata": {
        "id": "nmJk4IaMIezO"
      }
    },
    {
      "cell_type": "code",
      "source": [
        "# H0: mu = 6.8 (afirmação)\n",
        "# Ha: mu != 6.8\n",
        "t0 = teste_t(est_amostral=6.7, n_amostras=39, alpha=0.05, mu=6.8,\n",
        "             s_amostral=0.35, teste='bilateral')"
      ],
      "metadata": {
        "colab": {
          "base_uri": "https://localhost:8080/"
        },
        "id": "KZnks9uzIx__",
        "outputId": "2065c30a-2269-4910-faa0-e9fa129ccbf7"
      },
      "execution_count": 23,
      "outputs": [
        {
          "output_type": "stream",
          "name": "stdout",
          "text": [
            "*** Teste de hipótese para a média (sigma desconhecido) ***\n",
            "Teste bilateral com t0 = -2.024394\n",
            "Hipótese nula NÃO rejeitada ao nível de significância 5.0%\n"
          ]
        }
      ]
    },
    {
      "cell_type": "markdown",
      "source": [
        "### Emulando um conjunto de dados para uso da função *ttest_1samp*\n",
        "\n",
        "Vamos resolver o novamente o Exercício 03, agora criando um conjunto de dados aleatórios com características similares àquelas fornecidas no enunciado. O teste de hipótese será realizado pela função *ttest_1samp* do módulo *scipy.stats*."
      ],
      "metadata": {
        "id": "0oACQvV4JUES"
      }
    },
    {
      "cell_type": "code",
      "source": [
        "# Caracterização da distribuição amostral das médias\n",
        "media_pH = 6.7\n",
        "std_pH = 0.35\n",
        "amostras = 39\n",
        "erro_padrao = std_pH/amostras**0.5\n",
        "# Nível de significância do teste\n",
        "alpha = 0.05\n",
        "# Média populacional a ser testada\n",
        "mu = 6.8\n",
        "# Criação do conjunto de dados aleatórios\n",
        "data = std_pH*randn(amostras) + media_pH\n",
        "# Verificação das características desejadas\n",
        "print(f'Média amostral = {np.mean(data):.2f} ; Desvio padrão = {np.std(data):.5f}')\n",
        "# Teste de hipótese usando ttest_1samp\n",
        "t0, p_valor = st.ttest_1samp(a=data, popmean=mu, alternative='two-sided')\n",
        "# Conclusão do teste\n",
        "if p_valor <= alpha:\n",
        "  print(f'Hipótese nula rejeitada ao nível de significância {alpha*100}%')\n",
        "else:\n",
        "  print(f'Hipótese nula NÃO rejeitada ao nível de significância {alpha*100}%')"
      ],
      "metadata": {
        "colab": {
          "base_uri": "https://localhost:8080/"
        },
        "id": "Hv59zbs0JWE6",
        "outputId": "e18a1a61-7ac5-47c2-f3c1-abf7dd2fc0ad"
      },
      "execution_count": 27,
      "outputs": [
        {
          "output_type": "stream",
          "name": "stdout",
          "text": [
            "Média amostral = 6.67 ; Desvio padrão = 0.28654\n",
            "Hipótese nula rejeitada ao nível de significância 5.0%\n"
          ]
        }
      ]
    },
    {
      "cell_type": "markdown",
      "source": [
        "# Exercício 04 - Usando um conjunto de dados\n",
        "\n",
        "*Tamanho da turma.* Você recebe um folheto de uma grande universidade. O folheto indica que o tamanho médio das turmas para cursos integrais é menor que 32 alunos. Você quer testar essa afirmação e seleciona aleatoriamente 18 turmas de tempo integral e determina o tamanho de cada uma. Os resultados estão listados na tabela seguinte.\n",
        "\n",
        "![Notebook - Aula 18-01.png](data:image/png;base64,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)\n",
        "\n",
        "Considerando o nível de significância de $\\alpha = 0,05$, você pode concordar com a afirmação da universidade?"
      ],
      "metadata": {
        "id": "1EgCgQP5KHAc"
      }
    },
    {
      "cell_type": "code",
      "source": [
        "import pandas as pd\n",
        "# Dados relativos ao tamanho das turmas\n",
        "turmas = pd.Series([35, 28, 29, 33, 32, 40, 26, 25, 29,\n",
        "                    28, 30, 36, 33, 29, 27, 30, 28, 25])\n",
        "# Hipóetes do teste\n",
        "# H0: mu >= 32 alunos\n",
        "# Ha: mu < 32 alunos (afirmação)\n",
        "# Nível de significância\n",
        "alpha = 0.05\n",
        "# Teste de hipótese usando a função ttest_1samp\n",
        "t0, p_valor = st.ttest_1samp(a=turmas, popmean=32, alternative='less')\n",
        "# Conclusão do teste\n",
        "if p_valor <= alpha:\n",
        "  print(f'Hipótese nula rejeitada ao nível de significância {alpha*100}%')\n",
        "else:\n",
        "  print(f'Hipótese nula NÃO rejeitada ao nível de significância {alpha*100}%')\n",
        "# Teste de hipótese usando a função teste_z\n",
        "print()\n",
        "t0 = teste_t(est_amostral=turmas.mean(), n_amostras=len(turmas), alpha=alpha,\n",
        "                  mu=32, s_amostral=turmas.std(), teste='esq')"
      ],
      "metadata": {
        "colab": {
          "base_uri": "https://localhost:8080/"
        },
        "id": "EvdN6kf6LQXv",
        "outputId": "8606086f-92da-49cf-ea72-30fa2ab38fe4"
      },
      "execution_count": 30,
      "outputs": [
        {
          "output_type": "stream",
          "name": "stdout",
          "text": [
            "Hipótese nula rejeitada ao nível de significância 5.0%\n",
            "\n",
            "*** Teste de hipótese para a média (sigma desconhecido) ***\n",
            "Teste unilateral à esquerda com t0 = -1.739607\n",
            "Hipótese nula rejeitada ao nível de significância 5.0%\n"
          ]
        }
      ]
    }
  ]
}