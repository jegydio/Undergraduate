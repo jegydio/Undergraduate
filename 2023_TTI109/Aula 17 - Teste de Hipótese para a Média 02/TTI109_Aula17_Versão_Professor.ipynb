{
  "nbformat": 4,
  "nbformat_minor": 0,
  "metadata": {
    "colab": {
      "provenance": [],
      "collapsed_sections": []
    },
    "kernelspec": {
      "name": "python3",
      "display_name": "Python 3"
    },
    "language_info": {
      "name": "python"
    }
  },
  "cells": [
    {
      "cell_type": "markdown",
      "source": [
        "# Função teste_z para o teste de hipótese da média\n",
        "\n",
        "Desenvolvida na Aula 16, a função *teste_z* decide sobre a validade da hipótese nula ao comparar o p-valor da estatística de teste padronizada com o nível de significância do teste."
      ],
      "metadata": {
        "id": "76SnK0DvAzL5"
      }
    },
    {
      "cell_type": "code",
      "source": [
        "from scipy import stats as st\n",
        "\n",
        "def teste_z(est_amostral=None, n_amostras=None, alpha=0.05,\n",
        "            mu=0, sigma=1, teste='esq'):\n",
        "  '''Função para teste de hipótese da média mu, com nível de significância\n",
        "     alpha, supondo desvio padrão populacional sigma conhecido. Forneça a\n",
        "     média amostral est_amostral, calculada a partir de n_amostras amostras\n",
        "     e informe o tipo de teste: unilateral à esquerda ('esq'), unilateral à\n",
        "     direita ('dir') ou bilateral ('bilateral').'''\n",
        "  # Criação da distribuição amostral das médias\n",
        "  dist_amostras = st.norm(loc=mu, scale=sigma/n_amostras**0.5)\n",
        "  # Cálculo do p-valor, de acordo com o tipo de teste\n",
        "  if teste == 'esq':\n",
        "    p_valor = dist_amostras.cdf(est_amostral)\n",
        "    tipo = 'unilateral à esquerda'\n",
        "  elif teste == 'dir':\n",
        "    p_valor = dist_amostras.sf(est_amostral)\n",
        "    tipo = 'unilateral à direita'\n",
        "  elif teste == 'bilateral':\n",
        "    p_valor =  2*dist_amostras.cdf(est_amostral)\n",
        "    tipo = 'bilateral'\n",
        "  # Saída - Conclusão do teste\n",
        "  print('*** Teste de hipótese para a média (sigma conhecido) ***')\n",
        "  print(f'Teste {tipo} com p-valor = {p_valor:.6f}')\n",
        "  if p_valor <= alpha:\n",
        "    print(f'Hipótese nula rejeitada ao nível de significância {alpha*100}%')\n",
        "  else:\n",
        "    print(f'Hipótese nula NÃO rejeitada ao nível de significância {alpha*100}%')\n",
        "  return p_valor"
      ],
      "metadata": {
        "id": "kQ3IkmI9Wrxx"
      },
      "execution_count": 24,
      "outputs": []
    },
    {
      "cell_type": "markdown",
      "source": [
        "# Função teste_z_alt para o teste de hipótese da média\n",
        "\n",
        "A função *teste_z_alt* decide sobre a validade da hipótese nula ao verificar se a estatística de teste padronizada está contida na região de rejeição do teste."
      ],
      "metadata": {
        "id": "GL5YT6wvBWza"
      }
    },
    {
      "cell_type": "code",
      "source": [
        "def teste_z_alt(est_amostral=None, n_amostras=None, alpha=0.05,\n",
        "                mu=0, sigma=1, teste='esq'):\n",
        "  '''Função para teste de hipótese da média mu, com nível de significância\n",
        "     alpha, supondo desvio padrão populacional sigma conhecido. Forneça a\n",
        "     média amostral est_amostral, calculada a partir de n_amostras amostras\n",
        "     e informe o tipo de teste: unilateral à esquerda ('esq'), unilateral à\n",
        "     direita ('dir') ou bilateral ('bilateral').'''\n",
        "  # Criação da distribuição normal padrão\n",
        "  dist_padrao = st.norm(loc=0, scale=1)\n",
        "  # Cálculo da estatística de teste padronizada\n",
        "  z = (est_amostral-mu)/(sigma/n_amostras**0.5)\n",
        "  # Hipótese nula inicialmente validade\n",
        "  rejeicao = False\n",
        "  # Cálculo do z crítico, de acordo com o tipo de teste\n",
        "  if teste == 'esq':\n",
        "    z0 = dist_padrao.ppf(alpha)\n",
        "    tipo = 'unilateral à esquerda'\n",
        "    # Decisão sobre pertinência de z à região de rejeição\n",
        "    if z <= z0:\n",
        "      rejeicao = True\n",
        "  elif teste == 'dir':\n",
        "    z0 = dist_padrao.ppf(1-alpha)\n",
        "    tipo = 'unilateral à direita'\n",
        "    # Decisão sobre pertinência de z à região de rejeição\n",
        "    if z >= z0:\n",
        "      rejeicao = True\n",
        "  elif teste == 'bilateral':\n",
        "    z0 = dist_padrao.ppf(alpha/2)\n",
        "    tipo = 'bilateral'\n",
        "    # Decisão sobre pertinência de z à região de rejeição\n",
        "    if (z <= z0) or (z >= -z0):\n",
        "      rejeicao = True\n",
        "  # Saída - Conclusão do teste\n",
        "  print('*** Teste de hipótese para a média (sigma conhecido) ***')\n",
        "  print(f'Teste {tipo} com z0 = {z0:.6f}')\n",
        "  if rejeicao:\n",
        "    print(f'Hipótese nula rejeitada ao nível de significância {alpha*100}%')\n",
        "  else:\n",
        "    print(f'Hipótese nula NÃO rejeitada ao nível de significância {alpha*100}%')\n",
        "  return z0"
      ],
      "metadata": {
        "id": "BYLsHjS3BphR"
      },
      "execution_count": 16,
      "outputs": []
    },
    {
      "cell_type": "markdown",
      "source": [
        "# Exercício 01\n",
        "\n",
        "Funcionários de uma companhia de construção e mineração afirmam que o salário médio dos engenheiros mecânicos é menor que o de um de seus concorrentes, que é de $\\$$ 68.000. Uma amostra aleatória de 20 engenheiros mecânicos da companhia tem um salário médio de $\\$$ 66.900.\n",
        "\n",
        "Suponha que o desvio padrão da população é de $\\$$ 5.500 sendo esta normalmente distribuída. Para $\\alpha = 0,05$, teste a afirmação dos\n",
        "funcionários."
      ],
      "metadata": {
        "id": "pzMz6G0paLui"
      }
    },
    {
      "cell_type": "code",
      "source": [
        "# H0: mu >= 68000 dólares\n",
        "# Ha: mu < 68000 dólares (afirmação)\n",
        "# Usando teste_z\n",
        "p_valor = teste_z(est_amostral=66900, n_amostras=20, alpha=0.05,\n",
        "                  mu=68000, sigma=5500, teste='esq')\n",
        "# Usando teste-z_alt\n",
        "print()\n",
        "z0 = teste_z_alt(est_amostral=66900, n_amostras=20, alpha=0.05,\n",
        "                 mu=68000, sigma=5500, teste='esq')"
      ],
      "metadata": {
        "colab": {
          "base_uri": "https://localhost:8080/"
        },
        "id": "vAR76CXlnWZ3",
        "outputId": "455f7dc4-fa06-4b85-8cf0-d11dd7184750"
      },
      "execution_count": 18,
      "outputs": [
        {
          "output_type": "stream",
          "name": "stdout",
          "text": [
            "*** Teste de hipótese para a média (sigma conhecido) ***\n",
            "Teste unilateral à esquerda com p-valor = 0.185547\n",
            "Hipótese nula NÃO rejeitada ao nível de significância 5.0%\n",
            "*** Teste de hipótese para a média (sigma conhecido) ***\n",
            "Teste unilateral à esquerda com z0 = -1.644854\n",
            "Hipótese nula NÃO rejeitada ao nível de significância 5.0%\n"
          ]
        }
      ]
    },
    {
      "cell_type": "markdown",
      "source": [
        "# Exercício 02\n",
        "\n",
        "O presidente da companhia do Exercício 01 afirma que o dia de trabalho médio dos engenheiros mecânicos é menor que 8,5 horas. Uma amostra aleatória de 25 dos engenheiros mecânicos da companhia tem um dia de trabalho médio de 8,2 horas.\n",
        "\n",
        "Suponha que o desvio padrão populacional é de 0,5 hora e a população é normalmente distribuída. Para $\\alpha = 0,01$, teste a afirmação do presidente."
      ],
      "metadata": {
        "id": "wVRkKbZ_erUr"
      }
    },
    {
      "cell_type": "code",
      "source": [
        "# H0: mu >= 8.5 h\n",
        "# Ha: mu < 8.5 h (afirmação)\n",
        "# Usando teste_z\n",
        "p_valor = teste_z(est_amostral=8.2, n_amostras=25, alpha=0.01,\n",
        "                  mu=8.5, sigma=0.5, teste='esq')\n",
        "# Usando teste-z_alt\n",
        "print()\n",
        "z0 = teste_z_alt(est_amostral=8.2, n_amostras=25, alpha=0.01,\n",
        "                 mu=8.5, sigma=0.5, teste='esq')"
      ],
      "metadata": {
        "colab": {
          "base_uri": "https://localhost:8080/"
        },
        "id": "lS7jzSocoFLA",
        "outputId": "ae18dc13-5a29-4bbb-e4d8-e6fbd4316956"
      },
      "execution_count": 20,
      "outputs": [
        {
          "output_type": "stream",
          "name": "stdout",
          "text": [
            "*** Teste de hipótese para a média (sigma conhecido) ***\n",
            "Teste unilateral à esquerda com p-valor = 0.001350\n",
            "Hipótese nula rejeitada ao nível de significância 1.0%\n",
            "*** Teste de hipótese para a média (sigma conhecido) ***\n",
            "Teste unilateral à esquerda com z0 = -2.326348\n",
            "Hipótese nula rejeitada ao nível de significância 1.0%\n"
          ]
        }
      ]
    },
    {
      "cell_type": "markdown",
      "source": [
        "# Exercício 03\n",
        "\n",
        "Um pesquisador afirma que o custo médio anual para criar um filho (de 2 anos ou menos), nos Estados Unidos, é de US$\\$$ 13.960. Em uma amostra aleatória de famílias no país, o custo médio anual para\n",
        "criar um filho (2 anos de idade ou menos) é de US$\\$$ 13.725. A amostra consiste em 500 crianças.\n",
        "\n",
        "Suponha que o desvio padrão populacional é de US$\\$$ 2.345. Para $\\alpha = 0,10$, há evidência suficiente para rejeitar a\n",
        "afirmação? (Adaptado de *U.S. Department of Agriculture Center for\n",
        "Nutrition Policy and Promotion*)"
      ],
      "metadata": {
        "id": "xC6J1oxSidmT"
      }
    },
    {
      "cell_type": "code",
      "source": [
        "# H0: mu = 13960 (afirmação)\n",
        "# Ha: mu != 13960\n",
        "# Usando teste_z\n",
        "p_valor = teste_z(est_amostral=13725, n_amostras=500, alpha=0.10,\n",
        "                  mu=13960, sigma=2345, teste='bilateral')\n",
        "# Usando teste_z_alt\n",
        "print()\n",
        "z0 = teste_z_alt(est_amostral=13725, n_amostras=500, alpha=0.10,\n",
        "                 mu=13960, sigma=2345, teste='bilateral')"
      ],
      "metadata": {
        "colab": {
          "base_uri": "https://localhost:8080/"
        },
        "id": "rxWQiQg0oywo",
        "outputId": "8cc7f225-d4aa-4a81-c6df-034f9fe88eed"
      },
      "execution_count": 22,
      "outputs": [
        {
          "output_type": "stream",
          "name": "stdout",
          "text": [
            "*** Teste de hipótese para a média (sigma conhecido) ***\n",
            "Teste bilateral com p-valor = 0.025037\n",
            "Hipótese nula rejeitada ao nível de significância 10.0%\n",
            "*** Teste de hipótese para a média (sigma conhecido) ***\n",
            "Teste bilateral com z0 = -1.644854\n",
            "Hipótese nula rejeitada ao nível de significância 10.0%\n"
          ]
        }
      ]
    },
    {
      "cell_type": "markdown",
      "source": [
        "# Exercício 04\n",
        "\n",
        "A associação de Informação de Energia dos Estados Unidos afirma que o consumo médio mensal residencial de eletricidade em sua cidade é superior a 874 kWh. Você quer testar essa afirmação e reune uma amostra aleatória de 64 consumidores residenciais, com consumo médio mensal de eletricidade de 905 kWh.\n",
        "\n",
        "Suponha que o desvio padrão populacional é de 125 kWh. Considerando nível de significância de 0,05, você tem evidência suficiente para apoiar afirmação da associação? (Adaptado de: *U.S. Energy Information Association*)"
      ],
      "metadata": {
        "id": "ODzSILXalDFc"
      }
    },
    {
      "cell_type": "code",
      "source": [
        "# H0: mu <= 874 kWh\n",
        "# Ha: mu > 874 kWh (afirmação)\n",
        "# Usando teste_z\n",
        "p_valor = teste_z(est_amostral=905, n_amostras=64, alpha=0.05,\n",
        "                  mu=874, sigma=125, teste='dir')\n",
        "# Usando teste_z_alt\n",
        "print()\n",
        "z0 = teste_z_alt(est_amostral=905, n_amostras=64, alpha=0.05,\n",
        "                 mu=874, sigma=125, teste='dir')"
      ],
      "metadata": {
        "colab": {
          "base_uri": "https://localhost:8080/"
        },
        "id": "K16bZCL0Q9KE",
        "outputId": "ffbb236d-6647-4123-e0a6-dfd5c61fb2be"
      },
      "execution_count": 23,
      "outputs": [
        {
          "output_type": "stream",
          "name": "stdout",
          "text": [
            "*** Teste de hipótese para a média (sigma conhecido) ***\n",
            "Teste unilateral à direita com p-valor = 0.023628\n",
            "Hipótese nula rejeitada ao nível de significância 5.0%\n",
            "*** Teste de hipótese para a média (sigma conhecido) ***\n",
            "Teste unilateral à direita com z0 = 1.644854\n",
            "Hipótese nula rejeitada ao nível de significância 5.0%\n"
          ]
        }
      ]
    },
    {
      "cell_type": "markdown",
      "source": [
        "# Exercício 05 - Usando conjunto de dados\n",
        "\n",
        "*Lâmpadas fluorescentes.* Um fabricante de lâmpadas\n",
        "fluorescentes garante que a vida útil média de\n",
        "certo tipo de lâmpada é de pelo menos 10.000 horas.\n",
        "Você quer testar essa garantia. Para fazer isso, você\n",
        "registra as vidas de uma amostra aleatória de 32 lâmpadas fluorescentes. Os resultados (em horas) estão\n",
        "listados a seguir.\n",
        "\n",
        "![Aula 17-01.png](data:image/png;base64,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)\n",
        "\n",
        "Suponha que o desvio padrão populacional é de 1.850 horas. Para o nível de significância $\\alpha = 0,09$,\n",
        "você tem evidência suficiente para rejeitar a afirmação\n",
        "do fabricante?"
      ],
      "metadata": {
        "id": "NfsnDPd4lV08"
      }
    },
    {
      "cell_type": "code",
      "source": [
        "from statsmodels.stats.weightstats import ztest\n",
        "import pandas as pd\n",
        "# Dados relativos à vida útil de lâmpadas fluorescentes\n",
        "lamps = pd.Series([8800, 9155, 13001, 10250, 10002, 11413, 8234, 10402,\n",
        "                   10016, 8015, 6110, 11005, 9254, 6991, 12006,\n",
        "                   10420, 8302, 8151, 10980, 10186, 10003, 8814, 11445,\n",
        "                   6277, 8632, 7265, 10584, 9397, 11987, 7556, 10380])\n",
        "# Hipóetes do teste\n",
        "# H0: mu >= 10000 h (afirmação)\n",
        "# H1: mu < 10000 h\n",
        "# Nível de significância\n",
        "alpha = 0.09\n",
        "# Teste de hipótese usando a função ztest\n",
        "z_score, p_valor = ztest(x1=lamps, x2=None, value=10000, alternative='smaller')\n",
        "# Conclusão do teste\n",
        "if p_valor <= alpha:\n",
        "  print(f'Hipótese nula rejeitada ao nível de significância {alpha*100}%')\n",
        "else:\n",
        "  print(f'Hipótese nula NÃO rejeitada ao nível de significância {alpha*100}%')\n",
        "# Teste de hipótese usando a função teste_z\n",
        "print()\n",
        "p_valor = teste_z(est_amostral=lamps.mean(), n_amostras=len(lamps), alpha=alpha,\n",
        "                  mu=10000, sigma=1850, teste='esq')\n",
        "# Teste de hipótese usando a função teste_z_alt\n",
        "print()\n",
        "z0 = teste_z_alt(est_amostral=lamps.mean(), n_amostras=len(lamps), alpha=alpha,\n",
        "                 mu=10000, sigma=1850, teste='esq')"
      ],
      "metadata": {
        "colab": {
          "base_uri": "https://localhost:8080/"
        },
        "id": "WeX7s-y-m0rl",
        "outputId": "c8806544-d775-4a77-e9ef-309402001c50"
      },
      "execution_count": 29,
      "outputs": [
        {
          "output_type": "stream",
          "name": "stdout",
          "text": [
            "Hipótese nula rejeitada ao nível de significância 9.0%\n",
            "\n",
            "*** Teste de hipótese para a média (sigma conhecido) ***\n",
            "Teste unilateral à esquerda com p-valor = 0.073104\n",
            "Hipótese nula rejeitada ao nível de significância 9.0%\n",
            "\n",
            "*** Teste de hipótese para a média (sigma conhecido) ***\n",
            "Teste unilateral à esquerda com z0 = -1.340755\n",
            "Hipótese nula rejeitada ao nível de significância 9.0%\n"
          ]
        }
      ]
    }
  ]
}