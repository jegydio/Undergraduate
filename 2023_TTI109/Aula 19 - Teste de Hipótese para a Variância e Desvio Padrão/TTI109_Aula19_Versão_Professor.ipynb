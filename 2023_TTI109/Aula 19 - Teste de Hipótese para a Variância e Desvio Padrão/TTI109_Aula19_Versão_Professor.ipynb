{
  "nbformat": 4,
  "nbformat_minor": 0,
  "metadata": {
    "colab": {
      "provenance": [],
      "collapsed_sections": []
    },
    "kernelspec": {
      "name": "python3",
      "display_name": "Python 3"
    },
    "language_info": {
      "name": "python"
    }
  },
  "cells": [
    {
      "cell_type": "markdown",
      "source": [
        "# Valores críticos em uma distribuição $\\chi^2$\n",
        "\n",
        "**(a)** Encontre o valor crítico $\\chi^2_0$ para um teste unilateral à direita com $\\alpha = 0,10$ e $n = 26$.\n",
        "\n",
        "**(b)** Encontre o valor crítico $t_0$ para um teste unilateral à esquerda com\n",
        "$\\alpha = 0,01$ e $n = 11$.\n",
        "\n",
        "**(c)** Encontre os valores críticos $\\chi^2_L$ e $\\chi^2_R$ para um teste bilateral com $\\alpha = 0,05$ e $n = 9$."
      ],
      "metadata": {
        "id": "jb6aCKWmqp3G"
      }
    },
    {
      "cell_type": "code",
      "source": [
        "import scipy.stats as st\n",
        "# Item (a)\n",
        "alpha, n = 0.10, 26\n",
        "dist_chi2 = st.chi2(df=n-1)\n",
        "X20 = dist_chi2.ppf(1-alpha)\n",
        "print(f'Teste unilateral à direita com alpha = {alpha*100}% - Valor crítico = {X20:.5f}')\n",
        "# Item (b)\n",
        "alpha, n = 0.01, 11\n",
        "dist_chi2 = st.chi2(df=n-1)\n",
        "X20 = dist_chi2.ppf(alpha)\n",
        "print(f'Teste unilateral à esquerda com alpha = {alpha*100}% - Valor crítico = {X20:.5f}')\n",
        "# Item (c)\n",
        "alpha, n = 0.05, 9\n",
        "dist_chi2 = st.chi2(df=n-1)\n",
        "X2L = dist_chi2.ppf(alpha/2)\n",
        "X2R = dist_chi2.ppf(1-alpha/2)\n",
        "print(f'Teste bilateral com alpha = {alpha*100}% - Valores críticos = {X2L:.5f} e {X2R:.5f}')"
      ],
      "metadata": {
        "colab": {
          "base_uri": "https://localhost:8080/"
        },
        "id": "YM7h-sUirObO",
        "outputId": "60839dfd-f490-4937-a610-7ee9c9b5d5ca"
      },
      "execution_count": 6,
      "outputs": [
        {
          "output_type": "stream",
          "name": "stdout",
          "text": [
            "Teste unilateral à direita com alpha = 10.0% - Valor crítico = 34.38159\n",
            "Teste unilateral à esquerda com alpha = 1.0% - Valor crítico = 2.55821\n",
            "Teste bilateral com alpha = 5.0% - Valores críticos = 2.17973 e 17.53455\n"
          ]
        }
      ]
    },
    {
      "cell_type": "markdown",
      "source": [
        "# Função *teste_chi2* para o teste de hipótese da variância e desvio padrão\n",
        "\n",
        "A função *teste_chi2* decide sobre a validade da hipótese nula ao verificar se o(s) valor(es) crítico(s) qui-quadrado pertencem à região de rejeição."
      ],
      "metadata": {
        "id": "7M6E4Xd5xJux"
      }
    },
    {
      "cell_type": "code",
      "source": [
        "def teste_chi2(est_amostral=None, pop=None, n_amostras=None, alpha=0.05,\n",
        "               teste='esq', parametro='sig'):\n",
        "  '''Função para teste de hipótese da variância (parametro='sig') ou do desvio\n",
        "     padrão (parametro='pad') populacional (pop), com nível de significância alpha.\n",
        "     A estatística amostral (est_amostral) é obtida a partir de uma amostra com\n",
        "     n_amostras elementos. Forneça o tipo de teste: unilateral à esquerda\n",
        "     ('esq'), unilateral à direita ('dir') ou bilateral ('bilateral').'''\n",
        "  # Criação da distribuição chi-quadrado\n",
        "  dist_chi2 = st.chi2(df=n_amostras-1)\n",
        "  # Cálculo da estatística de teste padronizada\n",
        "  if parametro == 'sig':\n",
        "    chi2 = (n_amostras-1)*est_amostral/pop\n",
        "    param = 'variância'\n",
        "  elif parametro == 'pad':\n",
        "    chi2 = (n_amostras-1)*est_amostral**2/pop**2\n",
        "    param = 'desvio padrão'\n",
        "  # Hipótese nula inicialmente validade\n",
        "  rejeicao = False\n",
        "  # Cálculo do z crítico, de acordo com o tipo de teste\n",
        "  if teste == 'esq':\n",
        "    X20 = dist_chi2.ppf(alpha)\n",
        "    tipo = 'unilateral à esquerda'\n",
        "    # Decisão sobre pertinência de z à região de rejeição\n",
        "    if chi2 <= X20:\n",
        "      rejeicao = True\n",
        "  elif teste == 'dir':\n",
        "    X20 = dist_chi2.ppf(1-alpha)\n",
        "    tipo = 'unilateral à direita'\n",
        "    # Decisão sobre pertinência de z à região de rejeição\n",
        "    if chi2 >= X20:\n",
        "      rejeicao = True\n",
        "  elif teste == 'bilateral':\n",
        "    X2L = dist_chi2.ppf(alpha/2)\n",
        "    X2R = dist_chi2.ppf(1-alpha/2)\n",
        "    tipo = 'bilateral'\n",
        "    X20 = (X2L, X2R)\n",
        "    # Decisão sobre pertinência de z à região de rejeição\n",
        "    if (chi2 <= X2L) or (chi2 >= X2R):\n",
        "      rejeicao = True\n",
        "  # Saída - Conclusão do teste\n",
        "  print(f'*** Teste de hipótese para {param} ***')\n",
        "  print(f'Teste {tipo} com:')\n",
        "  print(f'Estatística de teste padronizada = {chi2:.4f}')\n",
        "  if isinstance(X20, tuple):\n",
        "    print(f'Valores chi-quadrado críticos = {X20[0]:.4f} e {X20[1]:.4f}')\n",
        "  else:\n",
        "    print(f'Valor chi-quadrado crítico = {X20:.4f}')\n",
        "  if rejeicao:\n",
        "    print(f'Hipótese nula rejeitada ao nível de significância {alpha*100}%')\n",
        "  else:\n",
        "    print(f'Hipótese nula NÃO rejeitada ao nível de significância {alpha*100}%')\n",
        "  return chi2, X20"
      ],
      "metadata": {
        "id": "sT2M4OZTxIix"
      },
      "execution_count": 17,
      "outputs": []
    },
    {
      "cell_type": "markdown",
      "source": [
        "# Exercício 01\n",
        "\n",
        "Uma empresa de processamento de laticínios afirma que a variância da quantidade de gordura no leite integral processado por ela é não mais que 0,25. Você suspeita que essa afirmação esteja errada e descobre que uma amostra aleatória de 41 recipientes de leite tem uma\n",
        "variância de 0,27.\n",
        "\n",
        "Para um nível de significância $\\alpha = 0,05$, há evidência suficiente para rejeitar a afirmação da empresa? Suponha que a população é normalmente distribuída."
      ],
      "metadata": {
        "id": "xy47GVSQDG2L"
      }
    },
    {
      "cell_type": "code",
      "source": [
        "# H0: sigma2 <= 0.25 (afirmação)\n",
        "# Ha: sigma2 > 0.25\n",
        "est_teste, X2critico = teste_chi2(est_amostral=0.27, pop=0.25, n_amostras=41,\n",
        "                                  alpha=0.05, teste='dir', parametro='sig')"
      ],
      "metadata": {
        "colab": {
          "base_uri": "https://localhost:8080/"
        },
        "id": "O9uMHh6FDtb1",
        "outputId": "ac0ec8fd-87c3-4caa-ca78-454c2c578213"
      },
      "execution_count": 12,
      "outputs": [
        {
          "output_type": "stream",
          "name": "stdout",
          "text": [
            "*** Teste de hipótese para variância ***\n",
            "Teste unilateral à direita com:\n",
            "Estatística de teste padronizada = 43.2000\n",
            "Valor(es) chi-quadrado crítico(s) = 55.7585\n",
            "Hipótese nula NÃO rejeitada ao nível de significância 5.0%\n"
          ]
        }
      ]
    },
    {
      "cell_type": "markdown",
      "source": [
        "# Exercício 02\n",
        "\n",
        "Uma empresa afirma que o desvio padrão do tempo de duração de uma ligação recebida para ser transferida para a área correta é menor que 1,4 minuto. Uma amostra aleatória de 25 ligações recebidas tem um desvio padrão de 1,1 minuto.\n",
        "\n",
        "Para o nível de significância $\\alpha = 0,10$,\n",
        "há evidência suficiente para concordar com a afirmação da empresa? Suponha que a população é normalmente distribuída."
      ],
      "metadata": {
        "id": "5ef_ciC2GRwZ"
      }
    },
    {
      "cell_type": "code",
      "source": [
        "# H0: sigma >= 1.4 min\n",
        "# Ha: sigma < 1.4 min (afirmação)\n",
        "est_teste, X2critico = teste_chi2(est_amostral=1.1, pop=1.4, n_amostras=25,\n",
        "                                  alpha=0.1, teste='esq', parametro='pad')"
      ],
      "metadata": {
        "colab": {
          "base_uri": "https://localhost:8080/"
        },
        "id": "maRSd9SIjIbX",
        "outputId": "a7249550-d585-4e2c-e096-cb7583b588b3"
      },
      "execution_count": 19,
      "outputs": [
        {
          "output_type": "stream",
          "name": "stdout",
          "text": [
            "*** Teste de hipótese para desvio padrão ***\n",
            "Teste unilateral à esquerda com:\n",
            "Estatística de teste padronizada = 14.8163\n",
            "Valor chi-quadrado crítico = 15.6587\n",
            "Hipótese nula rejeitada ao nível de significância 10.0%\n"
          ]
        }
      ]
    },
    {
      "cell_type": "markdown",
      "source": [
        "# Exercício 03\n",
        "\n",
        "Um fabricante de artigos esportivos afirma que a variância da força de uma certa linha de pesca é de 15,9. Uma amostra aleatória de 15 rolos de linha tem uma variância de 21,8.\n",
        "\n",
        "Para o nível de significância $\\alpha = 0,05$, há evidência suficiente para rejeitar a afirmação do fabricante? Suponha que a população é normalmente distribuída."
      ],
      "metadata": {
        "id": "nmJk4IaMIezO"
      }
    },
    {
      "cell_type": "code",
      "source": [
        "# H0: sigma2 = 15.9 (afirmação)\n",
        "# Ha: sigma2 != 15.9\n",
        "est_teste, X2critico = teste_chi2(est_amostral=21.8, pop=15.9, n_amostras=15,\n",
        "                                  alpha=0.05, teste='bilateral', parametro='sig')"
      ],
      "metadata": {
        "colab": {
          "base_uri": "https://localhost:8080/"
        },
        "id": "KZnks9uzIx__",
        "outputId": "ef039e02-c575-4998-e45e-a5de7e6989fc"
      },
      "execution_count": 18,
      "outputs": [
        {
          "output_type": "stream",
          "name": "stdout",
          "text": [
            "*** Teste de hipótese para variância ***\n",
            "Teste bilateral com:\n",
            "Estatística de teste padronizada = 19.1950\n",
            "Valores chi-quadrado críticos = 5.6287 e 26.1189\n",
            "Hipótese nula NÃO rejeitada ao nível de significância 5.0%\n"
          ]
        }
      ]
    },
    {
      "cell_type": "markdown",
      "source": [
        "# Exercício 04\n",
        "\n",
        "Um chefe de polícia afirma que o desvio padrão dos tempos de resposta é menor que 3,7 minutos. Uma amostra aleatória de 9 tempos de resposta tem um desvio padrão de 3,0 minutos.\n",
        "\n",
        "Para o nível de significância $\\alpha = 0,05$, há evidência suficiente para concordar com a afirmação do chefe de polícia? Suponha que a população é normalmente\n",
        "distribuída."
      ],
      "metadata": {
        "id": "1EgCgQP5KHAc"
      }
    },
    {
      "cell_type": "code",
      "source": [
        "# H0: sigma >= 3.7 min\n",
        "# Ha: sigma < 3.7 min (afirmação)\n",
        "est_teste, X2critico = teste_chi2(est_amostral=3.0, pop=3.7, n_amostras=9,\n",
        "                                  alpha=0.05, teste='esq', parametro='pad')"
      ],
      "metadata": {
        "colab": {
          "base_uri": "https://localhost:8080/"
        },
        "id": "E07uZTc_j0iY",
        "outputId": "9f08131a-4001-419b-947e-562e4c3f1c26"
      },
      "execution_count": 20,
      "outputs": [
        {
          "output_type": "stream",
          "name": "stdout",
          "text": [
            "*** Teste de hipótese para desvio padrão ***\n",
            "Teste unilateral à esquerda com:\n",
            "Estatística de teste padronizada = 5.2593\n",
            "Valor chi-quadrado crítico = 2.7326\n",
            "Hipótese nula NÃO rejeitada ao nível de significância 5.0%\n"
          ]
        }
      ]
    },
    {
      "cell_type": "markdown",
      "source": [
        "# Exercício 05\n",
        "\n",
        "Uma empresa que oferece produtos dietéticos e serviços de perda de peso afirma que a variância das perdas de peso de seus usuários é de 25,5. Uma amostra aleatória de 13 usuários tem uma variância de 10,8.\n",
        "\n",
        "Para o nível de significância a = 0,10, há evidência suficiente para rejeitar a afirmação da empresa? Suponha que a população é normalmente distribuída."
      ],
      "metadata": {
        "id": "6svsEEtCkWs3"
      }
    },
    {
      "cell_type": "code",
      "source": [
        "# H0: sigma2 = 25.5 (afirmação)\n",
        "# Ha: sigma2 != 25.5\n",
        "est_teste, X2critico = teste_chi2(est_amostral=10.8, pop=25.5, n_amostras=13,\n",
        "                                  alpha=0.10, teste='bilateral', parametro='sig')"
      ],
      "metadata": {
        "colab": {
          "base_uri": "https://localhost:8080/"
        },
        "id": "LpuONOQWk4c6",
        "outputId": "da47b2f7-2369-4dac-cbd2-d139c380f2ef"
      },
      "execution_count": 21,
      "outputs": [
        {
          "output_type": "stream",
          "name": "stdout",
          "text": [
            "*** Teste de hipótese para variância ***\n",
            "Teste bilateral com:\n",
            "Estatística de teste padronizada = 5.0824\n",
            "Valores chi-quadrado críticos = 5.2260 e 21.0261\n",
            "Hipótese nula rejeitada ao nível de significância 10.0%\n"
          ]
        }
      ]
    },
    {
      "cell_type": "markdown",
      "source": [
        "# Exercício 06\n",
        "\n",
        "O salário anual (em dólares) de 14 bombeiros escolhidos aleatoriamente está listado a seguir.\n",
        "\n",
        "![Aula 19-01.png](data:image/png;base64,iVBORw0KGgoAAAANSUhEUgAAAoMAAABKCAIAAABPdMmMAAAAAXNSR0IArs4c6QAAAARnQU1BAACxjwv8YQUAAAAJcEhZcwAAFiUAABYlAUlSJPAAADNqSURBVHhe7Z3/U1PXuvDf/wSHaMY69Fq/MHW8VkbHY5VRR50j9ctU4KCgnvJFDyCnBlsSXgUsiWOBttEe6NXYI/TeoEfoMXqM1fSe0CHexlO4p1hiDRpq0FRIIUhg9117r5Vkf1l7ZyXsyPu+d31m/2DiJnuvZz3reZ71rG//61cKhUKhUChzB/XEFAqFQqHMJdQTUygUCoUyl1BPTKFQKBTKXEI9MYVCoVAocwn1xBQKhUKhzCXUE1MoFAqFMpdQT0yhUCgUylxCPTGFQqFQKHNJ0p6YCQfcXzoeMegjhSP81P2lkwolYZjp8PT/QKkpNyImHJ5G/yTnf6gk1SIpmf9fwUswyFMB982vH71AnygEkOsToScedRm3atLmCa+1R20+fsUzoccu6xldRU2D8YO6Y1WGVvvAz1Po/2SZ8llLF4p/OXotWN/0LVfzhLdxhJ+4L5sN5bnZr2k06atzjjRYbg0G1ddQZsJ1ep34TTSvV17zx57FhP3fXjbXVuzduCxtnvaNnX+ou3DLM5bMuzABlylHW2AdRp9jkIo9/Kyvy9zQeKbZdEpffrBE13LZ/SSM/i+FMGPfnN68cr91CH0WAyzId536w82uIPpCDuZhZ1GmUNr8a3uzm/8L00GPo8N8xmQ0mox1NeVllXjJT/rdV1p0B3/7xiJN2rLsAkNbSlQFQtSIEKCyrLW5TXcTqaD4kkyihTIh/4Dzr583ndA3ftTheoa+VZ/psd4zW9KLO4clJWabc0v1oR1Z6fM0r2Xvr2kjb0EMUIL2s6dZHWisf7+itELRFJDLnAmNDPRcu9hkqPmguf3uc/Tt7OHMRfPx329frU3TLNtQqG+99SCIteSJ6JKAmZDP1WmqrqypNzWe0FWcaLMPPA/j/mii17R2gfgRy3U2v6x4UqgqRDqQpLFlfNYD84XF5F/rmu+9wP2GvEGOMBXosxr2trjI2jCRJ2ae2SpfEb/iwtyLg1OxV2SC9z4rXLdJf8MH65V53td26PXsk3bfJPf/Mszct7y1WPTLvCtiXglvQ6+xSnJD5s7m3qQcoDzMT7YKyYPmF1kGJ9ANwBn0nS9aqhHf81puiyuQ4Lswob5zOUALJRVPKHbJbeNe24lN6auK2u6lzPFAgn3mvdq0JXhPzIw9sH9SkgW84EZTPE8847HsAhIQCTN6CRrML56r+p1Fn7r8ESHA8s7fVnvnp1hxOVllAge8p2B/wW42bmN/alWRpT+E7lATkkbEAWIIu/md9dq0ecuMhK2YSJIJt1Dgma6aitZuq2i9+d8jodSqSeieeQdo4GJPjJrzaxvfLti3fw9rYVm5LS22fB9HW8Cfhjx/qc4pPdsbDTdnQt5rhuzMTYZbvFgZQi5zYF6vmgqzN5X/yd7vV1Uo0FwsWLZh9/6Cgrc3LOM0RJNZeHFA8hhiXRLBPWL5dsPNR7CMYpWIMf3M9u6rwt8HoWqeZQAfuKVSVch0IGljO+mxFIB6F/8huoR9vBiyBhnCBAftn5SuYeMG0jZM4onBux41OBRjHBggLK+xB3gR3FR/W86SzGKrV1zNUZip/nO7Cs85PY+HxfzoMG7TrGjoGQd/S3gbuHGou2T9Jt0ll3cUFJ8JPXvQe6k6O4OT6VaTa5R7qDrMeC7u098ZQ58wML6rZcu3Vbd/4w2Cd5kJBTyu9uOboC9Ze9o1kYi6IjslqXhCsTMjzvrt2lfetT3j3cY8sevWadJ3NrvVFIuQiL5iPDGwaF3NekP9sT2ZbO3E9cTj/eYDRWcdHh+q+BiPb5vWLVpZ5xxHd8KH7jL3R76AwMgpqiq/hv32k3lAVXzoMxP60abfxrbJ+eXd8oF/shA0IrZT23e16YShruptzqaQeWIySRKqCgK8yX9ZitcvzDZ0J5fCSQwYroGXF3piZth+/GB1e68vNMN9hq6Ubc4Li7sk3lQI22Qyt5i/E3oO6GA21jt/Rl8kJPPwU/eFI2vmb9N33Vc9fmX8f3svt6bD9Rj5MRQrA5msKO16LHwaiS5h4LJTi1/X3eS5Jmbq+7ad6atLrR5BqUHP53cNjjEodmVSrCpkOpC8sZ36zvxWyVnnDxi74jCuF6gKDzmDDGCDko8M+lrdnpXsDWp64ole0+6P8D30CIy3PS993uIah9D4TT6w5APTgC8MS/DeuU8EpiHKzD/btmREzCvhbcyEqym//mthCMSEfV2Vy0EbW/CmuQ/3E8kx6jIeFqZDRYy6TIcbnCNCqU36ut59nbU4Oeb+aNc5LhODlqoj5fmLJRVPKHaUfhErDTPuMIDfjG/UkmZqwHKwtOLgKoknHr/f1WqBaTHmB0sOaFfxPPEL96cf3MIGtzMDrVsFOjbmMm7GNYCpofYiEJA1uzlpTfS2HL8i8kCRrkb8DnrCxG9EzNT9L1su3OLSxbAGSTwxqSQTaaGgydwAxk4bN6GlDszU4OeHDh85lCHyxKA5n3tP5CGifbU4Bo6ZdJlW4UTBDLXnpmlWN7k5U5CIzMOP7CBQS98W7VCqyqir+YNOrzAXE8m6iV+JwCDjeOFtP6BNW6t3BNAXEKg2sQgVACR/Zg++Lygi1apCqANJG1vmhft8o/0JTpShgdY9QrFEkTXIv07d7265aB8IgPdiPJad8RU1RlxPDIqtyzbeecLGGnJwL52WWdLlQ19EmHY3rU6b9+oxO77bxfj/cfcRNt0hMK+Et/0acDSYcA474KhZi49fkoU12RuMDgWhjDsa3ufHnhHGHXrW4shkazGwdurg4aveXiOblhEUgVDs0wFb1UKsiRm27ge/Ob/Kho1yZgvQ18ojXf29xo2K5R3qLFgS1/kxI/13h7A5Y2mD4X4Q06+Fnhg2S2bKc/vGfaFXAjA/duxdrEkv6fSRtR5SSBoRn/CwtZjME/NRkGQiLTTUbylcpZm/ry1+BlgNQLh24Hi39++m10SeeMJz/av7knQr50rnaQutiiOiUIDS3iT8c2xQrizz4IClODNtWW5rXypGLn6dGrxx/QeJiYMau6zI6uWVIlFdisB2WhZp0o90+0VFH7/XtFWTtlpnH0FfsBFAvsnxKCjOlEhIuaqQ6UDyxjY88o9/DGFT+oI+Hh8FgywEWlfVPHFsgHbZpncM5suuSJaAh0IwDt8mw+DARBYKKMQjfES3jT8aeIxrJ6iNLSy3CaPBpIkOLWiWZR8ymK9EM5wxQr6BIUklskBzubLC9gR9oUzY01l2rONhKOySVDyp2IMu1hfiTMyks/5fQCnieMGkYMJe6+GSL7xh+PTZemJZMA1mxH5stSYtY1PdV36+KWEedxev0G5ucSukqlhPvCSz5GrceS+JQdKIBKjtiRNooeMDrXnatMU7W/uxsa/ahLzW6rL2wXDYJfHEeDgrvLqsa0iximZG7cdBt0mbfeqOn9+1C/u7yhfiR2QUZA5TuPO0OW0DcQZi1YXzxEsru328qkhYlxDyXTRU8Gi+JDYh47UtJXrwhEjCXMxLVpUYYh1Qy9jykGTaIigYZBGqemLM9GBt1sEm2w+CYZJRu47N6eVbPJIEBYpK9rQNJBJKysYjQghvQ6q2aGvrP4l0Ni7SWYXp64o+vO7Bz3IUAZWDUCBhv81wiJslgal4UrEjT7ykzim+D5k/8g46MYzPVlXFTV5LrSfGNZiZMUctl5XK2KS/5kV2ajrgOLlm6aHP+p4rmFLG31W6olycJJwtZI1IgNqemLiFshKYn6KRcgyM/9ofD37OzjMi9cTAlVasVJp6EmHsjp4dkwLO+ITNi6IMJnDbkJUlM0tRXuZcDIftYacW9rlbhCO4SegSBIUmmhzLA/GdaJRKs6V1gG0r0lnZi9YUfmiTjAG/ZFXhQawDiRlbPnJdQUWDLELlPjHo3AT9D/q+7m5rrNgeXUMimHOLoi1sK0INTDI4oYhsPCKE8DY0cJh+oMNLMPBBCBCK57uvu/7NVL6DrQ/20mQWnu+L64wne00rNdrcdn6+SQ5gp6ryPu3jIlJpxROLHea4cI0wVZ4Y6Ks+33yPU/+UemKZBsP8dMfAzb0ClbLXZBsc9jrO6qovxqZSY2GG7bU1yq46WeI3IiEqe2JiVYFDiWzezxtbTrMoa8fhesvXQ2R9rwQA4drRMnMf97Zknpjx3/zflRfitzKWsP9OPZqzszTfZBvwe2+3HKu1uORW7snKHA6xs2MWDx9F19Jwi2Qufj0kNtXqEfbbjUcxGpKoLkHQKDjWcyDbEsuLgCf82Oe4+pmx/LdoQQGQoSiKfbmqwiMBHUjE2AqQ6eMpG2QxantiHsy4r+dC5YYMrm6yDQ400Qe9k1I7T8jWJ5ealoftwmasq/97Cib2AWZCvh5LxWbO7i9Yo7+NnVUUAYa0Wxqcz+K/C+N3GA5H02jSiicWO/PC3bwe3CmNXlF2OpnsjQKg51Gb93EkCZxKT6yQFAk/umPK5+YSg2vROt1fJes0BDDB+911u5clkNtIFplGJERlT0yqKoy3s5BdPPPq7uI/VprabzpdLqf9Ul0uO6lYk1nU7lEzNzsdcJzKb7qL5tLE98TTQc+X9TsyybqAkEnfnTPcy4NfnqddW3NNaVaRnMzDPmsJ27pfySmp0pku3ehx9fbc/HP9Xm5m7NLSDg/51EtimDFPd33OaxnYzmgMIl2CoMSYkifGCZ8JPeqxVGXDgCbrpCM6oeSlqkqUhHQgEWMrBN/Hi2eQxaTQE3Og1V1As9+yeLjQh9glkKFyaprbEoSvQ6kArUwFgXMBJgEYhd2bYmU8bw0Bdqp+Fy96kFZ8AmJnF6ss1qQtzkH9VESkqxSZTqwKQF/1B3nan0JPrJwUYYIDnTX5m9gtO0AZF60pbsP2iWeGneeNVW+j29hLm11/J8UJN2kjEjJHnhhFZvMWFn7BS/1NB90fc0vRMg9YHyZq1ORgE8VvGXvGIq1SyRO/GHZ+bnp3L7urA6qjDNyaYBzM2KC1Njd7FRcoz9NmHW6LLS8WISfz0Z669exD5xd3PIy1HiZ4t4Vbx7KwSHnuWILM+Hr+zXhsTxZ8YfZKFy6ClxBPlyBJemKO6FLdxbss99ETXqKqcCSuAwkYWxHYPl58gywm1Z4YFDH88Iui+UBF0DS8BFwCAeqmphn/taMrdp7uTbw6EiU82FGYiZ2eGiHst+lWbj7jilofediVf3mn+NGDtOITETvcwAhU2dbIkrtw0Ou8pMthh47UnDsNHtSUb+Brf+o8sUJSZHLYea40t54dIAz+YDOizrH8WguYjrM2F2dzFlCj/qQtMeJGJGSOPDG0HZgcyc89dawdTybRh4UJuExltfw+nJIn5uDGgxzWD0tRFzDupC0mPPyf5uIDtbYfQ6CLaTOhzrHsMiQ5mUOpSud7MuPOhpXsD6o67MUC88+OzqYy1BkVTdoSo6xLkNl4YkDI2168ECjAO11++MVLUxU+CehAAsZWDK6PR2KQxaTeEwPg9NRIm0e1otDOye2sqqnpsKezeNuB9vsvZWofmhMhYz3ZucSla8vIclnBPnNZlXDjOkzFJyb2Sb/rz/pIrK19I7emze68cBB8VHM9ceieOU8v3A8vZZ5YNikyHXA2bpq/Fw1AAphx7/VTOdyIl1a5cTLP+84WsJuqqm9epQgbkQCVPTGpqqDbpL8Qme/zynH76OyHAJlQ36f5R/mbwkZfQ8EZIJig++xeNi+qbOuZwNcN2St4SaCZkPd6ww5uYDU9Bxeax/HEmLpA8+B4639UZjr43Z9ygYtNW5LX7lFsowq6BEGlU/LEyj4DFjZ6z0tSFTzxdCAhYysG18cjM8gioIhS7InhJKBINQRsFay6KMzMJN7IgjWviyT7D0gguY352d2cv0W80UcKgavcsNaTzWXl7JasPcfC2qm8MnGfDFPxyYh9JvTzk+ERbiki2jdAxRmhQF9LDouj1FR5Yq7B4GYCcjPbJeEFcd7sxbfN6xYk8T6JI2xEAtT2xISqglwL5hc4aYP/iu8p4wPCtVyduJNH7ImB4qJ5D0o2jpsALJkYoZhSlpM5dHK4uuCskKJuz57gvabtBJqgoEsQtKmA0tzp35j7FTqQcKl9VOYvR1VkUdKBRIytFK6PJ1h2S2yQRbwUTwy1NiJr9dYTc7UYP8YkuG3SZ9NvrehSnqejMmxhcc0yPGTT5VZ2PSSrkUj0qnRxop6V2CMZrUT33VQC9R6ULoxeJueJuQaDibuhWcnYaflBUiq4/DHusnI4LpjEyodEETYiAWp7YkJVQa4F17LgbaoMZMCfUrziFBwOUqJVNzhgeIHzOnBlMK4gcjLnNA2/PREUuMoTHoUwoKxL4q/AVNAlBPl6Yhm4wkYdz8tRFQXkdCAxYyuBK5ewrpF8FC/5lpViTzzRb87hSQEGbrI7+BDnP+XMq4i4t00Hv2s9cIBgTZGqTPeb35RacDbhefhgnDUGfKZH7I37C/aJrn3sIgFQr9w26AVHLeymyrMQO+OzVa6NN98yUX6y1x0Svfb+gjzumCMNt6/9vv2HLJK4OylPjGkwENhs8N0UZIwUwlgWrhNPMid/togaER85r6CMgiQJVQXehotjoFlRcH7kjNjrBRrCXb/bzk3Ggadx7Pu9VE34sB1ojdJsTfi22IpGQYnUacnJPNL9wvh1KPDUBm1c3yvuhBgFXYoAkz2ye2zFy41N95l/s5gXELwUVVEAqwMJG1sxuD4euUEW8jI8MTsX903eaDlUVs0qY68w+QXXnAnrmJkM/iLzarLmVUic29hBgrKcBtz01ynf9b/eVa0LKAJ0ufJfF8/0CXmtVTuxc/yYoRuX3ZHc8UwoOK5cX7hkSCJiFzDhaS9lt+47605aZYmZRXZaXlXkkyKwT4w/QUV+p0MerHZlvoxtg8SNiI+CJ1ZQFQVPTKgqyOtIYzguypQ7l0YNEshOc7Wfntf2Pd/2CcUC+8TY8+xglhWTiZWXOfRh0kWArHNaIHtqnjqwvY74e3thdUncfKDv3GxyCY+tYTwdudjdYflwuYTl/Iljc6cqHDgdIDS2vzKhX37B50oJu4IsLzU7zQR6P6vWGVr/JlxhOenrOvamKPEL+1iingRXx9od5+BSaBa4T6nMvHyCnDOL8m3sTI23jndjpshOBdznq5p7kxnE58M8dbUZdPrW64J1ftw5E785JnzudMBp3FWJy5CHn7pba1vQ2VBwS9s4k/LxFU8odj4gbLQcWZO+qujsN4LNIFNFsp5YSVUUG8zE3ebNGZq1H8RWyCC49WxoGioTHnZ+bj7fLd7Jj9Xt9SQ7tBCTQCOKIecVlFVFwRMTqwo6oUtk4ziHLVzGozIYTzw57Gw3t315V7SVbPhhd8UO4UYWUrGMupt2anFrSbnTULBzbhWin+mAveZ1ybaO3I4fmUXtg2SWVpGwr+fip5913xVuXclZlXXF0S01EtAlXPNhF5IsXyCeFcyWIrq+cTrgOn/82MnW68LVuqzMgSUTpnxfhqqQ6wChsWVC318sWqrBr1Qk7ApyvFRPzEU3oHloMgvP9bCymAmN9Ns/OVZ2+mZkE8EYjP92w47V4tNPsyqtvAlsMBUG1D02Gz6GCqlpuLRO+8b2fcJMAnuxB1tKTspLAhgIg1IsPXjW+QhYMCbk/++b5sqSJntkUz0OuAgvI2t7nvhN4OGjm8/2wzh32t38r3B9hcIiBNmKJxF7hKnnA/bW8i2Z23WfOVU+4kCeOJ6YGb1jWAGKvyTXMsB/JSVVidNgpoP97ZUblmQVW+4FopYTxGFtRWuL29xPuadwWsT+fmaO3nqPPWeW0+3W90oNVwZUHdRIqBEhmKcO/Zts2fde9PAti6KqyEkyCqGqcI1oNW/DOM4frIgdapsSpJ6Yq2W2sK/tMljdfiArBkjuZuux8trL/xT4CZxYmGBfR8Vm7RtHLKjG2e/CgbtthVuLWu8GpPZaTuYQTlaZ/H2mWGewEXeybzJwvQtWSZbtqO10P0FWxd6qK66//P1o9AHkuiTTfMJ+hzFnqeh84rVrSv4jshEHl+Vm/xBE6n9nwwJW5jfMFZWn7T8KY1aWlKsKqQ4QG1uUigcFxIzUEHYFIfE88fSo4wS3yK3Q4iEKShSz08zoQPdH1QXZ7CPTV/+2oKK+tavHwx75hIUJDt660Fijq20wflBfc9zQfMUt2kthavBq5Wbt0oKW3qfiaiWMR5RuC7iMO+AqHeyluPKdnOng91+26PZxB8svytq+r6Kutds5yB5Lxyf4jQmdi4y9eGvkf514cLU6O31lbvM3CtO8FSo+vtiDA3brpbam082t1lv3fNIWlUrwnnhm2PUXq9VqaamGp3iCKz27pLG1w2rttA+wfTp5VSFpMEzQ42hvqj5SWqE7aTKeaTadMl240T8SEwsntIY/7OAGe1jdLjd88sUd7jgzlSFvREAoV6ydVotZB08aBldG9jun2trBl18NBIG+YFQlviR5xFcVSPiJ+3LL8fLKmrpGY52+Wv9xd98z9SXDB9Mnng56vrLUHc7hNl0B4fX+8lpz+x3uBEMRMi2IGXvg+KJZd6SkvLreaGpqMjUYL1zvF3aF4ss8yqTffaWluqLi/TpTY51eV9vS1Yfx6MkBXvXWhfojO7nBcs6q6D/uuMMddsmHXJdkmw8n1fqa6pMNqBSXv+XnxpjgP7ubq/cD74VkXt8GnoCReYTUqgqZDiRgbJkpz5WjGxZn7v3YJZ5QlkBqGiBjkF8Mu77stP675ZNqeNw1uLQbSoytlzqtV+wDSs4tuRlbFAqFQqFQ1IF6YgqFQqFQ5hLqiSkUCoVCmUuoJ6ZQKBQKZS6hnphCoVAolLmEemIKhUKhUOYS6okpFAqFQplLqCemUCgUCmUuoZ6YQqFQKJS5hHpiCoVCoVDmEuqJKRQKhUKZS6gnplAoFAplLqGemEKhUCiUuYR6YgqFQqFQ5hLqiSkUCoVCmUv+v/fETDgsPlP9/2WYcMD9peORSseiUuYKWo8UCiVG4p6YCbhMOVrskfWhxy7rGV1FTYPxg7pjVYZWO+5YbyxTgb7ulvrGpqbTxpryoneOi86vjjAd9Dg6zGdMRqPJWFdTXlZZd+GWZ0zWnIWf9Vlrc5vupvaQc5bpsd4zW9L555zjYEIjAz3XLjYZaj5obr/7HH2rwKjLuJV35DW81h61+XhFZsL+by+bayv2blzGHqa98w9SmTAPO4syJb8TvbY3u0UnyqsDM/bN6c0r91uH0GceyaoKQWEh7AHmZkN5bvZrGk366pwjDZZbg0HMfTMhn6vTVF1ZU29qPKGrONFmlxzPrgIq1aM8SciTCfkHnH/9vOmEvvGjDtcz9C0HA5pZ+9nTbCtrrH+/orRCTnqzgTt4X3fwt+wh8MuyCwxtBI9Q0CgMoPl3mRsazzSbTunLD5boWi67n2DaJzPuc1lPH6vS1zcaT+oq9UAFcGfvk2rUbAAy+YtZfySXPah/UdaOw/UXvnoQxHQkkq8g0lIQWloQUALD/YHxww9PN+orCkuqm6+4/ZPoP1NFXM2Z8llLF4qbW/RasL7p2xfoTgSpPJmxB44vzCZwm9FU915F8VF8BRFqlJBEPTET6juXkz5PI/HETPDeZ4XrNulv+KAhY573tR16Pfuk3RevYsR3zoS81wzZizMLz/cJCvmL56p+Z9GnrmhNM+Ne24lN87fV3vlJIjSgSXbzO+u1afOWGV0p98She+YdizVpCp4YhBpXTYXZm8r/ZO/3h6R1jIN5Zqt8RaRG8xbmXhyciv79dLDvfNFSjegezWu5La5A9KYZj2UXqDLRPdFrXfO9F2QvlBjBPvNebdoSqd1MVlWICgvgfn+V+La0zJ3NvUJbwv3g8u2Gm49gtYlfTCXUqkc5EpYncFFXTUVrt1W03vzvEZEyMiHPX6pzSs/2Rp0WbI+Zmwy3/GpJhXvDTGBG9xTsL9jNegW2vKuKLP0hdAcWWY2SIpEJZyvSVxW13RNYWLGsxCoBIdaoWYBkInqEZlnOR64xvhlMvoKIS0FoaSXNJ/SjTb9Nu/TQZ33P1ZKKGBLNmblveQtYY34Z+Zeo40Esz9APV3V5B85+E+0iwvIuzK6/4+cpC5lGSUnQEyOXI/HEsKO8vMYe4CnNVH9bzpLMYqtXya5NB5yNoIVU2gR1HLDXvJ6WsaXp7gT6BkYAu8z94+gLCPOTrWKVZkVDz3j0r9kw7WrTCUNd1ducaUu9J4YGAtSxjCcOP3VfOLJm/jZ9132iuBUx6bEcNTgEnRURjO9q2fJt1e3feIPguTOhgMfVfnwTdLprT7sm4MPG+80His46PL5hMY9vm9YtWlnnFMpUFSIRm9RuJqsqZIUF9w11l6zfpLvk8o6C+5jQswe9l6qzM7hGuNXkGkW3gf9iO1iLX9fd5Pk6Zur7tp3pq0utHvV0Rq16lCExeYLW8V+W4vULsw3d2A4328Azt5i/E3aop5/Z3n01bWO982f0xawI++0n80AF+VCjRRYcFHZ+eTffqAmQ1ygpzIizfrv2lXdtz3gyYZ7Ydes06Tub3VEdgKmsddX2JzxRjA+05mmXlnd6I7adWKNmwZSvq/L17OMdvQ+DoMoYoALfdOi2clZlwTpjb8QMzqKCSEtBammZwNcN2RmvVtie8WTHBG5WL9doN7e4lZU2SUg0h5nqP7er8JzT8xhZuRg/OozbhM6CXJ6ckd98tj8WPbNwQbaGZ0LJNApHQp54YtBSdaQ8fzEoudATM972vPR5i2scwtqbfGDJ18TRD5g4lfiwcYc+gy/fMZdxs+Y1qVOdGmovAprU7IZPZqbuf9ly4RaXmoNPT7UnZqYGPz90+Mgh8LZYTxx+ZAe6kr4tbkwkZqLXtPsjxd7qqMt0uME5Irxj0tf17uts68ox93Pt94X70w9uYTtWMwOtW1Uzr0KmBiwHSysOggBcbDeTVRWywv7KTLia8uu/FpaXCQM7txyEZQveNPdFbPMLb/sBbdpavSOAvoAwP1hyMsTNdTaoVY8yJCJPIIcbhuwMrWx3mZl0mValbTS5xKMVzFB7bppmdZOb59mSZaK35fgVUYgQSRtgHo2Q1ygpjM96YL40b8eMOwzAdi0s7kJ9HcbTkbtEk2FwCOua8Vh2pkXNK7lGzYKJ3tN5Jic/lgKEH3ZXrGU95W/M/eh/kq4g8lIQWlqYAZbWRcBRA955RWnXY8GjVIFIc4L3zn0iiEqjzPyzbUuGsONBLM/JXtNKDcaVMD927F2s+deme/A+Io3CQ+6JWZdz8PBVb69xmdgThwZa92jSMku6fOiLCNPuptVp8149ZpeNGwO2CtBmMBU/1FmwRJO2ssL2JPYREzJD/cBaq/CwtTjlnhgYiAPHu71/N70GtEHqiYMDluLMtGW5rX2KaTcpICjTZRvvPGE7STKMOxre5/fnIsAgJtJImJH+u0PYh3O1pqLLiQEitsojXf29xo0Su5msqpAVljUEDSZcO4QGgqe3bLNcpEk/0u0X3Tx+r2mrJm21zj6CvpgVqtWjDInIM9RvKVylmb+v7XsZb4eaDMaMcoZJFa/DTHlu37gvsUjQoqWXdPqwglLQKCnTAVvVQmzDH7buBzowv8rGaQgXic7TvtPlh/8bZdrd/K8azSvH7aMzCWhU8oAQ4cMaQS8KgkIHnmFJuoLIS0FoaZ/YylfiIidkdReW24QR7uwh0xzG/4+7j7BTJHAdD2J5cpoTi+GiwKdHQiUyjcJD7InDns6yYx0PQ2GXxBPDbgQ2noWqL4kRoqBfw3ji0Z669Tw/OmI/tlqTlrGp7ivBTC7mcXfxCplkyEvwxCGvtbqsfTAcduE8MUx1ztPmtA0IcxrxiQ11LNv0jsF82eULSaow5BsYwsZYoiBGBkyEqApM2Gs9XPKFNxx0Se1m0qpCWtjxRwOPcXGH2EBwUSpW8dCdkl5mUqS6HhOQJ5ciS1u8s7Ufa6c4Zkbtx18FpiT71B0/f1JL2N9VvlCQ11Ub1qItySy5yp/DFkFRozDA23ANf9JZ/y+gLqC4FHJmUPIwX0KqUbOACT0aHMJOHhGGDrOoIPJSkFlaZPGkiscAGS/Bt6zUoKQ5fLAdD2J5jtp1oOedvr3+jtDE+7tK50dHUQk1Cg+hJw77bYZDlgHQhjGeGL5lWr7FI0l5obh+T9sAvk+Ifu1f6nsmRYJEzSnyoJkxRy2XrMvYpL/mReZsOuA4uUZ2gkDKPTHjv/bHg5+z826wnpjT3aQSNcyE6/Q6trCxS5t1sMn2A9kwM6x1WZlDUpWaZny2qirLINBMnN2charIQFTYiDIs2tr6T051UAvU5FgeiEUa6YhsaR2QjV8JSX09EsuTMxnKA7EcY3f0bLoS2KYTNi8yWkzgtiErSzzXSVXY11shM5CmrFEYkOlYUucUCwW1U/gLyOXstPwgKRbsKUa1BYtIo1ID9MR8VVS5gqSlILO0SJLr651i349MOnaoLgUoaQ4fuY4HqTyfOWrYnqEmfZvB9iOKmhi/Q7+ZN7N4VhpF5ImBy6nK+7SPe77UE6PuBVb0qMJkYwEuCQBukJoSkScGt/50x8ANzqdpMveabIPDXsdZXfXF2AQ/MSn2xMBAHC0z93EhIc4TwwE8Nm3y8JH7ckv1oR1ZoH/Mrk65+PWQIDDDwYSD/gd9X3e3NVZsjy5Aksz8xMINaWhz271Kd6YoNQ0iNn2++R7XLDB2czaqgoeosABu9Cv9QIcXRr4oehUElBGQhssnchIhtfVILE84KD5PW2j1+r+93Hz899tXa+E6GcvXQ4Jueth/px5NFluab7IN+L23W47VWly49T9qwQzba2vk4mlljcIB86i4MAvJhPsFlE7A/hoyPop5EZFGpQI4irkkr93DK4e6FYQrBYmlhVlZnNd5qZ5YSXMEyHc8SOXJ+G/VogluK3ONtkG/x9Hy3nFLbyxzMDuNIvDEwPMbDkf76VJPrCR6vupjefFt87oFuI4jyk4Lkj/hR3dM+ZGJ/ovW6f6quNokpZ4YBImn8qNTuzGeOOyzlrDa/EpOSZXOdOlGj6u35+af6/euZF9+aWmHB/1pfJhxX8+Fyg1QCbINjjhLFbh+2JYGJ39Ko4TUpKZBLFmb93FkpABjN2elKhjICguY6DWtzVhX//fIdGHUMJQ8seqmJAX1SCpPxttZuAw899XdxX+sNLXfdLpcTvululx2cYEms6jdIxg9mfTdOcP9F/jzedq1NdfirC6bFUzwfnfd7mXp64o+vO6RLM2Mq1E4mBfu5vXg5aUJAJSd5hL+SvqmpB4IsUalAm4Z+toPegSrmADqVZBcKeJb2uC9pu3gfyVDp5HsdCyjniqUNUeIcseDUJ5M2PfVaWjAwZWeXX3NK1Cv2WlUXE8MXE79Ll5VqeyJ0fDVPO2Oc7DPjUDxhXg2IBMc6KzJ38Su6QY/u2hNcduc9InZ9MVbxlgLQcXkSwBFEpr5xR0PY5kTJni3hVsGtrDIGm9gQ0B0LaD2LYtHLsEBYOeir1yjv42ZAcQjJalpNldzkOc5Uu+JyQqL5nlmnXTETMNceGIOdeuRVJ7IA81bWPgFb+rpdND9MbcuKPOA9aHgOczYoLU2N3sV1zGap8063BZbbakaM8PO88aqt1Fb5h4kXpoZX6PwsIu4QCtbnIM604hICoGbADwruynVKPXhZoDLRGzqVJBSKeJZWjQJRpO+F+UFEZFsU3Q6cQqIrzki4nY8SOU5HRy8ot+7OQv2odPXl7bGlhfPTqPieWJ2zWXeKX5Vqe2J4bJO4HQzImvdmHDwofPSeznsABh/usrksPNcaW49m80P/mAzopBNfklGyjwxE3CZymr5LQQVky8BOMgnndDBjDsbVrK1mGheiwk//KJoPvhD6XTfKGG/Tbdy8xnhVgBSUpGanh7rbco38D1Hqj0xYWHZsZWjK3ae7uU7tTnzxKrWI7E84XAjZvLXzz11rBx4OXAmPPyf5uIDtexg2JjHZkJ9hSSW4RERDvp/7HNYm4uzOSOo4U29IdIoGeCyTvDaWyOrtMNBr/OSLoedHAC7a7OwmziNUhvGZ6vcuMX0jaTPrVoFyZeCzNKyZjCH7URFl0GHR73Oz6t3sNkXNSayKaOgOWIUOx7E8gz7nObyPMM1bygcBPehznFGbPeYWWgUQNkTB/vMZVWCPfkijZ//i6idK5gD3NzOGEzY3/t5TW4k0Mh6+/3zDue/7QcfY/klbgOQ+bz4ixn3Xj+Vw+2xosXbrBR5YibU92n+0WuCSBUVE+OJMU9Hs2ySWCcDZwTICZOdYlq6tix+3jsVqenQPXOe3iYIS3F2c7aqEoW4sGFPZ/G2A+33hROGkW4oeeIUTv5UqR4BhPJEt0mfGJm5FllfwW3XsILXlZwJea837OBGuNNzUuh7mOd9ZwvYHQqjESqhRsky6Xf9Wb8nC/Vy3sitabM7LxwEHyMJVdhClewm3nTgNUpdQl5rxTrxqAGLahUkW4pELG34ieuiIdI3XZS1p+Yzx1eWAuCJk5immixSzRGj1PEglSe3V8xCXuKWCf14vX43FwdnRAKmZDWKQ8ETsy4nr0wcaGA8MVwTrDSBM87uBBAm9PNPw0/Z2AptccIbhGDHMxZIxiTk02ssqfHEwEDk6rp9IsMu9cTQ2uKezjpCoLuEBoUPnIqCt+Bs3jtnt2SDCAxchJjgxKg4gIit5HDXkPDROLuplqoQFpb52d2cv0W8oQEALTlVmjsd205BddSpRxZCeaLgD/NEThnAf0HV5QYmJcOrSQ+pJAaaMgJfklij4jAT+vnJ8Ai3mhvuEhVzEnBFrMJMV9zyXFmNUhHWrO3c3Cje6INFpQpSKEUSlpYJPf/pJyRjuM9G3Cn66iLQHAmcvZWZKkUoTzhpQxJesGLcw4Z680s7WY+QlEZFUPDEkX6D0sUVPulFonKEBzsKQVQS3YMNGkdsCdEwMy4ZkhpPjLoXShf3RC4Qw29VAUMnxXWieGCJsB2gIZsut7LrIUFJuRdTXGOeOCgBoHTBLqYqqkJa2EmfTb+1ogs7re8lrSfGo0o9chDKEwV/uDQMvA0mbKHzxkUnaFAwtdNw4NQKuOyKWKNIiQwKxHYPTWL1p5JGqQQT9l2r3gJifdyImzoVpFCK5CxtlJC3vXihaHvOlwFfc8RwsaZMApJUntCP4uJdNCMBGvNUrSeeHrE37i/YJ7r2sesfQDPY+Db78aiF3Z4UzqOT3ehHEmEpww6SvZ62gDddBVoufCyMTComzZgaTzxirxcKhL1+t51LrcN9yff93gJ6U5EJnJhqhrUSdwmslIl+cw5mnSubnzl8kHA1IWeUlXY9S4af7HWHBAJhrzzusBTNsg272Y+HWKGooCqkhZ0Oftd64IDoEBEeMI6W3WMrpek1NeoRQShPeBvOwkJPDF8G/hs7lIVcPi56UA2uy4uyiOQaRQY77AqMKX8CFGqhsjsiibtK8TRKDZig+2xRueyyHBUqSLkUyVlaBDvwvFyjSfFENhx8zRGh2PEglSe02FjZQu8LJZaoRgmIM2NLCiY7jd5As8rYK4wZ4CpGoVFjJoO/KOgKM+VpP7BUs3Dvn3i6AiM1zGlWAPlt3lLjibFgstMRWy+V/nSf+TcLRCcgMaFffokbaLPx15tl4pRdyGut2ok9hoUZunHZLQpOlSJElcHmEmepKoSFZYday3IacNMpp3zX/3qX7RVB57TZ5BpD/wOBO8emNL02q3qcCQXHeW9GKE9kI6SBznS/+c1oy4JdBOzZXMJd/VICGyNmKm4BJpudjtd8Jjztpeyms2fdgigHttCVJpdwWyG4E4BQViQaNWvCns6SAtzJciCQuH3l7miCFSRSFUDcUswkZWk5pu53FK3SzC84+1381b0qo6A5ko6HQFVI5Qn7xNjTY4WbgCagUWJU8cTgUVzIKYpKOKMmWJ4Ed75Nx55jCJgO9l0szcrILOQdyAWZuNu8OQO3tI6biL+0UjxwyzLXnvhXeKKUeH9BrlYyi9oHI7cyoe8vFi3VRCfiM4Hez6p1hta/CRfJTfq6jr0pzilNB5zGXZW4RFP4qbu1tkV8UEwqUtNyyNjN5FWFtLDsLIy3juPye1MB9/mqZpQ640L4BaKZa1ztiFe/JEcK6hFuY54hOK+NUJ7oJKK8tu/5xeUcdmyh3ai7aacWt4iZW1GzWhI9JAETHnZ+bj7f7XrMX7QIxbJefBCqCHxsJ2o+YpjnfZYja9JXFfHOs4sA02+iWbWcTISLcwg1alawc4KKjmIGJphw4G7b0bNcUp28gjCqQlSKZCwt6Mr/w1K8Xrv0IO9sQdVJRnOEHQ+pqhDKk5lwt2xJX4BZeM2uNlzBm7ZNqlFSVPLE4JX8txt2rBYfkppVaeVNAYUZM+AdJf13JvzzgL21Mntpjq7NOSy1R8BJ97dXbliSVWy5F4iqAlCgtqK1xW3up5jqZ5469G+yz9p70YP5QVXBe2IkhEzBLnEPuys2xqTEAtOh4M9RjpHrpoCPmszCcz3s+V8zoZF++yfHyk7fjGw+B4GH2mZkbc8TJvHAVfD2hmUayRleqUlNyyHfg0lGVUgLCxfsat/Yvk982779ezYuS+Mf9xb2O4w5S0XnE69dU/If0jmrSaB+PcIcF/hNYVKdRJ4ArnSreZvzcUfxrBCcnMoE+zoqNmvfOGKJtSnOExRuLWq9G1ChHaH5E0Dbc/TWe+xR3ZxYWt8rNVwZUHLDAKxGiZsPj6nnwKiUb8ncrvvMiT9Z4lfmJ0fD7kzxabJvlll/iFqZRDQqWaChSF/9299JHsGewpsRPbaPtIIkqkJcigQtbTgwYP9TxYbVvz12vmdY6uNVJAnNEXU8MKpCKk/meX/7u9np60ot38a+ZKPk4nWFbe6YoMCd8TUKi2qeGMAEB29daKzR1TYYP6ivOW5ovuIWdW2nBq9WbtYuLWjpfRopzeiA/UpHa7Opqa3z1j+GBRZKDBP0ONqbqo+UVuhOmoxnmk2nTBdu9I8IHzEz7Lpi7bRazLo9kT1iMrLfOdXWDr78aiCYmr6gnCdmmfS7r7RUV1S8X2dqrNPralu6+oQWjZnyXDm6YXHm3o9dcHyFGR3o/qi6IJuVM2icBRX1rV09noD4p4PfmNDua9hr8S7LfVFpX2JqGiDriQEJqwppYQMu4w52HoPMJdlPYzro+cpSX1N9sgHVzuVvJT2nZFG/HiceXK3OTl+Z2/yNaNZrfHlCwk/cl1uOl1fW1DUa6/TV+o+7+56J34cZe+D4oll3pKS8ut5oamoyNRgvXO/H9jeTgXvVhj/s4KabsGIpN3zyxZ0BiVgw4PvE4uYDCA7YrZfamk43t1pv3fMJu1ASQHnBC73/Xl09lMlHl938jl2iGpUEM8HeM2jDReyVXiCYK0RUQSJVSawUBJZ2JjjwVWd7a7OxuQ3IeJifkEkVCWuOuOOBUxUAqcIDW+HoaHrvD++UV9c1mj788HT9Gcv1vhGpuYijUXgS9sQUCoVCoVBUhHpiCoVCoVDmEuqJKRQKhUKZS6gnplAoFAplLqGemEKhUCiUuYR6YgqFQqFQ5hLqiSkUCoVCmUuoJ6ZQKBQKZS6hnphCoVAolLmEemIKhUKhUOaOX3/9P74s21mNTrRWAAAAAElFTkSuQmCC)\n",
        "\n",
        "Para o nível de significância $\\alpha = 0,05$, há evidência suficiente para concordar com a afirmação de que o desvio padrão dos salários anuais é diferente de US$ 5.500? (Adaptado de: *Salary.com*)"
      ],
      "metadata": {
        "id": "00vxL9lnlduv"
      }
    },
    {
      "cell_type": "code",
      "source": [
        "import pandas as pd\n",
        "# Conjunto de dados\n",
        "salarios = pd.Series([50772, 52409, 41783, 51106, 43816, 35056, 32741,\n",
        "                      40981, 46527, 40220, 52068, 34902, 28289, 37880])\n",
        "# H0: sigma = 5500 dólares\n",
        "# Ha: sigma != 5500 dólares (afirmação)\n",
        "est_teste, X2critico = teste_chi2(est_amostral=salarios.std(), pop=5500,\n",
        "                                  n_amostras=len(salarios), alpha=0.05,\n",
        "                                  teste='bilateral', parametro='sig')"
      ],
      "metadata": {
        "colab": {
          "base_uri": "https://localhost:8080/"
        },
        "id": "FE0IhkFIl6J4",
        "outputId": "dae86008-1072-442e-ac55-1a43fbf7f083"
      },
      "execution_count": 24,
      "outputs": [
        {
          "output_type": "stream",
          "name": "stdout",
          "text": [
            "*** Teste de hipótese para variância ***\n",
            "Teste bilateral com:\n",
            "Estatística de teste padronizada = 18.3894\n",
            "Valores chi-quadrado críticos = 5.0088 e 24.7356\n",
            "Hipótese nula NÃO rejeitada ao nível de significância 5.0%\n"
          ]
        }
      ]
    }
  ]
}