{
  "nbformat": 4,
  "nbformat_minor": 0,
  "metadata": {
    "colab": {
      "provenance": []
    },
    "kernelspec": {
      "name": "python3",
      "display_name": "Python 3"
    },
    "language_info": {
      "name": "python"
    }
  },
  "cells": [
    {
      "cell_type": "markdown",
      "source": [
        "# **TTI109 - Estatística**\n",
        "# **Aula Complementar - Titanic**\n",
        "\n",
        "Nessa aula vamos usar o conjunto de dados `titanic_train.csv` para treinar os conceitos de estatística descritiva. O arquivo de dados está disponível na pasta \"Aula Complementar - Titanic\" na seção \"Aulas\" da página de TTI109 no OPEN LMS."
      ],
      "metadata": {
        "id": "Ndk0MMS_I7K_"
      }
    },
    {
      "cell_type": "markdown",
      "source": [
        "## Importação das bibliotecas"
      ],
      "metadata": {
        "id": "ap2tq9N8zW9s"
      }
    },
    {
      "cell_type": "code",
      "source": [
        "import pandas as pd\n",
        "import numpy as np\n",
        "import matplotlib.pyplot as plt"
      ],
      "metadata": {
        "id": "Zk-vqeU0xCXh"
      },
      "execution_count": null,
      "outputs": []
    },
    {
      "cell_type": "markdown",
      "source": [
        "## Importação dos dados no formato Pandas DataFrame"
      ],
      "metadata": {
        "id": "H2fnbf1lw4UR"
      }
    },
    {
      "cell_type": "code",
      "source": [
        "from google.colab import drive\n",
        "drive.mount('/content/drive')"
      ],
      "metadata": {
        "colab": {
          "base_uri": "https://localhost:8080/"
        },
        "id": "eTUJbdKjyhK1",
        "outputId": "6e48d24e-90cd-45d1-f368-d91338e3893f"
      },
      "execution_count": null,
      "outputs": [
        {
          "output_type": "stream",
          "name": "stdout",
          "text": [
            "Mounted at /content/drive\n"
          ]
        }
      ]
    },
    {
      "cell_type": "code",
      "source": [
        "titanic = pd.read_csv('Seu endereço aqui!')"
      ],
      "metadata": {
        "id": "4cFUEno5xI-S"
      },
      "execution_count": null,
      "outputs": []
    },
    {
      "cell_type": "markdown",
      "source": [
        "## Análise exploratória\n",
        "\n",
        "* Qual a dimensão dos conjunto de dados?\n",
        "* Quais as colunas estão disponíveis para análise? Quais são os tipos de dados?\n",
        "* Quais colunas são numéricas? Quais são categóricas ou cadastrais?\n",
        "* Existem dados faltantes? Quantos? Em quais colunas? Em caso afirmativo, como proceder?"
      ],
      "metadata": {
        "id": "uT-M6sFmxJVB"
      }
    },
    {
      "cell_type": "code",
      "source": [
        "# Dimensão dos dados\n",
        "dim = 'Complete aqui!'\n",
        "print(f'Dimensão do conjunto de dados = {dim}')"
      ],
      "metadata": {
        "id": "5bE73sw-yAmB"
      },
      "execution_count": null,
      "outputs": []
    },
    {
      "cell_type": "code",
      "source": [
        "# Colunas disponíveis\n",
        "col = 'Complete aqui!'\n",
        "print(f'Colunas disponíveis: \\n{col}')"
      ],
      "metadata": {
        "id": "1vJlIDIPzWVZ"
      },
      "execution_count": null,
      "outputs": []
    },
    {
      "cell_type": "code",
      "source": [
        "# Tipos de dados\n",
        "'Complete aqui!'"
      ],
      "metadata": {
        "id": "kKz_hsCI1sLI"
      },
      "execution_count": null,
      "outputs": []
    },
    {
      "cell_type": "code",
      "source": [
        "# Colunas numéricas\n",
        "'Complete aqui!'"
      ],
      "metadata": {
        "id": "E-cfivmR0EQo"
      },
      "execution_count": null,
      "outputs": []
    },
    {
      "cell_type": "code",
      "source": [
        "# Colunas categóricas ou cadastrais\n",
        "'Complete aqui!'"
      ],
      "metadata": {
        "id": "fH4j447G0Ht_"
      },
      "execution_count": null,
      "outputs": []
    },
    {
      "cell_type": "code",
      "source": [
        "# Dados faltantes\n",
        "'Complete aqui!'"
      ],
      "metadata": {
        "id": "bMWQLcLS2PNd"
      },
      "execution_count": null,
      "outputs": []
    },
    {
      "cell_type": "code",
      "source": [
        "# Existem valores faltantes nas colunas 'Age', 'Cabin' e 'Embarked'\n",
        "# Quantos valores faltantes?\n",
        "'Complete aqui!'"
      ],
      "metadata": {
        "id": "M38TvoVC2eZm"
      },
      "execution_count": null,
      "outputs": []
    },
    {
      "cell_type": "markdown",
      "source": [
        "A coluna `'Age'` é de nosso interesse na análise e descrição dos dados. É preciso preencher os dados faltantes com alguma informação relevante à distribuição das idades.\n",
        "\n",
        "Aqui, vamos adotar a seguinte estratégia:\n",
        "\n",
        "* Agrupar os passageiros por classe (`'Pclass'`), sobrevivência ao naufrágio (`'Survived'`) e por gênero (`'Sex'`);\n",
        "* Calcular a média das idades de cada agrupamento;\n",
        "* Substituir os valores faltantes pela média do agrupamento a que pertence o indivíduo cuja idade não está registrada."
      ],
      "metadata": {
        "id": "SzS8RG_S2n0y"
      }
    },
    {
      "cell_type": "code",
      "source": [
        "# Mantendo a coluna 'Age' (com valores faltantes) e criando uma cópia 'Age_Fill',\n",
        "# cujas entradas faltantes serão preenchidas pelas médias dos agrupamentos\n",
        "titanic['Age_Fill'] = 'Complete aqui!'\n",
        "\n",
        "# Criando os agrupamentos e calculando as médias\n",
        "grupos = 'Complete aqui!'\n",
        "\n",
        "print(grupos.mean())"
      ],
      "metadata": {
        "id": "uknL5OlxSMsO"
      },
      "execution_count": null,
      "outputs": []
    },
    {
      "cell_type": "code",
      "source": [
        "# Preenchendo os valores faltantes da coluna 'Age_Fill'\n",
        "titanic['Age_Fill'] = grupos.apply(lambda x: x.fillna(x.mean()))\n",
        "\n",
        "# O passageiro registrado na linha 176 é um homem que embarcou na 3a classe\n",
        "# e não sobreviveu. Sua idade não está registrada ('Age' = NaN)\n",
        "# Note que a idade presente na coluna 'Age_Fill' condiz com o agrupamento ao\n",
        "# qual pertence o referido passageiro\n",
        "display(titanic.iloc[176])"
      ],
      "metadata": {
        "id": "jeP4FvXK9epo"
      },
      "execution_count": null,
      "outputs": []
    },
    {
      "cell_type": "markdown",
      "source": [
        "## Descrição dos dados\n",
        "\n",
        "Construa gráficos / diagramas que descrevam de forma adequada:\n",
        "\n",
        "**a)** A distribuição do gênero dos passageiros."
      ],
      "metadata": {
        "id": "S-ILzMyRyBHx"
      }
    },
    {
      "cell_type": "code",
      "execution_count": null,
      "metadata": {
        "id": "KhmT87Yiygrc"
      },
      "outputs": [],
      "source": [
        "# Distribuição de gênero dos passageiros\n",
        "dist_genero = 'Complete aqui!'\n",
        "print(dist_genero)\n",
        "plt.pie('Complete aqui!')\n",
        "plt.show()"
      ]
    },
    {
      "cell_type": "code",
      "source": [
        "# Alternativa - Usando um prórpio código para formatação dos dados\n",
        "def autopct_format(values):\n",
        "  def my_format(pct):\n",
        "    total = sum(values)\n",
        "    val = int(round(pct*total/100.0))\n",
        "    return f'{pct:.1f}%\\n({val:d})'\n",
        "  return my_format\n",
        "\n",
        "plt.pie(dist_genero.values, labels=dist_genero.index,\n",
        "        autopct=autopct_format(dist_genero.values),\n",
        "        shadow=True, startangle=90,\n",
        "        explode=[0.05]*len(dist_genero.values))\n",
        "plt.title('Passageiros do Titanic, por gênero')\n",
        "plt.show()"
      ],
      "metadata": {
        "id": "D9kMUM0wAFLu"
      },
      "execution_count": null,
      "outputs": []
    },
    {
      "cell_type": "markdown",
      "source": [
        "**b)** A distribuição dos sobreviventes."
      ],
      "metadata": {
        "id": "n2TwGe0CCOp2"
      }
    },
    {
      "cell_type": "code",
      "source": [
        "# Distribuição de sobreviventes\n",
        "dist_sob = 'Complete aqui!'\n",
        "print(dist_sob)\n",
        "plt.pie('Complete aqui!')\n",
        "plt.title('Passageiros do Titanic\\n Sobrevivência ao naufrágio')\n",
        "plt.show()"
      ],
      "metadata": {
        "id": "3WXlsB0TORD8"
      },
      "execution_count": null,
      "outputs": []
    },
    {
      "cell_type": "code",
      "source": [
        "# Alternativa - Usando um prórpio código para formatação dos dados\n",
        "plt.pie(dist_sob.values, labels=['Não', 'Sim'],\n",
        "        autopct=autopct_format(dist_sob.values),\n",
        "        shadow=True, startangle=90,\n",
        "        explode=[0.05]*len(dist_sob.values))\n",
        "plt.title('Passageiros do Titanic\\n Sobrevivência ao naufrágio')\n",
        "plt.show()"
      ],
      "metadata": {
        "id": "a9OuPDO4CvAf"
      },
      "execution_count": null,
      "outputs": []
    },
    {
      "cell_type": "markdown",
      "source": [
        "**c)** O número de sobreviventes em função:\n",
        "\n",
        "* do gênero dos passageiros;\n",
        "* da classe dos passageiros;\n",
        "* do local de embarque dos passageiros."
      ],
      "metadata": {
        "id": "0e3-y5P0DPLu"
      }
    },
    {
      "cell_type": "code",
      "source": [
        "# Criação dos subplots para os gráficos de barra\n",
        "fig, (axis1, axis2, axis3) = plt.subplots(1, 3, figsize = (15,5))\n",
        "fig.suptitle('Número de sobreviventes do naufrágio do Titanic', fontsize=12)\n",
        "fig.supylabel('Sobreviventes')\n",
        "\n",
        "# Distribuição de sobreviventes em função:\n",
        "# - do gênero dos passageiros\n",
        "'Complete aqui!'\n",
        "\n",
        "# - da classe dos passageiros\n",
        "'Complete aqui!'\n",
        "\n",
        "# - do local de embarque dos passageiros\n",
        "'Complete aqui!'\n",
        "\n",
        "plt.tight_layout()\n",
        "plt.show()"
      ],
      "metadata": {
        "id": "-WHyS13W9XRt"
      },
      "execution_count": null,
      "outputs": []
    },
    {
      "cell_type": "markdown",
      "source": [
        "**d)** O número de sobreviventes em cada classe, por gênero."
      ],
      "metadata": {
        "id": "RqcVLi4AE5I1"
      }
    },
    {
      "cell_type": "code",
      "source": [
        "'Complete aqui!'\n",
        "plt.tight_layout()\n",
        "plt.title('Sobreviventes por gênero / classe')\n",
        "plt.ylabel('Número de sobreviventes')\n",
        "plt.show()"
      ],
      "metadata": {
        "id": "24SjVaOtBxtn"
      },
      "execution_count": null,
      "outputs": []
    },
    {
      "cell_type": "markdown",
      "source": [
        "**e)** A distribuição de idade dos passageiros, em classes com amplitude de 5 anos."
      ],
      "metadata": {
        "id": "SbpLNKolGbJF"
      }
    },
    {
      "cell_type": "code",
      "source": [
        "'Complete aqui!'\n",
        "\n",
        "plt.title('Distribuição de idades dos passageiros')\n",
        "plt.xlabel('Idade')\n",
        "plt.ylabel('Número de passageiros')\n",
        "plt.show()"
      ],
      "metadata": {
        "id": "PQfMTV-cD0Tx"
      },
      "execution_count": null,
      "outputs": []
    },
    {
      "cell_type": "markdown",
      "source": [
        "**f)** A distribuição de idades dos passageiros que não sobreviveram ao naufrágio."
      ],
      "metadata": {
        "id": "Tt9HTWAaIdHD"
      }
    },
    {
      "cell_type": "code",
      "source": [
        "'Complete aqui!'\n",
        "\n",
        "plt.title('Distribuição de idades dos passageiros\\n mortos no naufrágio')\n",
        "plt.xlabel('Idade')\n",
        "plt.ylabel('Número de passageiros')\n",
        "plt.show()"
      ],
      "metadata": {
        "id": "1JXV1xR5IlHg"
      },
      "execution_count": null,
      "outputs": []
    },
    {
      "cell_type": "markdown",
      "source": [
        "**g)** A distribuição de idades dos passageiros que sobreviveram ao naufrágio."
      ],
      "metadata": {
        "id": "Lynv3x07KNjB"
      }
    },
    {
      "cell_type": "code",
      "source": [
        "'Complete aqui!'\n",
        "\n",
        "plt.title('Distribuição de idades dos passageiros\\n que sobreviveram ao naufrágio')\n",
        "plt.xlabel('Idade')\n",
        "plt.ylabel('Número de passageiros')\n",
        "plt.show()"
      ],
      "metadata": {
        "id": "6flHovwoNCJz"
      },
      "execution_count": null,
      "outputs": []
    },
    {
      "cell_type": "markdown",
      "source": [
        "**h)** A distribuição de idades dos passageiros, identificando possíveis *oultiers*."
      ],
      "metadata": {
        "id": "pI3bHeJvKvcs"
      }
    },
    {
      "cell_type": "code",
      "source": [
        "# Descrição geral do conjunto de dados\n",
        "'Complete aqui!'"
      ],
      "metadata": {
        "id": "m6VNAVPMLaHh"
      },
      "execution_count": null,
      "outputs": []
    },
    {
      "cell_type": "code",
      "source": [
        "# Quartis da distribuição de idades\n",
        "quartis = 'Complete aqui!'\n",
        "display(quartis)"
      ],
      "metadata": {
        "id": "ttG8xupkL7dQ"
      },
      "execution_count": null,
      "outputs": []
    },
    {
      "cell_type": "code",
      "source": [
        "# Calculando a amplitude interquartil\n",
        "interquartil = 'Complete aqui!'\n",
        "print(f'Amplitude interquartil: {interquartil} anos')"
      ],
      "metadata": {
        "id": "G97eBI11MS4D"
      },
      "execution_count": null,
      "outputs": []
    },
    {
      "cell_type": "code",
      "source": [
        "# Limites para detecção de outliers\n",
        "lim_min = 'Complete aqui!'\n",
        "lim_max = 'Complete aqui!'\n",
        "print('Limites de detecção para outliers:')\n",
        "print(f'Inferior = {lim_min}')\n",
        "print(f'Superior = {lim_max}')"
      ],
      "metadata": {
        "id": "9skGtb73MZ8J"
      },
      "execution_count": null,
      "outputs": []
    },
    {
      "cell_type": "code",
      "source": [
        "# Procurando por outliers\n",
        "out_inf = 'Complete aqui!'\n",
        "print('Outlier inferior:')\n",
        "display(out_inf.sort_values(axis=0))\n",
        "\n",
        "out_sup = 'Complete aqui!'\n",
        "print('\\nOutlier superior:')\n",
        "display(out_sup.sort_values(axis=0))"
      ],
      "metadata": {
        "id": "B_6XpWJKMgrA"
      },
      "execution_count": null,
      "outputs": []
    },
    {
      "cell_type": "code",
      "source": [
        "# Boxplot\n",
        "'Complete aqui!'\n",
        "\n",
        "plt.xlabel('Idade')\n",
        "plt.show()"
      ],
      "metadata": {
        "id": "adkXjICYPMRq"
      },
      "execution_count": null,
      "outputs": []
    },
    {
      "cell_type": "markdown",
      "source": [
        "**i)** A distribuição de idades dos passageiros, por gênero, identificando possíveis *outliers*."
      ],
      "metadata": {
        "id": "zTDIMn_3NyWo"
      }
    },
    {
      "cell_type": "code",
      "source": [
        "# Boxplot\n",
        "'Complete aqui!'\n",
        "\n",
        "plt.suptitle('')\n",
        "plt.xlabel('Idade')\n",
        "plt.show()"
      ],
      "metadata": {
        "id": "somA9quIQBW-"
      },
      "execution_count": null,
      "outputs": []
    },
    {
      "cell_type": "markdown",
      "source": [
        "**j)** A distribuição de idades dos passageiros que sobreviveram ou não ao naufrágio, identificando possíveis *outliers*."
      ],
      "metadata": {
        "id": "GjVZZpweOXDw"
      }
    },
    {
      "cell_type": "code",
      "source": [
        "# Boxplot\n",
        "'Complete aqui!'\n",
        "\n",
        "plt.suptitle('')\n",
        "plt.xlabel('Idade')\n",
        "plt.show()"
      ],
      "metadata": {
        "id": "1gWWGPv4QeWq"
      },
      "execution_count": null,
      "outputs": []
    },
    {
      "cell_type": "markdown",
      "source": [
        "## Probabilidades\n",
        "\n",
        "**a)** Construa uma tabela de distribuição conjunta de frequências que relacione a sobrevivência ao naufrágio com o gênero, a classe e a idade (abaixo dos 30 anos) dos passageiros. Essa tabela reùne a contagem de sobreviventes em cada agrupamento."
      ],
      "metadata": {
        "id": "YN6ksmLGPOVo"
      }
    },
    {
      "cell_type": "code",
      "source": [
        "# Contagem de sobrevivência por 'Sex', 'Pclass' e 'Age_Fill' < 30\n",
        "genero = 'Complete aqui!'\n",
        "sobrevivencia = 'Complete aqui!'\n",
        "classe = 'Complete aqui!'\n",
        "jovem = 'Complete aqui!'\n",
        "\n",
        "pd.crosstab('Complete aqui!')"
      ],
      "metadata": {
        "id": "p91xzZWQUaL0"
      },
      "execution_count": null,
      "outputs": []
    },
    {
      "cell_type": "markdown",
      "source": [
        "**b)** Construa uma tabela de distribuição conjunta de frequências que relacione a sobrevivência ao naufrágio com a classe dos passageiros. A seguir, calcule as probabilidades de que um passageiro sorteado aleatoriamente:\n",
        "\n",
        "* tenha sobrevivido, dado que pertencia à 2ª classe;\n",
        "* pertença à 3ª classe, dado que não sobreviveu;\n",
        "* pertença à 1ª classe e não tenha sobrevivido;\n",
        "* tenha sobrevivido ou pertença à 3ª classe.\n"
      ],
      "metadata": {
        "id": "D7gH9YUrQ0ey"
      }
    },
    {
      "cell_type": "code",
      "source": [
        "# Tabela de distribuição conjunta\n",
        "tab = 'Complete aqui!'\n",
        "display(tab)"
      ],
      "metadata": {
        "id": "TyK5UtwBUvbW"
      },
      "execution_count": null,
      "outputs": []
    },
    {
      "cell_type": "code",
      "source": [
        "# P(Sobreviveu | 2ª classe)\n",
        "prob = 'Complete aqui!'\n",
        "print(f'P(Sobreviveu | 2ª classe) = {prob*100:.1f}%')"
      ],
      "metadata": {
        "id": "y-PlBxEzSk7B"
      },
      "execution_count": null,
      "outputs": []
    },
    {
      "cell_type": "code",
      "source": [
        "# P(3ª classe | Não sobreviveu)\n",
        "prob = 'Complete aqui!'\n",
        "print(f'P(3ª classe | Não sobreviveu) = {prob*100:.1f}%')"
      ],
      "metadata": {
        "id": "7tAZRzK2TaI4"
      },
      "execution_count": null,
      "outputs": []
    },
    {
      "cell_type": "code",
      "source": [
        "# P(1ª classe E Não sobreviveu) = P(1ª classe) * P(Não Sobreviveu | 1ª classe)\n",
        "prob1 = 'Complete aqui!'\n",
        "prob2 = 'Complete aqui!'\n",
        "print(f'P(1ª classe E Não sobreviveu) = {prob1*prob2*100:.1f}%')"
      ],
      "metadata": {
        "id": "hUOyPpAPTzqn"
      },
      "execution_count": null,
      "outputs": []
    },
    {
      "cell_type": "code",
      "source": [
        "# P(Sobreviveu OU 3ª classe) = P(Sobreviveu) + P(3ª classe) - P(Sobreviveu E 3ª classe)\n",
        "prob1 = 'Complete aqui!'\n",
        "prob2 = 'Complete aqui!'\n",
        "\n",
        "# P(Sobreviveu E 3ª classe) = P(Sobreviveu) * P(3ª classe | Sobreviveu)\n",
        "prob3 = 'Complete aqui!'\n",
        "\n",
        "print(f'P(Sobreviveu OU 3ª classe) = {(prob1+prob2-prob3)*100:.1f}%')"
      ],
      "metadata": {
        "id": "MMhAAxizVPcO"
      },
      "execution_count": null,
      "outputs": []
    },
    {
      "cell_type": "markdown",
      "source": [
        "**c)** Construa uma tabela de distribuição conjunta de frequências que relacione a sobrevivência ao naufrágio com a idade inferior a 30 anos (jovem). A seguir, calcule as probabilidades de que um passageiro sorteado aleatoriamente:\n",
        "\n",
        "* não tenha sobrevivido, dado que é jovem;\n",
        "* não seja jovem, dado que sobreviveu;\n",
        "* seja jovem e não tenha sobrevivido;\n",
        "* tenha sobrevivido ou não seja jovem.\n"
      ],
      "metadata": {
        "id": "dO4A5FhGW_cL"
      }
    },
    {
      "cell_type": "code",
      "source": [
        "# Tabela de distribuição conjunta\n",
        "tab = 'Complete aqui!'\n",
        "display(tab)"
      ],
      "metadata": {
        "id": "VnhQLCVCU9pf"
      },
      "execution_count": null,
      "outputs": []
    },
    {
      "cell_type": "markdown",
      "source": [
        "**d)** Construa uma tabela de distribuição conjunta de frequências que relacione a sobrevivência ao naufrágio com o gênero dos passageiros. A seguir, calcule as probabilidades de que um passageiro sorteado aleatoriamente:\n",
        "\n",
        "* não tenha sobrevivido, dado que é mulher;\n",
        "* seja homem, dado que sobreviveu;\n",
        "* seja mulher e tenha sobrevivido;\n",
        "* tenha sobrevivido ou seja mulher.\n"
      ],
      "metadata": {
        "id": "RXqOZXYnX1CU"
      }
    },
    {
      "cell_type": "code",
      "source": [
        "# Tabela de distribuição conjunta\n",
        "tab = 'Complete aqui!'\n",
        "display(tab)"
      ],
      "metadata": {
        "id": "jRc59zaZVI0W"
      },
      "execution_count": null,
      "outputs": []
    },
    {
      "cell_type": "markdown",
      "source": [
        "**e)** Construa uma tabela de distribuição conjunta de frequências que relacione a sobrevivência ao naufrágio com a idade superior a 60 anos (idoso). A seguir, calcule as probabilidades de que um passageiro sorteado aleatoriamente:\n",
        "\n",
        "* não tenha sobrevivido, dado que é idoso;\n",
        "* não seja idoso, dado que sobreviveu;\n",
        "* seja idoso e não tenha sobrevivido;\n",
        "* tenha sobrevivido ou não seja idoso.\n"
      ],
      "metadata": {
        "id": "hHzUZnWMYjRK"
      }
    },
    {
      "cell_type": "code",
      "source": [
        "# Filtro de idade > 60 anos\n",
        "idoso = 'Complete aqui!'\n",
        "# Tabela de distribuição conjunta\n",
        "tab = 'Complete aqui!'\n",
        "display(tab)"
      ],
      "metadata": {
        "id": "-trJK0rOVd45"
      },
      "execution_count": null,
      "outputs": []
    }
  ]
}