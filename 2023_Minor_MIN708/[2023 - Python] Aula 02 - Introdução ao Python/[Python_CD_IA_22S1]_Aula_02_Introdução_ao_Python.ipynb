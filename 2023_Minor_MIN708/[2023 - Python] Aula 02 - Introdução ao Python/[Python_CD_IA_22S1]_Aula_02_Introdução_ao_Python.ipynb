{
  "nbformat": 4,
  "nbformat_minor": 0,
  "metadata": {
    "colab": {
      "provenance": []
    },
    "kernelspec": {
      "name": "python3",
      "display_name": "Python 3"
    },
    "language_info": {
      "name": "python"
    }
  },
  "cells": [
    {
      "cell_type": "markdown",
      "source": [
        "# Introdução ao Python\n",
        "## Exibição de dados:"
      ],
      "metadata": {
        "id": "kq6WJw1ximRM"
      }
    },
    {
      "cell_type": "code",
      "execution_count": null,
      "metadata": {
        "colab": {
          "base_uri": "https://localhost:8080/"
        },
        "id": "xI5_BPUshpXl",
        "outputId": "1dfee24d-188d-4ded-d4fb-ed019799b327"
      },
      "outputs": [
        {
          "output_type": "stream",
          "name": "stdout",
          "text": [
            "Alô Mundo!\n"
          ]
        }
      ],
      "source": [
        "print(\"Alô Mundo!\")"
      ]
    },
    {
      "cell_type": "code",
      "source": [
        "print(\"Sam's Club\")"
      ],
      "metadata": {
        "colab": {
          "base_uri": "https://localhost:8080/"
        },
        "id": "c0UtKRVLi1co",
        "outputId": "0f2d81e2-f75f-4f5a-c4dc-697e89e00a7b"
      },
      "execution_count": null,
      "outputs": [
        {
          "output_type": "stream",
          "name": "stdout",
          "text": [
            "Sam's Club\n"
          ]
        }
      ]
    },
    {
      "cell_type": "code",
      "source": [
        "print('Ele disse: \"Oi\"')"
      ],
      "metadata": {
        "colab": {
          "base_uri": "https://localhost:8080/"
        },
        "id": "aJxjCW2TjESg",
        "outputId": "465df5e8-2604-46e6-975e-3a267f0a02bc"
      },
      "execution_count": null,
      "outputs": [
        {
          "output_type": "stream",
          "name": "stdout",
          "text": [
            "Ele disse: \"Oi\"\n"
          ]
        }
      ]
    },
    {
      "cell_type": "code",
      "source": [
        "print(\"\"\"saddaS\n",
        "sdfasd\n",
        "sad\n",
        "fasdfas\n",
        "dfasdfa\n",
        "sdfasfasdfasfdDadssasdfgsdfgsdfgsdfg\"\"\")"
      ],
      "metadata": {
        "colab": {
          "base_uri": "https://localhost:8080/"
        },
        "id": "vws7SiJ3jLj7",
        "outputId": "1f9fa24f-b3bc-4e89-ae68-c7e39f3c8bc3"
      },
      "execution_count": null,
      "outputs": [
        {
          "output_type": "stream",
          "name": "stdout",
          "text": [
            "saddaS\n",
            "sdfasd\n",
            "sad\n",
            "fasdfas\n",
            "dfasdfa\n",
            "sdfasfasdfasfdDadssasdfgsdfgsdfgsdfg\n"
          ]
        }
      ]
    },
    {
      "cell_type": "code",
      "source": [
        "print('''sdfsafads\n",
        "safdsdad\n",
        "fds\n",
        "ds\n",
        "fds\n",
        "fasz\n",
        "dfas\n",
        "dfa\n",
        "sdfasda''')"
      ],
      "metadata": {
        "colab": {
          "base_uri": "https://localhost:8080/"
        },
        "id": "F51m0dC6jbfb",
        "outputId": "9a18dc11-792a-4e03-c4d8-231b48433f54"
      },
      "execution_count": null,
      "outputs": [
        {
          "output_type": "stream",
          "name": "stdout",
          "text": [
            "sdfsafads\n",
            "safdsdad\n",
            "fds\n",
            "ds\n",
            "fds\n",
            "fasz\n",
            "dfas\n",
            "dfa\n",
            "sdfasda\n"
          ]
        }
      ]
    },
    {
      "cell_type": "markdown",
      "source": [
        "## Variáveis:"
      ],
      "metadata": {
        "id": "-QKUk6L1j5zJ"
      }
    },
    {
      "cell_type": "code",
      "source": [
        "A = 12"
      ],
      "metadata": {
        "id": "5Rwf3fvcjvcM"
      },
      "execution_count": null,
      "outputs": []
    },
    {
      "cell_type": "code",
      "source": [
        "print(A)"
      ],
      "metadata": {
        "colab": {
          "base_uri": "https://localhost:8080/"
        },
        "id": "euwfNNoekJdw",
        "outputId": "8491e9dd-f605-449b-f75a-7cfaf7c3eec3"
      },
      "execution_count": null,
      "outputs": [
        {
          "output_type": "stream",
          "name": "stdout",
          "text": [
            "12\n"
          ]
        }
      ]
    },
    {
      "cell_type": "code",
      "source": [
        "A"
      ],
      "metadata": {
        "colab": {
          "base_uri": "https://localhost:8080/"
        },
        "id": "ltUqM8h0kPRb",
        "outputId": "f3a3e3c5-8f6b-48ee-8f15-b457b90559ed"
      },
      "execution_count": null,
      "outputs": [
        {
          "output_type": "execute_result",
          "data": {
            "text/plain": [
              "12"
            ]
          },
          "metadata": {},
          "execution_count": 9
        }
      ]
    },
    {
      "cell_type": "code",
      "source": [
        "texto = \"sdfasdshfdfssdf\""
      ],
      "metadata": {
        "id": "uffsiyrEkR9x"
      },
      "execution_count": null,
      "outputs": []
    },
    {
      "cell_type": "code",
      "source": [
        "texto"
      ],
      "metadata": {
        "colab": {
          "base_uri": "https://localhost:8080/",
          "height": 35
        },
        "id": "CGldGURakX1h",
        "outputId": "62bfd0c1-cc10-4b73-ebca-76e39fe16de6"
      },
      "execution_count": null,
      "outputs": [
        {
          "output_type": "execute_result",
          "data": {
            "text/plain": [
              "'sdfasdshfdfssdf'"
            ],
            "application/vnd.google.colaboratory.intrinsic+json": {
              "type": "string"
            }
          },
          "metadata": {},
          "execution_count": 11
        }
      ]
    },
    {
      "cell_type": "code",
      "source": [
        "texto = \"\"\"sfdaafds\n",
        "fdas\n",
        "fdas\n",
        "afds\n",
        "afds\n",
        "dgshjgshfgdsfsgdfsdaf\"\"\"\n",
        "\n",
        "texto"
      ],
      "metadata": {
        "colab": {
          "base_uri": "https://localhost:8080/",
          "height": 35
        },
        "id": "trNVWuMvkYcj",
        "outputId": "c999a7b0-1b1b-453e-8e37-cf68c3d417a3"
      },
      "execution_count": null,
      "outputs": [
        {
          "output_type": "execute_result",
          "data": {
            "text/plain": [
              "'sfdaafds\\nfdas\\nfdas\\nafds\\nafds\\ndgshjgshfgdsfsgdfsdaf'"
            ],
            "application/vnd.google.colaboratory.intrinsic+json": {
              "type": "string"
            }
          },
          "metadata": {},
          "execution_count": 16
        }
      ]
    },
    {
      "cell_type": "code",
      "source": [
        "print(texto)"
      ],
      "metadata": {
        "colab": {
          "base_uri": "https://localhost:8080/"
        },
        "id": "4R3ynv7GkdHa",
        "outputId": "39733263-8172-4650-8de5-f11bb611c905"
      },
      "execution_count": null,
      "outputs": [
        {
          "output_type": "stream",
          "name": "stdout",
          "text": [
            "sfdaafds\n",
            "fdas\n",
            "fdas\n",
            "afds\n",
            "afds\n",
            "dgshjgshfgdsfsgdfsdaf\n"
          ]
        }
      ]
    },
    {
      "cell_type": "code",
      "source": [
        "A = \"não é inteiro\""
      ],
      "metadata": {
        "id": "4LQsqoaFknDJ"
      },
      "execution_count": null,
      "outputs": []
    },
    {
      "cell_type": "code",
      "source": [
        "A"
      ],
      "metadata": {
        "colab": {
          "base_uri": "https://localhost:8080/",
          "height": 35
        },
        "id": "J2aTp1_RlJLA",
        "outputId": "c2f6e62c-311c-45c8-f4e1-456ad0866781"
      },
      "execution_count": null,
      "outputs": [
        {
          "output_type": "execute_result",
          "data": {
            "text/plain": [
              "'não é inteiro'"
            ],
            "application/vnd.google.colaboratory.intrinsic+json": {
              "type": "string"
            }
          },
          "metadata": {},
          "execution_count": 19
        }
      ]
    },
    {
      "cell_type": "code",
      "source": [
        "print(A)"
      ],
      "metadata": {
        "colab": {
          "base_uri": "https://localhost:8080/"
        },
        "id": "fJ2dRtzylJso",
        "outputId": "c141edbc-12a8-4ad4-accb-3657d3baa62a"
      },
      "execution_count": null,
      "outputs": [
        {
          "output_type": "stream",
          "name": "stdout",
          "text": [
            "não é inteiro\n"
          ]
        }
      ]
    },
    {
      "cell_type": "code",
      "source": [
        "print(a)"
      ],
      "metadata": {
        "colab": {
          "base_uri": "https://localhost:8080/",
          "height": 167
        },
        "id": "RGDgZb2qlWYS",
        "outputId": "e77b14a8-daeb-43e5-86a5-97bccba2c419"
      },
      "execution_count": null,
      "outputs": [
        {
          "output_type": "error",
          "ename": "NameError",
          "evalue": "ignored",
          "traceback": [
            "\u001b[0;31m---------------------------------------------------------------------------\u001b[0m",
            "\u001b[0;31mNameError\u001b[0m                                 Traceback (most recent call last)",
            "\u001b[0;32m<ipython-input-21-bca0e2660b9f>\u001b[0m in \u001b[0;36m<module>\u001b[0;34m()\u001b[0m\n\u001b[0;32m----> 1\u001b[0;31m \u001b[0mprint\u001b[0m\u001b[0;34m(\u001b[0m\u001b[0ma\u001b[0m\u001b[0;34m)\u001b[0m\u001b[0;34m\u001b[0m\u001b[0;34m\u001b[0m\u001b[0m\n\u001b[0m",
            "\u001b[0;31mNameError\u001b[0m: name 'a' is not defined"
          ]
        }
      ]
    },
    {
      "cell_type": "code",
      "source": [
        "2+2"
      ],
      "metadata": {
        "colab": {
          "base_uri": "https://localhost:8080/"
        },
        "id": "N0M8s6CblXi3",
        "outputId": "6889bd75-aafc-462a-ece0-567bab94aa2d"
      },
      "execution_count": null,
      "outputs": [
        {
          "output_type": "execute_result",
          "data": {
            "text/plain": [
              "4"
            ]
          },
          "metadata": {},
          "execution_count": 23
        }
      ]
    },
    {
      "cell_type": "code",
      "source": [
        "_"
      ],
      "metadata": {
        "colab": {
          "base_uri": "https://localhost:8080/"
        },
        "id": "zMgXpGtklZCV",
        "outputId": "d3e49b5d-1604-4b8c-dd35-a003369df35b"
      },
      "execution_count": null,
      "outputs": [
        {
          "output_type": "execute_result",
          "data": {
            "text/plain": [
              "4"
            ]
          },
          "metadata": {},
          "execution_count": 24
        }
      ]
    },
    {
      "cell_type": "code",
      "source": [
        "\"qualquer coisa\""
      ],
      "metadata": {
        "colab": {
          "base_uri": "https://localhost:8080/",
          "height": 35
        },
        "id": "aDqp8LGClrrn",
        "outputId": "bc36827d-1de3-4baa-8711-524a39cb2975"
      },
      "execution_count": null,
      "outputs": [
        {
          "output_type": "execute_result",
          "data": {
            "text/plain": [
              "'qualquer coisa'"
            ],
            "application/vnd.google.colaboratory.intrinsic+json": {
              "type": "string"
            }
          },
          "metadata": {},
          "execution_count": 25
        }
      ]
    },
    {
      "cell_type": "code",
      "source": [
        "_"
      ],
      "metadata": {
        "colab": {
          "base_uri": "https://localhost:8080/",
          "height": 35
        },
        "id": "lpzr-8zQl33F",
        "outputId": "74fc5288-f98b-45c1-c673-a60af6c9e902"
      },
      "execution_count": null,
      "outputs": [
        {
          "output_type": "execute_result",
          "data": {
            "text/plain": [
              "'qualquer coisa'"
            ],
            "application/vnd.google.colaboratory.intrinsic+json": {
              "type": "string"
            }
          },
          "metadata": {},
          "execution_count": 26
        }
      ]
    },
    {
      "cell_type": "code",
      "source": [
        "x = _"
      ],
      "metadata": {
        "id": "GGFNGRqWl48r"
      },
      "execution_count": null,
      "outputs": []
    },
    {
      "cell_type": "code",
      "source": [
        "x"
      ],
      "metadata": {
        "colab": {
          "base_uri": "https://localhost:8080/",
          "height": 35
        },
        "id": "Tq0-x3S-mGQK",
        "outputId": "891e125c-6115-4267-e2c7-93f614201cbb"
      },
      "execution_count": null,
      "outputs": [
        {
          "output_type": "execute_result",
          "data": {
            "text/plain": [
              "'qualquer coisa'"
            ],
            "application/vnd.google.colaboratory.intrinsic+json": {
              "type": "string"
            }
          },
          "metadata": {},
          "execution_count": 28
        }
      ]
    },
    {
      "cell_type": "code",
      "source": [
        "média = 6.0\n",
        "print(média)"
      ],
      "metadata": {
        "colab": {
          "base_uri": "https://localhost:8080/"
        },
        "id": "Mi-RNUZBmHGp",
        "outputId": "00451e3a-f56c-45c9-c40b-314df5c39d78"
      },
      "execution_count": null,
      "outputs": [
        {
          "output_type": "stream",
          "name": "stdout",
          "text": [
            "6.0\n"
          ]
        }
      ]
    },
    {
      "cell_type": "code",
      "source": [
        "# Cuidado!\n",
        "x = 2,2\n",
        "print(x)"
      ],
      "metadata": {
        "colab": {
          "base_uri": "https://localhost:8080/"
        },
        "id": "VTrfK7qjmYJ2",
        "outputId": "c25a5804-8483-4f96-eb85-66d881e3e030"
      },
      "execution_count": null,
      "outputs": [
        {
          "output_type": "stream",
          "name": "stdout",
          "text": [
            "(2, 2)\n"
          ]
        }
      ]
    },
    {
      "cell_type": "code",
      "source": [
        "# Números float (reais) escreve com .\n",
        "x = 2.2\n",
        "print(x)"
      ],
      "metadata": {
        "colab": {
          "base_uri": "https://localhost:8080/"
        },
        "id": "WB53MpVMnX_C",
        "outputId": "00597e25-6af3-4a22-8060-4391482b4022"
      },
      "execution_count": null,
      "outputs": [
        {
          "output_type": "stream",
          "name": "stdout",
          "text": [
            "2.2\n"
          ]
        }
      ]
    },
    {
      "cell_type": "markdown",
      "source": [
        "## Tipos de dados básicos:"
      ],
      "metadata": {
        "id": "X5W20ae-nsoW"
      }
    },
    {
      "cell_type": "code",
      "source": [
        "# str\n",
        "x = \"Isto é um texto\"\n",
        "x"
      ],
      "metadata": {
        "colab": {
          "base_uri": "https://localhost:8080/",
          "height": 35
        },
        "id": "RIM_iwzynoXz",
        "outputId": "521ae1bf-a87b-4b44-df7e-84448ef3c81d"
      },
      "execution_count": null,
      "outputs": [
        {
          "output_type": "execute_result",
          "data": {
            "text/plain": [
              "'Isto é um texto'"
            ],
            "application/vnd.google.colaboratory.intrinsic+json": {
              "type": "string"
            }
          },
          "metadata": {},
          "execution_count": 32
        }
      ]
    },
    {
      "cell_type": "code",
      "source": [
        "# int\n",
        "x = 2\n",
        "x"
      ],
      "metadata": {
        "colab": {
          "base_uri": "https://localhost:8080/"
        },
        "id": "jEXNSRnBn-ad",
        "outputId": "a8cd2e28-3a7e-450a-dee4-e797113456da"
      },
      "execution_count": null,
      "outputs": [
        {
          "output_type": "execute_result",
          "data": {
            "text/plain": [
              "2"
            ]
          },
          "metadata": {},
          "execution_count": 33
        }
      ]
    },
    {
      "cell_type": "code",
      "source": [
        "# float\n",
        "x = 5.2\n",
        "x"
      ],
      "metadata": {
        "colab": {
          "base_uri": "https://localhost:8080/"
        },
        "id": "mfgpAaTsoCfu",
        "outputId": "ded864b8-2250-4e86-d10b-146b056e7315"
      },
      "execution_count": null,
      "outputs": [
        {
          "output_type": "execute_result",
          "data": {
            "text/plain": [
              "5.2"
            ]
          },
          "metadata": {},
          "execution_count": 34
        }
      ]
    },
    {
      "cell_type": "code",
      "source": [
        "# bool\n",
        "x = True\n",
        "x"
      ],
      "metadata": {
        "colab": {
          "base_uri": "https://localhost:8080/"
        },
        "id": "BBOzqX-XoFkS",
        "outputId": "a9c13d73-ee6c-4d4c-fed3-46f85a1d91a2"
      },
      "execution_count": null,
      "outputs": [
        {
          "output_type": "execute_result",
          "data": {
            "text/plain": [
              "True"
            ]
          },
          "metadata": {},
          "execution_count": 35
        }
      ]
    },
    {
      "cell_type": "code",
      "source": [
        "x = False\n",
        "x"
      ],
      "metadata": {
        "colab": {
          "base_uri": "https://localhost:8080/"
        },
        "id": "fnInbTxpoPLN",
        "outputId": "54f6a01b-ecd5-41e5-af1c-fbe5dac8ec33"
      },
      "execution_count": null,
      "outputs": [
        {
          "output_type": "execute_result",
          "data": {
            "text/plain": [
              "False"
            ]
          },
          "metadata": {},
          "execution_count": 37
        }
      ]
    },
    {
      "cell_type": "code",
      "source": [
        "x = 2 < 3\n",
        "x"
      ],
      "metadata": {
        "colab": {
          "base_uri": "https://localhost:8080/"
        },
        "id": "Bpe-RfmGoRuw",
        "outputId": "36c26c37-dd94-44c8-9934-97500330ec06"
      },
      "execution_count": null,
      "outputs": [
        {
          "output_type": "execute_result",
          "data": {
            "text/plain": [
              "True"
            ]
          },
          "metadata": {},
          "execution_count": 38
        }
      ]
    },
    {
      "cell_type": "markdown",
      "source": [
        "## Operações:"
      ],
      "metadata": {
        "id": "zPPq1RHdohZq"
      }
    },
    {
      "cell_type": "code",
      "source": [
        "A = 5\n",
        "B = 2"
      ],
      "metadata": {
        "id": "wp6sTTKcoZf_"
      },
      "execution_count": null,
      "outputs": []
    },
    {
      "cell_type": "code",
      "source": [
        "print(A+B)\n",
        "print(A-B)\n",
        "print(A*B)\n",
        "print(A/B)\n",
        "print(A**B)\n",
        "print(A//B)\n",
        "print(A%B)"
      ],
      "metadata": {
        "colab": {
          "base_uri": "https://localhost:8080/"
        },
        "id": "0H9L5EZyomAJ",
        "outputId": "379c1336-96d9-45e4-c616-b7ed139f54af"
      },
      "execution_count": null,
      "outputs": [
        {
          "output_type": "stream",
          "name": "stdout",
          "text": [
            "7\n",
            "3\n",
            "10\n",
            "2.5\n",
            "25\n",
            "2\n",
            "1\n"
          ]
        }
      ]
    },
    {
      "cell_type": "code",
      "source": [
        "texto1 = \"bana\"\n",
        "texto2 = \"na\"\n",
        "\n",
        "print(texto1+texto2)"
      ],
      "metadata": {
        "colab": {
          "base_uri": "https://localhost:8080/"
        },
        "id": "2l3tw_fko5Py",
        "outputId": "087793c9-e3df-40ec-c901-40a7e98a78a3"
      },
      "execution_count": null,
      "outputs": [
        {
          "output_type": "stream",
          "name": "stdout",
          "text": [
            "banana\n"
          ]
        }
      ]
    },
    {
      "cell_type": "code",
      "source": [
        "print((texto1+texto2+\" \")*3)"
      ],
      "metadata": {
        "colab": {
          "base_uri": "https://localhost:8080/"
        },
        "id": "P_74_yJUp4rk",
        "outputId": "c6ece2be-6f0e-4fd6-b5bd-54addb3ed720"
      },
      "execution_count": null,
      "outputs": [
        {
          "output_type": "stream",
          "name": "stdout",
          "text": [
            "banana banana banana \n"
          ]
        }
      ]
    },
    {
      "cell_type": "code",
      "source": [
        "1+\"2\""
      ],
      "metadata": {
        "colab": {
          "base_uri": "https://localhost:8080/",
          "height": 167
        },
        "id": "nLJ90FugqEiZ",
        "outputId": "82a8beda-4987-465d-b83f-959bf8f816f5"
      },
      "execution_count": null,
      "outputs": [
        {
          "output_type": "error",
          "ename": "TypeError",
          "evalue": "ignored",
          "traceback": [
            "\u001b[0;31m---------------------------------------------------------------------------\u001b[0m",
            "\u001b[0;31mTypeError\u001b[0m                                 Traceback (most recent call last)",
            "\u001b[0;32m<ipython-input-50-eb3254b4405f>\u001b[0m in \u001b[0;36m<module>\u001b[0;34m()\u001b[0m\n\u001b[0;32m----> 1\u001b[0;31m \u001b[0;36m1\u001b[0m\u001b[0;34m+\u001b[0m\u001b[0;34m\"2\"\u001b[0m\u001b[0;34m\u001b[0m\u001b[0;34m\u001b[0m\u001b[0m\n\u001b[0m",
            "\u001b[0;31mTypeError\u001b[0m: unsupported operand type(s) for +: 'int' and 'str'"
          ]
        }
      ]
    },
    {
      "cell_type": "code",
      "source": [
        "str(1)+\"2\""
      ],
      "metadata": {
        "colab": {
          "base_uri": "https://localhost:8080/",
          "height": 35
        },
        "id": "Q_6slPt_qjVt",
        "outputId": "842052dd-6982-4d88-de50-a26f730fdbaa"
      },
      "execution_count": null,
      "outputs": [
        {
          "output_type": "execute_result",
          "data": {
            "text/plain": [
              "'12'"
            ],
            "application/vnd.google.colaboratory.intrinsic+json": {
              "type": "string"
            }
          },
          "metadata": {},
          "execution_count": 51
        }
      ]
    },
    {
      "cell_type": "markdown",
      "source": [
        "## Entrada de Dados:"
      ],
      "metadata": {
        "id": "votz0KwDrEWf"
      }
    },
    {
      "cell_type": "code",
      "source": [
        "x = input(\"Digite x: \")\n",
        "x"
      ],
      "metadata": {
        "colab": {
          "base_uri": "https://localhost:8080/",
          "height": 53
        },
        "id": "sxlJfuCkq_ic",
        "outputId": "105b8ed5-01d0-4743-b090-4232fec59ef3"
      },
      "execution_count": null,
      "outputs": [
        {
          "name": "stdout",
          "output_type": "stream",
          "text": [
            "Digite x: bana\n"
          ]
        },
        {
          "output_type": "execute_result",
          "data": {
            "text/plain": [
              "'bana'"
            ],
            "application/vnd.google.colaboratory.intrinsic+json": {
              "type": "string"
            }
          },
          "metadata": {},
          "execution_count": 55
        }
      ]
    },
    {
      "cell_type": "code",
      "source": [
        "y = input(\"Digite y: \")\n",
        "y"
      ],
      "metadata": {
        "colab": {
          "base_uri": "https://localhost:8080/",
          "height": 53
        },
        "id": "ewueSdicrazT",
        "outputId": "ce181b0b-6bdb-4a9d-ea8b-2a25d40faa79"
      },
      "execution_count": null,
      "outputs": [
        {
          "name": "stdout",
          "output_type": "stream",
          "text": [
            "Digite y: na\n"
          ]
        },
        {
          "output_type": "execute_result",
          "data": {
            "text/plain": [
              "'na'"
            ],
            "application/vnd.google.colaboratory.intrinsic+json": {
              "type": "string"
            }
          },
          "metadata": {},
          "execution_count": 56
        }
      ]
    },
    {
      "cell_type": "code",
      "source": [
        "x+y"
      ],
      "metadata": {
        "colab": {
          "base_uri": "https://localhost:8080/",
          "height": 35
        },
        "id": "jOYuVghbrgJy",
        "outputId": "e3e91f16-3645-40cf-dad7-e77d150c7adf"
      },
      "execution_count": null,
      "outputs": [
        {
          "output_type": "execute_result",
          "data": {
            "text/plain": [
              "'banana'"
            ],
            "application/vnd.google.colaboratory.intrinsic+json": {
              "type": "string"
            }
          },
          "metadata": {},
          "execution_count": 57
        }
      ]
    },
    {
      "cell_type": "code",
      "source": [
        "x = int(input(\"Digite x: \"))\n",
        "x"
      ],
      "metadata": {
        "colab": {
          "base_uri": "https://localhost:8080/"
        },
        "id": "I02tAxO7rjEp",
        "outputId": "2a2a9edd-1f7b-4e8c-8746-c82aac356039"
      },
      "execution_count": null,
      "outputs": [
        {
          "name": "stdout",
          "output_type": "stream",
          "text": [
            "Digite x: 12\n"
          ]
        },
        {
          "output_type": "execute_result",
          "data": {
            "text/plain": [
              "12"
            ]
          },
          "metadata": {},
          "execution_count": 60
        }
      ]
    },
    {
      "cell_type": "code",
      "source": [
        "y = float(input(\"Digite y: \"))\n",
        "y"
      ],
      "metadata": {
        "colab": {
          "base_uri": "https://localhost:8080/"
        },
        "id": "3-EdrzT6rwQt",
        "outputId": "ef995976-bfe6-4bfb-80a8-a9f37e351d69"
      },
      "execution_count": null,
      "outputs": [
        {
          "name": "stdout",
          "output_type": "stream",
          "text": [
            "Digite y: 3\n"
          ]
        },
        {
          "output_type": "execute_result",
          "data": {
            "text/plain": [
              "3.0"
            ]
          },
          "metadata": {},
          "execution_count": 61
        }
      ]
    },
    {
      "cell_type": "code",
      "source": [
        "x+y"
      ],
      "metadata": {
        "colab": {
          "base_uri": "https://localhost:8080/"
        },
        "id": "xENPUAarr6_t",
        "outputId": "1247479c-7888-40fa-b2a2-b6af52d6a63e"
      },
      "execution_count": null,
      "outputs": [
        {
          "output_type": "execute_result",
          "data": {
            "text/plain": [
              "15.0"
            ]
          },
          "metadata": {},
          "execution_count": 62
        }
      ]
    },
    {
      "cell_type": "code",
      "source": [
        "z = complex(input(\"Digite z: \"))\n",
        "z"
      ],
      "metadata": {
        "colab": {
          "base_uri": "https://localhost:8080/"
        },
        "id": "K-ss6FibsAOS",
        "outputId": "5b48651d-5cb9-443a-ca1e-5a469ff6854e"
      },
      "execution_count": null,
      "outputs": [
        {
          "name": "stdout",
          "output_type": "stream",
          "text": [
            "Digite z: 2+3j\n"
          ]
        },
        {
          "output_type": "execute_result",
          "data": {
            "text/plain": [
              "(2+3j)"
            ]
          },
          "metadata": {},
          "execution_count": 65
        }
      ]
    },
    {
      "cell_type": "code",
      "source": [
        "x+y+z"
      ],
      "metadata": {
        "colab": {
          "base_uri": "https://localhost:8080/"
        },
        "id": "-252uwBKsGlw",
        "outputId": "9ae0e01c-554a-4a97-e190-6e8d38d1e355"
      },
      "execution_count": null,
      "outputs": [
        {
          "output_type": "execute_result",
          "data": {
            "text/plain": [
              "(17+3j)"
            ]
          },
          "metadata": {},
          "execution_count": 66
        }
      ]
    },
    {
      "cell_type": "markdown",
      "source": [
        "## Exibição/Formatação de Dados:"
      ],
      "metadata": {
        "id": "OZPWJss-siRW"
      }
    },
    {
      "cell_type": "code",
      "source": [
        "x = 10\n",
        "y = 2.3\n",
        "unid = \"m/s\"\n",
        "print(\"O valor de x é \" + str(x))\n",
        "print(\"O valor de x é\", x)\n",
        "print(\"O valor de x é %i\" %x)\n",
        "print(\"O valor de x é %i e o valor de y é %f\" %(x, y))\n",
        "print(\"O valor de x é %5i e o valor de y é %7.2f\" %(x, y))\n",
        "print(\"O valor de x é %i e o valor de y é %.4f\" %(x, y))\n",
        "print(\"O valor de x é %i e o valor de y é %.4f %s\" %(x, y, unid))"
      ],
      "metadata": {
        "colab": {
          "base_uri": "https://localhost:8080/"
        },
        "id": "1-JLrwHSsKPS",
        "outputId": "1f06643e-cb7c-44c8-fb4a-d72989f409b8"
      },
      "execution_count": null,
      "outputs": [
        {
          "output_type": "stream",
          "name": "stdout",
          "text": [
            "O valor de x é 10\n",
            "O valor de x é 10\n",
            "O valor de x é 10\n",
            "O valor de x é 10 e o valor de y é 2.300000\n",
            "O valor de x é    10 e o valor de y é    2.30\n",
            "O valor de x é 10 e o valor de y é 2.3000\n",
            "O valor de x é 10 e o valor de y é 2.3000 m/s\n"
          ]
        }
      ]
    },
    {
      "cell_type": "markdown",
      "source": [
        "## f-string:"
      ],
      "metadata": {
        "id": "xs22OD3HuMie"
      }
    },
    {
      "cell_type": "code",
      "source": [
        "nome = \"Anderson\"\n",
        "sobrenome = \"Harayashiki Moreira\"\n",
        "idade = 36\n",
        "\n",
        "print(f\"Meu nome é {nome} {sobrenome} e eu tenho {idade} anos.\")"
      ],
      "metadata": {
        "colab": {
          "base_uri": "https://localhost:8080/"
        },
        "id": "bflCvEcIs0yY",
        "outputId": "0ff1bf14-3eca-487a-b421-1f6c79c5c23a"
      },
      "execution_count": null,
      "outputs": [
        {
          "output_type": "stream",
          "name": "stdout",
          "text": [
            "Meu nome é Anderson Harayashiki Moreira e eu tenho 36 anos.\n"
          ]
        }
      ]
    },
    {
      "cell_type": "code",
      "source": [
        "salário = 973\n",
        "print(f\"O salário do dia é R${salário:10.2f}\")"
      ],
      "metadata": {
        "colab": {
          "base_uri": "https://localhost:8080/"
        },
        "id": "v6OsDjVAupTY",
        "outputId": "2e7c82b1-63a5-4d43-edc4-ff0e050b2f88"
      },
      "execution_count": null,
      "outputs": [
        {
          "output_type": "stream",
          "name": "stdout",
          "text": [
            "O salário do dia é R$    973.00\n"
          ]
        }
      ]
    },
    {
      "cell_type": "markdown",
      "source": [
        "## Estrutura condicional:\n",
        "\n",
        "### Operação relacional:"
      ],
      "metadata": {
        "id": "gBDQohvMvc4c"
      }
    },
    {
      "cell_type": "code",
      "source": [
        "x = 2\n",
        "y = 3\n",
        "\n",
        "print(x == y)\n",
        "print(x >= y)\n",
        "print(x <= y)\n",
        "print(x > y)\n",
        "print(x < y)\n",
        "print(x != y)"
      ],
      "metadata": {
        "colab": {
          "base_uri": "https://localhost:8080/"
        },
        "id": "MRHsx2gru-7G",
        "outputId": "e24c08af-0130-4704-98aa-e01bfad349f1"
      },
      "execution_count": null,
      "outputs": [
        {
          "output_type": "stream",
          "name": "stdout",
          "text": [
            "False\n",
            "False\n",
            "True\n",
            "False\n",
            "True\n",
            "True\n"
          ]
        }
      ]
    },
    {
      "cell_type": "code",
      "source": [
        "if expressão:\n",
        "  # o que é executado quando é True\n",
        "elif expressão2:\n",
        "  # faz outra pergunta quando a primeira pergunta é False\n",
        "else:\n",
        "  # o que é executado quando é False"
      ],
      "metadata": {
        "id": "xgSREe0gwBjg"
      },
      "execution_count": null,
      "outputs": []
    },
    {
      "cell_type": "code",
      "source": [
        "# Exemplo:\n",
        "x = int(input(\"Digite o valor de x: \"))\n",
        "\n",
        "if x > 50:\n",
        "  print(\"x > 50\")\n",
        "elif 10 < x <= 50:\n",
        "  print(\"10 < x <= 50\")\n",
        "else:\n",
        "  print(\"x < 10\")"
      ],
      "metadata": {
        "colab": {
          "base_uri": "https://localhost:8080/"
        },
        "id": "4TMhfNLrwrYB",
        "outputId": "1e1e59b0-3bb0-4b53-9c1f-aacee04fd396"
      },
      "execution_count": null,
      "outputs": [
        {
          "output_type": "stream",
          "name": "stdout",
          "text": [
            "Digite o valor de x: 60\n",
            "x > 50\n"
          ]
        }
      ]
    },
    {
      "cell_type": "markdown",
      "source": [
        "###Exercício 1:\n",
        "\n",
        "Cálculo das raízes de um polinômio do segundo grau:\n",
        "\n",
        "$$p(x)=ax^2+bx+c$$"
      ],
      "metadata": {
        "id": "gK_BS5hAxmNW"
      }
    },
    {
      "cell_type": "code",
      "source": [
        "a = float(input(\"Digite o valor de a: \"))\n",
        "b = float(input(\"Digite o valor de b: \"))\n",
        "c = float(input(\"Digite o valor de c: \"))\n",
        "\n",
        "delta = b**2 - 4*a*c\n",
        "if delta > 0:\n",
        "  print(\"Duas raízes reais distintas.\")\n",
        "  x1 = (-b + delta**(1/2))/(2*a)\n",
        "  x2 = (-b - delta**(1/2))/(2*a)\n",
        "  print(\"x1 =\", x1)\n",
        "  print(\"x2 =\", x2)\n",
        "elif delta == 0:\n",
        "  print(\"Duas raízes reais iguais.\")\n",
        "  x = -b/(2*a)\n",
        "  print(\"x1 =\", x)\n",
        "  print(\"x2 =\", x)\n",
        "else:\n",
        "  print(\"Duas raízes complexas conjugadas.\")\n",
        "  x1 = (-b + delta**(1/2))/(2*a)\n",
        "  x2 = (-b - delta**(1/2))/(2*a)\n",
        "  print(\"x1 =\", x1)\n",
        "  print(\"x2 =\", x2)\n",
        "\n"
      ],
      "metadata": {
        "colab": {
          "base_uri": "https://localhost:8080/"
        },
        "id": "_LU6FQoYxdMH",
        "outputId": "128f11b1-ce47-423b-cf49-1468cbd58689"
      },
      "execution_count": null,
      "outputs": [
        {
          "output_type": "stream",
          "name": "stdout",
          "text": [
            "Digite o valor de a: 2\n",
            "Digite o valor de b: -5\n",
            "Digite o valor de c: 2\n",
            "Duas raízes reais distintas.\n",
            "x1 = 2.0\n",
            "x2 = 0.5\n"
          ]
        }
      ]
    },
    {
      "cell_type": "markdown",
      "source": [
        "## Estrutura repetitiva"
      ],
      "metadata": {
        "id": "wzcaSd-C6yxE"
      }
    },
    {
      "cell_type": "markdown",
      "source": [
        "### While:"
      ],
      "metadata": {
        "id": "B8av0hC964Gq"
      }
    },
    {
      "cell_type": "code",
      "source": [
        "i = 0\n",
        "while i < 10:\n",
        "  print(i)\n",
        "  i = i + 1 # i += 1\n",
        "\n",
        "print(\"Fim do while\")"
      ],
      "metadata": {
        "colab": {
          "base_uri": "https://localhost:8080/"
        },
        "id": "H1-mZhQD0GTo",
        "outputId": "3aa94adb-3dfe-492a-c021-e517f780a92c"
      },
      "execution_count": null,
      "outputs": [
        {
          "output_type": "stream",
          "name": "stdout",
          "text": [
            "0\n",
            "1\n",
            "2\n",
            "3\n",
            "4\n",
            "5\n",
            "6\n",
            "7\n",
            "8\n",
            "9\n",
            "Fim do while\n"
          ]
        }
      ]
    },
    {
      "cell_type": "markdown",
      "source": [
        "## Listas:"
      ],
      "metadata": {
        "id": "W8BDSsbO7Sgp"
      }
    },
    {
      "cell_type": "code",
      "source": [
        "L = [1, 2, 3, 4, 5, True, 5.6, \"teste\"]"
      ],
      "metadata": {
        "id": "MZLJSHXv7O24"
      },
      "execution_count": null,
      "outputs": []
    },
    {
      "cell_type": "code",
      "source": [
        "L"
      ],
      "metadata": {
        "colab": {
          "base_uri": "https://localhost:8080/"
        },
        "id": "e6D66NxS7gBu",
        "outputId": "ce7e976c-4f47-4f16-e275-17c935f08d1f"
      },
      "execution_count": null,
      "outputs": [
        {
          "output_type": "execute_result",
          "data": {
            "text/plain": [
              "[1, 2, 3, 4, 5, True, 5.6, 'teste']"
            ]
          },
          "metadata": {},
          "execution_count": 100
        }
      ]
    },
    {
      "cell_type": "code",
      "source": [
        "print(L)"
      ],
      "metadata": {
        "colab": {
          "base_uri": "https://localhost:8080/"
        },
        "id": "G9tEiB5D7gsN",
        "outputId": "d1e42ec8-363c-4cb2-c821-c603d7e9bdac"
      },
      "execution_count": null,
      "outputs": [
        {
          "output_type": "stream",
          "name": "stdout",
          "text": [
            "[1, 2, 3, 4, 5, True, 5.6, 'teste']\n"
          ]
        }
      ]
    },
    {
      "cell_type": "code",
      "source": [
        "i = 0\n",
        "while i < len(L):\n",
        "  print(L[i])\n",
        "  i += 1"
      ],
      "metadata": {
        "colab": {
          "base_uri": "https://localhost:8080/"
        },
        "id": "vStW6Yet7h3N",
        "outputId": "1478eedb-1cf7-4078-c641-8d74f0293f0e"
      },
      "execution_count": null,
      "outputs": [
        {
          "output_type": "stream",
          "name": "stdout",
          "text": [
            "1\n",
            "2\n",
            "3\n",
            "4\n",
            "5\n",
            "True\n",
            "5.6\n",
            "teste\n"
          ]
        }
      ]
    },
    {
      "cell_type": "code",
      "source": [
        "L[1:3]"
      ],
      "metadata": {
        "colab": {
          "base_uri": "https://localhost:8080/"
        },
        "id": "eyYbT5SC7qsf",
        "outputId": "bd997410-cad5-45fd-a109-b287dd9b69a3"
      },
      "execution_count": null,
      "outputs": [
        {
          "output_type": "execute_result",
          "data": {
            "text/plain": [
              "[2, 3]"
            ]
          },
          "metadata": {},
          "execution_count": 103
        }
      ]
    },
    {
      "cell_type": "code",
      "source": [
        "L[0:4]"
      ],
      "metadata": {
        "colab": {
          "base_uri": "https://localhost:8080/"
        },
        "id": "DxVfvvkP78aB",
        "outputId": "d62db426-35c1-434c-d976-dd2b07ea243e"
      },
      "execution_count": null,
      "outputs": [
        {
          "output_type": "execute_result",
          "data": {
            "text/plain": [
              "[1, 2, 3, 4]"
            ]
          },
          "metadata": {},
          "execution_count": 104
        }
      ]
    },
    {
      "cell_type": "code",
      "source": [
        "L[1:]"
      ],
      "metadata": {
        "colab": {
          "base_uri": "https://localhost:8080/"
        },
        "id": "ZcRy2sTd8IzY",
        "outputId": "6fd19838-ac2d-4ba0-b8f8-650748fa7148"
      },
      "execution_count": null,
      "outputs": [
        {
          "output_type": "execute_result",
          "data": {
            "text/plain": [
              "[2, 3, 4, 5, True, 5.6, 'teste']"
            ]
          },
          "metadata": {},
          "execution_count": 105
        }
      ]
    },
    {
      "cell_type": "code",
      "source": [
        "L[:3]"
      ],
      "metadata": {
        "colab": {
          "base_uri": "https://localhost:8080/"
        },
        "id": "XuLOL0yq8QUY",
        "outputId": "5ff5d8f0-2a42-426a-c70a-446528d9d8e2"
      },
      "execution_count": null,
      "outputs": [
        {
          "output_type": "execute_result",
          "data": {
            "text/plain": [
              "[1, 2, 3]"
            ]
          },
          "metadata": {},
          "execution_count": 106
        }
      ]
    },
    {
      "cell_type": "code",
      "source": [
        "L[-1]"
      ],
      "metadata": {
        "colab": {
          "base_uri": "https://localhost:8080/",
          "height": 35
        },
        "id": "ooTD6aXi8WqY",
        "outputId": "f427c593-aee8-4d8f-c68b-6ba19dfae128"
      },
      "execution_count": null,
      "outputs": [
        {
          "output_type": "execute_result",
          "data": {
            "text/plain": [
              "'teste'"
            ],
            "application/vnd.google.colaboratory.intrinsic+json": {
              "type": "string"
            }
          },
          "metadata": {},
          "execution_count": 107
        }
      ]
    },
    {
      "cell_type": "code",
      "source": [
        "L[:-2]"
      ],
      "metadata": {
        "colab": {
          "base_uri": "https://localhost:8080/"
        },
        "id": "Hr3_kSLR8bqI",
        "outputId": "865956b5-90de-4447-af3d-ed3d1eeacd4c"
      },
      "execution_count": null,
      "outputs": [
        {
          "output_type": "execute_result",
          "data": {
            "text/plain": [
              "[1, 2, 3, 4, 5, True]"
            ]
          },
          "metadata": {},
          "execution_count": 108
        }
      ]
    },
    {
      "cell_type": "code",
      "source": [
        "L[-6:-3]"
      ],
      "metadata": {
        "colab": {
          "base_uri": "https://localhost:8080/"
        },
        "id": "a2nVv1LB8mQZ",
        "outputId": "98de610c-2ea0-4fdc-f7c8-41b3d7784cfc"
      },
      "execution_count": null,
      "outputs": [
        {
          "output_type": "execute_result",
          "data": {
            "text/plain": [
              "[3, 4, 5]"
            ]
          },
          "metadata": {},
          "execution_count": 110
        }
      ]
    },
    {
      "cell_type": "code",
      "source": [
        "L[0:6:2]"
      ],
      "metadata": {
        "colab": {
          "base_uri": "https://localhost:8080/"
        },
        "id": "jKZMYYgQ8sXk",
        "outputId": "09236a14-6e19-4149-d277-c77040ea2213"
      },
      "execution_count": null,
      "outputs": [
        {
          "output_type": "execute_result",
          "data": {
            "text/plain": [
              "[1, 3, 5]"
            ]
          },
          "metadata": {},
          "execution_count": 111
        }
      ]
    },
    {
      "cell_type": "code",
      "source": [
        "L[0:7:3]"
      ],
      "metadata": {
        "colab": {
          "base_uri": "https://localhost:8080/"
        },
        "id": "D2_BelMe9BA4",
        "outputId": "b8c33265-dd51-4192-d079-99bfa8a53e36"
      },
      "execution_count": null,
      "outputs": [
        {
          "output_type": "execute_result",
          "data": {
            "text/plain": [
              "[1, 4, 5.6]"
            ]
          },
          "metadata": {},
          "execution_count": 112
        }
      ]
    },
    {
      "cell_type": "code",
      "source": [
        "L[::-1]"
      ],
      "metadata": {
        "colab": {
          "base_uri": "https://localhost:8080/"
        },
        "id": "3pnINXzt9K05",
        "outputId": "79e4108d-c14a-43cf-cca2-ce7ec1818034"
      },
      "execution_count": null,
      "outputs": [
        {
          "output_type": "execute_result",
          "data": {
            "text/plain": [
              "['teste', 5.6, True, 5, 4, 3, 2, 1]"
            ]
          },
          "metadata": {},
          "execution_count": 113
        }
      ]
    },
    {
      "cell_type": "code",
      "source": [
        "texto = \"Este é um teste\"\n",
        "texto[1:3]"
      ],
      "metadata": {
        "colab": {
          "base_uri": "https://localhost:8080/",
          "height": 35
        },
        "id": "joyUvEug9bOQ",
        "outputId": "f6347012-d8cd-4da6-adc7-548007344e76"
      },
      "execution_count": null,
      "outputs": [
        {
          "output_type": "execute_result",
          "data": {
            "text/plain": [
              "'st'"
            ],
            "application/vnd.google.colaboratory.intrinsic+json": {
              "type": "string"
            }
          },
          "metadata": {},
          "execution_count": 114
        }
      ]
    },
    {
      "cell_type": "code",
      "source": [
        "texto[::-1]"
      ],
      "metadata": {
        "colab": {
          "base_uri": "https://localhost:8080/",
          "height": 35
        },
        "id": "7OaGW1tV9nJV",
        "outputId": "9bed1d31-e1d6-4d42-9fcc-1c4e7061b4a0"
      },
      "execution_count": null,
      "outputs": [
        {
          "output_type": "execute_result",
          "data": {
            "text/plain": [
              "'etset mu é etsE'"
            ],
            "application/vnd.google.colaboratory.intrinsic+json": {
              "type": "string"
            }
          },
          "metadata": {},
          "execution_count": 115
        }
      ]
    },
    {
      "cell_type": "code",
      "source": [
        "L"
      ],
      "metadata": {
        "colab": {
          "base_uri": "https://localhost:8080/"
        },
        "id": "arDnjuAy-tgO",
        "outputId": "b49f3583-a306-4917-8085-a45153b02971"
      },
      "execution_count": null,
      "outputs": [
        {
          "output_type": "execute_result",
          "data": {
            "text/plain": [
              "[1, 2, 3, 4, 5, True, 5.6, 'teste']"
            ]
          },
          "metadata": {},
          "execution_count": 122
        }
      ]
    },
    {
      "cell_type": "code",
      "source": [
        "L.append(\"Oi\")"
      ],
      "metadata": {
        "id": "8kTHrRpk-vRS"
      },
      "execution_count": null,
      "outputs": []
    },
    {
      "cell_type": "code",
      "source": [
        "L"
      ],
      "metadata": {
        "colab": {
          "base_uri": "https://localhost:8080/"
        },
        "id": "RA2owNl4-zGq",
        "outputId": "d7c84a8d-7aca-47ae-e383-ddf37a8cfa92"
      },
      "execution_count": null,
      "outputs": [
        {
          "output_type": "execute_result",
          "data": {
            "text/plain": [
              "[1, 2, 3, 4, 5, True, 5.6, 'teste', 'Oi']"
            ]
          },
          "metadata": {},
          "execution_count": 124
        }
      ]
    },
    {
      "cell_type": "code",
      "source": [
        "L.insert(3,12)\n",
        "L"
      ],
      "metadata": {
        "colab": {
          "base_uri": "https://localhost:8080/"
        },
        "id": "Cvpi5Q81-2GQ",
        "outputId": "2872afd9-342f-42d7-d9a1-eda915266415"
      },
      "execution_count": null,
      "outputs": [
        {
          "output_type": "execute_result",
          "data": {
            "text/plain": [
              "[1, 2, 3, 12, 4, 5, True, 5.6, 'teste', 'Oi', 3, 3]"
            ]
          },
          "metadata": {},
          "execution_count": 127
        }
      ]
    },
    {
      "cell_type": "code",
      "source": [
        "L.pop()\n",
        "L"
      ],
      "metadata": {
        "colab": {
          "base_uri": "https://localhost:8080/"
        },
        "id": "IF6nr9JW_HId",
        "outputId": "741d14b6-666d-4ba5-8952-bd257ad253f6"
      },
      "execution_count": null,
      "outputs": [
        {
          "output_type": "execute_result",
          "data": {
            "text/plain": [
              "[1, 2, 3, 12, 4, 5, True, 5.6, 'teste', 'Oi', 3]"
            ]
          },
          "metadata": {},
          "execution_count": 128
        }
      ]
    },
    {
      "cell_type": "code",
      "source": [
        "L.pop(0)\n",
        "L"
      ],
      "metadata": {
        "colab": {
          "base_uri": "https://localhost:8080/"
        },
        "id": "jKnDOKME_MEZ",
        "outputId": "3d681cd6-d0fa-4c60-e226-f7bac77e43c7"
      },
      "execution_count": null,
      "outputs": [
        {
          "output_type": "execute_result",
          "data": {
            "text/plain": [
              "[2, 3, 12, 4, 5, True, 5.6, 'teste', 'Oi', 3]"
            ]
          },
          "metadata": {},
          "execution_count": 129
        }
      ]
    },
    {
      "cell_type": "code",
      "source": [
        "x = L.pop(3)\n",
        "print(L)\n",
        "print(x)"
      ],
      "metadata": {
        "colab": {
          "base_uri": "https://localhost:8080/"
        },
        "id": "AAPanXdP_QWX",
        "outputId": "3faf2958-6184-4cde-e94e-c3334cae6cc3"
      },
      "execution_count": null,
      "outputs": [
        {
          "output_type": "stream",
          "name": "stdout",
          "text": [
            "[2, 3, 12, 5, True, 5.6, 'teste', 'Oi', 3]\n",
            "4\n"
          ]
        }
      ]
    },
    {
      "cell_type": "markdown",
      "source": [
        "### Ordenação:"
      ],
      "metadata": {
        "id": "qYXe84k3_hoQ"
      }
    },
    {
      "cell_type": "code",
      "source": [
        "L.sort()\n",
        "L"
      ],
      "metadata": {
        "colab": {
          "base_uri": "https://localhost:8080/",
          "height": 184
        },
        "id": "rcPPF8oO_lEB",
        "outputId": "6810c6f6-317e-4637-e459-5061e23aba8b"
      },
      "execution_count": null,
      "outputs": [
        {
          "output_type": "error",
          "ename": "TypeError",
          "evalue": "ignored",
          "traceback": [
            "\u001b[0;31m---------------------------------------------------------------------------\u001b[0m",
            "\u001b[0;31mTypeError\u001b[0m                                 Traceback (most recent call last)",
            "\u001b[0;32m<ipython-input-131-867c34b608dc>\u001b[0m in \u001b[0;36m<module>\u001b[0;34m()\u001b[0m\n\u001b[0;32m----> 1\u001b[0;31m \u001b[0mL\u001b[0m\u001b[0;34m.\u001b[0m\u001b[0msort\u001b[0m\u001b[0;34m(\u001b[0m\u001b[0;34m)\u001b[0m\u001b[0;34m\u001b[0m\u001b[0;34m\u001b[0m\u001b[0m\n\u001b[0m\u001b[1;32m      2\u001b[0m \u001b[0mL\u001b[0m\u001b[0;34m\u001b[0m\u001b[0;34m\u001b[0m\u001b[0m\n",
            "\u001b[0;31mTypeError\u001b[0m: '<' not supported between instances of 'str' and 'int'"
          ]
        }
      ]
    },
    {
      "cell_type": "code",
      "source": [
        "L2 = [1, 2, 3, 56, 89,5, -10]\n",
        "L2.sort(reverse = True)\n",
        "L2"
      ],
      "metadata": {
        "colab": {
          "base_uri": "https://localhost:8080/"
        },
        "id": "kAm5aAgM_rtL",
        "outputId": "db69fc30-db8a-4e55-de26-764ff9fd593c"
      },
      "execution_count": null,
      "outputs": [
        {
          "output_type": "execute_result",
          "data": {
            "text/plain": [
              "[89, 56, 5, 3, 2, 1, -10]"
            ]
          },
          "metadata": {},
          "execution_count": 133
        }
      ]
    },
    {
      "cell_type": "code",
      "source": [
        "L2 = [1, 2, 3, 56, 89,5, -10]\n",
        "L2.sort()\n",
        "L2"
      ],
      "metadata": {
        "colab": {
          "base_uri": "https://localhost:8080/"
        },
        "id": "xcyeqXA5_6mm",
        "outputId": "601cedae-ee23-4662-bf77-10e3db2e2a73"
      },
      "execution_count": null,
      "outputs": [
        {
          "output_type": "execute_result",
          "data": {
            "text/plain": [
              "[-10, 1, 2, 3, 5, 56, 89]"
            ]
          },
          "metadata": {},
          "execution_count": 134
        }
      ]
    },
    {
      "cell_type": "code",
      "source": [
        "L3 = [\"banana\", \"maçã\", \"laranja\", \"laranjada\"]\n",
        "L3.sort()\n",
        "L3"
      ],
      "metadata": {
        "colab": {
          "base_uri": "https://localhost:8080/"
        },
        "id": "hsNhMc5DABMF",
        "outputId": "d77ae8a0-23f3-4415-e2be-4c19bfe9e9a5"
      },
      "execution_count": null,
      "outputs": [
        {
          "output_type": "execute_result",
          "data": {
            "text/plain": [
              "['banana', 'laranja', 'laranjada', 'maçã']"
            ]
          },
          "metadata": {},
          "execution_count": 136
        }
      ]
    },
    {
      "cell_type": "markdown",
      "source": [
        "## Estrutura Repetitiva for:"
      ],
      "metadata": {
        "id": "NAQw5_069wuE"
      }
    },
    {
      "cell_type": "code",
      "source": [
        "i = 0\n",
        "while i < len(L):\n",
        "  print(L[i])\n",
        "  i += 1"
      ],
      "metadata": {
        "colab": {
          "base_uri": "https://localhost:8080/"
        },
        "id": "eWQtxmo59p14",
        "outputId": "347e9b70-54ee-4e8f-ecc7-95e28eb962af"
      },
      "execution_count": null,
      "outputs": [
        {
          "output_type": "stream",
          "name": "stdout",
          "text": [
            "1\n",
            "2\n",
            "3\n",
            "4\n",
            "5\n",
            "True\n",
            "5.6\n",
            "teste\n"
          ]
        }
      ]
    },
    {
      "cell_type": "code",
      "source": [
        "for k in L:\n",
        "  print(k)"
      ],
      "metadata": {
        "colab": {
          "base_uri": "https://localhost:8080/"
        },
        "id": "o_005m6J98Qx",
        "outputId": "be713e6d-2c35-432e-b59b-2dac5ff3e89a"
      },
      "execution_count": null,
      "outputs": [
        {
          "output_type": "stream",
          "name": "stdout",
          "text": [
            "1\n",
            "2\n",
            "3\n",
            "4\n",
            "5\n",
            "True\n",
            "5.6\n",
            "teste\n"
          ]
        }
      ]
    },
    {
      "cell_type": "code",
      "source": [
        "for i in range(10):\n",
        "  print(i)"
      ],
      "metadata": {
        "colab": {
          "base_uri": "https://localhost:8080/"
        },
        "id": "BVKw8Ixq-GGf",
        "outputId": "0996c677-8feb-43c8-a9c6-4ae3c55465f3"
      },
      "execution_count": null,
      "outputs": [
        {
          "output_type": "stream",
          "name": "stdout",
          "text": [
            "0\n",
            "1\n",
            "2\n",
            "3\n",
            "4\n",
            "5\n",
            "6\n",
            "7\n",
            "8\n",
            "9\n"
          ]
        }
      ]
    },
    {
      "cell_type": "code",
      "source": [
        "for i in \"teste\":\n",
        "  print(i)"
      ],
      "metadata": {
        "colab": {
          "base_uri": "https://localhost:8080/"
        },
        "id": "qy2Vk0d--UrK",
        "outputId": "6a49aa07-bee2-42ad-f8ae-3ad3f3c3463e"
      },
      "execution_count": null,
      "outputs": [
        {
          "output_type": "stream",
          "name": "stdout",
          "text": [
            "t\n",
            "e\n",
            "s\n",
            "t\n",
            "e\n"
          ]
        }
      ]
    },
    {
      "cell_type": "markdown",
      "source": [
        "### Exercício 2: Crie uma lista com o quadrado dos valores em x:\n",
        "\n",
        "$$x = [1, 2, 3, 4, 5]$$"
      ],
      "metadata": {
        "id": "cGvWZSZhAtsb"
      }
    },
    {
      "cell_type": "code",
      "source": [
        "# Solução do Gabriel\n",
        "x = [1, 2, 3, 4, 5]\n",
        "L_quad = []\n",
        "for i in x:\n",
        "  L_quad.append(i**2)\n",
        "\n",
        "L_quad"
      ],
      "metadata": {
        "colab": {
          "base_uri": "https://localhost:8080/"
        },
        "id": "bsVkz2eL-i--",
        "outputId": "01fd2668-a74a-4a53-cb07-c8b1fdce5aab"
      },
      "execution_count": null,
      "outputs": [
        {
          "output_type": "execute_result",
          "data": {
            "text/plain": [
              "[1, 4, 9, 16, 25]"
            ]
          },
          "metadata": {},
          "execution_count": 137
        }
      ]
    },
    {
      "cell_type": "code",
      "source": [
        "# Solução do Miguel\n",
        "L_quad_2 = []\n",
        "for i in range(len(x)):\n",
        "  L_quad_2.append(x[i]**2)\n",
        "\n",
        "L_quad_2"
      ],
      "metadata": {
        "colab": {
          "base_uri": "https://localhost:8080/"
        },
        "id": "kz8ve6AmB2Zm",
        "outputId": "c90938e5-a01e-4801-aa7a-7855fe5840de"
      },
      "execution_count": null,
      "outputs": [
        {
          "output_type": "execute_result",
          "data": {
            "text/plain": [
              "[1, 4, 9, 16, 25]"
            ]
          },
          "metadata": {},
          "execution_count": 138
        }
      ]
    },
    {
      "cell_type": "markdown",
      "source": [
        "## List Comprehension:"
      ],
      "metadata": {
        "id": "_Wd4HMRGChYl"
      }
    },
    {
      "cell_type": "code",
      "source": [
        "L_quad_Anderson = [i**2 for i in x]\n",
        "L_quad_Anderson"
      ],
      "metadata": {
        "colab": {
          "base_uri": "https://localhost:8080/"
        },
        "id": "wlXLTdowCc31",
        "outputId": "2964b801-86b8-4bbb-f862-f1b7f59ad9f5"
      },
      "execution_count": null,
      "outputs": [
        {
          "output_type": "execute_result",
          "data": {
            "text/plain": [
              "[1, 4, 9, 16, 25]"
            ]
          },
          "metadata": {},
          "execution_count": 139
        }
      ]
    },
    {
      "cell_type": "markdown",
      "source": [
        "### Exercício 3: Crie uma lista com o quadrado dos valores em x dos valores pares:\n",
        "\n",
        "$$x = [1, 2, 3, 4, 5]$$"
      ],
      "metadata": {
        "id": "D3Cl4fU1DPjw"
      }
    },
    {
      "cell_type": "code",
      "source": [
        "x_2 = []\n",
        "for i in x:\n",
        "  if i%2 == 0:\n",
        "    x_2.append(i**2)\n",
        "  else:\n",
        "    x_2.append(i)\n",
        "\n",
        "x_2"
      ],
      "metadata": {
        "colab": {
          "base_uri": "https://localhost:8080/"
        },
        "id": "6OT1va3OC4XY",
        "outputId": "df4740f7-0e40-41b5-8995-73358bee2d54"
      },
      "execution_count": null,
      "outputs": [
        {
          "output_type": "execute_result",
          "data": {
            "text/plain": [
              "[1, 4, 3, 16, 5]"
            ]
          },
          "metadata": {},
          "execution_count": 140
        }
      ]
    },
    {
      "cell_type": "code",
      "source": [
        "x_3 = [i**2 for i in x if i % 2 == 0] # Acho que não era o que eu queria\n",
        "x_3"
      ],
      "metadata": {
        "colab": {
          "base_uri": "https://localhost:8080/"
        },
        "id": "tMobdeVmD6eZ",
        "outputId": "0f414985-2f98-47a1-910f-cb3610546b48"
      },
      "execution_count": null,
      "outputs": [
        {
          "output_type": "execute_result",
          "data": {
            "text/plain": [
              "[4, 16]"
            ]
          },
          "metadata": {},
          "execution_count": 142
        }
      ]
    },
    {
      "cell_type": "code",
      "source": [
        "x_4 = [i**2 if i%2 == 0 else i for i in x]\n",
        "x_4"
      ],
      "metadata": {
        "colab": {
          "base_uri": "https://localhost:8080/",
          "height": 183
        },
        "id": "OWMeXNrcEMQf",
        "outputId": "86254795-8f43-4432-e793-b35cb94f9ae2"
      },
      "execution_count": null,
      "outputs": [
        {
          "output_type": "error",
          "ename": "NameError",
          "evalue": "ignored",
          "traceback": [
            "\u001b[0;31m---------------------------------------------------------------------------\u001b[0m",
            "\u001b[0;31mNameError\u001b[0m                                 Traceback (most recent call last)",
            "\u001b[0;32m<ipython-input-1-f119334a4120>\u001b[0m in \u001b[0;36m<module>\u001b[0;34m\u001b[0m\n\u001b[0;32m----> 1\u001b[0;31m \u001b[0mx_4\u001b[0m \u001b[0;34m=\u001b[0m \u001b[0;34m[\u001b[0m\u001b[0mi\u001b[0m\u001b[0;34m**\u001b[0m\u001b[0;36m2\u001b[0m \u001b[0;32mif\u001b[0m \u001b[0mi\u001b[0m\u001b[0;34m%\u001b[0m\u001b[0;36m2\u001b[0m \u001b[0;34m==\u001b[0m \u001b[0;36m0\u001b[0m \u001b[0;32melse\u001b[0m \u001b[0;34m\"banana\"\u001b[0m \u001b[0;32mfor\u001b[0m \u001b[0mi\u001b[0m \u001b[0;32min\u001b[0m \u001b[0mx\u001b[0m\u001b[0;34m]\u001b[0m\u001b[0;34m\u001b[0m\u001b[0;34m\u001b[0m\u001b[0m\n\u001b[0m\u001b[1;32m      2\u001b[0m \u001b[0mx_4\u001b[0m\u001b[0;34m\u001b[0m\u001b[0;34m\u001b[0m\u001b[0m\n",
            "\u001b[0;31mNameError\u001b[0m: name 'x' is not defined"
          ]
        }
      ]
    },
    {
      "cell_type": "markdown",
      "source": [
        "## Função:"
      ],
      "metadata": {
        "id": "pGpNYIx3FOtD"
      }
    },
    {
      "cell_type": "code",
      "source": [
        "# Definição das funções\n",
        "def calculaDelta(a, b, c):\n",
        "  \"\"\"retorna o valor de delta\"\"\"\n",
        "  return b**2 - 4*a*c\n",
        "\n",
        "# Programa principal\n",
        "a = float(input(\"Digite o valor de a: \"))\n",
        "b = float(input(\"Digite o valor de b: \"))\n",
        "c = float(input(\"Digite o valor de c: \"))\n",
        "\n",
        "delta = calculaDelta(a, b, c)\n",
        "if delta > 0:\n",
        "  print(\"Duas raízes reais distintas.\")\n",
        "  x1 = (-b + delta**(1/2))/(2*a)\n",
        "  x2 = (-b - delta**(1/2))/(2*a)\n",
        "  print(\"x1 =\", x1)\n",
        "  print(\"x2 =\", x2)\n",
        "elif delta == 0:\n",
        "  print(\"Duas raízes reais iguais.\")\n",
        "  x = -b/(2*a)\n",
        "  print(\"x1 =\", x)\n",
        "  print(\"x2 =\", x)\n",
        "else:\n",
        "  print(\"Duas raízes complexas conjugadas.\")\n",
        "  x1 = (-b + delta**(1/2))/(2*a)\n",
        "  x2 = (-b - delta**(1/2))/(2*a)\n",
        "  print(\"x1 =\", x1)\n",
        "  print(\"x2 =\", x2)"
      ],
      "metadata": {
        "colab": {
          "base_uri": "https://localhost:8080/"
        },
        "id": "EK803f5GFOBw",
        "outputId": "d433bb7f-3feb-4b08-e1db-4d0761a62250"
      },
      "execution_count": null,
      "outputs": [
        {
          "output_type": "stream",
          "name": "stdout",
          "text": [
            "Digite o valor de a: 1\n",
            "Digite o valor de b: 2\n",
            "Digite o valor de c: 1\n",
            "Duas raízes reais iguais.\n",
            "x1 = -1.0\n",
            "x2 = -1.0\n"
          ]
        }
      ]
    },
    {
      "cell_type": "markdown",
      "source": [
        "## Dicionário:"
      ],
      "metadata": {
        "id": "b3eRnML-GEXx"
      }
    },
    {
      "cell_type": "code",
      "source": [
        "# Não tão legal\n",
        "cadastro = [\"Anderson\", \"Harayashiki Moreira\", 36, \"Professor\"]\n",
        "\n",
        "print(\"O nome é:\", cadastro[0])"
      ],
      "metadata": {
        "colab": {
          "base_uri": "https://localhost:8080/"
        },
        "id": "aOdxsdzKEdpB",
        "outputId": "f25db826-c2f9-4b6a-c4d3-987139495379"
      },
      "execution_count": null,
      "outputs": [
        {
          "output_type": "stream",
          "name": "stdout",
          "text": [
            "O nome é: Anderson\n"
          ]
        }
      ]
    },
    {
      "cell_type": "code",
      "source": [],
      "metadata": {
        "id": "ybQywL83IAxN"
      },
      "execution_count": null,
      "outputs": []
    },
    {
      "cell_type": "code",
      "source": [
        "# Com dicionário:\n",
        "cadastro_2 = {\"nome\": \"Anderson\", \"sobrenome\": \"Harayashiki Moreira\", \"idade\": 36, \"profissão\": \"professor\"}\n",
        "print(cadastro_2[\"nome\"])"
      ],
      "metadata": {
        "colab": {
          "base_uri": "https://localhost:8080/"
        },
        "id": "brrb7vM6GSpd",
        "outputId": "0c5a9353-88bc-4093-b359-e77808a3686c"
      },
      "execution_count": null,
      "outputs": [
        {
          "output_type": "stream",
          "name": "stdout",
          "text": [
            "Anderson\n"
          ]
        }
      ]
    },
    {
      "cell_type": "code",
      "source": [
        "import webbrowser, sys, requests, bs4, json\n",
        "CEP = input(\"Digite o CEP desejado: \")\n",
        "res = requests.get('https://viacep.com.br/ws/'+CEP+'/json/')\n",
        "soup = bs4.BeautifulSoup(res.text, 'html.parser')\n",
        "JSON_Datalist = soup.get_text()\n",
        "dados = json.loads(JSON_Datalist)\n",
        "if 'erro' in dados:\n",
        "    print(\"CEP inválido.\")    \n",
        "else:\n",
        "    print('CEP: %s' % dados['cep'])\n",
        "    print('Endereço: %s' % dados['logradouro'])\n",
        "    print('Complemento: %s' % dados['complemento'])\n",
        "    print('Bairro: %s' % dados['bairro'])\n",
        "    print('Cidade: %s' % dados['localidade'])\n",
        "    print('Estado: %s' % dados['uf'])\n",
        "    dados[\"ibge\"] = int(dados[\"ibge\"])\n",
        "\n",
        "print(dados)\n"
      ],
      "metadata": {
        "colab": {
          "base_uri": "https://localhost:8080/"
        },
        "id": "7iXr0lfJHljn",
        "outputId": "47b9f812-21e5-4932-b492-55e91a67b744"
      },
      "execution_count": null,
      "outputs": [
        {
          "output_type": "stream",
          "name": "stdout",
          "text": [
            "Digite o CEP desejado: 09580900\n",
            "CEP: 09580-900\n",
            "Endereço: Praça Mauá\n",
            "Complemento: 01\n",
            "Bairro: Mauá\n",
            "Cidade: São Caetano do Sul\n",
            "Estado: SP\n",
            "{'cep': '09580-900', 'logradouro': 'Praça Mauá', 'complemento': '01', 'bairro': 'Mauá', 'localidade': 'São Caetano do Sul', 'uf': 'SP', 'ibge': 3548807, 'gia': '6361', 'ddd': '11', 'siafi': '7077'}\n"
          ]
        }
      ]
    },
    {
      "cell_type": "code",
      "source": [
        "type(dados)"
      ],
      "metadata": {
        "colab": {
          "base_uri": "https://localhost:8080/"
        },
        "id": "OwO1ya2zOxN0",
        "outputId": "dc531890-336c-445b-b77a-3934149bc780"
      },
      "execution_count": null,
      "outputs": [
        {
          "output_type": "execute_result",
          "data": {
            "text/plain": [
              "dict"
            ]
          },
          "metadata": {},
          "execution_count": 161
        }
      ]
    },
    {
      "cell_type": "markdown",
      "source": [
        "## Funções Lambda:"
      ],
      "metadata": {
        "id": "gSM-SuvKM_9f"
      }
    },
    {
      "cell_type": "code",
      "source": [
        "soma1 = lambda x: x+1\n",
        "\n",
        "print(soma1(5))"
      ],
      "metadata": {
        "colab": {
          "base_uri": "https://localhost:8080/"
        },
        "id": "RqcoPV6kIvN0",
        "outputId": "b336fcbd-c340-40eb-9db8-e0e9664fb1b3"
      },
      "execution_count": null,
      "outputs": [
        {
          "output_type": "stream",
          "name": "stdout",
          "text": [
            "6\n"
          ]
        }
      ]
    },
    {
      "cell_type": "code",
      "source": [
        "# Mesma coisa:\n",
        "def soma_1(x):\n",
        "  return x+1\n",
        "\n",
        "print(soma_1(5))"
      ],
      "metadata": {
        "colab": {
          "base_uri": "https://localhost:8080/"
        },
        "id": "cvDblp2DNJkl",
        "outputId": "d99bfd6e-f69e-40a3-8ec9-07160655bfd3"
      },
      "execution_count": null,
      "outputs": [
        {
          "output_type": "stream",
          "name": "stdout",
          "text": [
            "6\n"
          ]
        }
      ]
    },
    {
      "cell_type": "code",
      "source": [
        "somador = lambda x,y: x+y\n",
        "print(somador(1, 3))"
      ],
      "metadata": {
        "colab": {
          "base_uri": "https://localhost:8080/"
        },
        "id": "tibqDHrjNUAt",
        "outputId": "530d5e32-0f65-44ad-fcdd-6f108dae1a7f"
      },
      "execution_count": null,
      "outputs": [
        {
          "output_type": "stream",
          "name": "stdout",
          "text": [
            "4\n"
          ]
        }
      ]
    },
    {
      "cell_type": "code",
      "source": [],
      "metadata": {
        "id": "CIHnj9ieNheR"
      },
      "execution_count": null,
      "outputs": []
    }
  ]
}