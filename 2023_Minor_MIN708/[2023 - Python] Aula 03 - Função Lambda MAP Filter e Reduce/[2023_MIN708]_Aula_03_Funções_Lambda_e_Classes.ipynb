{
  "nbformat": 4,
  "nbformat_minor": 0,
  "metadata": {
    "colab": {
      "provenance": [],
      "toc_visible": true
    },
    "kernelspec": {
      "name": "python3",
      "display_name": "Python 3"
    },
    "language_info": {
      "name": "python"
    }
  },
  "cells": [
    {
      "cell_type": "markdown",
      "source": [
        "# Aula 03 - Funções Lambda, Classes e Aplicações"
      ],
      "metadata": {
        "id": "c4a7Z273YXK4"
      }
    },
    {
      "cell_type": "markdown",
      "source": [
        "## Funções Lambda\n",
        "\n",
        "\n",
        "> Usamos para reduzir o tamanho do código!"
      ],
      "metadata": {
        "id": "2w_8Qm57q5Mv"
      }
    },
    {
      "cell_type": "code",
      "source": [
        "# Exemplo: contator unitário\n",
        "def incremento_unitario(numero):\n",
        "    valor = numero +1\n",
        "    return valor\n",
        "\n",
        "incremento_unitario(20)"
      ],
      "metadata": {
        "colab": {
          "base_uri": "https://localhost:8080/"
        },
        "id": "ZV-bmtoBXEWx",
        "outputId": "d92e066e-11ac-4a11-e368-f313c0a5b453"
      },
      "execution_count": null,
      "outputs": [
        {
          "output_type": "execute_result",
          "data": {
            "text/plain": [
              "21"
            ]
          },
          "metadata": {},
          "execution_count": 1
        }
      ]
    },
    {
      "cell_type": "code",
      "source": [
        "# Exemplo: soma dois números\n",
        "def soma_dois_num(num1, num2):\n",
        "    soma = num1 + num2\n",
        "    return soma\n",
        "\n",
        "soma_dois_num(20, 1)"
      ],
      "metadata": {
        "colab": {
          "base_uri": "https://localhost:8080/"
        },
        "id": "PywFbIdeXeC-",
        "outputId": "f0728aff-c8dd-4546-8ab0-16ae9d13f072"
      },
      "execution_count": null,
      "outputs": [
        {
          "output_type": "execute_result",
          "data": {
            "text/plain": [
              "21"
            ]
          },
          "metadata": {},
          "execution_count": 2
        }
      ]
    },
    {
      "cell_type": "code",
      "source": [
        "# Escrevendo o código em uma linha\n",
        "def soma_dois_num(num1, num2): return num1 + num2\n",
        "\n",
        "soma_dois_num(20, 1)"
      ],
      "metadata": {
        "colab": {
          "base_uri": "https://localhost:8080/"
        },
        "id": "dRiGS2bfX-3s",
        "outputId": "f712f213-b455-4293-bfd5-c7d675221c39"
      },
      "execution_count": null,
      "outputs": [
        {
          "output_type": "execute_result",
          "data": {
            "text/plain": [
              "21"
            ]
          },
          "metadata": {},
          "execution_count": 3
        }
      ]
    },
    {
      "cell_type": "code",
      "source": [
        "# Os mesmos exemplos usando Funções Lambda\n",
        "# Sintaxe: lambda arguments: expression\n",
        "incremento_unitario_lambda = lambda numero: numero + 1\n",
        "\n",
        "incremento_unitario_lambda(9)"
      ],
      "metadata": {
        "colab": {
          "base_uri": "https://localhost:8080/"
        },
        "id": "yxA0al1sYe91",
        "outputId": "ee32eb22-6201-4f80-aa7f-b45190e1e648"
      },
      "execution_count": null,
      "outputs": [
        {
          "output_type": "execute_result",
          "data": {
            "text/plain": [
              "10"
            ]
          },
          "metadata": {},
          "execution_count": 5
        }
      ]
    },
    {
      "cell_type": "code",
      "source": [
        "# Exemplo: soma dois números\n",
        "soma_dois_num_lambda = lambda num1, num2: num1 + num2\n",
        "\n",
        "soma_dois_num_lambda(1, 9)"
      ],
      "metadata": {
        "colab": {
          "base_uri": "https://localhost:8080/"
        },
        "id": "FDxOgbgvZZG-",
        "outputId": "73f6a9ae-e6d0-4198-d2a4-b3c7e191572d"
      },
      "execution_count": null,
      "outputs": [
        {
          "output_type": "execute_result",
          "data": {
            "text/plain": [
              "10"
            ]
          },
          "metadata": {},
          "execution_count": 7
        }
      ]
    },
    {
      "cell_type": "markdown",
      "source": [
        "## MAP\n",
        "\n",
        "\n",
        "> Recebe uma função e um iterador\n",
        "\n",
        "> 'map()' é uma função embutida do Python que permite aplicar uma função a cada elemento de uma sequência (como uma lista ou tupla) e retornar um objeto map que contém os resultados.\n",
        "\n",
        "> A sintaxe básica do map() é a seguinte:\n",
        "\n",
        ">> map(funcao, sequencia)"
      ],
      "metadata": {
        "id": "Mk0mhgP-ZKyH"
      }
    },
    {
      "cell_type": "code",
      "source": [
        "# Exemplo de MAP\n",
        "lista = [1, 2, 3, 4, 5, 6, 7]\n",
        "\n",
        "# Converter para hexadecimais\n",
        "lista_hex = []\n",
        "for l in lista:\n",
        "    lista_hex.append(hex(1))\n",
        "lista_hex"
      ],
      "metadata": {
        "colab": {
          "base_uri": "https://localhost:8080/"
        },
        "id": "Cjmcfj_LaBJh",
        "outputId": "09c87c6e-24e1-4fda-b7b4-86806a9239f3"
      },
      "execution_count": null,
      "outputs": [
        {
          "output_type": "execute_result",
          "data": {
            "text/plain": [
              "['0x1', '0x1', '0x1', '0x1', '0x1', '0x1', '0x1']"
            ]
          },
          "metadata": {},
          "execution_count": 9
        }
      ]
    },
    {
      "cell_type": "code",
      "source": [
        "# Exemplo para utilização de MAP\n",
        "[hex(l) for l in lista]"
      ],
      "metadata": {
        "colab": {
          "base_uri": "https://localhost:8080/"
        },
        "id": "DyBjZjZHaw-g",
        "outputId": "00516e1e-cf1e-41a8-d754-cc0880aed597"
      },
      "execution_count": null,
      "outputs": [
        {
          "output_type": "execute_result",
          "data": {
            "text/plain": [
              "['0x1', '0x2', '0x3', '0x4', '0x5', '0x6', '0x7']"
            ]
          },
          "metadata": {},
          "execution_count": 10
        }
      ]
    },
    {
      "cell_type": "code",
      "source": [
        "# Utilizando o MAP\n",
        "map(hex, lista)"
      ],
      "metadata": {
        "colab": {
          "base_uri": "https://localhost:8080/"
        },
        "id": "95HxrI7Fa7mF",
        "outputId": "a08b4e6b-2a16-4e13-83d6-e5442a9f7d3e"
      },
      "execution_count": null,
      "outputs": [
        {
          "output_type": "execute_result",
          "data": {
            "text/plain": [
              "<map at 0x7f33bd7e1670>"
            ]
          },
          "metadata": {},
          "execution_count": 11
        }
      ]
    },
    {
      "cell_type": "code",
      "source": [
        "list(map(hex, lista))"
      ],
      "metadata": {
        "colab": {
          "base_uri": "https://localhost:8080/"
        },
        "id": "l9_G3uT5bIm7",
        "outputId": "c0905fe8-b83a-43c9-faad-feab2b938f79"
      },
      "execution_count": null,
      "outputs": [
        {
          "output_type": "execute_result",
          "data": {
            "text/plain": [
              "['0x1', '0x2', '0x3', '0x4', '0x5', '0x6', '0x7']"
            ]
          },
          "metadata": {},
          "execution_count": 12
        }
      ]
    },
    {
      "cell_type": "code",
      "source": [
        "# Outras funções com o MAP\n",
        "list(map(lambda x: hex(x), lista))"
      ],
      "metadata": {
        "colab": {
          "base_uri": "https://localhost:8080/"
        },
        "id": "B1__oddTbzBQ",
        "outputId": "fcfa278d-3738-4104-f1a3-128333d13f7c"
      },
      "execution_count": null,
      "outputs": [
        {
          "output_type": "execute_result",
          "data": {
            "text/plain": [
              "['0x1', '0x2', '0x3', '0x4', '0x5', '0x6', '0x7']"
            ]
          },
          "metadata": {},
          "execution_count": 14
        }
      ]
    },
    {
      "cell_type": "code",
      "source": [
        "# Somando dois números\n",
        "list(map(lambda x, y: x + y, lista, lista))"
      ],
      "metadata": {
        "colab": {
          "base_uri": "https://localhost:8080/"
        },
        "id": "0bxnpFZTcMvd",
        "outputId": "43b53d40-d4cb-45cb-cd2a-f16fc87137db"
      },
      "execution_count": null,
      "outputs": [
        {
          "output_type": "execute_result",
          "data": {
            "text/plain": [
              "[2, 4, 6, 8, 10, 12, 14]"
            ]
          },
          "metadata": {},
          "execution_count": 15
        }
      ]
    },
    {
      "cell_type": "markdown",
      "source": [
        "## Filter"
      ],
      "metadata": {
        "id": "WuplE_XMcj-u"
      }
    },
    {
      "cell_type": "code",
      "source": [
        "# Criando uma lista de 300 objetos\n",
        "lista = list(range(300))\n",
        "print(lista)"
      ],
      "metadata": {
        "colab": {
          "base_uri": "https://localhost:8080/"
        },
        "id": "MJ89r0eOcnFL",
        "outputId": "c32700a7-4a60-4002-a351-1818c3737828"
      },
      "execution_count": 13,
      "outputs": [
        {
          "output_type": "stream",
          "name": "stdout",
          "text": [
            "[0, 1, 2, 3, 4, 5, 6, 7, 8, 9, 10, 11, 12, 13, 14, 15, 16, 17, 18, 19, 20, 21, 22, 23, 24, 25, 26, 27, 28, 29, 30, 31, 32, 33, 34, 35, 36, 37, 38, 39, 40, 41, 42, 43, 44, 45, 46, 47, 48, 49, 50, 51, 52, 53, 54, 55, 56, 57, 58, 59, 60, 61, 62, 63, 64, 65, 66, 67, 68, 69, 70, 71, 72, 73, 74, 75, 76, 77, 78, 79, 80, 81, 82, 83, 84, 85, 86, 87, 88, 89, 90, 91, 92, 93, 94, 95, 96, 97, 98, 99, 100, 101, 102, 103, 104, 105, 106, 107, 108, 109, 110, 111, 112, 113, 114, 115, 116, 117, 118, 119, 120, 121, 122, 123, 124, 125, 126, 127, 128, 129, 130, 131, 132, 133, 134, 135, 136, 137, 138, 139, 140, 141, 142, 143, 144, 145, 146, 147, 148, 149, 150, 151, 152, 153, 154, 155, 156, 157, 158, 159, 160, 161, 162, 163, 164, 165, 166, 167, 168, 169, 170, 171, 172, 173, 174, 175, 176, 177, 178, 179, 180, 181, 182, 183, 184, 185, 186, 187, 188, 189, 190, 191, 192, 193, 194, 195, 196, 197, 198, 199, 200, 201, 202, 203, 204, 205, 206, 207, 208, 209, 210, 211, 212, 213, 214, 215, 216, 217, 218, 219, 220, 221, 222, 223, 224, 225, 226, 227, 228, 229, 230, 231, 232, 233, 234, 235, 236, 237, 238, 239, 240, 241, 242, 243, 244, 245, 246, 247, 248, 249, 250, 251, 252, 253, 254, 255, 256, 257, 258, 259, 260, 261, 262, 263, 264, 265, 266, 267, 268, 269, 270, 271, 272, 273, 274, 275, 276, 277, 278, 279, 280, 281, 282, 283, 284, 285, 286, 287, 288, 289, 290, 291, 292, 293, 294, 295, 296, 297, 298, 299]\n"
          ]
        }
      ]
    },
    {
      "cell_type": "code",
      "source": [
        "# Restringindo valores entre 5 e 10 na lista\n",
        "list(filter(lambda x: 5 < x < 10, lista))"
      ],
      "metadata": {
        "colab": {
          "base_uri": "https://localhost:8080/"
        },
        "id": "U1Qphwfuc3O5",
        "outputId": "9f4d19f9-9083-47a1-c073-9ec5f9199fa5"
      },
      "execution_count": 16,
      "outputs": [
        {
          "output_type": "execute_result",
          "data": {
            "text/plain": [
              "[6, 7, 8, 9]"
            ]
          },
          "metadata": {},
          "execution_count": 16
        }
      ]
    },
    {
      "cell_type": "code",
      "source": [
        "# Fazendo um filtro\n",
        "lista_palavras = ['', 'Copo', 'Xícara', 'Café', '', '', 'Pão', 0]\n",
        "\n",
        "list(filter(None, lista_palavras))"
      ],
      "metadata": {
        "colab": {
          "base_uri": "https://localhost:8080/"
        },
        "id": "Rntio394dmsK",
        "outputId": "a7edbd6b-4d28-4710-9ef8-60625a49c1f4"
      },
      "execution_count": 17,
      "outputs": [
        {
          "output_type": "execute_result",
          "data": {
            "text/plain": [
              "['Copo', 'Xícara', 'Café', 'Pão']"
            ]
          },
          "metadata": {},
          "execution_count": 17
        }
      ]
    },
    {
      "cell_type": "code",
      "source": [
        "list(filter(lambda x: x != '', lista_palavras))"
      ],
      "metadata": {
        "colab": {
          "base_uri": "https://localhost:8080/"
        },
        "id": "Uhqbb0aBefK8",
        "outputId": "32e50270-34e7-4412-a79c-4ab9c88e392c"
      },
      "execution_count": null,
      "outputs": [
        {
          "output_type": "execute_result",
          "data": {
            "text/plain": [
              "['Copo', 'Xícara', 'Café', 'Pão', 0]"
            ]
          },
          "metadata": {},
          "execution_count": 24
        }
      ]
    },
    {
      "cell_type": "markdown",
      "source": [
        "## Reduce\n"
      ],
      "metadata": {
        "id": "9dw_TcNHe7Jh"
      }
    },
    {
      "cell_type": "code",
      "source": [
        "# Importanto Reduce\n",
        "from functools import reduce"
      ],
      "metadata": {
        "id": "AE24OvpWe-6U"
      },
      "execution_count": null,
      "outputs": []
    },
    {
      "cell_type": "code",
      "source": [
        "lista = [1, 2, 3, 4, 5, 6, 7]\n",
        "\n",
        "soma = 0\n",
        "for l in lista:\n",
        "    soma = soma + l\n",
        "\n",
        "soma"
      ],
      "metadata": {
        "colab": {
          "base_uri": "https://localhost:8080/"
        },
        "id": "ti0_vgKqfamh",
        "outputId": "7710032e-0684-4ed3-f80e-35a0506c1dd9"
      },
      "execution_count": null,
      "outputs": [
        {
          "output_type": "execute_result",
          "data": {
            "text/plain": [
              "28"
            ]
          },
          "metadata": {},
          "execution_count": 29
        }
      ]
    },
    {
      "cell_type": "code",
      "source": [
        "# Função reduce\n",
        "\n",
        "reduce(lambda x, y: x + y, lista)"
      ],
      "metadata": {
        "colab": {
          "base_uri": "https://localhost:8080/"
        },
        "id": "-YdoTORZf2rV",
        "outputId": "afc7428e-e4f2-46c4-9656-d852a6bfe5c8"
      },
      "execution_count": null,
      "outputs": [
        {
          "output_type": "execute_result",
          "data": {
            "text/plain": [
              "28"
            ]
          },
          "metadata": {},
          "execution_count": 32
        }
      ]
    },
    {
      "cell_type": "code",
      "source": [
        "reduce(lambda x, y: x * y, lista)"
      ],
      "metadata": {
        "colab": {
          "base_uri": "https://localhost:8080/"
        },
        "id": "i382qX9-pMpq",
        "outputId": "23bb26c3-3178-4022-b7c4-4b85b8bea897"
      },
      "execution_count": null,
      "outputs": [
        {
          "output_type": "execute_result",
          "data": {
            "text/plain": [
              "5040"
            ]
          },
          "metadata": {},
          "execution_count": 33
        }
      ]
    },
    {
      "cell_type": "markdown",
      "source": [
        "## Exemplos - usando o arquivo da aula"
      ],
      "metadata": {
        "id": "wu52YtK0vttG"
      }
    },
    {
      "cell_type": "code",
      "source": [
        "# Fazer os exemplos não feitos na aula!"
      ],
      "metadata": {
        "id": "3mhVazhuvsGE"
      },
      "execution_count": 18,
      "outputs": []
    },
    {
      "cell_type": "markdown",
      "source": [
        "## Classes - Orientação à objetos"
      ],
      "metadata": {
        "id": "F-aMpl9SYhnN"
      }
    },
    {
      "cell_type": "markdown",
      "source": [
        "### Criando uma Classe chamada Círculo\n",
        "\n"
      ],
      "metadata": {
        "id": "0AFI1w8fdI0l"
      }
    },
    {
      "cell_type": "code",
      "execution_count": null,
      "metadata": {
        "id": "g3sqMOb5YIdA"
      },
      "outputs": [],
      "source": [
        "# Biblioteca para representação gráfica\n",
        "import matplotlib.pyplot as plt\n",
        "\n",
        "# Criando a classe Circulo\n",
        "class Circulo(object):\n",
        "  #Construtor\n",
        "  def __init__(self, raio = float,  cor = str):\n",
        "    self.raio = raio\n",
        "    self.cor = cor\n",
        "\n",
        "# Incrementador do raio\n",
        "  def incrementaRaio(self, inc):\n",
        "    self.raio += inc\n",
        "    return self.raio\n",
        "\n",
        "# Definindo a função responsável para desenhar o circulo na tela\n",
        "  def desenhaCirculo(self):\n",
        "    circle = plt.Circle((0, 0), self.raio, color=self.cor)\n",
        "    fig, ax = plt.subplots()\n",
        "    ax.add_artist(circle)\n",
        "    plt.xlim(-self.raio - 1, self.raio + 1)\n",
        "    plt.ylim(-self.raio - 1, self.raio + 1)\n",
        "    plt.grid()\n",
        "    plt.show()"
      ]
    },
    {
      "cell_type": "code",
      "source": [
        "# Criando o Circulo c1\n",
        "c1 = Circulo(1, cor='green')\n",
        "\n",
        "# Desenhando na tela c1\n",
        "c1.desenhaCirculo()"
      ],
      "metadata": {
        "colab": {
          "base_uri": "https://localhost:8080/",
          "height": 269
        },
        "id": "mIqmVwVaY8OE",
        "outputId": "b1d21299-aac8-4611-e8ff-38263ad61cdc"
      },
      "execution_count": null,
      "outputs": [
        {
          "output_type": "display_data",
          "data": {
            "text/plain": [
              "<Figure size 432x288 with 1 Axes>"
            ],
            "image/png": "[encoded data removed]"
          },
          "metadata": {
            "needs_background": "light"
          }
        }
      ]
    },
    {
      "cell_type": "code",
      "source": [
        "# Incremento (inc) no raio\n",
        "c1.incrementaRaio(1.5)\n",
        "\n",
        "# Desenhando na tela c1\n",
        "c1.desenhaCirculo()"
      ],
      "metadata": {
        "colab": {
          "base_uri": "https://localhost:8080/",
          "height": 265
        },
        "id": "AKhdC1dtZx33",
        "outputId": "af016d74-e396-43ce-a233-6a4445b28fd7"
      },
      "execution_count": null,
      "outputs": [
        {
          "output_type": "display_data",
          "data": {
            "text/plain": [
              "<Figure size 432x288 with 1 Axes>"
            ],
            "image/png": "[encoded data removed]"
          },
          "metadata": {
            "needs_background": "light"
          }
        }
      ]
    },
    {
      "cell_type": "markdown",
      "source": [
        "### Criando uma Classe chamada Retângulo"
      ],
      "metadata": {
        "id": "B3csRdSV4yhF"
      }
    },
    {
      "cell_type": "code",
      "source": [
        "# Biblioteca para representação gráfica\n",
        "import matplotlib.pyplot as plt\n",
        "\n",
        "# Criando a classe Circulo\n",
        "class Retangulo(object):\n",
        "  #Construtor\n",
        "  def __init__(self, base = float,  altura = float, cor = str):\n",
        "    self.base = base\n",
        "    self.altura = altura\n",
        "    self.cor = cor\n",
        "\n",
        "# Incrementador da base\n",
        "  def incrementaBase(self, inc):\n",
        "    self.base += inc\n",
        "    return self.base\n",
        "\n",
        "# Incrementador da altura\n",
        "  def incrementaAltura(self, inc):\n",
        "    self.altura += inc\n",
        "    return self.altura\n",
        "\n",
        "# Definindo a função responsável para desenhar o circulo na tela\n",
        "  def desenhaRetangulo(self):\n",
        "    x = [0, 0, self.base, self.base, 0]\n",
        "    y = [0, self.altura, self.altura, 0, 0]\n",
        "    fig, ax = plt.subplots()\n",
        "    plt.grid()\n",
        "    plt.plot(x, y, color = self.cor)\n",
        "    plt.show()"
      ],
      "metadata": {
        "id": "XNJo5aB94vJX"
      },
      "execution_count": null,
      "outputs": []
    },
    {
      "cell_type": "code",
      "source": [
        "# Criando o Retânculo r1\n",
        "r1 = Retangulo(2, 3, cor='green')\n",
        "\n",
        "# Desenhando na tela c1\n",
        "r1.desenhaRetangulo()"
      ],
      "metadata": {
        "colab": {
          "base_uri": "https://localhost:8080/",
          "height": 265
        },
        "id": "pmpCZ4ET6ZPh",
        "outputId": "152f8510-2a1b-461e-9e65-2b9d5ff2240a"
      },
      "execution_count": null,
      "outputs": [
        {
          "output_type": "display_data",
          "data": {
            "text/plain": [
              "<Figure size 432x288 with 1 Axes>"
            ],
            "image/png": "[encoded data removed]"
          },
          "metadata": {
            "needs_background": "light"
          }
        }
      ]
    },
    {
      "cell_type": "code",
      "source": [
        "# Incremento (inc) na base e altura\n",
        "r1.incrementaBase(1)\n",
        "r1.incrementaAltura(1)\n",
        "\n",
        "# Desenhando na tela r1\n",
        "r1.desenhaRetangulo()"
      ],
      "metadata": {
        "colab": {
          "base_uri": "https://localhost:8080/",
          "height": 265
        },
        "id": "jTMvyDUKA7EE",
        "outputId": "5e4dd579-e379-4060-f417-ec473133f8c0"
      },
      "execution_count": null,
      "outputs": [
        {
          "output_type": "display_data",
          "data": {
            "text/plain": [
              "<Figure size 432x288 with 1 Axes>"
            ],
            "image/png": "[encoded data removed]"
          },
          "metadata": {
            "needs_background": "light"
          }
        }
      ]
    },
    {
      "cell_type": "markdown",
      "source": [
        "## Introdução ao Numpy"
      ],
      "metadata": {
        "id": "_bCiK0YYqp6C"
      }
    },
    {
      "cell_type": "markdown",
      "source": [
        "### Inicializando as bibliotecas"
      ],
      "metadata": {
        "id": "citz74DWehO1"
      }
    },
    {
      "cell_type": "code",
      "source": [
        "import numpy as np"
      ],
      "metadata": {
        "id": "ptiLCgRbelqz"
      },
      "execution_count": 1,
      "outputs": []
    },
    {
      "cell_type": "markdown",
      "source": [
        "### Exemplo 09 - arquivo de aula"
      ],
      "metadata": {
        "id": "vW_Kt-zwJQQF"
      }
    },
    {
      "cell_type": "code",
      "source": [
        "L = np.array([1, 2, 3, 4, 5, 6, 7])\n",
        "\n",
        "print(L, \"\\n\")\n",
        "\n",
        "L_Multiplicada = list(map(lambda x: x * 7, L))\n",
        "\n",
        "print(L_Multiplicada)"
      ],
      "metadata": {
        "colab": {
          "base_uri": "https://localhost:8080/"
        },
        "id": "jEQfPiMoJPlb",
        "outputId": "4c27038f-0259-41b3-b9d9-41cc63fbf0d9"
      },
      "execution_count": 26,
      "outputs": [
        {
          "output_type": "stream",
          "name": "stdout",
          "text": [
            "[1 2 3 4 5 6 7] \n",
            "\n",
            "[7, 14, 21, 28, 35, 42, 49]\n"
          ]
        }
      ]
    },
    {
      "cell_type": "markdown",
      "source": [
        "### Criando e acessando Arrays"
      ],
      "metadata": {
        "id": "t75by8lFeOnH"
      }
    },
    {
      "cell_type": "code",
      "source": [
        "# Criando Arrays 1D\n",
        "\n",
        "a = np.array([2, 3, 4])\n",
        "print(a)\n",
        "print(a.dtype)\n",
        "print()\n",
        "\n",
        "b = np.array([1.2, 2.3, 3.5, 4.0])\n",
        "print(b)\n",
        "print(b.dtype)\n",
        "print()\n",
        "\n",
        "c = np.array([1, 2, 3, 4], dtype = complex)\n",
        "print(c)\n",
        "print(c.dtype)"
      ],
      "metadata": {
        "id": "mOgAytZGqsZy",
        "colab": {
          "base_uri": "https://localhost:8080/"
        },
        "outputId": "f5bc60f9-35e0-4133-b1cb-9db891d6709f"
      },
      "execution_count": 2,
      "outputs": [
        {
          "output_type": "stream",
          "name": "stdout",
          "text": [
            "[2 3 4]\n",
            "int64\n",
            "\n",
            "[1.2 2.3 3.5 4. ]\n",
            "float64\n",
            "\n",
            "[1.+0.j 2.+0.j 3.+0.j 4.+0.j]\n",
            "complex128\n"
          ]
        }
      ]
    },
    {
      "cell_type": "code",
      "source": [
        "# Criando Arrays 2D\n",
        "\n",
        "a = np.array([[2, 3, 4], [21, 34, 33], [33, 11, 55]])\n",
        "print(a)\n",
        "print(a.dtype)\n",
        "print()\n",
        "\n",
        "b = np.array([[1.2, 2.3, 3.5, 4.0]])\n",
        "print(b)\n",
        "print(b.dtype)\n",
        "print()\n",
        "\n",
        "c = np.array([[1, 2], [3, 4]], dtype = complex)\n",
        "print(c)\n",
        "print(c.dtype)"
      ],
      "metadata": {
        "colab": {
          "base_uri": "https://localhost:8080/"
        },
        "id": "ib9cFkcueceo",
        "outputId": "57767be4-30ac-4ef1-cb33-ec92140114f5"
      },
      "execution_count": 3,
      "outputs": [
        {
          "output_type": "stream",
          "name": "stdout",
          "text": [
            "[[ 2  3  4]\n",
            " [21 34 33]\n",
            " [33 11 55]]\n",
            "int64\n",
            "\n",
            "[[1.2 2.3 3.5 4. ]]\n",
            "float64\n",
            "\n",
            "[[1.+0.j 2.+0.j]\n",
            " [3.+0.j 4.+0.j]]\n",
            "complex128\n"
          ]
        }
      ]
    },
    {
      "cell_type": "code",
      "source": [
        "# Criando Arrays pré-definidos\n",
        "\n",
        "x1 = np.arange(10, 30, 5)\n",
        "print(\"\\n x1 = \\n\", x1)\n",
        "print()\n",
        "\n",
        "x2 = np.arange(0, 2, 0.3)\n",
        "print(\"\\n x2 = \\n\", x2)\n",
        "print()\n",
        "\n",
        "x3 = np.linspace(0, 2, 10)\n",
        "print(\"\\n x3 = \\n\", x3)\n",
        "print()\n",
        "\n",
        "x4 = np.linspace(0, 2*np.pi, 100)\n",
        "print(\"\\n x4 = \\n\", x4)\n",
        "print()"
      ],
      "metadata": {
        "colab": {
          "base_uri": "https://localhost:8080/"
        },
        "id": "zS4CHM93fw6q",
        "outputId": "e7f48d66-c9f9-448b-dd91-f3d165759326"
      },
      "execution_count": 4,
      "outputs": [
        {
          "output_type": "stream",
          "name": "stdout",
          "text": [
            "\n",
            " x1 = \n",
            " [10 15 20 25]\n",
            "\n",
            "\n",
            " x2 = \n",
            " [0.  0.3 0.6 0.9 1.2 1.5 1.8]\n",
            "\n",
            "\n",
            " x3 = \n",
            " [0.         0.22222222 0.44444444 0.66666667 0.88888889 1.11111111\n",
            " 1.33333333 1.55555556 1.77777778 2.        ]\n",
            "\n",
            "\n",
            " x4 = \n",
            " [0.         0.06346652 0.12693304 0.19039955 0.25386607 0.31733259\n",
            " 0.38079911 0.44426563 0.50773215 0.57119866 0.63466518 0.6981317\n",
            " 0.76159822 0.82506474 0.88853126 0.95199777 1.01546429 1.07893081\n",
            " 1.14239733 1.20586385 1.26933037 1.33279688 1.3962634  1.45972992\n",
            " 1.52319644 1.58666296 1.65012947 1.71359599 1.77706251 1.84052903\n",
            " 1.90399555 1.96746207 2.03092858 2.0943951  2.15786162 2.22132814\n",
            " 2.28479466 2.34826118 2.41172769 2.47519421 2.53866073 2.60212725\n",
            " 2.66559377 2.72906028 2.7925268  2.85599332 2.91945984 2.98292636\n",
            " 3.04639288 3.10985939 3.17332591 3.23679243 3.30025895 3.36372547\n",
            " 3.42719199 3.4906585  3.55412502 3.61759154 3.68105806 3.74452458\n",
            " 3.8079911  3.87145761 3.93492413 3.99839065 4.06185717 4.12532369\n",
            " 4.1887902  4.25225672 4.31572324 4.37918976 4.44265628 4.5061228\n",
            " 4.56958931 4.63305583 4.69652235 4.75998887 4.82345539 4.88692191\n",
            " 4.95038842 5.01385494 5.07732146 5.14078798 5.2042545  5.26772102\n",
            " 5.33118753 5.39465405 5.45812057 5.52158709 5.58505361 5.64852012\n",
            " 5.71198664 5.77545316 5.83891968 5.9023862  5.96585272 6.02931923\n",
            " 6.09278575 6.15625227 6.21971879 6.28318531]\n",
            "\n"
          ]
        }
      ]
    },
    {
      "cell_type": "code",
      "source": [
        "# Criando Arrays pré-definidos\n",
        "\n",
        "r1 = np.random.rand(2, 5)\n",
        "print(\"\\n r1 = \\n\", r1)\n",
        "\n",
        "r2 = np.random.randint(1, 100, r1.shape)\n",
        "print(\"\\n r2 = \\n\", r2)"
      ],
      "metadata": {
        "colab": {
          "base_uri": "https://localhost:8080/"
        },
        "id": "T4npewY3hMU1",
        "outputId": "a5b23f4b-af09-4a76-cbbb-82009a817d8b"
      },
      "execution_count": 5,
      "outputs": [
        {
          "output_type": "stream",
          "name": "stdout",
          "text": [
            "\n",
            " r1 = \n",
            " [[0.44589592 0.91431405 0.70864474 0.66066925 0.73973157]\n",
            " [0.46829683 0.73903153 0.53801044 0.76080088 0.54295791]]\n",
            "\n",
            " r2 = \n",
            " [[ 9  5 61 54 70]\n",
            " [35  2 40 96 86]]\n"
          ]
        }
      ]
    },
    {
      "cell_type": "code",
      "source": [
        "# Acesso a elementos em um Arrays\n",
        "\n",
        "v = np.array([1, 2, 3, 4, 5])\n",
        "print(v)\n",
        "print()\n",
        "\n",
        "M = np.array([[11, 12, 13],[21, 22, 23], [31, 32, 33]])\n",
        "print(M)\n",
        "print()\n",
        "\n",
        "print(v[0])\n",
        "print(v[-1])\n",
        "print(M[0])\n",
        "print(M[2])\n",
        "print(M[0,0])\n",
        "print(M[2][1])\n",
        "print(M[2][-1])"
      ],
      "metadata": {
        "colab": {
          "base_uri": "https://localhost:8080/"
        },
        "id": "bW4Ol0F-ivNk",
        "outputId": "226b978c-831d-421e-cc80-a05edfbb122b"
      },
      "execution_count": 6,
      "outputs": [
        {
          "output_type": "stream",
          "name": "stdout",
          "text": [
            "[1 2 3 4 5]\n",
            "\n",
            "[[11 12 13]\n",
            " [21 22 23]\n",
            " [31 32 33]]\n",
            "\n",
            "1\n",
            "5\n",
            "[11 12 13]\n",
            "[31 32 33]\n",
            "11\n",
            "32\n",
            "33\n"
          ]
        }
      ]
    },
    {
      "cell_type": "code",
      "source": [],
      "metadata": {
        "id": "_tSKLKIsJL8a"
      },
      "execution_count": null,
      "outputs": []
    },
    {
      "cell_type": "markdown",
      "source": [
        "### Funções e métodos"
      ],
      "metadata": {
        "id": "9yLRZ5SflqfD"
      }
    },
    {
      "cell_type": "code",
      "source": [
        "# Funções e Métodos - slide19\n",
        "\n",
        "A = np.array([[11, 12, 13], [21, 22, 23]])\n",
        "print(A, \"\\n\")\n",
        "\n",
        "print(\"len(A) = \", len(A)) # nro de linhas\n",
        "print(\"len(A[0, :]) = \", len(A[0, :])) #nro de colunas\n",
        "print(\"A.max() = \", A.max())\n",
        "print(\"A.min() = \", A.min())\n",
        "print(\"A.sum() = \", A.sum())\n",
        "print(\"A.sum(axis = 0) = \", A.sum(axis = 0))\n",
        "print(\"A.sum(axis = 1) = \", A.sum(axis = 1))\n",
        "print(\"A.prod() = \", A.prod())\n",
        "print(\"np.where(A > 20) = \", np.where(A > 20, A, 0))"
      ],
      "metadata": {
        "colab": {
          "base_uri": "https://localhost:8080/"
        },
        "id": "f2uKpdWRkQta",
        "outputId": "099ab3bc-b734-4b54-c7ad-f594af269b41"
      },
      "execution_count": 19,
      "outputs": [
        {
          "output_type": "stream",
          "name": "stdout",
          "text": [
            "[[11 12 13]\n",
            " [21 22 23]] \n",
            "\n",
            "len(A) =  2\n",
            "len(A[0, :]) =  3\n",
            "A.max() =  23\n",
            "A.min() =  11\n",
            "A.sum() =  102\n",
            "A.sum(axis = 0) =  [32 34 36]\n",
            "A.sum(axis = 1) =  [36 66]\n",
            "A.prod() =  18234216\n",
            "np.where(A > 20) =  [[ 0  0  0]\n",
            " [21 22 23]]\n"
          ]
        }
      ]
    },
    {
      "cell_type": "markdown",
      "source": [
        "### Operações básicas"
      ],
      "metadata": {
        "id": "awdvdtRsPYrp"
      }
    },
    {
      "cell_type": "markdown",
      "source": [
        "####  Broadcasting"
      ],
      "metadata": {
        "id": "KJMltyGdPjGn"
      }
    },
    {
      "cell_type": "code",
      "source": [
        "a = np.array([20, 30, 40, 50])\n",
        "b = np.arange(1, 5)\n",
        "\n",
        "print(a, \"\\n\")\n",
        "print(b, \"\\n\")\n",
        "\n",
        "\n",
        "print(\"a + b = \", a + b)\n",
        "print(\"a - b = \", a - b)\n",
        "print(\"a * b = \", a * b)\n",
        "print(\"a / b = \", a / b)\n",
        "print(\"a @ b = \", a @ b)\n",
        "print(\"a.dot(b) = \", a.dot(b))\n",
        "print(\"a > b = \", a > b)"
      ],
      "metadata": {
        "colab": {
          "base_uri": "https://localhost:8080/"
        },
        "id": "zdYNgPVrl5Jj",
        "outputId": "a2b42043-795f-40fb-f157-363de3d80e9d"
      },
      "execution_count": 26,
      "outputs": [
        {
          "output_type": "stream",
          "name": "stdout",
          "text": [
            "[20 30 40 50] \n",
            "\n",
            "[1 2 3 4] \n",
            "\n",
            "a + b =  [21 32 43 54]\n",
            "a - b =  [19 28 37 46]\n",
            "a * b =  [ 20  60 120 200]\n",
            "a / b =  [20.         15.         13.33333333 12.5       ]\n",
            "a @ b =  400\n",
            "a.dot(b) =  400\n",
            "a > b =  [ True  True  True  True]\n"
          ]
        }
      ]
    },
    {
      "cell_type": "markdown",
      "source": [
        "#### Produtos e matrizes"
      ],
      "metadata": {
        "id": "VKg0j7PwQ8EG"
      }
    },
    {
      "cell_type": "code",
      "source": [
        "# SEMPRE verifique as dimensões das matrizes\n",
        "\n",
        "A = np.array([[2, 3, 7],[1, 7, 5]])\n",
        "B = np.array([[1, 5],[7, 8], [9, 8]])\n",
        "\n",
        "print(\"\\nA = \", A)\n",
        "print(\"\\nB = \", B)\n",
        "\n",
        "print(\"\\nA @ B = \\n\", A @ B)\n",
        "print(\"\\nA @ B.T = \\n\", A @ B.T)"
      ],
      "metadata": {
        "colab": {
          "base_uri": "https://localhost:8080/",
          "height": 430
        },
        "id": "QAUi9Y1kQE2y",
        "outputId": "fe867232-8ac8-47d7-b466-33385a52e0f2"
      },
      "execution_count": 36,
      "outputs": [
        {
          "output_type": "stream",
          "name": "stdout",
          "text": [
            "\n",
            "A =  [[2 3 7]\n",
            " [1 7 5]]\n",
            "\n",
            "B =  [[1 5]\n",
            " [7 8]\n",
            " [9 8]]\n",
            "\n",
            "A @ B = \n",
            " [[ 86  90]\n",
            " [ 95 101]]\n"
          ]
        },
        {
          "output_type": "error",
          "ename": "ValueError",
          "evalue": "ignored",
          "traceback": [
            "\u001b[0;31m---------------------------------------------------------------------------\u001b[0m",
            "\u001b[0;31mValueError\u001b[0m                                Traceback (most recent call last)",
            "\u001b[0;32m<ipython-input-36-e87d9c61c587>\u001b[0m in \u001b[0;36m<module>\u001b[0;34m\u001b[0m\n\u001b[1;32m      8\u001b[0m \u001b[0;34m\u001b[0m\u001b[0m\n\u001b[1;32m      9\u001b[0m \u001b[0mprint\u001b[0m\u001b[0;34m(\u001b[0m\u001b[0;34m\"\\nA @ B = \\n\"\u001b[0m\u001b[0;34m,\u001b[0m \u001b[0mA\u001b[0m \u001b[0;34m@\u001b[0m \u001b[0mB\u001b[0m\u001b[0;34m)\u001b[0m\u001b[0;34m\u001b[0m\u001b[0;34m\u001b[0m\u001b[0m\n\u001b[0;32m---> 10\u001b[0;31m \u001b[0mprint\u001b[0m\u001b[0;34m(\u001b[0m\u001b[0;34m\"\\nA @ B.T = \\n\"\u001b[0m\u001b[0;34m,\u001b[0m \u001b[0mA\u001b[0m \u001b[0;34m@\u001b[0m \u001b[0mB\u001b[0m\u001b[0;34m.\u001b[0m\u001b[0mT\u001b[0m\u001b[0;34m)\u001b[0m\u001b[0;34m\u001b[0m\u001b[0;34m\u001b[0m\u001b[0m\n\u001b[0m",
            "\u001b[0;31mValueError\u001b[0m: matmul: Input operand 1 has a mismatch in its core dimension 0, with gufunc signature (n?,k),(k,m?)->(n?,m?) (size 2 is different from 3)"
          ]
        }
      ]
    },
    {
      "cell_type": "markdown",
      "source": [
        "#### Indexação e fatiamento - Arrays com uma dimensão\n",
        "\n"
      ],
      "metadata": {
        "id": "LLJLIQLgTfTj"
      }
    },
    {
      "cell_type": "code",
      "source": [
        "a = np.arange(10)**3\n",
        "\n",
        "print(\"a = \", a)\n",
        "print(\"\\na[2] = \", a[2])\n",
        "print(\"\\na[2:5] = \", a[2:5])\n",
        "\n",
        "a[:6:2] - 1000 # o que isso representa?\n",
        "print(\"\\na = \", a)\n",
        "\n",
        "for i in a: \n",
        "    print(i**(1/3))"
      ],
      "metadata": {
        "colab": {
          "base_uri": "https://localhost:8080/"
        },
        "id": "fQkfuj9ZSlPJ",
        "outputId": "9aab5d45-71ea-4ebf-f2b0-ba5e19d64a79"
      },
      "execution_count": 42,
      "outputs": [
        {
          "output_type": "stream",
          "name": "stdout",
          "text": [
            "a =  [  0   1   8  27  64 125 216 343 512 729]\n",
            "\n",
            "a[2] =  8\n",
            "\n",
            "a[2:5] =  [ 8 27 64]\n",
            "\n",
            "a =  [  0   1   8  27  64 125 216 343 512 729]\n",
            "0.0\n",
            "1.0\n",
            "2.0\n",
            "3.0\n",
            "3.9999999999999996\n",
            "4.999999999999999\n",
            "5.999999999999999\n",
            "6.999999999999999\n",
            "7.999999999999999\n",
            "8.999999999999998\n"
          ]
        }
      ]
    },
    {
      "cell_type": "markdown",
      "source": [
        "#### Indexação e fatiamento - Arrays com multidimensão"
      ],
      "metadata": {
        "id": "e0_QHzR_U1Gn"
      }
    },
    {
      "cell_type": "code",
      "source": [
        "def f(x, y):\n",
        "    return 10*x + y\n",
        "\n",
        "b = np.fromfunction(f, (5, 4), dtype = int)\n",
        "\n",
        "print(\"b = \\n\", b)\n",
        "print(\"\\nb[2, 3] = \\n\", b[2, 3])\n",
        "print(\"\\nb[0:5, 1] = \\n\", b[0:4, 1])\n",
        "print(\"\\nb[:, 1] = \\n\", b[:, 1])\n",
        "print(\"\\nb[1:3, :] = \\n\", b[1:3, :])"
      ],
      "metadata": {
        "colab": {
          "base_uri": "https://localhost:8080/"
        },
        "id": "0Ep0SskrTvBP",
        "outputId": "617dcf00-8b77-4536-bfe7-032c84e6618f"
      },
      "execution_count": 9,
      "outputs": [
        {
          "output_type": "stream",
          "name": "stdout",
          "text": [
            "b = \n",
            " [[ 0  1  2  3]\n",
            " [10 11 12 13]\n",
            " [20 21 22 23]\n",
            " [30 31 32 33]\n",
            " [40 41 42 43]]\n",
            "\n",
            "b[2, 3] = \n",
            " 23\n",
            "\n",
            "b[0:5, 1] = \n",
            " [ 1 11 21 31]\n",
            "\n",
            "b[:, 1] = \n",
            " [ 1 11 21 31 41]\n",
            "\n",
            "b[1:3, :] = \n",
            " [[10 11 12 13]\n",
            " [20 21 22 23]]\n"
          ]
        }
      ]
    },
    {
      "cell_type": "markdown",
      "source": [
        "#### Análise exploratória simples"
      ],
      "metadata": {
        "id": "D4OgKkVvBWnl"
      }
    },
    {
      "cell_type": "code",
      "source": [
        "A = np.random.rand(100)\n",
        "\n",
        "print(A, \"\\n\")\n",
        "print(\"Média = \", np.mean(A), \"\\n\")\n",
        "print(\"Desvio padrão = \", np.std(A), \"\\n\")\n",
        "print(\"variância = \", np.var(A), \"\\n\")"
      ],
      "metadata": {
        "colab": {
          "base_uri": "https://localhost:8080/"
        },
        "id": "05kpI4fgVJUL",
        "outputId": "13a2cfe8-1a98-4c23-cb32-1039fd2ddf5e"
      },
      "execution_count": 12,
      "outputs": [
        {
          "output_type": "stream",
          "name": "stdout",
          "text": [
            "[0.12649517 0.49554572 0.95320216 0.42144634 0.88646852 0.4954751\n",
            " 0.7092212  0.61871709 0.08102744 0.33007876 0.90843135 0.65613414\n",
            " 0.33139314 0.00772361 0.1315429  0.04474548 0.02647805 0.83331959\n",
            " 0.74870421 0.88353684 0.6889972  0.02385782 0.72760534 0.21015101\n",
            " 0.46628304 0.71983544 0.74564514 0.02842631 0.24683782 0.09835594\n",
            " 0.34400349 0.51476056 0.94770836 0.01245396 0.22449492 0.90764685\n",
            " 0.10669611 0.75648917 0.34885161 0.70094931 0.72732252 0.23984816\n",
            " 0.06499144 0.18621246 0.41841694 0.59388232 0.5492747  0.317003\n",
            " 0.5100319  0.3069745  0.92940809 0.89496017 0.5091337  0.34959069\n",
            " 0.65485242 0.49212858 0.90877208 0.14627175 0.13301478 0.40210938\n",
            " 0.10594698 0.99628747 0.32507576 0.32506049 0.63086552 0.48446178\n",
            " 0.56711863 0.40616391 0.90227512 0.52511627 0.41584438 0.85099462\n",
            " 0.9843116  0.98585527 0.70084612 0.27695753 0.59283105 0.29098488\n",
            " 0.38986614 0.43357301 0.49226182 0.58843482 0.88810784 0.22358555\n",
            " 0.7430093  0.20979589 0.69451098 0.29543874 0.60485792 0.46272647\n",
            " 0.31115751 0.95472483 0.39838297 0.66817144 0.07478959 0.90581962\n",
            " 0.45064626 0.6410065  0.48910457 0.41565851] \n",
            "\n",
            "Média =  0.49546563411947575 \n",
            "\n",
            "Desvio padrão =  0.2813494430335579 \n",
            "\n",
            "variância =  0.07915750909529326 \n",
            "\n"
          ]
        }
      ]
    },
    {
      "cell_type": "code",
      "source": [],
      "metadata": {
        "id": "bYOeTWtTBuBr"
      },
      "execution_count": null,
      "outputs": []
    }
  ]
}