{
  "nbformat": 4,
  "nbformat_minor": 0,
  "metadata": {
    "colab": {
      "provenance": []
    },
    "kernelspec": {
      "name": "python3",
      "display_name": "Python 3"
    },
    "language_info": {
      "name": "python"
    }
  },
  "cells": [
    {
      "cell_type": "markdown",
      "source": [
        "# Atividade - Python para CD e IA\n",
        "\n",
        "* Nome/RA:\n",
        "* Nome/RA:"
      ],
      "metadata": {
        "id": "4EmDhERjDjfy"
      }
    },
    {
      "cell_type": "markdown",
      "source": [
        "# Instruções\n",
        "* Atividade pode ser feita em duplas;\n",
        "* A entrega deve conter o arquivo no formato *.ipynb (Notebook Python) e em *.PDF do mesmo notebook!\n",
        "* Prazo para entrega: **22/04/2023**"
      ],
      "metadata": {
        "id": "sRkcP9udDswA"
      }
    },
    {
      "cell_type": "markdown",
      "source": [
        "# Problema: um estudo sobre o Câncer.\n",
        "\n",
        "**Contexto**\n",
        "\n",
        "A partir dos dados gerados por instituições no Estado de São Paulo que, sob coordenação da FOSP, mantém o Registro Hospitalar de Câncer (RHC) implantado, forma-se a base de dados estadual do RHC, aqui disponibilizada.\n",
        "\n",
        "O principal objetivo da Unidade de Epidemiologia da FOSP ao disponibilizar este Banco de Dados é o de ampliar o acesso à base estadual e poder oferecer aos usuários, em especial técnicos da área da saúde, a possibilidade de execução de tabulações e análises específicas, de acordo com seu interesse e necessidade.\n",
        "\n",
        "Vale ressaltar que a cada três meses este Banco de Dados é atualizado uma vez que a sistemática implantada prevê que trimestralmente os hospitais enviem à FOSP os dados referentes a casos novos diagnosticados e seguimento dos já cadastrados. Desta forma, os arquivos aqui disponibilizados, serão atualizados com a mesma periodicidade.\n",
        "\n",
        "Alguns outros pontos merecem destaque:\n",
        "\n",
        "* O Registro Hospitalar de Câncer do Estado de São Paulo cadastra casos novos diagnosticados a partir de 01/01/2000;\n",
        "* Consideram-se casos analíticos para o RHC aqueles que chegaram à Instituição sem tratamento (podendo estar diagnosticados ou não) e são estes os casos contidos no arquivo aqui disponibilizado.\n",
        "* Os dados coletados pelo RHC não devem e nem podem ser utilizados para cálculo de incidência, uma vez que retratam apenas o perfil de atendimento de uma determinada instituição (ou de um grupo destas).\n",
        "* O arquivo aqui disponibilizado não identifica pacientes e nem as Instituições em que foram atendidos, sendo possível, porém executar tabulações segundo município de residência.\n",
        "* Os tumores pediátricos diferenciam-se quanto à localização e morfologia em relação aos tumores em adultos e podem ser analisados segundo a Classificação Internacional do Câncer na Infância (CICI), que estabelece doze grandes agrupamentos de diagnóstico.\n"
      ],
      "metadata": {
        "id": "l4W2n3kGEgk1"
      }
    },
    {
      "cell_type": "markdown",
      "source": [
        "# Problema\n",
        "\n",
        "Devemos fazer um estudo sobre o Câncer usando como referência o Banco de Dados mantido pela Fundação Ococentro de São Paulo (FOSP).\n",
        "\n",
        "Nesse estudo, devemos estudar dois tipos de cânceres importantes: **colo do útero** e **câncer de mama**.\n",
        "\n",
        "O Banco de Dados a ser utilizado pode ser encontrado no endereço:\n",
        "\n",
        "https://fosp.saude.sp.gov.br/fosp/diretoria-adjunta-de-informacao-e-epidemiologia/rhc-registro-hospitalar-de-cancer/banco-de-dados-do-rhc/\n",
        "\n",
        "Use o arquivo **Banco_RHC_referente_ao_ano_de_2022**."
      ],
      "metadata": {
        "id": "BumHqgkEGqi8"
      }
    },
    {
      "cell_type": "markdown",
      "source": [
        "**EX01**\n",
        "\n",
        "O arquivo está no formato ***.dbf**.\n",
        "\n",
        "Elabore uma rotina para a leitura e transformação desse formato ***.dbf** **bold text** para ***.csv** .\n",
        "\n",
        "Após, crie um dataframe com esse arquivo ***.csv**. "
      ],
      "metadata": {
        "id": "JWUxbd9MGh1P"
      }
    },
    {
      "cell_type": "code",
      "source": [
        "# resposta"
      ],
      "metadata": {
        "id": "Ps5MTmDwOh7i"
      },
      "execution_count": null,
      "outputs": []
    },
    {
      "cell_type": "markdown",
      "source": [
        "**EX02**\n",
        "\n",
        "Pesquise os CIDs para colo do útero e câncer de mama. \n",
        "Crie um DF apenas com esses dois tipos de cancer.\n",
        "Dica: faça um filtro na coluna **TOPOGRUP,C,3**."
      ],
      "metadata": {
        "id": "J2WkP6oxKU42"
      }
    },
    {
      "cell_type": "code",
      "source": [
        "# resposta"
      ],
      "metadata": {
        "id": "fCdhwDN7KUQw"
      },
      "execution_count": 14,
      "outputs": []
    },
    {
      "cell_type": "markdown",
      "source": [
        "**EX03**\n",
        "\n",
        "Faça um tratamento das células em branco e/ou que contenham valores inconsistentes."
      ],
      "metadata": {
        "id": "mQbAc5r1WyWZ"
      }
    },
    {
      "cell_type": "code",
      "source": [
        "# resposta"
      ],
      "metadata": {
        "id": "K0ZiITQVXDfd"
      },
      "execution_count": null,
      "outputs": []
    },
    {
      "cell_type": "markdown",
      "source": [
        "**EX04**\n",
        "\n",
        "Utilizando o dicionário de dados disponível no Open LMS, resposta:\n",
        "\n",
        "1.   Quantos pacientes não tratados morreram de câncer em 2022?\n",
        "2.   Quantos pacientes não tratados morreram no total de 2022?\n",
        "3.   Quantos pacientes tratados/em tratamento morreram de câncer em 2022?\n",
        "4.   Quantos pacientes tratados/em tratamento morreram no total em 2022?\n",
        "\n",
        "Faça a contabilização passo-a-passo.\n",
        "\n",
        "Dica: trabalhe apenas com as colunas necessárias para responder as perguntas!\n",
        "\n"
      ],
      "metadata": {
        "id": "UxOkTjcPXFxS"
      }
    },
    {
      "cell_type": "code",
      "source": [
        "# resposta"
      ],
      "metadata": {
        "id": "ecgogv4aY6SY"
      },
      "execution_count": 15,
      "outputs": []
    },
    {
      "cell_type": "markdown",
      "source": [
        "**EX05**\n",
        "\n",
        "Utilizando o dicionário de dados disponível no Open LMS, resposta:\n",
        "\n",
        "1.   Classifique, em ordem decrescente, os tipos de tratamento de câncer em 2022. Exiba esses resultados na forma numérica e gráfica.\n",
        "2.   Classifique, em ordem decrescente, os tipos de tratamento de câncer realizados no hospital em 2022. Exiba esses resultados na forma numérica e gráfica.\n",
        "\n",
        "Faça a contabilização passo-a-passo.\n",
        "\n",
        "Dica: Colunas TRATAMENTO e TRATHOSP!"
      ],
      "metadata": {
        "id": "rGlH4UyPZD1P"
      }
    },
    {
      "cell_type": "code",
      "source": [
        "# resposta"
      ],
      "metadata": {
        "id": "LVmdEe_JZDX5"
      },
      "execution_count": 16,
      "outputs": []
    },
    {
      "cell_type": "markdown",
      "source": [
        "**EX06**\n",
        "\n",
        "Utilizando o dicionário de dados disponível no Open LMS, resposta:\n",
        "\n",
        "1.   Existe alguma correlação entre a data do diagnóstico e o total de óbivos? Justifique sua resposta com uma ou mais análises.\n",
        "2.   Existe alguma correlação entre a data de ínicio de tratamento e o total de óbitos? Justifique sua resposta com uma ou mais análises.\n",
        "\n",
        "Faça a contabilização passo-a-passo.\n",
        "\n",
        "Dica: Colunas DTDIAG e DTTRAT!"
      ],
      "metadata": {
        "id": "c1kw8GRRaWGr"
      }
    },
    {
      "cell_type": "code",
      "source": [
        "# resposta"
      ],
      "metadata": {
        "id": "m_4lSOv1aTu7"
      },
      "execution_count": null,
      "outputs": []
    },
    {
      "cell_type": "markdown",
      "source": [
        "**EX07**\n",
        "\n",
        "Utilizando o dicionário de dados disponível no Open LMS, resposta:\n",
        "\n",
        "1.   Quais foram as 3 principais razções para a não realização do tratamento em 2022? Justifique.\n",
        "2.   Totalize, por cidade, o números de casos e óbitos pelos dois tipos de cânceres em 2022.\n",
        "\n",
        "Faça a contabilização passo-a-passo."
      ],
      "metadata": {
        "id": "BA_U2r6ibSGU"
      }
    },
    {
      "cell_type": "markdown",
      "source": [
        "**EX08**\n",
        "\n",
        "Desafio: repita todos as análises anteriores utilizando o arquivo **Banco_RHC_comppleto_(até_12/2022)**.\n",
        "\n",
        "**Não há necessidade de apresentar o passo-a-passo! Aprensente os resultados apenas!**"
      ],
      "metadata": {
        "id": "AkHxEIpBdddA"
      }
    },
    {
      "cell_type": "code",
      "source": [
        "# resposta"
      ],
      "metadata": {
        "id": "RL-RQIL3bxta"
      },
      "execution_count": null,
      "outputs": []
    },
    {
      "cell_type": "markdown",
      "source": [
        "# Dicas:\n",
        "\n",
        "* Para análise gráficas, utilize as bibliotecas `matplotlib` e `seaborn`;\n",
        "* Organize as respostas de forma objetiva;\n",
        "* Faça um código comentado, de preferência, linha a linha;\n",
        "* Esta análise é realizada com dados reais, portanto, as justificativas devem conter um rigor analítico;\n",
        "* Tentem, para geração de códigos, ferramentas como Chat GPT. É uma excelente ferramente para auxiliar em regras de sintaxe e para resolver problemas de erros no algoritmo;\n",
        "* Utilizem as documentações das bibliotecas das funções. Somente assim, você conseguirá se ambientar com o ambiente de desenvolvimento Python."
      ],
      "metadata": {
        "id": "2OKl2lpJb3KP"
      }
    },
    {
      "cell_type": "code",
      "source": [],
      "metadata": {
        "id": "y6FLsZxRchRy"
      },
      "execution_count": null,
      "outputs": []
    }
  ]
}