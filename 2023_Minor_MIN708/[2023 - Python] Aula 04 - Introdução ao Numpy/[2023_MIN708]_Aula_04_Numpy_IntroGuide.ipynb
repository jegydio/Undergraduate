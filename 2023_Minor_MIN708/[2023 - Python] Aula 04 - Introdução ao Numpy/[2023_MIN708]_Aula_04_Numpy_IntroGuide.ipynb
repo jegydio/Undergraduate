{
  "nbformat": 4,
  "nbformat_minor": 0,
  "metadata": {
    "colab": {
      "provenance": [],
      "toc_visible": true
    },
    "kernelspec": {
      "name": "python3",
      "display_name": "Python 3"
    },
    "language_info": {
      "name": "python"
    }
  },
  "cells": [
    {
      "cell_type": "markdown",
      "source": [
        "# Introdução ao NumPy\n"
      ],
      "metadata": {
        "id": "b3oESEAIEfpy"
      }
    },
    {
      "cell_type": "markdown",
      "source": [
        "## Importar bibliotecas"
      ],
      "metadata": {
        "id": "zo6ByVXDE2Ht"
      }
    },
    {
      "cell_type": "code",
      "source": [
        "import numpy as np\n",
        "from numpy import random"
      ],
      "metadata": {
        "id": "jR4E_JTuFYRP"
      },
      "execution_count": 9,
      "outputs": []
    },
    {
      "cell_type": "code",
      "source": [
        "import os"
      ],
      "metadata": {
        "id": "609-Vu5PUC_S"
      },
      "execution_count": 10,
      "outputs": []
    },
    {
      "cell_type": "code",
      "source": [
        "pip install rarfile"
      ],
      "metadata": {
        "colab": {
          "base_uri": "https://localhost:8080/"
        },
        "id": "pqQNHCqknfT9",
        "outputId": "a12a7d88-949c-4d8b-f8e3-8160228e3d5e"
      },
      "execution_count": 11,
      "outputs": [
        {
          "output_type": "stream",
          "name": "stdout",
          "text": [
            "Looking in indexes: https://pypi.org/simple, https://us-python.pkg.dev/colab-wheels/public/simple/\n",
            "Collecting rarfile\n",
            "  Downloading rarfile-4.0-py3-none-any.whl (28 kB)\n",
            "Installing collected packages: rarfile\n",
            "Successfully installed rarfile-4.0\n"
          ]
        }
      ]
    },
    {
      "cell_type": "code",
      "execution_count": null,
      "metadata": {
        "colab": {
          "base_uri": "https://localhost:8080/"
        },
        "id": "r9e105VsEVd1",
        "outputId": "8b66e8b0-82d8-4b14-a056-c1d5597a584f"
      },
      "outputs": [
        {
          "output_type": "stream",
          "name": "stdout",
          "text": [
            "[ 10  20  30  40  50  60  70  80  90 100]\n"
          ]
        }
      ],
      "source": [
        "# Exemplo:\n",
        "ex_array = np.array([10, 20, 30, 40, 50, 60, 70, 80, 90, 100])\n",
        "\n",
        "print(ex_array)"
      ]
    },
    {
      "cell_type": "markdown",
      "source": [
        "## Versão do NumPy"
      ],
      "metadata": {
        "id": "lwfTIOwQFQ1y"
      }
    },
    {
      "cell_type": "code",
      "source": [
        "print(np.__version__)"
      ],
      "metadata": {
        "colab": {
          "base_uri": "https://localhost:8080/"
        },
        "id": "rr8jbjwmE8sp",
        "outputId": "e19bda5f-48bc-45d4-a0b2-5b814ac8dfe6"
      },
      "execution_count": null,
      "outputs": [
        {
          "output_type": "stream",
          "name": "stdout",
          "text": [
            "1.22.4\n"
          ]
        }
      ]
    },
    {
      "cell_type": "markdown",
      "source": [
        "## Dimensões em matrizes"
      ],
      "metadata": {
        "id": "X1Z0fNiiGB_I"
      }
    },
    {
      "cell_type": "markdown",
      "source": [
        "### Criando Matrizes 0D"
      ],
      "metadata": {
        "id": "glLJEEg-GnLd"
      }
    },
    {
      "cell_type": "code",
      "source": [
        "ex_array = np.array(100)\n",
        "print(ex_array)\n",
        "print(type(ex_array))"
      ],
      "metadata": {
        "colab": {
          "base_uri": "https://localhost:8080/"
        },
        "id": "_fQB0Tw3FVmu",
        "outputId": "74083378-0778-48d1-abc9-b9a89cc7cd4e"
      },
      "execution_count": null,
      "outputs": [
        {
          "output_type": "stream",
          "name": "stdout",
          "text": [
            "100\n",
            "<class 'numpy.ndarray'>\n"
          ]
        }
      ]
    },
    {
      "cell_type": "markdown",
      "source": [
        "### Matrizes 1D - unidimensional"
      ],
      "metadata": {
        "id": "ws2Wu9BGGrNN"
      }
    },
    {
      "cell_type": "code",
      "source": [
        "ex_array = np.array([10, 20, 30, 40, 50, 60, 70, 80, 90, 100])\n",
        "print(ex_array)\n",
        "print(type(ex_array))"
      ],
      "metadata": {
        "colab": {
          "base_uri": "https://localhost:8080/"
        },
        "id": "ZLWEpfH_GYjV",
        "outputId": "39683de8-0e3d-44fb-d00e-7036130c9bf1"
      },
      "execution_count": null,
      "outputs": [
        {
          "output_type": "stream",
          "name": "stdout",
          "text": [
            "[ 10  20  30  40  50  60  70  80  90 100]\n",
            "<class 'numpy.ndarray'>\n"
          ]
        }
      ]
    },
    {
      "cell_type": "markdown",
      "source": [
        "### Conversão de tipos nos elementos"
      ],
      "metadata": {
        "id": "fWIczFWTHBpI"
      }
    },
    {
      "cell_type": "code",
      "source": [
        "ex_array = np.array([10, 20, 30, 40.5, 50.5, 60.5, 70.5, 80, 90, 100])\n",
        "print(ex_array)\n",
        "print(type(ex_array))"
      ],
      "metadata": {
        "colab": {
          "base_uri": "https://localhost:8080/"
        },
        "id": "ZcHahX7aG7xa",
        "outputId": "46564218-3c10-460b-fc4c-fdb2c34f4185"
      },
      "execution_count": null,
      "outputs": [
        {
          "output_type": "stream",
          "name": "stdout",
          "text": [
            "[ 10.   20.   30.   40.5  50.5  60.5  70.5  80.   90.  100. ]\n",
            "<class 'numpy.ndarray'>\n"
          ]
        }
      ]
    },
    {
      "cell_type": "code",
      "source": [
        "ex_array = np.array([10, 20, 30, 40.5, 50.5, 60.5, 70.5, '80', '90', '100'])\n",
        "print(ex_array)\n",
        "print(type(ex_array))"
      ],
      "metadata": {
        "colab": {
          "base_uri": "https://localhost:8080/"
        },
        "id": "ovUJu1MtHOOB",
        "outputId": "1db476a1-b953-4b46-c298-79c148496b8c"
      },
      "execution_count": null,
      "outputs": [
        {
          "output_type": "stream",
          "name": "stdout",
          "text": [
            "['10' '20' '30' '40.5' '50.5' '60.5' '70.5' '80' '90' '100']\n",
            "<class 'numpy.ndarray'>\n"
          ]
        }
      ]
    },
    {
      "cell_type": "markdown",
      "source": [
        "### Matrizes 2D"
      ],
      "metadata": {
        "id": "a6_wJrIqHcTA"
      }
    },
    {
      "cell_type": "code",
      "source": [
        "ex_array = np.array([\n",
        "                      [10, 20, 30], \n",
        "                      [40, 50, 60]\n",
        "                      ])\n",
        "\n",
        "print(ex_array)\n",
        "print(type(ex_array))\n"
      ],
      "metadata": {
        "colab": {
          "base_uri": "https://localhost:8080/"
        },
        "id": "3uIWunWwHZHQ",
        "outputId": "11a92896-9221-4097-fbe1-828b89c6c604"
      },
      "execution_count": null,
      "outputs": [
        {
          "output_type": "stream",
          "name": "stdout",
          "text": [
            "[[10 20 30]\n",
            " [40 50 60]]\n",
            "<class 'numpy.ndarray'>\n"
          ]
        }
      ]
    },
    {
      "cell_type": "code",
      "source": [],
      "metadata": {
        "id": "9hvz8YndHqX5"
      },
      "execution_count": null,
      "outputs": []
    },
    {
      "cell_type": "markdown",
      "source": [
        "### Matrizes 3D"
      ],
      "metadata": {
        "id": "MMdemnp1Huht"
      }
    },
    {
      "cell_type": "code",
      "source": [
        "ex_array = np.array([\n",
        "                      [\n",
        "                       [10, 20, 30], \n",
        "                       [40, 50, 60]\n",
        "                       ], \n",
        "                      [\n",
        "                       [10, 20, 30], \n",
        "                       [40, 50, 60]\n",
        "                       ]\n",
        "                      ])\n",
        "\n",
        "print(ex_array)\n",
        "print(type(ex_array))"
      ],
      "metadata": {
        "colab": {
          "base_uri": "https://localhost:8080/"
        },
        "id": "dQUPSi6LHwwg",
        "outputId": "15d48aab-5bf9-44c5-dd2a-fc564e46f292"
      },
      "execution_count": null,
      "outputs": [
        {
          "output_type": "stream",
          "name": "stdout",
          "text": [
            "[[[10 20 30]\n",
            "  [40 50 60]]\n",
            "\n",
            " [[10 20 30]\n",
            "  [40 50 60]]]\n",
            "<class 'numpy.ndarray'>\n"
          ]
        }
      ]
    },
    {
      "cell_type": "markdown",
      "source": [
        "### Obtendo a quantidade de dimensões ao Array"
      ],
      "metadata": {
        "id": "GZe_ekZAH--q"
      }
    },
    {
      "cell_type": "code",
      "source": [
        "ex_array = np.array(42)\n",
        "print(ex_array.ndim)"
      ],
      "metadata": {
        "colab": {
          "base_uri": "https://localhost:8080/"
        },
        "id": "tyPc8rzCH0KN",
        "outputId": "c7266184-c872-484b-c73b-172d7b29c333"
      },
      "execution_count": null,
      "outputs": [
        {
          "output_type": "stream",
          "name": "stdout",
          "text": [
            "0\n"
          ]
        }
      ]
    },
    {
      "cell_type": "code",
      "source": [
        "ex_array = np.array([10, 20, 30, 40, 50, 60, 70, 80, 90, 100])\n",
        "print(ex_array.ndim)"
      ],
      "metadata": {
        "colab": {
          "base_uri": "https://localhost:8080/"
        },
        "id": "G0ZJMsKwIHND",
        "outputId": "c086ca5c-86ae-4976-efe5-ed5e27b2015c"
      },
      "execution_count": null,
      "outputs": [
        {
          "output_type": "stream",
          "name": "stdout",
          "text": [
            "1\n"
          ]
        }
      ]
    },
    {
      "cell_type": "code",
      "source": [
        "ex_array = np.array([\n",
        "                      [10, 20, 30], \n",
        "                      [40, 50, 60]\n",
        "                      ])\n",
        "\n",
        "print(ex_array.ndim)"
      ],
      "metadata": {
        "colab": {
          "base_uri": "https://localhost:8080/"
        },
        "id": "0MUkpaqwILwA",
        "outputId": "cb9cf08a-9bd1-47ea-e215-cd223f10ea83"
      },
      "execution_count": null,
      "outputs": [
        {
          "output_type": "stream",
          "name": "stdout",
          "text": [
            "2\n"
          ]
        }
      ]
    },
    {
      "cell_type": "code",
      "source": [
        "ex_array = np.array([[\n",
        "                       [10, 20, 30], [40, 50, 60]\n",
        "                       ], \n",
        "                      [\n",
        "                       [10, 20, 30], [40, 50, 60]\n",
        "                       ]\n",
        "                      ])\n",
        "\n",
        "print(ex_array.ndim)"
      ],
      "metadata": {
        "colab": {
          "base_uri": "https://localhost:8080/"
        },
        "id": "6kruTPJzIn39",
        "outputId": "9a860c20-ec85-4427-8b1c-0e7455da1dda"
      },
      "execution_count": null,
      "outputs": [
        {
          "output_type": "stream",
          "name": "stdout",
          "text": [
            "3\n"
          ]
        }
      ]
    },
    {
      "cell_type": "markdown",
      "source": [
        "### Matrizes com n-dimensões"
      ],
      "metadata": {
        "id": "idaHEdPGI4Kg"
      }
    },
    {
      "cell_type": "code",
      "source": [
        "ex_array = np.array([21, 22, 23, 24, 25], ndmin=5)\n",
        "\n",
        "print(ex_array)\n",
        "\n",
        "print(ex_array.ndim)"
      ],
      "metadata": {
        "colab": {
          "base_uri": "https://localhost:8080/"
        },
        "id": "Be0R34ugIt94",
        "outputId": "28f687f2-093b-4ddc-e0f6-05b42cfa8594"
      },
      "execution_count": null,
      "outputs": [
        {
          "output_type": "stream",
          "name": "stdout",
          "text": [
            "[[[[[21 22 23 24 25]]]]]\n",
            "5\n"
          ]
        }
      ]
    },
    {
      "cell_type": "markdown",
      "source": [
        "### Criando arrays vazios ou com valores predefinidos"
      ],
      "metadata": {
        "id": "z6lAqwoGJcaN"
      }
    },
    {
      "cell_type": "code",
      "source": [
        "ex_array = np.empty((4,))\n",
        "print(ex_array)\n",
        "print(ex_array.ndim)"
      ],
      "metadata": {
        "colab": {
          "base_uri": "https://localhost:8080/"
        },
        "id": "t-BSUddvI_Xn",
        "outputId": "c73843cb-8b82-40be-b426-415ff318a2db"
      },
      "execution_count": null,
      "outputs": [
        {
          "output_type": "stream",
          "name": "stdout",
          "text": [
            "[2.47588232e-316 0.00000000e+000 2.70061816e-316 2.70061816e-316]\n",
            "1\n"
          ]
        }
      ]
    },
    {
      "cell_type": "code",
      "source": [
        "ex_array = np.empty((3,3))\n",
        "print(ex_array)\n",
        "print(ex_array.ndim)\n"
      ],
      "metadata": {
        "colab": {
          "base_uri": "https://localhost:8080/"
        },
        "id": "vTVVxJ_4Jml5",
        "outputId": "2ec16a95-a4fe-4001-aada-dfdb2c32c09e"
      },
      "execution_count": null,
      "outputs": [
        {
          "output_type": "stream",
          "name": "stdout",
          "text": [
            "[[2.3824114e-316 0.0000000e+000 0.0000000e+000]\n",
            " [0.0000000e+000 0.0000000e+000 0.0000000e+000]\n",
            " [0.0000000e+000 0.0000000e+000 3.9525252e-322]]\n",
            "2\n"
          ]
        }
      ]
    },
    {
      "cell_type": "code",
      "source": [
        "ex_array = np.ones((3,3))\n",
        "print(ex_array)\n",
        "print(ex_array.ndim)"
      ],
      "metadata": {
        "colab": {
          "base_uri": "https://localhost:8080/"
        },
        "id": "9VTABO8oJzPG",
        "outputId": "380bd7ad-c73a-44dc-9eda-0ef728b7f279"
      },
      "execution_count": null,
      "outputs": [
        {
          "output_type": "stream",
          "name": "stdout",
          "text": [
            "[[1. 1. 1.]\n",
            " [1. 1. 1.]\n",
            " [1. 1. 1.]]\n",
            "2\n"
          ]
        }
      ]
    },
    {
      "cell_type": "code",
      "source": [
        "ex_array = np.zeros((3,5))\n",
        "print(ex_array)\n",
        "print(ex_array.ndim)"
      ],
      "metadata": {
        "colab": {
          "base_uri": "https://localhost:8080/"
        },
        "id": "-14eRXoCJ907",
        "outputId": "595c151b-0ccb-4494-ed51-19f8803cef24"
      },
      "execution_count": null,
      "outputs": [
        {
          "output_type": "stream",
          "name": "stdout",
          "text": [
            "[[0. 0. 0. 0. 0.]\n",
            " [0. 0. 0. 0. 0.]\n",
            " [0. 0. 0. 0. 0.]]\n",
            "2\n"
          ]
        }
      ]
    },
    {
      "cell_type": "code",
      "source": [
        "ex_array = np.full((3,3), 10)\n",
        "print(ex_array)\n",
        "print(ex_array.ndim)"
      ],
      "metadata": {
        "colab": {
          "base_uri": "https://localhost:8080/"
        },
        "id": "6ip9Jf_LKpjY",
        "outputId": "9d39d448-8334-457b-ffc8-b4e45d6c3d3c"
      },
      "execution_count": null,
      "outputs": [
        {
          "output_type": "stream",
          "name": "stdout",
          "text": [
            "[[10 10 10]\n",
            " [10 10 10]\n",
            " [10 10 10]]\n",
            "2\n"
          ]
        }
      ]
    },
    {
      "cell_type": "markdown",
      "source": [
        "### Adicionar e remover elementos"
      ],
      "metadata": {
        "id": "A6OSt6gYK54l"
      }
    },
    {
      "cell_type": "markdown",
      "source": [
        "*   insert(arr, obj, valores [, eixo])\n",
        "*   Insira valores ao longo do eixo fornecido antes dos índices fornecidos.\n"
      ],
      "metadata": {
        "id": "cRTSz-c0LDd7"
      }
    },
    {
      "cell_type": "code",
      "source": [
        "ex_array = np.array([10, 20, 30, 40, 50, 60, 70, 80, 90, 100])\n",
        "print(ex_array)\n",
        "\n",
        "new_array = np.insert(ex_array,3,888)\n",
        "print(new_array)\n",
        "\n",
        "print(ex_array)"
      ],
      "metadata": {
        "colab": {
          "base_uri": "https://localhost:8080/"
        },
        "id": "AODU0o5_Kw5y",
        "outputId": "8e4f1d74-5a22-40a3-f74d-4ed31452d2fb"
      },
      "execution_count": null,
      "outputs": [
        {
          "output_type": "stream",
          "name": "stdout",
          "text": [
            "[ 10  20  30  40  50  60  70  80  90 100]\n",
            "[ 10  20  30 888  40  50  60  70  80  90 100]\n",
            "[ 10  20  30  40  50  60  70  80  90 100]\n"
          ]
        }
      ]
    },
    {
      "cell_type": "markdown",
      "source": [
        "\n",
        "\n",
        "*   append(arr, valores [, eixo])\n",
        "\n",
        "\n"
      ],
      "metadata": {
        "id": "heDIj-9FL1Jt"
      }
    },
    {
      "cell_type": "code",
      "source": [
        "ex_array = np.array([10, 20, 30, 40, 50, 60, 70, 80, 90, 100])\n",
        "print(ex_array)\n",
        "\n",
        "new_array = np.append(ex_array,[888,999])\n",
        "print(new_array)\n",
        "\n",
        "print(ex_array)"
      ],
      "metadata": {
        "colab": {
          "base_uri": "https://localhost:8080/"
        },
        "id": "DOaB_NW7Lhkf",
        "outputId": "22e7e68c-992c-4218-b2b1-2e239fe69a5e"
      },
      "execution_count": null,
      "outputs": [
        {
          "output_type": "stream",
          "name": "stdout",
          "text": [
            "[ 10  20  30  40  50  60  70  80  90 100]\n",
            "[ 10  20  30  40  50  60  70  80  90 100 888 999]\n",
            "[ 10  20  30  40  50  60  70  80  90 100]\n"
          ]
        }
      ]
    },
    {
      "cell_type": "markdown",
      "source": [
        "\n",
        "\n",
        "*   delete(arr, obj [, eixo])\n",
        "\n"
      ],
      "metadata": {
        "id": "X_4mb0NpMHTo"
      }
    },
    {
      "cell_type": "code",
      "source": [
        "ex_array = np.array([10, 20, 30, 40, 50, 60, 70, 80, 90, 100])\n",
        "print(ex_array)\n",
        "\n",
        "new_array = np.delete(ex_array,[3,4,5])\n",
        "print(new_array)\n",
        "\n",
        "print(ex_array)"
      ],
      "metadata": {
        "colab": {
          "base_uri": "https://localhost:8080/"
        },
        "id": "wJr13VK9MNtz",
        "outputId": "34d27342-15a6-496b-c09a-ce9635e782a2"
      },
      "execution_count": null,
      "outputs": [
        {
          "output_type": "stream",
          "name": "stdout",
          "text": [
            "[ 10  20  30  40  50  60  70  80  90 100]\n",
            "[ 10  20  30  70  80  90 100]\n",
            "[ 10  20  30  40  50  60  70  80  90 100]\n"
          ]
        }
      ]
    },
    {
      "cell_type": "markdown",
      "source": [
        "\n",
        "\n",
        "*   unique(ar [, return_index, return_inverse,…])\n",
        "\n",
        "\n"
      ],
      "metadata": {
        "id": "wOqmmp8TMg9v"
      }
    },
    {
      "cell_type": "code",
      "source": [
        "ex_array = np.array([10, 20, 30, 40, 50, 60, 70, 80, 90, 100,10, 20, 30, 40, 50, 60, 70, 80, 90, 100,10, 20, 30, 40, 50, 60, 70, 80, 90, 100])\n",
        "print(ex_array)\n",
        "\n",
        "new_array = np.unique(ex_array)\n",
        "print(new_array)\n",
        "\n",
        "print(ex_array)"
      ],
      "metadata": {
        "colab": {
          "base_uri": "https://localhost:8080/"
        },
        "id": "1dReRtInMYXK",
        "outputId": "73910fcf-6a14-43e5-f204-116082977cd3"
      },
      "execution_count": null,
      "outputs": [
        {
          "output_type": "stream",
          "name": "stdout",
          "text": [
            "[ 10  20  30  40  50  60  70  80  90 100  10  20  30  40  50  60  70  80\n",
            "  90 100  10  20  30  40  50  60  70  80  90 100]\n",
            "[ 10  20  30  40  50  60  70  80  90 100]\n",
            "[ 10  20  30  40  50  60  70  80  90 100  10  20  30  40  50  60  70  80\n",
            "  90 100  10  20  30  40  50  60  70  80  90 100]\n"
          ]
        }
      ]
    },
    {
      "cell_type": "code",
      "source": [],
      "metadata": {
        "id": "whmN0AExMve0"
      },
      "execution_count": null,
      "outputs": []
    },
    {
      "cell_type": "markdown",
      "source": [
        "## Indexação de matriz no NumPy"
      ],
      "metadata": {
        "id": "Z_yaTWprF66r"
      }
    },
    {
      "cell_type": "markdown",
      "source": [
        "### Acessando um elemento"
      ],
      "metadata": {
        "id": "zr7uvEXQGA9v"
      }
    },
    {
      "cell_type": "code",
      "source": [
        "ex_array = np.array([21, 22, 23, 24, 25])\n",
        "\n",
        "print(ex_array[0])\n",
        "print(ex_array[-1])\n",
        "print(ex_array[2])"
      ],
      "metadata": {
        "colab": {
          "base_uri": "https://localhost:8080/"
        },
        "id": "KszgEQm7F-vT",
        "outputId": "08ce3dfc-d92a-47b6-9db5-0b8e1b3be3b4"
      },
      "execution_count": null,
      "outputs": [
        {
          "output_type": "stream",
          "name": "stdout",
          "text": [
            "21\n",
            "25\n",
            "23\n"
          ]
        }
      ]
    },
    {
      "cell_type": "code",
      "source": [
        "ex_array = np.array([\n",
        "                      [21, 22, 23, 24, 25], \n",
        "                      [26, 27, 28, 29, 30]\n",
        "                      ])\n",
        "\n",
        "print('O terceiro elemento da segunda dimensão: ', ex_array[1, 2])"
      ],
      "metadata": {
        "colab": {
          "base_uri": "https://localhost:8080/"
        },
        "id": "jkbIp6ANGCui",
        "outputId": "19541775-b8df-4785-82d7-a5bcdf70cda4"
      },
      "execution_count": null,
      "outputs": [
        {
          "output_type": "stream",
          "name": "stdout",
          "text": [
            "O terceiro elemento da segunda dimensão:  28\n"
          ]
        }
      ]
    },
    {
      "cell_type": "code",
      "source": [
        "ex_array = np.array([\n",
        "                        [\n",
        "                          [10, 20, 30], \n",
        "                          [40, 50, 60]\n",
        "                        ], \n",
        "                        [\n",
        "                          [70, 80, 90], \n",
        "                          [100, 110, 120]\n",
        "                        ]\n",
        "                      ])\n",
        "\n",
        "print(ex_array[0, 1, 2])\n",
        "print(ex_array[1, 0, 0])\n",
        "print(ex_array[0, 0, 1])\n",
        "\n",
        "# Indexação negativa\n",
        "print(ex_array[-1, -1, -1])\n",
        "print(ex_array[-2, -2, -2])"
      ],
      "metadata": {
        "colab": {
          "base_uri": "https://localhost:8080/"
        },
        "id": "bDy2fa8wGYjF",
        "outputId": "2379817e-5c98-4db6-838b-6801df33cb3f"
      },
      "execution_count": null,
      "outputs": [
        {
          "output_type": "stream",
          "name": "stdout",
          "text": [
            "60\n",
            "70\n",
            "20\n",
            "120\n",
            "20\n"
          ]
        }
      ]
    },
    {
      "cell_type": "markdown",
      "source": [
        "### Recorte de uma matriz"
      ],
      "metadata": {
        "id": "2wcZskVZHRME"
      }
    },
    {
      "cell_type": "code",
      "source": [
        "ex_array = np.array([10, 20, 30, 40, 50, 60, 70, 80, 90, 100])\n",
        "\n",
        "print(ex_array[1:5])"
      ],
      "metadata": {
        "colab": {
          "base_uri": "https://localhost:8080/"
        },
        "id": "yC2GFNYAGjui",
        "outputId": "418a8aa7-f0d7-497b-a9a6-7fc62592a576"
      },
      "execution_count": null,
      "outputs": [
        {
          "output_type": "stream",
          "name": "stdout",
          "text": [
            "[20 30 40 50]\n"
          ]
        }
      ]
    },
    {
      "cell_type": "code",
      "source": [
        "ex_array = np.array([10, 20, 30, 40, 50, 60, 70, 80, 90, 100])\n",
        "\n",
        "print(ex_array[3:])"
      ],
      "metadata": {
        "colab": {
          "base_uri": "https://localhost:8080/"
        },
        "id": "oxpGsR9fHZ1A",
        "outputId": "2c5fe577-eba3-48ca-9dad-c280f3737efb"
      },
      "execution_count": null,
      "outputs": [
        {
          "output_type": "stream",
          "name": "stdout",
          "text": [
            "[ 40  50  60  70  80  90 100]\n"
          ]
        }
      ]
    },
    {
      "cell_type": "code",
      "source": [
        "ex_array = np.array([10, 20, 30, 40, 50, 60, 70, 80, 90, 100])\n",
        "\n",
        "print(ex_array[:4])"
      ],
      "metadata": {
        "colab": {
          "base_uri": "https://localhost:8080/"
        },
        "id": "7dxZJ-I_Heke",
        "outputId": "f35d43e2-cf1b-4259-e7a7-aaace12d3209"
      },
      "execution_count": null,
      "outputs": [
        {
          "output_type": "stream",
          "name": "stdout",
          "text": [
            "[10 20 30 40]\n"
          ]
        }
      ]
    },
    {
      "cell_type": "code",
      "source": [
        "ex_array = np.array([10, 20, 30, 40, 50, 60, 70, 80, 90, 100])\n",
        "\n",
        "print(ex_array[-5:-2])"
      ],
      "metadata": {
        "colab": {
          "base_uri": "https://localhost:8080/"
        },
        "id": "9x2Rs7RWHiwu",
        "outputId": "5beca6d1-9683-4539-d3bc-7fac37066c0f"
      },
      "execution_count": null,
      "outputs": [
        {
          "output_type": "stream",
          "name": "stdout",
          "text": [
            "[60 70 80]\n"
          ]
        }
      ]
    },
    {
      "cell_type": "code",
      "source": [
        "ex_array = np.array([10, 20, 30, 40, 50, 60, 70, 80, 90, 100])\n",
        "\n",
        "print(ex_array[-3:])"
      ],
      "metadata": {
        "colab": {
          "base_uri": "https://localhost:8080/"
        },
        "id": "m_lMsRFPHot3",
        "outputId": "4825334b-f8c6-4ffd-8199-952a984f3405"
      },
      "execution_count": null,
      "outputs": [
        {
          "output_type": "stream",
          "name": "stdout",
          "text": [
            "[ 80  90 100]\n"
          ]
        }
      ]
    },
    {
      "cell_type": "code",
      "source": [],
      "metadata": {
        "id": "1RDYe4cZHtUx"
      },
      "execution_count": null,
      "outputs": []
    },
    {
      "cell_type": "code",
      "source": [
        "# Usando saltos\n",
        "ex_array = np.array([10, 20, 30, 40, 50, 60, 70, 80, 90, 100])\n",
        "\n",
        "print(ex_array[0:9:3])"
      ],
      "metadata": {
        "colab": {
          "base_uri": "https://localhost:8080/"
        },
        "id": "u1LsnZ7DITjY",
        "outputId": "1b2e51a1-6705-4c4f-8ef8-a677046c2df1"
      },
      "execution_count": null,
      "outputs": [
        {
          "output_type": "stream",
          "name": "stdout",
          "text": [
            "[10 40 70]\n"
          ]
        }
      ]
    },
    {
      "cell_type": "code",
      "source": [
        "ex_array = np.array([10, 20, 30, 40, 50, 60, 70, 80, 90, 100])\n",
        "\n",
        "print(ex_array[2: :2])"
      ],
      "metadata": {
        "colab": {
          "base_uri": "https://localhost:8080/"
        },
        "id": "cWBDquSIIX58",
        "outputId": "72bd3aa1-ec7d-4528-e06b-b0ded51b2279"
      },
      "execution_count": null,
      "outputs": [
        {
          "output_type": "stream",
          "name": "stdout",
          "text": [
            "[30 50 70 90]\n"
          ]
        }
      ]
    },
    {
      "cell_type": "code",
      "source": [
        "ex_array = np.array([10, 20, 30, 40, 50, 60, 70, 80, 90, 100])\n",
        "\n",
        "print(ex_array[ : 4 :2])"
      ],
      "metadata": {
        "colab": {
          "base_uri": "https://localhost:8080/"
        },
        "id": "lAcnog6DIiLE",
        "outputId": "51180d29-36cf-4b98-b9e1-0a46163ec11a"
      },
      "execution_count": null,
      "outputs": [
        {
          "output_type": "stream",
          "name": "stdout",
          "text": [
            "[10 30]\n"
          ]
        }
      ]
    },
    {
      "cell_type": "markdown",
      "source": [
        "### Recorte de uma matriz 2D"
      ],
      "metadata": {
        "id": "sksY--eEIvw0"
      }
    },
    {
      "cell_type": "code",
      "source": [
        "ex_array = np.array([\n",
        "                      [10, 20, 30, 40, 50], \n",
        "                      [60, 70, 80, 90, 100],\n",
        "                      [160, 170, 180, 190, 1100], \n",
        "                      [260, 270, 280, 290, 2100]\n",
        "                      ])\n",
        "\n",
        "print(ex_array[0, 1:5])"
      ],
      "metadata": {
        "colab": {
          "base_uri": "https://localhost:8080/"
        },
        "id": "eHZA7Wk0Ik9O",
        "outputId": "c3dbccf4-a87b-4448-f445-2ec6c265c8f9"
      },
      "execution_count": null,
      "outputs": [
        {
          "output_type": "stream",
          "name": "stdout",
          "text": [
            "[20 30 40 50]\n"
          ]
        }
      ]
    },
    {
      "cell_type": "code",
      "source": [
        "print(ex_array[1 , :4])"
      ],
      "metadata": {
        "colab": {
          "base_uri": "https://localhost:8080/"
        },
        "id": "HrcE-ligIzmV",
        "outputId": "acbad702-78f8-4738-fd0c-3298755cd393"
      },
      "execution_count": null,
      "outputs": [
        {
          "output_type": "stream",
          "name": "stdout",
          "text": [
            "[60 70 80 90]\n"
          ]
        }
      ]
    },
    {
      "cell_type": "markdown",
      "source": [
        "### Acessar uma coluna numa matriz 2D"
      ],
      "metadata": {
        "id": "KV-NOtnaJAiB"
      }
    },
    {
      "cell_type": "code",
      "source": [
        "ex_array = np.array([\n",
        "                      [10, 20, 30, 40, 50], \n",
        "                      [60, 70, 80, 90, 100],\n",
        "                      [160, 170, 180, 190, 1100], \n",
        "                      [260, 270, 280, 290, 2100]\n",
        "                      ])\n",
        "\n",
        "print(ex_array[:, 1])"
      ],
      "metadata": {
        "colab": {
          "base_uri": "https://localhost:8080/"
        },
        "id": "ZBdGuCdiJAQy",
        "outputId": "e59a4504-dbcd-4802-8e53-7f7efdd6543f"
      },
      "execution_count": null,
      "outputs": [
        {
          "output_type": "stream",
          "name": "stdout",
          "text": [
            "[ 20  70 170 270]\n"
          ]
        }
      ]
    },
    {
      "cell_type": "code",
      "source": [
        "print(ex_array[:, 2])"
      ],
      "metadata": {
        "colab": {
          "base_uri": "https://localhost:8080/"
        },
        "id": "cS2PXH4WI3-8",
        "outputId": "9bb3e1ad-e287-4c26-9e93-3dc044d7a91a"
      },
      "execution_count": null,
      "outputs": [
        {
          "output_type": "stream",
          "name": "stdout",
          "text": [
            "[ 30  80 180 280]\n"
          ]
        }
      ]
    },
    {
      "cell_type": "code",
      "source": [
        "print(ex_array[:, 0:2])"
      ],
      "metadata": {
        "colab": {
          "base_uri": "https://localhost:8080/"
        },
        "id": "1fK9KeGWJL7h",
        "outputId": "ad9a683a-b827-4ca5-c031-df8adf2c66d5"
      },
      "execution_count": null,
      "outputs": [
        {
          "output_type": "stream",
          "name": "stdout",
          "text": [
            "[[ 10  20]\n",
            " [ 60  70]\n",
            " [160 170]\n",
            " [260 270]]\n"
          ]
        }
      ]
    },
    {
      "cell_type": "markdown",
      "source": [
        "## Tipologia de Dados - NumPy"
      ],
      "metadata": {
        "id": "oXKTaHKRJka2"
      }
    },
    {
      "cell_type": "markdown",
      "source": [
        "Tipos de dados em NumPy e os caracteres usados ​​para representá-los.\n",
        "* i - integer\n",
        "* b - boolean\n",
        "* u - unsigned integer\n",
        "* f - float\n",
        "* c - complex float\n",
        "* m - timedelta\n",
        "* M - datetime\n",
        "* O - object\n",
        "* S - string\n",
        "* U - unicode string"
      ],
      "metadata": {
        "id": "JdwpT9lWKK0X"
      }
    },
    {
      "cell_type": "markdown",
      "source": [
        "### Checar o tipo de dados de uma matriz"
      ],
      "metadata": {
        "id": "gnfd7VA6Kiz6"
      }
    },
    {
      "cell_type": "code",
      "source": [
        "ex_arraype)"
      ],
      "metadata": {
        "colab": {
          "base_uri": "https://localhost:8080/"
        },
        "id": "AtVn307uJPYv",
        "outputId": "3b0c0a6c-1c3c-4c20-b704-24843acbdc2d"
      },
      "execution_count": null,
      "outputs": [
        {
          "output_type": "stream",
          "name": "stdout",
          "text": [
            "int64\n"
          ]
        }
      ]
    },
    {
      "cell_type": "code",
      "source": [
        "ex_array = np.array(['José', 'Maria', 'João', 'Zé'])\n",
        "\n",
        "print(ex_array.dtype)\n",
        "print(ex_array)"
      ],
      "metadata": {
        "colab": {
          "base_uri": "https://localhost:8080/"
        },
        "id": "ia5I595iKpK9",
        "outputId": "df4156af-673f-46f8-9f2f-d9d1800ab0f3"
      },
      "execution_count": null,
      "outputs": [
        {
          "output_type": "stream",
          "name": "stdout",
          "text": [
            "<U5\n",
            "['José' 'Maria' 'João' 'Zé']\n"
          ]
        }
      ]
    },
    {
      "cell_type": "markdown",
      "source": [
        "### Definindo o tipo de dado na criação das matrizes"
      ],
      "metadata": {
        "id": "i0KKoUFtK0I-"
      }
    },
    {
      "cell_type": "code",
      "source": [
        "ex_array = np.array([21, 22, 23, 24, 25], dtype=str)\n",
        "\n",
        "print(ex_array)\n",
        "print(ex_array.dtype)"
      ],
      "metadata": {
        "colab": {
          "base_uri": "https://localhost:8080/"
        },
        "id": "2qlUXw0-KtuQ",
        "outputId": "70fc4d49-f4db-41b1-d488-a8cbe057c398"
      },
      "execution_count": null,
      "outputs": [
        {
          "output_type": "stream",
          "name": "stdout",
          "text": [
            "['21' '22' '23' '24' '25']\n",
            "<U2\n"
          ]
        }
      ]
    },
    {
      "cell_type": "code",
      "source": [
        "ex_array = np.array([21, 22, 23, 24, 25, 2323423423], dtype='S3')\n",
        "\n",
        "print(ex_array)\n",
        "print(ex_array.dtype)"
      ],
      "metadata": {
        "colab": {
          "base_uri": "https://localhost:8080/"
        },
        "id": "hcnIV6xZK8e3",
        "outputId": "de168ab8-1bfb-43cb-bf8b-e284192d5623"
      },
      "execution_count": null,
      "outputs": [
        {
          "output_type": "stream",
          "name": "stdout",
          "text": [
            "[b'21' b'22' b'23' b'24' b'25' b'232']\n",
            "|S3\n"
          ]
        }
      ]
    },
    {
      "cell_type": "code",
      "source": [
        "ex_array = np.array([21, 22, 23, 24, 12312312323234], dtype='i8')\n",
        "\n",
        "print(ex_array)\n",
        "\n",
        "print(ex_array.dtype)"
      ],
      "metadata": {
        "colab": {
          "base_uri": "https://localhost:8080/"
        },
        "id": "weP1g_mlLEty",
        "outputId": "e8f0e6fa-a430-4ec3-f806-fb70c6b66ecf"
      },
      "execution_count": null,
      "outputs": [
        {
          "output_type": "stream",
          "name": "stdout",
          "text": [
            "[            21             22             23             24\n",
            " 12312312323234]\n",
            "int64\n"
          ]
        }
      ]
    },
    {
      "cell_type": "markdown",
      "source": [
        "### Conversão de tipo de dados em matrizes"
      ],
      "metadata": {
        "id": "Rj_n5ZCILcJI"
      }
    },
    {
      "cell_type": "markdown",
      "source": [
        "* Utilize o método astype() para criar uma cópia da matriz convertida para o novo tipo de dado.\n",
        "* Como argumento podem ser passadas tanto as letras dos tipos quanto o nomes dos tipos do python."
      ],
      "metadata": {
        "id": "VKjNPqTVLjp7"
      }
    },
    {
      "cell_type": "code",
      "source": [
        "ex_array = np.array([1.1, 2.1, 3.1])\n",
        "\n",
        "novo_array = ex_array.astype('i')\n",
        "\n",
        "print(novo_array)\n",
        "print(novo_array.dtype)"
      ],
      "metadata": {
        "colab": {
          "base_uri": "https://localhost:8080/"
        },
        "id": "KoyNOVNaLXgr",
        "outputId": "47309c35-68b6-4446-b22f-aa3f69c9ef22"
      },
      "execution_count": null,
      "outputs": [
        {
          "output_type": "stream",
          "name": "stdout",
          "text": [
            "[1 2 3]\n",
            "int32\n"
          ]
        }
      ]
    },
    {
      "cell_type": "code",
      "source": [
        "novo_array = ex_array.astype('U')\n",
        "\n",
        "print(novo_array)\n",
        "print(novo_array.dtype)"
      ],
      "metadata": {
        "colab": {
          "base_uri": "https://localhost:8080/"
        },
        "id": "kJ8oT_kULsP_",
        "outputId": "41dcaaca-d645-4e24-8967-775a68c701ab"
      },
      "execution_count": null,
      "outputs": [
        {
          "output_type": "stream",
          "name": "stdout",
          "text": [
            "['1.1' '2.1' '3.1']\n",
            "<U32\n"
          ]
        }
      ]
    },
    {
      "cell_type": "code",
      "source": [
        "ex_array = np.array([\n",
        "                      [1.1, 2.1, 3.1],\n",
        "                      [4.1, 5.1, 6.1]\n",
        "                      ])\n",
        "\n",
        "novo_array = ex_array.astype('i8')\n",
        "\n",
        "print(novo_array)\n",
        "print(novo_array.dtype)"
      ],
      "metadata": {
        "colab": {
          "base_uri": "https://localhost:8080/"
        },
        "id": "XZM9WGIFLx-H",
        "outputId": "d8ac427e-9fb7-45ff-8fe4-7ad67bfc2da1"
      },
      "execution_count": null,
      "outputs": [
        {
          "output_type": "stream",
          "name": "stdout",
          "text": [
            "[[1 2 3]\n",
            " [4 5 6]]\n",
            "int64\n"
          ]
        }
      ]
    },
    {
      "cell_type": "code",
      "source": [
        "# Usando boolean\n",
        "ex_array = np.array([1, 0, 3])\n",
        "novo_array = ex_array.astype(bool)\n",
        "\n",
        "print(novo_array)\n",
        "print(novo_array.dtype)"
      ],
      "metadata": {
        "colab": {
          "base_uri": "https://localhost:8080/"
        },
        "id": "Lx_It6aGL2Rq",
        "outputId": "0db9c676-719c-4090-ba94-686c66f52e5c"
      },
      "execution_count": null,
      "outputs": [
        {
          "output_type": "stream",
          "name": "stdout",
          "text": [
            "[ True False  True]\n",
            "bool\n"
          ]
        }
      ]
    },
    {
      "cell_type": "markdown",
      "source": [
        "### NumPy Array copy vs view\n",
        "* Copy: retorna uma uma nova matriz\n",
        "* View: apenas uma visualização da matriz original, e as alterações afetarão a matriz original e vice-versa"
      ],
      "metadata": {
        "id": "AOZQU5aMMF2k"
      }
    },
    {
      "cell_type": "code",
      "source": [
        "ex_array = np.array([10, 20, 30, 40, 50, 60, 70, 80, 90, 100])\n",
        "copia = ex_array.copy()\n",
        "copia[0] = 42\n",
        "\n",
        "print(ex_array)\n",
        "print(copia)\n",
        "print(ex_array)"
      ],
      "metadata": {
        "colab": {
          "base_uri": "https://localhost:8080/"
        },
        "id": "5KovKb9EL-e-",
        "outputId": "841a99bd-3ae3-4a39-9fe8-a47344afea62"
      },
      "execution_count": null,
      "outputs": [
        {
          "output_type": "stream",
          "name": "stdout",
          "text": [
            "[ 10  20  30  40  50  60  70  80  90 100]\n",
            "[ 42  20  30  40  50  60  70  80  90 100]\n",
            "[ 10  20  30  40  50  60  70  80  90 100]\n"
          ]
        }
      ]
    },
    {
      "cell_type": "code",
      "source": [
        "ex_array = np.array([10, 20, 30, 40, 50, 60, 70, 80, 90, 100])\n",
        "print(ex_array)\n",
        "visao = ex_array\n",
        "visao[0] = 250\n",
        "\n",
        "\n",
        "print(visao)\n",
        "print(ex_array)"
      ],
      "metadata": {
        "colab": {
          "base_uri": "https://localhost:8080/"
        },
        "id": "fRwYvp7iMS6h",
        "outputId": "12c0b373-d8fe-4679-c7d8-a752fa0af72c"
      },
      "execution_count": null,
      "outputs": [
        {
          "output_type": "stream",
          "name": "stdout",
          "text": [
            "[ 10  20  30  40  50  60  70  80  90 100]\n",
            "[250  20  30  40  50  60  70  80  90 100]\n",
            "[250  20  30  40  50  60  70  80  90 100]\n"
          ]
        }
      ]
    },
    {
      "cell_type": "markdown",
      "source": [
        "## Forma e Remodelagem de Matrizes (shape)"
      ],
      "metadata": {
        "id": "tH4uPYRZM38s"
      }
    },
    {
      "cell_type": "markdown",
      "source": [
        "## Forma de matriz NumPy\n",
        "\n",
        "* Referese ao número de elementos em cada dimensão.\n",
        "* Use o atributo shape para retornar a tupla com as informações da forma."
      ],
      "metadata": {
        "id": "eHK-544wNFKP"
      }
    },
    {
      "cell_type": "code",
      "source": [
        "ex_array = np.array([\n",
        "                      [21, 22, 23, 24], \n",
        "                      [25, 26, 27, 28]\n",
        "                      ])\n",
        "\n",
        "print(ex_array.shape)\n",
        "print(f'Essa matriz possuir {ex_array.shape[0]} dimensões com {ex_array.shape[1]} elementos')"
      ],
      "metadata": {
        "colab": {
          "base_uri": "https://localhost:8080/"
        },
        "id": "jAKIXspYMe2d",
        "outputId": "3057468d-0c3c-4c68-ae56-93aefa5a6331"
      },
      "execution_count": null,
      "outputs": [
        {
          "output_type": "stream",
          "name": "stdout",
          "text": [
            "(2, 4)\n",
            "Essa matriz possuir 2 dimensões com 4 elementos\n"
          ]
        }
      ]
    },
    {
      "cell_type": "code",
      "source": [
        "ex_array = np.array([21, 22, 23, 24, 25], ndmin=4)\n",
        "\n",
        "print(ex_array)\n",
        "print('A forma desse array é :', ex_array.shape)"
      ],
      "metadata": {
        "colab": {
          "base_uri": "https://localhost:8080/"
        },
        "id": "MP9949WsNasR",
        "outputId": "171eba8f-7d88-4045-e2a9-961ea6b51e23"
      },
      "execution_count": null,
      "outputs": [
        {
          "output_type": "stream",
          "name": "stdout",
          "text": [
            "[[[[21 22 23 24 25]]]]\n",
            "A forma desse array é : (1, 1, 1, 5)\n"
          ]
        }
      ]
    },
    {
      "cell_type": "code",
      "source": [
        "ex_array = np.array([[\n",
        "                       [[21, 22, 23, 24, 25],\n",
        "                        [21, 22, 23, 24, 25],\n",
        "                        [21, 22, 23, 24, 25]\n",
        "                       ],\n",
        "                       [\n",
        "                        [21, 22, 23, 24, 25],\n",
        "                        [21, 22, 23, 24, 25],\n",
        "                        [21, 22, 23, 24, 25]\n",
        "                       ]\n",
        "                      ],\n",
        "                      [\n",
        "                       [[21, 22, 23, 24, 25],\n",
        "                        [21, 22, 23, 24, 25],\n",
        "                        [21, 22, 23, 24, 25]\n",
        "                       ],\n",
        "                       [\n",
        "                        [21, 22, 23, 24, 25],\n",
        "                        [21, 22, 23, 24, 25],\n",
        "                        [21, 22, 23, 24, 25]\n",
        "                       ]\n",
        "                      ],\n",
        "   \n",
        "                      ] )\n",
        "\n",
        "print(ex_array)\n",
        "\n",
        "print('A forma desse array é :', ex_array.shape)"
      ],
      "metadata": {
        "colab": {
          "base_uri": "https://localhost:8080/"
        },
        "id": "sgyGd6HiNngC",
        "outputId": "3f1aa915-08bd-4181-bba6-cb1b3e61dcb6"
      },
      "execution_count": null,
      "outputs": [
        {
          "output_type": "stream",
          "name": "stdout",
          "text": [
            "[[[[21 22 23 24 25]\n",
            "   [21 22 23 24 25]\n",
            "   [21 22 23 24 25]]\n",
            "\n",
            "  [[21 22 23 24 25]\n",
            "   [21 22 23 24 25]\n",
            "   [21 22 23 24 25]]]\n",
            "\n",
            "\n",
            " [[[21 22 23 24 25]\n",
            "   [21 22 23 24 25]\n",
            "   [21 22 23 24 25]]\n",
            "\n",
            "  [[21 22 23 24 25]\n",
            "   [21 22 23 24 25]\n",
            "   [21 22 23 24 25]]]]\n",
            "A forma desse array é : (2, 2, 3, 5)\n"
          ]
        }
      ]
    },
    {
      "cell_type": "markdown",
      "source": [
        "## Remodelagem de Array\n",
        "* Alterar a forma de uma matriz\n",
        "* Pode se também adicionar ou remover dimensões ou alterar o número de elementos em cada dimensão."
      ],
      "metadata": {
        "id": "rztTEmqxOH-o"
      }
    },
    {
      "cell_type": "markdown",
      "source": [
        "### De 1D para 2D"
      ],
      "metadata": {
        "id": "SYST58J2OWQ3"
      }
    },
    {
      "cell_type": "code",
      "source": [
        "ex_array = np.array([10, 20, 30, 40, 50, 60, 70, 80, 90, 100, 8, 9, 100, 110, 120])\n",
        "\n",
        "novo_array = ex_array.reshape(5, 3)\n",
        "print(novo_array)"
      ],
      "metadata": {
        "colab": {
          "base_uri": "https://localhost:8080/"
        },
        "id": "uq5LRe4eNwXE",
        "outputId": "5b7c7209-4c21-465b-ecdd-6a1b3f31930a"
      },
      "execution_count": null,
      "outputs": [
        {
          "output_type": "stream",
          "name": "stdout",
          "text": [
            "[[ 10  20  30]\n",
            " [ 40  50  60]\n",
            " [ 70  80  90]\n",
            " [100   8   9]\n",
            " [100 110 120]]\n"
          ]
        }
      ]
    },
    {
      "cell_type": "markdown",
      "source": [
        "De 1D para 3D"
      ],
      "metadata": {
        "id": "xP8IRDHrOZWq"
      }
    },
    {
      "cell_type": "code",
      "source": [
        "ex_array = np.array([10, 20, 30, 40, 50, 60, 70, 80, 90, 100, 8, 9, 100, 110, 120, 130, 140, 150])\n",
        "\n",
        "novo_array = ex_array.reshape(2, 3, 3)\n",
        "print(novo_array)"
      ],
      "metadata": {
        "colab": {
          "base_uri": "https://localhost:8080/"
        },
        "id": "_aiotgcgORYW",
        "outputId": "a6ba076a-596d-407f-a7cb-6e1b841d65d5"
      },
      "execution_count": null,
      "outputs": [
        {
          "output_type": "stream",
          "name": "stdout",
          "text": [
            "[[[ 10  20  30]\n",
            "  [ 40  50  60]\n",
            "  [ 70  80  90]]\n",
            "\n",
            " [[100   8   9]\n",
            "  [100 110 120]\n",
            "  [130 140 150]]]\n"
          ]
        }
      ]
    },
    {
      "cell_type": "markdown",
      "source": [
        "Pode-se remodelar de qualquer forma desde que a quantidade de elementos seja a mesma!"
      ],
      "metadata": {
        "id": "ytx8TZi7OkwC"
      }
    },
    {
      "cell_type": "markdown",
      "source": [
        "### NumPy calculando o tamanho de uma das dimensões"
      ],
      "metadata": {
        "id": "BsT3DHM4OtVa"
      }
    },
    {
      "cell_type": "code",
      "source": [
        "ex_array = np.array([10, 20, 30, 40, 50, 60, 70, 80, 90, 100])\n",
        "\n",
        "novo_array = ex_array.reshape(2, -1)\n",
        "\n",
        "print(novo_array)"
      ],
      "metadata": {
        "colab": {
          "base_uri": "https://localhost:8080/"
        },
        "id": "wswMWgOKOf1N",
        "outputId": "5e352e9a-b165-4c82-b0ed-24041a21fba4"
      },
      "execution_count": null,
      "outputs": [
        {
          "output_type": "stream",
          "name": "stdout",
          "text": [
            "[[ 10  20  30  40  50]\n",
            " [ 60  70  80  90 100]]\n"
          ]
        }
      ]
    },
    {
      "cell_type": "markdown",
      "source": [
        "### Achatamento de matrizes\n",
        "* Pode se usar reshape(-1) converter uma matriz multidimensional em uma matriz 1D."
      ],
      "metadata": {
        "id": "NOKiLO8CO7s4"
      }
    },
    {
      "cell_type": "code",
      "source": [
        "ex_array = np.array([[\n",
        "                      [10, 20, 30], \n",
        "                      [40, 50, 60], \n",
        "                      [40, 50, 60]\n",
        "                      ],\n",
        "                      [\n",
        "                      [10, 20, 30], \n",
        "                      [40, 50, 60], \n",
        "                      [40, 50, 60]\n",
        "                      ]\n",
        "                     ]\n",
        "                      )\n",
        "print(ex_array.shape)\n",
        "novo_array = ex_array.reshape(-1)\n",
        "\n",
        "print(novo_array)"
      ],
      "metadata": {
        "colab": {
          "base_uri": "https://localhost:8080/"
        },
        "id": "ZoYyzxNgO2XT",
        "outputId": "b23040e1-581f-429a-a82c-ab213b5262a8"
      },
      "execution_count": null,
      "outputs": [
        {
          "output_type": "stream",
          "name": "stdout",
          "text": [
            "(2, 3, 3)\n",
            "[10 20 30 40 50 60 40 50 60 10 20 30 40 50 60 40 50 60]\n"
          ]
        }
      ]
    },
    {
      "cell_type": "markdown",
      "source": [
        "### Achatamento usando flatten"
      ],
      "metadata": {
        "id": "X3gmMmMgPN-l"
      }
    },
    {
      "cell_type": "code",
      "source": [
        "a = np.array([[1,2,3,4,5,6,7,8,9,10],\n",
        "              [11,12,13,14,15,16,17,18,19,20],\n",
        "              [21,22,23,24,25,26,27,28,29,30],\n",
        "              [31,32,33,34,35,36,37,38,39,40]])\n",
        "a.flatten()"
      ],
      "metadata": {
        "colab": {
          "base_uri": "https://localhost:8080/"
        },
        "id": "E7WiqLjtPAkA",
        "outputId": "d85c3ccd-50fb-44e5-d429-0226bac35b12"
      },
      "execution_count": null,
      "outputs": [
        {
          "output_type": "execute_result",
          "data": {
            "text/plain": [
              "array([ 1,  2,  3,  4,  5,  6,  7,  8,  9, 10, 11, 12, 13, 14, 15, 16, 17,\n",
              "       18, 19, 20, 21, 22, 23, 24, 25, 26, 27, 28, 29, 30, 31, 32, 33, 34,\n",
              "       35, 36, 37, 38, 39, 40])"
            ]
          },
          "metadata": {},
          "execution_count": 47
        }
      ]
    },
    {
      "cell_type": "code",
      "source": [
        "a.flatten('C')"
      ],
      "metadata": {
        "colab": {
          "base_uri": "https://localhost:8080/"
        },
        "id": "n1qy7MXtPUf0",
        "outputId": "d1c724aa-e10b-456a-f2d3-c24c86138897"
      },
      "execution_count": null,
      "outputs": [
        {
          "output_type": "execute_result",
          "data": {
            "text/plain": [
              "array([ 1,  2,  3,  4,  5,  6,  7,  8,  9, 10, 11, 12, 13, 14, 15, 16, 17,\n",
              "       18, 19, 20, 21, 22, 23, 24, 25, 26, 27, 28, 29, 30, 31, 32, 33, 34,\n",
              "       35, 36, 37, 38, 39, 40])"
            ]
          },
          "metadata": {},
          "execution_count": 48
        }
      ]
    },
    {
      "cell_type": "code",
      "source": [
        "a.flatten('F')"
      ],
      "metadata": {
        "colab": {
          "base_uri": "https://localhost:8080/"
        },
        "id": "se6Bo2NpPa6n",
        "outputId": "dc683a88-7744-456b-f474-65620e949f1f"
      },
      "execution_count": null,
      "outputs": [
        {
          "output_type": "execute_result",
          "data": {
            "text/plain": [
              "array([ 1, 11, 21, 31,  2, 12, 22, 32,  3, 13, 23, 33,  4, 14, 24, 34,  5,\n",
              "       15, 25, 35,  6, 16, 26, 36,  7, 17, 27, 37,  8, 18, 28, 38,  9, 19,\n",
              "       29, 39, 10, 20, 30, 40])"
            ]
          },
          "metadata": {},
          "execution_count": 49
        }
      ]
    },
    {
      "cell_type": "markdown",
      "source": [
        "## Interação com Arrays e Matrizes\n",
        "* forloop para iterar por cada elemento de um array;\n",
        "* loops aninhados para iterar nos elementos de cada."
      ],
      "metadata": {
        "id": "ZnpeFjGvP9D1"
      }
    },
    {
      "cell_type": "markdown",
      "source": [
        "### Iteração em Array 1D"
      ],
      "metadata": {
        "id": "knW9_AhFQTMe"
      }
    },
    {
      "cell_type": "code",
      "source": [
        "ex_array = np.array([ 1,  2,  3,  4,  5,  6,  7,  8,  9, 10, 11, 12, 13, 14, 15, 16, 17,\n",
        "       18, 19, 20, 21, 22, 23, 24, 25, 26, 27, 28, 29, 30, 31, 32, 33, 34,\n",
        "       35, 36, 37, 38, 39, 40])\n",
        "\n",
        "for x in ex_array:\n",
        "  print(x, end=', ')"
      ],
      "metadata": {
        "colab": {
          "base_uri": "https://localhost:8080/"
        },
        "id": "WcB_9QiCPgHJ",
        "outputId": "5a8576ed-cc1b-478e-d18f-7a1eb2c43238"
      },
      "execution_count": null,
      "outputs": [
        {
          "output_type": "stream",
          "name": "stdout",
          "text": [
            "1, 2, 3, 4, 5, 6, 7, 8, 9, 10, 11, 12, 13, 14, 15, 16, 17, 18, 19, 20, 21, 22, 23, 24, 25, 26, 27, 28, 29, 30, 31, 32, 33, 34, 35, 36, 37, 38, 39, 40, "
          ]
        }
      ]
    },
    {
      "cell_type": "markdown",
      "source": [
        "### Iteração em Array 2D"
      ],
      "metadata": {
        "id": "uiPWcHUzQXgQ"
      }
    },
    {
      "cell_type": "code",
      "source": [
        "ex_array = np.array([[1,2,3,4,5,6,7,8,9,10],\n",
        "              [11,12,13,14,15,16,17,18,19,20],\n",
        "              [21,22,23,24,25,26,27,28,29,30],\n",
        "              [31,32,33,34,35,36,37,38,39,40]])\n",
        "\n",
        "for x in ex_array:\n",
        "  print(x)"
      ],
      "metadata": {
        "colab": {
          "base_uri": "https://localhost:8080/"
        },
        "id": "Khds_dpDQLmJ",
        "outputId": "1a7e9f8a-caaa-476d-cb89-3a4c076479d1"
      },
      "execution_count": null,
      "outputs": [
        {
          "output_type": "stream",
          "name": "stdout",
          "text": [
            "[ 1  2  3  4  5  6  7  8  9 10]\n",
            "[11 12 13 14 15 16 17 18 19 20]\n",
            "[21 22 23 24 25 26 27 28 29 30]\n",
            "[31 32 33 34 35 36 37 38 39 40]\n"
          ]
        }
      ]
    },
    {
      "cell_type": "code",
      "source": [
        "ex_array = np.array([[1,2,3,4,5,6,7,8,9,10],\n",
        "              [11,12,13,14,15,16,17,18,19,20],\n",
        "              [21,22,23,24,25,26,27,28,29,30],\n",
        "              [31,32,33,34,35,36,37,38,39,40]])\n",
        "\n",
        "for x in ex_array:\n",
        "  print('linha:', x)\n",
        "  for y in x:\n",
        "    print('coluna: ', y, end='; ')\n",
        "  print('')"
      ],
      "metadata": {
        "colab": {
          "base_uri": "https://localhost:8080/"
        },
        "id": "QkRt3Q83QdEX",
        "outputId": "8c1f0821-90d9-420f-d066-65371d4788d1"
      },
      "execution_count": null,
      "outputs": [
        {
          "output_type": "stream",
          "name": "stdout",
          "text": [
            "linha: [ 1  2  3  4  5  6  7  8  9 10]\n",
            "coluna:  1; coluna:  2; coluna:  3; coluna:  4; coluna:  5; coluna:  6; coluna:  7; coluna:  8; coluna:  9; coluna:  10; \n",
            "linha: [11 12 13 14 15 16 17 18 19 20]\n",
            "coluna:  11; coluna:  12; coluna:  13; coluna:  14; coluna:  15; coluna:  16; coluna:  17; coluna:  18; coluna:  19; coluna:  20; \n",
            "linha: [21 22 23 24 25 26 27 28 29 30]\n",
            "coluna:  21; coluna:  22; coluna:  23; coluna:  24; coluna:  25; coluna:  26; coluna:  27; coluna:  28; coluna:  29; coluna:  30; \n",
            "linha: [31 32 33 34 35 36 37 38 39 40]\n",
            "coluna:  31; coluna:  32; coluna:  33; coluna:  34; coluna:  35; coluna:  36; coluna:  37; coluna:  38; coluna:  39; coluna:  40; \n"
          ]
        }
      ]
    },
    {
      "cell_type": "code",
      "source": [
        "quantidade  = np.array( [1,2,3,4,5,6])\n",
        "preco = np.array( [10,20,30,40,50,60])\n",
        "\n",
        "faturamento = quantidade * preco\n",
        "print(faturamento)"
      ],
      "metadata": {
        "colab": {
          "base_uri": "https://localhost:8080/"
        },
        "id": "rWnzq2p8Qles",
        "outputId": "49ec27a6-7301-4a30-fbc7-4143b435958b"
      },
      "execution_count": null,
      "outputs": [
        {
          "output_type": "stream",
          "name": "stdout",
          "text": [
            "[ 10  40  90 160 250 360]\n"
          ]
        }
      ]
    },
    {
      "cell_type": "markdown",
      "source": [
        "### Iteração em Matrizes 3D"
      ],
      "metadata": {
        "id": "UOPwm4gLQxoF"
      }
    },
    {
      "cell_type": "code",
      "source": [
        "ex_array = np.array([\n",
        "                      [\n",
        "                       [10, 20, 30], \n",
        "                       [40, 50, 60]\n",
        "                       ], \n",
        "                      [\n",
        "                       [70, 80, 90], \n",
        "                       [100, 110, 120]\n",
        "                       ]\n",
        "                      ])\n",
        "\n",
        "for x in ex_array:\n",
        "  for y in x:\n",
        "    for z in y:\n",
        "      print(z)\n",
        "    print('')\n",
        "  print('')"
      ],
      "metadata": {
        "colab": {
          "base_uri": "https://localhost:8080/"
        },
        "id": "maIP4NSmQuwz",
        "outputId": "96e287e3-effc-4585-ad32-dc31d8cea7b2"
      },
      "execution_count": null,
      "outputs": [
        {
          "output_type": "stream",
          "name": "stdout",
          "text": [
            "10\n",
            "20\n",
            "30\n",
            "\n",
            "40\n",
            "50\n",
            "60\n",
            "\n",
            "\n",
            "70\n",
            "80\n",
            "90\n",
            "\n",
            "100\n",
            "110\n",
            "120\n",
            "\n",
            "\n"
          ]
        }
      ]
    },
    {
      "cell_type": "markdown",
      "source": [
        "### Iteração com nditer()"
      ],
      "metadata": {
        "id": "rsO7abj7Q84F"
      }
    },
    {
      "cell_type": "code",
      "source": [
        "ex_array = np.array([\n",
        "                      [\n",
        "                       [10, 20, 30], \n",
        "                       [40, 50, 60]\n",
        "                       ], \n",
        "                      [\n",
        "                       [70, 80, 90], \n",
        "                       [100, 110, 120]\n",
        "                       ]\n",
        "                      ])\n",
        "\n",
        "\n",
        "for x in np.nditer(ex_array):\n",
        "  print(x, end=', ')"
      ],
      "metadata": {
        "colab": {
          "base_uri": "https://localhost:8080/"
        },
        "id": "AfeRyLifQ2MU",
        "outputId": "1a17a932-ebc6-4539-b6ba-a2097c94714c"
      },
      "execution_count": null,
      "outputs": [
        {
          "output_type": "stream",
          "name": "stdout",
          "text": [
            "10, 20, 30, 40, 50, 60, 70, 80, 90, 100, 110, 120, "
          ]
        }
      ]
    },
    {
      "cell_type": "markdown",
      "source": [
        "### Alterar o tipo de dados dos elementos durante a iteração\n",
        "* Deve-se indicar o tipo de dado e se será usado um buffer durante a iteração ou se será gerado uma cópia do array."
      ],
      "metadata": {
        "id": "KMAxcRqkRFBu"
      }
    },
    {
      "cell_type": "code",
      "source": [
        "ex_array = np.array([10, 20, 30, 40, 50])\n",
        "\n",
        "for x in np.nditer(ex_array, flags=['buffered'], op_dtypes=['U']):\n",
        "  print(x)"
      ],
      "metadata": {
        "colab": {
          "base_uri": "https://localhost:8080/"
        },
        "id": "QEYkrWLlRC1G",
        "outputId": "18a750b3-d362-4e2b-a4da-1fc347f3eb3a"
      },
      "execution_count": null,
      "outputs": [
        {
          "output_type": "stream",
          "name": "stdout",
          "text": [
            "10\n",
            "20\n",
            "30\n",
            "40\n",
            "50\n"
          ]
        }
      ]
    },
    {
      "cell_type": "code",
      "source": [
        "ex_array = np.array([10, 20, 30, 40, 50])\n",
        "\n",
        "for x in np.nditer(ex_array, flags=['buffered'], op_dtypes=['f8']):\n",
        "  print(x)"
      ],
      "metadata": {
        "colab": {
          "base_uri": "https://localhost:8080/"
        },
        "id": "j3r6n4OEROJX",
        "outputId": "ca77415e-a7a1-4048-ee72-db520740931d"
      },
      "execution_count": null,
      "outputs": [
        {
          "output_type": "stream",
          "name": "stdout",
          "text": [
            "10.0\n",
            "20.0\n",
            "30.0\n",
            "40.0\n",
            "50.0\n"
          ]
        }
      ]
    },
    {
      "cell_type": "markdown",
      "source": [
        "## Junção e segmentação de arrays e matrizes\n"
      ],
      "metadata": {
        "id": "_paNR4_IRqa6"
      }
    },
    {
      "cell_type": "markdown",
      "source": [
        "### Junção de Matrizes 1D"
      ],
      "metadata": {
        "id": "DkiSQOZwR7PK"
      }
    },
    {
      "cell_type": "code",
      "source": [
        "arr1 = np.array([10, 20, 30, 40, 50])\n",
        "\n",
        "arr2 = np.array([60, 70, 80, 90, 100])\n",
        "\n",
        "ex_array = np.concatenate((arr1, arr2))\n",
        "print(ex_array)"
      ],
      "metadata": {
        "colab": {
          "base_uri": "https://localhost:8080/"
        },
        "id": "dLW3TfBHRW4z",
        "outputId": "e34487ae-a0f1-4e89-fa28-c29ddcfb6637"
      },
      "execution_count": null,
      "outputs": [
        {
          "output_type": "stream",
          "name": "stdout",
          "text": [
            "[ 10  20  30  40  50  60  70  80  90 100]\n"
          ]
        }
      ]
    },
    {
      "cell_type": "markdown",
      "source": [
        "### Junção de Matrizes 2D ao longo das linhas (eixo = 1)"
      ],
      "metadata": {
        "id": "zZGzTB8fSEgH"
      }
    },
    {
      "cell_type": "code",
      "source": [
        "arr1 = np.array([[10, 20], \n",
        "                 [30, 40]])\n",
        "\n",
        "arr2 = np.array([[50, 60], \n",
        "                 [70, 80]])\n",
        "\n",
        "ex_array = np.concatenate((arr1, arr2), axis=1)\n",
        "\n",
        "print(ex_array)"
      ],
      "metadata": {
        "colab": {
          "base_uri": "https://localhost:8080/"
        },
        "id": "5gAIIVHISBZP",
        "outputId": "2ec2983a-6933-4835-ce13-7f60f5a1afca"
      },
      "execution_count": null,
      "outputs": [
        {
          "output_type": "stream",
          "name": "stdout",
          "text": [
            "[[10 20 50 60]\n",
            " [30 40 70 80]]\n"
          ]
        }
      ]
    },
    {
      "cell_type": "markdown",
      "source": [
        "### Junção de Matrizes 2D ao longo das linhas (eixo = 0)"
      ],
      "metadata": {
        "id": "Sh6KD8V2SREx"
      }
    },
    {
      "cell_type": "code",
      "source": [
        "arr1 = np.array([[10, 20], \n",
        "                 [30, 40]])\n",
        "\n",
        "arr2 = np.array([[50, 60], \n",
        "                 [70, 80]])\n",
        "\n",
        "ex_array = np.concatenate((arr1, arr2), axis=0)\n",
        "\n",
        "print(ex_array)"
      ],
      "metadata": {
        "colab": {
          "base_uri": "https://localhost:8080/"
        },
        "id": "4BzCEwXRSL9e",
        "outputId": "df46b31d-4d8d-4ae8-a075-dc91e1d027b8"
      },
      "execution_count": null,
      "outputs": [
        {
          "output_type": "stream",
          "name": "stdout",
          "text": [
            "[[10 20]\n",
            " [30 40]\n",
            " [50 60]\n",
            " [70 80]]\n"
          ]
        }
      ]
    },
    {
      "cell_type": "markdown",
      "source": [
        "### Empilhamento de Arrays 1D - np.stack()"
      ],
      "metadata": {
        "id": "3kZGRQtLSW0h"
      }
    },
    {
      "cell_type": "code",
      "source": [
        "arr1 = np.array([10, 20, 30, 40, 50])\n",
        "arr2 = np.array([60, 70, 80, 90, 100])\n",
        "\n",
        "ex_array = np.stack((arr1, arr2), axis=0)\n",
        "print(ex_array)"
      ],
      "metadata": {
        "colab": {
          "base_uri": "https://localhost:8080/"
        },
        "id": "7dI3E6AUSUXR",
        "outputId": "f0181758-5919-417c-9f9c-c69c88115bfa"
      },
      "execution_count": null,
      "outputs": [
        {
          "output_type": "stream",
          "name": "stdout",
          "text": [
            "[[ 10  20  30  40  50]\n",
            " [ 60  70  80  90 100]]\n"
          ]
        }
      ]
    },
    {
      "cell_type": "code",
      "source": [
        "arr1 = np.array([10, 20, 30, 40, 50])\n",
        "arr2 = np.array([60, 70, 80, 90, 100])\n",
        "\n",
        "ex_array = np.stack((arr1, arr2), axis=1)\n",
        "print(ex_array)"
      ],
      "metadata": {
        "colab": {
          "base_uri": "https://localhost:8080/"
        },
        "id": "eHzbk2axSjZh",
        "outputId": "c171186e-a89d-4b1f-f2a2-569f4c1ac623"
      },
      "execution_count": null,
      "outputs": [
        {
          "output_type": "stream",
          "name": "stdout",
          "text": [
            "[[ 10  60]\n",
            " [ 20  70]\n",
            " [ 30  80]\n",
            " [ 40  90]\n",
            " [ 50 100]]\n"
          ]
        }
      ]
    },
    {
      "cell_type": "markdown",
      "source": [
        "### Empilhamento de Arrays e Matrizes ao longo das linhas usando hstack()"
      ],
      "metadata": {
        "id": "EDg0zm1aSuf3"
      }
    },
    {
      "cell_type": "code",
      "source": [
        "arr1 = np.array([10, 20, 30, 40, 50])\n",
        "arr2 = np.array([60, 70, 80, 90, 100])\n",
        "\n",
        "ex_array = np.hstack((arr1, arr2))\n",
        "print(ex_array)"
      ],
      "metadata": {
        "colab": {
          "base_uri": "https://localhost:8080/"
        },
        "id": "YVor8BdhSnmS",
        "outputId": "8b1c61bd-26da-403d-9bb5-9b5bc9ff734e"
      },
      "execution_count": null,
      "outputs": [
        {
          "output_type": "stream",
          "name": "stdout",
          "text": [
            "[ 10  20  30  40  50  60  70  80  90 100]\n"
          ]
        }
      ]
    },
    {
      "cell_type": "code",
      "source": [
        "arr1 = np.array([[10, 20], \n",
        "                 [30, 40]])\n",
        "\n",
        "arr2 = np.array([[50, 60], \n",
        "                 [70, 80]])\n",
        "\n",
        "ex_array = np.hstack((arr1, arr2))\n",
        "print(ex_array)"
      ],
      "metadata": {
        "colab": {
          "base_uri": "https://localhost:8080/"
        },
        "id": "LoM6roD7S2JS",
        "outputId": "15b2683b-0621-4262-b310-0c8ed1ee77ad"
      },
      "execution_count": null,
      "outputs": [
        {
          "output_type": "stream",
          "name": "stdout",
          "text": [
            "[[10 20 50 60]\n",
            " [30 40 70 80]]\n"
          ]
        }
      ]
    },
    {
      "cell_type": "markdown",
      "source": [
        "### Empilhamento de Arrays e Matrizes ao longo das colunas usando vstack()"
      ],
      "metadata": {
        "id": "ZQeObwLHTBW4"
      }
    },
    {
      "cell_type": "code",
      "source": [
        "arr1 = np.array([10, 20, 30, 40, 50])\n",
        "arr2 = np.array([60, 70, 80, 90, 100])\n",
        "\n",
        "ex_array = np.vstack((arr1, arr2))\n",
        "print(ex_array)"
      ],
      "metadata": {
        "colab": {
          "base_uri": "https://localhost:8080/"
        },
        "id": "Hw0uvM1DS80X",
        "outputId": "2d26b365-5f99-46ed-be33-c70d66d3b626"
      },
      "execution_count": null,
      "outputs": [
        {
          "output_type": "stream",
          "name": "stdout",
          "text": [
            "[[ 10  20  30  40  50]\n",
            " [ 60  70  80  90 100]]\n"
          ]
        }
      ]
    },
    {
      "cell_type": "code",
      "source": [
        "arr1 = np.array([[10, 20], \n",
        "                 [30, 40]])\n",
        "\n",
        "arr2 = np.array([[50, 60], \n",
        "                 [70, 80]])\n",
        "\n",
        "ex_array = np.vstack((arr1, arr2))\n",
        "print(ex_array)"
      ],
      "metadata": {
        "colab": {
          "base_uri": "https://localhost:8080/"
        },
        "id": "Eq1vCwLnTHp7",
        "outputId": "0b13dbb0-f493-40b4-c69a-202515fe9fd7"
      },
      "execution_count": null,
      "outputs": [
        {
          "output_type": "stream",
          "name": "stdout",
          "text": [
            "[[10 20]\n",
            " [30 40]\n",
            " [50 60]\n",
            " [70 80]]\n"
          ]
        }
      ]
    },
    {
      "cell_type": "markdown",
      "source": [
        "### Empilhamento ao longo da altura usanto dstack()\n"
      ],
      "metadata": {
        "id": "9-73g0ktTQDF"
      }
    },
    {
      "cell_type": "code",
      "source": [
        "arr1 = np.array([10, 20, 30, 40, 50])\n",
        "arr2 = np.array([60, 70, 80, 90, 100])\n",
        "\n",
        "ex_array = np.dstack((arr1, arr2))\n",
        "print(ex_array)"
      ],
      "metadata": {
        "colab": {
          "base_uri": "https://localhost:8080/"
        },
        "id": "rAiXfbHKTMcH",
        "outputId": "17f4da28-7922-4f00-e3ac-0a02040b126e"
      },
      "execution_count": null,
      "outputs": [
        {
          "output_type": "stream",
          "name": "stdout",
          "text": [
            "[[[ 10  60]\n",
            "  [ 20  70]\n",
            "  [ 30  80]\n",
            "  [ 40  90]\n",
            "  [ 50 100]]]\n"
          ]
        }
      ]
    },
    {
      "cell_type": "code",
      "source": [
        "arr1 = np.array([[10, 20], \n",
        "                 [30, 40]])\n",
        "\n",
        "arr2 = np.array([[50, 60], \n",
        "                 [70, 80]])\n",
        "\n",
        "ex_array = np.dstack((arr1, arr2))\n",
        "print(ex_array)"
      ],
      "metadata": {
        "colab": {
          "base_uri": "https://localhost:8080/"
        },
        "id": "ypAhyrpYTTmS",
        "outputId": "e78df45e-c0d7-486c-bca4-c5e0bf9e80a6"
      },
      "execution_count": null,
      "outputs": [
        {
          "output_type": "stream",
          "name": "stdout",
          "text": [
            "[[[10 50]\n",
            "  [20 60]]\n",
            "\n",
            " [[30 70]\n",
            "  [40 80]]]\n"
          ]
        }
      ]
    },
    {
      "cell_type": "markdown",
      "source": [
        "## Quebra e divisão de matrizes e arrays no NumPy\n",
        "* A função array_split() pode ser usada para dividir matrizes, passamos como argumentos a matriz e o número de divisões.\n",
        "\n",
        "* Caso o numero de elementos não seja multiplo os ultimos array terão menos elementos, mas não ocorrerá erro na operação."
      ],
      "metadata": {
        "id": "pDSSbmFSTd2m"
      }
    },
    {
      "cell_type": "code",
      "source": [
        "ex_array = np.array([10, 20, 30, 40, 50, 60, 70, 80, 90, 100])\n",
        "\n",
        "novo_array = np.array_split(ex_array, 2)\n",
        "print(novo_array)"
      ],
      "metadata": {
        "colab": {
          "base_uri": "https://localhost:8080/"
        },
        "id": "nSgVs0k2TWvx",
        "outputId": "8ce0867d-ed28-44c4-aa3f-64dc1c5f5e8b"
      },
      "execution_count": null,
      "outputs": [
        {
          "output_type": "stream",
          "name": "stdout",
          "text": [
            "[array([10, 20, 30, 40, 50]), array([ 60,  70,  80,  90, 100])]\n"
          ]
        }
      ]
    },
    {
      "cell_type": "code",
      "source": [
        "ex_array = np.array([10, 20, 30, 40, 50, 60, 70, 80, 90, 100])\n",
        "\n",
        "novo_array = np.array_split(ex_array, 3)\n",
        "print(novo_array)"
      ],
      "metadata": {
        "colab": {
          "base_uri": "https://localhost:8080/"
        },
        "id": "WnoIrzdsTrXd",
        "outputId": "b147f198-f5d8-41a4-e81e-1bd89af9cf61"
      },
      "execution_count": null,
      "outputs": [
        {
          "output_type": "stream",
          "name": "stdout",
          "text": [
            "[array([10, 20, 30, 40]), array([50, 60, 70]), array([ 80,  90, 100])]\n"
          ]
        }
      ]
    },
    {
      "cell_type": "code",
      "source": [
        "ex_array = np.array([10, 20, 30, 40, 50, 60, 70, 80, 90, 100])\n",
        "\n",
        "novo_array = np.array_split(ex_array, 4)\n",
        "print(novo_array)"
      ],
      "metadata": {
        "colab": {
          "base_uri": "https://localhost:8080/"
        },
        "id": "KjsC5mNVTvFl",
        "outputId": "6a609c87-ff1c-472d-ed45-7935e8a36a39"
      },
      "execution_count": null,
      "outputs": [
        {
          "output_type": "stream",
          "name": "stdout",
          "text": [
            "[array([10, 20, 30]), array([40, 50, 60]), array([70, 80]), array([ 90, 100])]\n"
          ]
        }
      ]
    },
    {
      "cell_type": "code",
      "source": [
        "ex_array = np.array([\n",
        "                      [10, 20], \n",
        "                      [30, 40],\n",
        "                      [50, 60], \n",
        "                      [70, 80],\n",
        "                      [90, 100],\n",
        "                      [110, 120]\n",
        "                 ])\n",
        "novo_array = np.array_split(ex_array, 2)\n",
        "\n",
        "print(novo_array)"
      ],
      "metadata": {
        "colab": {
          "base_uri": "https://localhost:8080/"
        },
        "id": "4W8-PpjaTyiG",
        "outputId": "f0b9f3aa-38d7-42cf-a24a-85bd695be4aa"
      },
      "execution_count": null,
      "outputs": [
        {
          "output_type": "stream",
          "name": "stdout",
          "text": [
            "[array([[10, 20],\n",
            "       [30, 40],\n",
            "       [50, 60]]), array([[ 70,  80],\n",
            "       [ 90, 100],\n",
            "       [110, 120]])]\n"
          ]
        }
      ]
    },
    {
      "cell_type": "code",
      "source": [
        "ex_array = np.array([\n",
        "                      [10, 20], \n",
        "                      [30, 40],\n",
        "                      [50, 60], \n",
        "                      [70, 80],\n",
        "                      [90, 100],\n",
        "                      [110, 120]\n",
        "                 ])\n",
        "\n",
        "novo_array = np.array_split(ex_array, 3)\n",
        "\n",
        "print(novo_array)"
      ],
      "metadata": {
        "colab": {
          "base_uri": "https://localhost:8080/"
        },
        "id": "-nFwWPK8T2Io",
        "outputId": "9832282f-d3a9-4dbe-fe5b-fee7934bf14d"
      },
      "execution_count": null,
      "outputs": [
        {
          "output_type": "stream",
          "name": "stdout",
          "text": [
            "[array([[10, 20],\n",
            "       [30, 40]]), array([[50, 60],\n",
            "       [70, 80]]), array([[ 90, 100],\n",
            "       [110, 120]])]\n"
          ]
        }
      ]
    },
    {
      "cell_type": "code",
      "source": [
        "ex_array = np.array([\n",
        "                      [10, 20], \n",
        "                      [30, 40],\n",
        "                      [50, 60], \n",
        "                      [70, 80],\n",
        "                      [90, 100],\n",
        "                      [110, 120]\n",
        "                 ])\n",
        "\n",
        "novo_array = np.array_split(ex_array, 4)\n",
        "\n",
        "print(novo_array)"
      ],
      "metadata": {
        "colab": {
          "base_uri": "https://localhost:8080/"
        },
        "id": "z-cPhR1uT5j9",
        "outputId": "ee518cd5-c792-42f7-893c-3efd40e45423"
      },
      "execution_count": null,
      "outputs": [
        {
          "output_type": "stream",
          "name": "stdout",
          "text": [
            "[array([[10, 20],\n",
            "       [30, 40]]), array([[50, 60],\n",
            "       [70, 80]]), array([[ 90, 100]]), array([[110, 120]])]\n"
          ]
        }
      ]
    },
    {
      "cell_type": "markdown",
      "source": [
        "### Função split()\n",
        "* Esse método é similar ao array_split(), mas falha se a quantidad de elementos não for multiplo da quantidade de divisões."
      ],
      "metadata": {
        "id": "L-ptWIooT_sS"
      }
    },
    {
      "cell_type": "code",
      "source": [
        "ex_array = np.array([10, 20, 30, 40, 50, 60, 70, 80, 90, 100])\n",
        "\n",
        "novo_array = np.split(ex_array, 2)\n",
        "print(novo_array)"
      ],
      "metadata": {
        "colab": {
          "base_uri": "https://localhost:8080/"
        },
        "id": "8FWo6RlaT8n0",
        "outputId": "b6c697c7-b83c-4de4-84eb-7eff827a89a9"
      },
      "execution_count": null,
      "outputs": [
        {
          "output_type": "stream",
          "name": "stdout",
          "text": [
            "[array([10, 20, 30, 40, 50]), array([ 60,  70,  80,  90, 100])]\n"
          ]
        }
      ]
    },
    {
      "cell_type": "code",
      "source": [
        "ex_array = np.array([\n",
        "                      [10, 20], \n",
        "                      [30, 40],\n",
        "                      [50, 60], \n",
        "                      [70, 80],\n",
        "                      [90, 100],\n",
        "                      [110, 120]\n",
        "                 ])\n",
        "\n",
        "novo_array = np.split(ex_array, 3)\n",
        "\n",
        "print(novo_array)"
      ],
      "metadata": {
        "colab": {
          "base_uri": "https://localhost:8080/"
        },
        "id": "gy6_1eS9UICi",
        "outputId": "4c555249-a938-4719-b319-5cf521f80698"
      },
      "execution_count": null,
      "outputs": [
        {
          "output_type": "stream",
          "name": "stdout",
          "text": [
            "[array([[10, 20],\n",
            "       [30, 40]]), array([[50, 60],\n",
            "       [70, 80]]), array([[ 90, 100],\n",
            "       [110, 120]])]\n"
          ]
        }
      ]
    },
    {
      "cell_type": "code",
      "source": [
        "# casos de erro!\n",
        "ex_array = np.array([\n",
        "                      [10, 20], \n",
        "                      [30, 40],\n",
        "                      [50, 60], \n",
        "                      [70, 80],\n",
        "                      [90, 100],\n",
        "                      [110, 120]\n",
        "                 ])\n",
        "\n",
        "novo_array = np.split(ex_array, 4)\n",
        "\n",
        "print(novo_array)"
      ],
      "metadata": {
        "colab": {
          "base_uri": "https://localhost:8080/",
          "height": 380
        },
        "id": "7Zu9QC65UMll",
        "outputId": "b2feee86-f7f4-4de9-d091-f3d1566978eb"
      },
      "execution_count": null,
      "outputs": [
        {
          "output_type": "error",
          "ename": "ValueError",
          "evalue": "ignored",
          "traceback": [
            "\u001b[0;31m---------------------------------------------------------------------------\u001b[0m",
            "\u001b[0;31mValueError\u001b[0m                                Traceback (most recent call last)",
            "\u001b[0;32m<ipython-input-79-9d306c4428cb>\u001b[0m in \u001b[0;36m<module>\u001b[0;34m\u001b[0m\n\u001b[1;32m      8\u001b[0m                  ])\n\u001b[1;32m      9\u001b[0m \u001b[0;34m\u001b[0m\u001b[0m\n\u001b[0;32m---> 10\u001b[0;31m \u001b[0mnovo_array\u001b[0m \u001b[0;34m=\u001b[0m \u001b[0mnp\u001b[0m\u001b[0;34m.\u001b[0m\u001b[0msplit\u001b[0m\u001b[0;34m(\u001b[0m\u001b[0mmeu_array\u001b[0m\u001b[0;34m,\u001b[0m \u001b[0;36m4\u001b[0m\u001b[0;34m)\u001b[0m\u001b[0;34m\u001b[0m\u001b[0;34m\u001b[0m\u001b[0m\n\u001b[0m\u001b[1;32m     11\u001b[0m \u001b[0;34m\u001b[0m\u001b[0m\n\u001b[1;32m     12\u001b[0m \u001b[0mprint\u001b[0m\u001b[0;34m(\u001b[0m\u001b[0mnovo_array\u001b[0m\u001b[0;34m)\u001b[0m\u001b[0;34m\u001b[0m\u001b[0;34m\u001b[0m\u001b[0m\n",
            "\u001b[0;32m/usr/local/lib/python3.9/dist-packages/numpy/core/overrides.py\u001b[0m in \u001b[0;36msplit\u001b[0;34m(*args, **kwargs)\u001b[0m\n",
            "\u001b[0;32m/usr/local/lib/python3.9/dist-packages/numpy/lib/shape_base.py\u001b[0m in \u001b[0;36msplit\u001b[0;34m(ary, indices_or_sections, axis)\u001b[0m\n\u001b[1;32m    870\u001b[0m         \u001b[0mN\u001b[0m \u001b[0;34m=\u001b[0m \u001b[0mary\u001b[0m\u001b[0;34m.\u001b[0m\u001b[0mshape\u001b[0m\u001b[0;34m[\u001b[0m\u001b[0maxis\u001b[0m\u001b[0;34m]\u001b[0m\u001b[0;34m\u001b[0m\u001b[0;34m\u001b[0m\u001b[0m\n\u001b[1;32m    871\u001b[0m         \u001b[0;32mif\u001b[0m \u001b[0mN\u001b[0m \u001b[0;34m%\u001b[0m \u001b[0msections\u001b[0m\u001b[0;34m:\u001b[0m\u001b[0;34m\u001b[0m\u001b[0;34m\u001b[0m\u001b[0m\n\u001b[0;32m--> 872\u001b[0;31m             raise ValueError(\n\u001b[0m\u001b[1;32m    873\u001b[0m                 'array split does not result in an equal division') from None\n\u001b[1;32m    874\u001b[0m     \u001b[0;32mreturn\u001b[0m \u001b[0marray_split\u001b[0m\u001b[0;34m(\u001b[0m\u001b[0mary\u001b[0m\u001b[0;34m,\u001b[0m \u001b[0mindices_or_sections\u001b[0m\u001b[0;34m,\u001b[0m \u001b[0maxis\u001b[0m\u001b[0;34m)\u001b[0m\u001b[0;34m\u001b[0m\u001b[0;34m\u001b[0m\u001b[0m\n",
            "\u001b[0;31mValueError\u001b[0m: array split does not result in an equal division"
          ]
        }
      ]
    },
    {
      "cell_type": "markdown",
      "source": [
        "### Quebrar uma Matriz em arrays de valores das colunas com hsplit()"
      ],
      "metadata": {
        "id": "2WSw3YHkUZ9v"
      }
    },
    {
      "cell_type": "code",
      "source": [
        "ex_array = np.array([[10, 20, 30, 40, 50, 60], \n",
        "                      [70, 80, 90, 100, 110, 120], \n",
        "                      [130, 140, 150, 160, 170, 180]])\n",
        "\n",
        "novo_array = np.hsplit(ex_array, 3)\n",
        "print(novo_array)"
      ],
      "metadata": {
        "colab": {
          "base_uri": "https://localhost:8080/"
        },
        "id": "i_3N-DJCURkW",
        "outputId": "1bfaec4c-e550-4be3-a4dd-282bf0b3a4d7"
      },
      "execution_count": null,
      "outputs": [
        {
          "output_type": "stream",
          "name": "stdout",
          "text": [
            "[array([[ 10,  20],\n",
            "       [ 70,  80],\n",
            "       [130, 140]]), array([[ 30,  40],\n",
            "       [ 90, 100],\n",
            "       [150, 160]]), array([[ 50,  60],\n",
            "       [110, 120],\n",
            "       [170, 180]])]\n"
          ]
        }
      ]
    },
    {
      "cell_type": "markdown",
      "source": [
        "### Quebrar uma Matriz em arrays de valores das linhas com vsplit()"
      ],
      "metadata": {
        "id": "IgTo3IsJUkKy"
      }
    },
    {
      "cell_type": "code",
      "source": [
        "ex_array = np.array([[10, 20, 30], \n",
        "                      [40, 50, 60], \n",
        "                      [70, 80, 90], \n",
        "                      [100, 110, 120], \n",
        "                      [130, 140, 150], \n",
        "                      [160, 170, 180]])\n",
        "\n",
        "novo_array = np.vsplit(ex_array, 3)\n",
        "print(novo_array)"
      ],
      "metadata": {
        "colab": {
          "base_uri": "https://localhost:8080/"
        },
        "id": "HoX910cWUd5K",
        "outputId": "b1ec322e-198d-4a85-8fd6-890d46772cbd"
      },
      "execution_count": null,
      "outputs": [
        {
          "output_type": "stream",
          "name": "stdout",
          "text": [
            "[array([[10, 20, 30],\n",
            "       [40, 50, 60]]), array([[ 70,  80,  90],\n",
            "       [100, 110, 120]]), array([[130, 140, 150],\n",
            "       [160, 170, 180]])]\n"
          ]
        }
      ]
    },
    {
      "cell_type": "markdown",
      "source": [
        "## Filtros e Ordenação em Arrays e Matrizes"
      ],
      "metadata": {
        "id": "zyZISEpSUysE"
      }
    },
    {
      "cell_type": "markdown",
      "source": [
        "### Pesquisando valores em Arrays usando o método where()\n",
        "\n",
        "> Exemplo Encontre os índices onde o valor é 3:"
      ],
      "metadata": {
        "id": "-7MoeAZTU53A"
      }
    },
    {
      "cell_type": "code",
      "source": [
        "ex_array = np.array([10, 20, 30, 40, 50, 60, 70, 80, 90, 100])\n",
        "\n",
        "# Encontrar os pares\n",
        "encontrados_arr = np.where(ex_array % 2 == 0)\n",
        "\n",
        "print('As posições encontradas foram {}'.format(', '.join([str(p) for p in list(encontrados_arr)])))\n",
        "print('As valores encontradas foram {}'.format(', '.join([str(ex_array[p]) for p in list(encontrados_arr)])))"
      ],
      "metadata": {
        "colab": {
          "base_uri": "https://localhost:8080/"
        },
        "id": "70VEcswzUnnY",
        "outputId": "32c25c62-12eb-4b22-f805-5f1c19c62e89"
      },
      "execution_count": null,
      "outputs": [
        {
          "output_type": "stream",
          "name": "stdout",
          "text": [
            "As posições encontradas foram [0 1 2 3 4 5 6 7 8 9]\n",
            "As valores encontradas foram [ 10  20  30  40  50  60  70  80  90 100]\n"
          ]
        }
      ]
    },
    {
      "cell_type": "code",
      "source": [
        "ex_array = np.array([1, 2, 3, 4, 5, 6, 7, 8, 9, 10])\n",
        "\n",
        "# Encontrar os impares\n",
        "encontrados_arr = np.where(ex_array % 2 == 1)\n",
        "\n",
        "print('As posições encontradas foram {}'.format(', '.join([str(p) for p in list(encontrados_arr)])))\n",
        "print('As valores encontradas foram {}'.format(', '.join([str(ex_array[p]) for p in list(encontrados_arr)])))"
      ],
      "metadata": {
        "colab": {
          "base_uri": "https://localhost:8080/"
        },
        "id": "he9awJbeVF_-",
        "outputId": "9f0b47be-0dbd-4655-baf5-df1bea548fd9"
      },
      "execution_count": null,
      "outputs": [
        {
          "output_type": "stream",
          "name": "stdout",
          "text": [
            "As posições encontradas foram [0 2 4 6 8]\n",
            "As valores encontradas foram [1 3 5 7 9]\n"
          ]
        }
      ]
    },
    {
      "cell_type": "code",
      "source": [
        "# Encontrar os multiplos de 3\n",
        "encontrados_arr = np.where(ex_array % 3 == 0)\n",
        "\n",
        "print('As posições encontradas foram {}'.format(', '.join([str(p) for p in list(encontrados_arr)])))\n",
        "print('As valores encontradas foram {}'.format(', '.join([str(ex_array[p]) for p in list(encontrados_arr)])))"
      ],
      "metadata": {
        "colab": {
          "base_uri": "https://localhost:8080/"
        },
        "id": "8n8o1ucIVMTQ",
        "outputId": "fb866437-1db5-4e3f-b2f4-93b9bb8c351b"
      },
      "execution_count": null,
      "outputs": [
        {
          "output_type": "stream",
          "name": "stdout",
          "text": [
            "As posições encontradas foram [2 5 8]\n",
            "As valores encontradas foram [30 60 90]\n"
          ]
        }
      ]
    },
    {
      "cell_type": "markdown",
      "source": [
        "### Inserção em Array ordenado"
      ],
      "metadata": {
        "id": "dut1cQK9sEZq"
      }
    },
    {
      "cell_type": "code",
      "source": [
        "ex_array = np.array([1, 2, 3, 4, 5, 6, 8, 9, 10])\n",
        "\n",
        "# Inserir na 6a posição\n",
        "x = np.searchsorted(ex_array, 7)\n",
        "print(x)"
      ],
      "metadata": {
        "colab": {
          "base_uri": "https://localhost:8080/"
        },
        "id": "3RB6Y2ijr413",
        "outputId": "4ef267a3-856a-47f8-ffa7-dadb17feb3be"
      },
      "execution_count": null,
      "outputs": [
        {
          "output_type": "stream",
          "name": "stdout",
          "text": [
            "6\n"
          ]
        }
      ]
    },
    {
      "cell_type": "code",
      "source": [
        "ex_array = np.array([1, 3, 5, 7])\n",
        "\n",
        "# Inserir com uma lista de posições\n",
        "x = np.searchsorted(ex_array, [2, 4, 6])\n",
        "print(x)"
      ],
      "metadata": {
        "colab": {
          "base_uri": "https://localhost:8080/"
        },
        "id": "okHsK72hsLfv",
        "outputId": "95178fff-8c44-4c84-c4cd-02048e2e944b"
      },
      "execution_count": null,
      "outputs": [
        {
          "output_type": "stream",
          "name": "stdout",
          "text": [
            "[1 2 3]\n"
          ]
        }
      ]
    },
    {
      "cell_type": "markdown",
      "source": [
        "### Ordenação de Matrizes usando sort()\n",
        "* Colocar os elementos em uma sequência ordenada, numérico ou alfabético, crescente ou decrescente."
      ],
      "metadata": {
        "id": "wg6Jv8zlsd6F"
      }
    },
    {
      "cell_type": "code",
      "source": [
        "ex_array = np.array([10, 30, 60, 90, 20,100, 70, 80, 40, 50])\n",
        "\n",
        "print(np.sort(ex_array))"
      ],
      "metadata": {
        "colab": {
          "base_uri": "https://localhost:8080/"
        },
        "id": "YhXE0FqLsW_P",
        "outputId": "e7e68870-f922-4771-f12f-bbb97a8c657e"
      },
      "execution_count": null,
      "outputs": [
        {
          "output_type": "stream",
          "name": "stdout",
          "text": [
            "[ 10  20  30  40  50  60  70  80  90 100]\n"
          ]
        }
      ]
    },
    {
      "cell_type": "code",
      "source": [
        "ex_array = np.array([\n",
        "                      [10, 30, 60, 90, 20,100, 70, 80, 40, 50],\n",
        "                      [1, 3, 6, 9, 2,10, 7, 8, 4, 5],\n",
        "                      [10, 30, 60, 90, 20,100, 70, 80, 40, 50]\n",
        "])\n",
        "\n",
        "print(np.sort(ex_array))"
      ],
      "metadata": {
        "colab": {
          "base_uri": "https://localhost:8080/"
        },
        "id": "TW5AEPwYsnDL",
        "outputId": "61eab4ae-6282-4bdd-de5f-1fbc243ad898"
      },
      "execution_count": null,
      "outputs": [
        {
          "output_type": "stream",
          "name": "stdout",
          "text": [
            "[[ 10  20  30  40  50  60  70  80  90 100]\n",
            " [  1   2   3   4   5   6   7   8   9  10]\n",
            " [ 10  20  30  40  50  60  70  80  90 100]]\n"
          ]
        }
      ]
    },
    {
      "cell_type": "code",
      "source": [
        "ex_array = np.array(['Norte', 'Sul', 'Leste', 'Oeste'])\n",
        "\n",
        "print(np.sort(ex_array))"
      ],
      "metadata": {
        "colab": {
          "base_uri": "https://localhost:8080/"
        },
        "id": "UNPFVvISsp2o",
        "outputId": "545cb669-38ad-46bf-9bb5-75d98f87f496"
      },
      "execution_count": null,
      "outputs": [
        {
          "output_type": "stream",
          "name": "stdout",
          "text": [
            "['Leste' 'Norte' 'Oeste' 'Sul']\n"
          ]
        }
      ]
    },
    {
      "cell_type": "code",
      "source": [
        "ex_array = np.array([True, False, False, False, False, True, True, False, True, False])\n",
        "\n",
        "print(np.sort(ex_array))"
      ],
      "metadata": {
        "colab": {
          "base_uri": "https://localhost:8080/"
        },
        "id": "_syVTThzssrG",
        "outputId": "d079ddd8-3abb-46cc-9545-22dee0d5615f"
      },
      "execution_count": null,
      "outputs": [
        {
          "output_type": "stream",
          "name": "stdout",
          "text": [
            "[False False False False False False  True  True  True  True]\n"
          ]
        }
      ]
    },
    {
      "cell_type": "markdown",
      "source": [
        "### Filtros booleanos"
      ],
      "metadata": {
        "id": "eHTUVI3ds7a8"
      }
    },
    {
      "cell_type": "code",
      "source": [
        "arr1 = np.array([1,2,3,4,5])\n",
        "arr1[[False, True, False, True, False]]"
      ],
      "metadata": {
        "colab": {
          "base_uri": "https://localhost:8080/"
        },
        "id": "i6e3AH2EsvRL",
        "outputId": "a96245c7-a085-4ed0-8d00-8acee7e28532"
      },
      "execution_count": null,
      "outputs": [
        {
          "output_type": "execute_result",
          "data": {
            "text/plain": [
              "array([2, 4])"
            ]
          },
          "metadata": {},
          "execution_count": 100
        }
      ]
    },
    {
      "cell_type": "code",
      "source": [
        "ex_array = np.array([10, 20, 30, 40, 50, 60, 70, 80, 90, 100])\n",
        "print(ex_array)\n",
        "\n",
        "filtro_multip3 = ex_array % 3 == 0\n",
        "print(filtro_multip3)\n",
        "\n",
        "\n",
        "array_filtrado = ex_array[filtro_multip3]\n",
        "print(array_filtrado)"
      ],
      "metadata": {
        "colab": {
          "base_uri": "https://localhost:8080/"
        },
        "id": "FzqTw4ACtASz",
        "outputId": "c85c54f2-0b9d-40b9-d5e4-a8d6c631e517"
      },
      "execution_count": null,
      "outputs": [
        {
          "output_type": "stream",
          "name": "stdout",
          "text": [
            "[ 10  20  30  40  50  60  70  80  90 100]\n",
            "[False False  True False False  True False False  True False]\n",
            "[30 60 90]\n"
          ]
        }
      ]
    },
    {
      "cell_type": "markdown",
      "source": [
        "## Geração de valores aleatórios - random"
      ],
      "metadata": {
        "id": "fK_7k3hftS7z"
      }
    },
    {
      "cell_type": "markdown",
      "source": [
        "### Import random"
      ],
      "metadata": {
        "id": "6jTwpJ9rtcsB"
      }
    },
    {
      "cell_type": "code",
      "source": [
        "from numpy import random"
      ],
      "metadata": {
        "id": "KaepqVT1tgC9"
      },
      "execution_count": null,
      "outputs": []
    },
    {
      "cell_type": "markdown",
      "source": [
        "### Geração de arrays e matrizes com números inteiros"
      ],
      "metadata": {
        "id": "K3__vvBYt_4u"
      }
    },
    {
      "cell_type": "code",
      "source": [
        "# Gerando números inteiros\n",
        "x = random.randint(52)\n",
        "print(x)"
      ],
      "metadata": {
        "colab": {
          "base_uri": "https://localhost:8080/"
        },
        "id": "LzTl28qutCpA",
        "outputId": "4b7f229e-a638-4604-cad5-88862311dbfa"
      },
      "execution_count": null,
      "outputs": [
        {
          "output_type": "stream",
          "name": "stdout",
          "text": [
            "32\n"
          ]
        }
      ]
    },
    {
      "cell_type": "code",
      "source": [
        "# Gerando matriz de números inteiros aleatórios\n",
        "x=random.randint(1000, size=(6))\n",
        "print(x)"
      ],
      "metadata": {
        "colab": {
          "base_uri": "https://localhost:8080/"
        },
        "id": "c8tfSqUQtaY-",
        "outputId": "d824c63d-37ef-4a24-e10b-2d6870a5aa7e"
      },
      "execution_count": null,
      "outputs": [
        {
          "output_type": "stream",
          "name": "stdout",
          "text": [
            "[692 100 205 339 388 304]\n"
          ]
        }
      ]
    },
    {
      "cell_type": "code",
      "source": [
        "x = random.randint(100, size=(3, 5))\n",
        "print(x)"
      ],
      "metadata": {
        "colab": {
          "base_uri": "https://localhost:8080/"
        },
        "id": "woHpSfDPt0OB",
        "outputId": "adf0553a-cd39-4147-d912-696e5b3ca332"
      },
      "execution_count": null,
      "outputs": [
        {
          "output_type": "stream",
          "name": "stdout",
          "text": [
            "[[86 59  4 22 60]\n",
            " [21 52 32  1 15]\n",
            " [73  6 19 24 33]]\n"
          ]
        }
      ]
    },
    {
      "cell_type": "markdown",
      "source": [
        "### Geração de arrays e matrizes com números reais"
      ],
      "metadata": {
        "id": "-y-nhn9QuLik"
      }
    },
    {
      "cell_type": "code",
      "source": [
        "# Gerando números reais\n",
        "x = random.rand()\n",
        "print(x)"
      ],
      "metadata": {
        "colab": {
          "base_uri": "https://localhost:8080/"
        },
        "id": "k4NaiH-8t8d4",
        "outputId": "92ef7ed6-8124-446a-d1be-7468b4e8e431"
      },
      "execution_count": null,
      "outputs": [
        {
          "output_type": "stream",
          "name": "stdout",
          "text": [
            "0.7526882623946036\n"
          ]
        }
      ]
    },
    {
      "cell_type": "code",
      "source": [
        "x = random.rand(5)\n",
        "print(x)"
      ],
      "metadata": {
        "colab": {
          "base_uri": "https://localhost:8080/"
        },
        "id": "UmkOZf-3uQcp",
        "outputId": "744b234d-3cc5-45e8-fc42-ae5aa552292c"
      },
      "execution_count": null,
      "outputs": [
        {
          "output_type": "stream",
          "name": "stdout",
          "text": [
            "[0.0452827  0.04096735 0.00131378 0.17375396 0.98079092]\n"
          ]
        }
      ]
    },
    {
      "cell_type": "code",
      "source": [
        "x = random.rand(3, 5)\n",
        "print(x)"
      ],
      "metadata": {
        "colab": {
          "base_uri": "https://localhost:8080/"
        },
        "id": "EWVRzCsEuXvZ",
        "outputId": "806cc42a-1652-4d7e-f673-e79159de41c7"
      },
      "execution_count": null,
      "outputs": [
        {
          "output_type": "stream",
          "name": "stdout",
          "text": [
            "[[0.75889413 0.26326467 0.94932172 0.69911798 0.33919535]\n",
            " [0.97825743 0.20829188 0.76094134 0.53063847 0.6348308 ]\n",
            " [0.24024873 0.15039506 0.21327461 0.07514077 0.81436064]]\n"
          ]
        }
      ]
    },
    {
      "cell_type": "markdown",
      "source": [
        "### Geração de arrays e matrizes com números reais maiores do que 1"
      ],
      "metadata": {
        "id": "e2nNbU4_uiCW"
      }
    },
    {
      "cell_type": "code",
      "source": [
        "x=random.randint(100, size=(5)) + random.rand(5) \n",
        "print(x)"
      ],
      "metadata": {
        "colab": {
          "base_uri": "https://localhost:8080/"
        },
        "id": "I1FrjiJvubS-",
        "outputId": "b648429c-38d1-426e-94ec-3e33105d0c03"
      },
      "execution_count": null,
      "outputs": [
        {
          "output_type": "stream",
          "name": "stdout",
          "text": [
            "[88.17432789 12.39162337 75.91612979 18.32982798  8.98898823]\n"
          ]
        }
      ]
    },
    {
      "cell_type": "code",
      "source": [
        "x=random.randint(80, 220, size=(3, 5)) + random.rand(3, 5) \n",
        "print(x)"
      ],
      "metadata": {
        "colab": {
          "base_uri": "https://localhost:8080/"
        },
        "id": "U6mHTATLuncS",
        "outputId": "7d94c375-ef3e-4592-f802-fbc3d8a226a2"
      },
      "execution_count": null,
      "outputs": [
        {
          "output_type": "stream",
          "name": "stdout",
          "text": [
            "[[132.61589502 168.50771092 119.59818975 219.16790816 145.65749115]\n",
            " [126.51469414 188.16805973 133.29289443 158.56070127 161.63388494]\n",
            " [218.51286117 160.72608998 166.26242635 135.75421423  98.08183357]]\n"
          ]
        }
      ]
    },
    {
      "cell_type": "markdown",
      "source": [
        "### Geração de um número aleatório a partir de uma lista - choice()"
      ],
      "metadata": {
        "id": "Ix5x1HQLuwE-"
      }
    },
    {
      "cell_type": "code",
      "source": [
        "x = random.choice([10, 20, 30, 40, 50, 60, 70, 80, 90, 100])\n",
        "print(x)"
      ],
      "metadata": {
        "colab": {
          "base_uri": "https://localhost:8080/"
        },
        "id": "pDDGGE4fuprW",
        "outputId": "b279648d-7c8e-408e-b767-9ed3126b5a11"
      },
      "execution_count": null,
      "outputs": [
        {
          "output_type": "stream",
          "name": "stdout",
          "text": [
            "50\n"
          ]
        }
      ]
    },
    {
      "cell_type": "code",
      "source": [
        "nomes= [ 'Emanuel', 'Miguel', 'Henry', 'Gael', 'Arthur Henrique', 'Luiz', \n",
        "            'José', 'Noah', 'Yago', 'André', 'Felipe', 'Pietro', 'Lucca', \n",
        "            'Raul', 'Luiz', 'Fernando', 'Eduardo', 'Ruan', 'Luiz Otávio', \n",
        "            'Davi Miguel', 'Rafael', 'Thiago', 'Oliver', 'Rodrigo', \n",
        "            'João Gabriel', 'Samuel', 'João Victor', 'Ryan', 'Pedro Miguel', \n",
        "            'Bryan', 'Enzo Gabriel', 'Pedro Henrique', 'Augusto', 'Leonardo', \n",
        "            'Kauê', 'Davi Lucas', 'Martin', 'Nicolas', 'Bernardo', \n",
        "            'Lucas Gabriel', 'Gabriel', 'Miguel Henrique', 'Lorenzo', 'Daniel',\n",
        "            'Gustavo', 'Caleb', 'Danilo', 'Pedro', 'João Miguel', 'Ian', \n",
        "            'Davi', 'Anthony', 'Pedro Lucas', 'Vinícius', 'João', 'Lucas', \n",
        "            'Tomás', 'Anthony Gabriel', 'Enzo', 'Bento', 'Benjamin', 'Vicente',\n",
        "            'Enzo Miguel', 'Théo', 'Fernanda Otávio', 'Matheus', \n",
        "            'Levi', 'Benício', 'Victor', 'Joaquim', 'Guilherme', 'Thomas', \n",
        "            'Enrico', 'Arthur', 'Carlos', 'Henrique', 'Luiz', \n",
        "            'João Guilherme', 'Breno', 'Davi', 'Luiz Henrique', \n",
        "            'Murilo', 'Cauã', 'Nathan', 'João Pedro', 'Yuri', 'Victor Hugo', \n",
        "            'Antônio', 'Kaique', 'Arthur Miguel', 'João Lucas', 'Caio', \n",
        "            'Davi Lucca', 'Arthur', 'Bruno', 'Luan', 'Heitor', 'Francisco', \n",
        "            'Isaac', ] \n",
        "\n",
        "x = random.choice(nomes)\n",
        "print(x)"
      ],
      "metadata": {
        "colab": {
          "base_uri": "https://localhost:8080/"
        },
        "id": "wskG_yNQu3b6",
        "outputId": "3522c17c-cc18-4d29-8d54-852abd8a7211"
      },
      "execution_count": null,
      "outputs": [
        {
          "output_type": "stream",
          "name": "stdout",
          "text": [
            "Noah\n"
          ]
        }
      ]
    },
    {
      "cell_type": "code",
      "source": [
        "x = random.choice(nomes, size=(3, 5))\n",
        "print(x)"
      ],
      "metadata": {
        "colab": {
          "base_uri": "https://localhost:8080/"
        },
        "id": "4sFs-Hgwu_Z2",
        "outputId": "a325404c-6903-43de-9c8a-3083c3f22b97"
      },
      "execution_count": null,
      "outputs": [
        {
          "output_type": "stream",
          "name": "stdout",
          "text": [
            "[['Caleb' 'Gabriel' 'Benício' 'Murilo' 'Felipe']\n",
            " ['Arthur' 'Luiz Henrique' 'Thomas' 'Lucas Gabriel' 'Enrico']\n",
            " ['Davi Miguel' 'Davi' 'José' 'Lucca' 'Anthony Gabriel']]\n"
          ]
        }
      ]
    },
    {
      "cell_type": "markdown",
      "source": [
        "### Permutações aleatórias - shuffle() e permutation()\n"
      ],
      "metadata": {
        "id": "brVg5uW4vKyT"
      }
    },
    {
      "cell_type": "code",
      "source": [
        "# shuffle() altera a disposição dos elementos na própria matriz.\n",
        "ex_array = np.array([10, 20, 30, 40, 50, 60, 70, 80, 90, 100])\n",
        "print(ex_array)\n",
        "\n",
        "np.random.shuffle(ex_array)\n",
        "print(ex_array)"
      ],
      "metadata": {
        "colab": {
          "base_uri": "https://localhost:8080/"
        },
        "id": "TMnRE035vENx",
        "outputId": "fca257eb-f67e-4454-f438-6f42491be487"
      },
      "execution_count": null,
      "outputs": [
        {
          "output_type": "stream",
          "name": "stdout",
          "text": [
            "[ 10  20  30  40  50  60  70  80  90 100]\n",
            "[ 10  90  50  40 100  30  70  20  80  60]\n"
          ]
        }
      ]
    },
    {
      "cell_type": "code",
      "source": [
        "# permutation() retorna uma matriz reorganizada (e deixa a matriz original inalterada)\n",
        "ex_array = np.array([10, 20, 30, 40, 50, 60, 70, 80, 90, 100])\n",
        "print(ex_array)\n",
        "\n",
        "novo_array = np.random.permutation(ex_array)\n",
        "print(ex_array)\n",
        "print(novo_array)"
      ],
      "metadata": {
        "colab": {
          "base_uri": "https://localhost:8080/"
        },
        "id": "P0myDLMyvXYQ",
        "outputId": "0681a8d6-6a0d-4dd4-9e31-97e2e41acddf"
      },
      "execution_count": null,
      "outputs": [
        {
          "output_type": "stream",
          "name": "stdout",
          "text": [
            "[ 10  20  30  40  50  60  70  80  90 100]\n",
            "[ 10  20  30  40  50  60  70  80  90 100]\n",
            "[ 20  70  80  30  90 100  60  40  10  50]\n"
          ]
        }
      ]
    },
    {
      "cell_type": "markdown",
      "source": [
        "## Funções matemáticas e estatísticas em arrays e matrizes\n",
        "* ufuncs são \"Funções Universais\" que operam no objeto ndarray por meio de vetorização (operação baseada em vetor em vez de iteracao) no NumPy, que é muito mais rápido do que iterar sobre os elementos.\n",
        "\n",
        "* fornecem transmissão e métodos adicionais, como reduzir, acumular, entre outros.\n",
        "\n",
        "* aceitam argumentos adicionais, como: where, dtype e out.\n",
        "\n",
        "* operação baseada em vetor são mais rápidas porque as CPUs modernas são otimizadas para esse tipo de operações."
      ],
      "metadata": {
        "id": "Uk8gySiuvv3W"
      }
    },
    {
      "cell_type": "code",
      "source": [
        "# criando dois arrays grandes\n",
        "x = np.random.randint(100, size=(10**7))\n",
        "y = np.random.randint(100, size=(10**7))\n",
        "z = []\n",
        "print(x.shape)"
      ],
      "metadata": {
        "colab": {
          "base_uri": "https://localhost:8080/"
        },
        "id": "fvsDrKAwveyU",
        "outputId": "36f0489c-545d-470f-cf5f-d109ab05da89"
      },
      "execution_count": null,
      "outputs": [
        {
          "output_type": "stream",
          "name": "stdout",
          "text": [
            "(10000000,)\n"
          ]
        }
      ]
    },
    {
      "cell_type": "code",
      "source": [
        "# usando laço\n",
        "%%timeit\n",
        "for i, j in zip(x, y):\n",
        "  z.append(i + j)"
      ],
      "metadata": {
        "colab": {
          "base_uri": "https://localhost:8080/"
        },
        "id": "gdZ1s5USwCFx",
        "outputId": "9ae02a64-a636-4dfa-eaab-da760857b7a1"
      },
      "execution_count": null,
      "outputs": [
        {
          "output_type": "stream",
          "name": "stdout",
          "text": [
            "2.68 s ± 541 ms per loop (mean ± std. dev. of 7 runs, 1 loop each)\n"
          ]
        }
      ]
    },
    {
      "cell_type": "code",
      "source": [
        "# usando cálculo vetorial\n",
        "%%timeit\n",
        "z = np.add(x, y)"
      ],
      "metadata": {
        "colab": {
          "base_uri": "https://localhost:8080/"
        },
        "id": "4k3FYa0swJo6",
        "outputId": "3ee22138-402d-44b8-d4d7-e42cd805c168"
      },
      "execution_count": null,
      "outputs": [
        {
          "output_type": "stream",
          "name": "stdout",
          "text": [
            "57.9 ms ± 14.5 ms per loop (mean ± std. dev. of 7 runs, 10 loops each)\n"
          ]
        }
      ]
    },
    {
      "cell_type": "code",
      "source": [],
      "metadata": {
        "id": "Xjk4oRDXwfh9"
      },
      "execution_count": null,
      "outputs": []
    },
    {
      "cell_type": "markdown",
      "source": [
        "### Referências para cálculos - funções prontas\n",
        "* Cálculos matemáticos: https://numpy.org/doc/stable/reference/routines.math.html\n",
        "\n",
        "* Cálculos estatísticos: https://numpy.org/doc/stable/reference/routines.statistics.html\n",
        "\n",
        "* Calculos financeiros: https://numpy.org/doc/stable/reference/routines.financial.html\n",
        "\n",
        "* Manipulação de texto: https://numpy.org/doc/stable/reference/routines.char.html\n",
        "\n",
        "* Algebra linear: https://numpy.org/doc/stable/reference/routines.linalg.html"
      ],
      "metadata": {
        "id": "aZgGe4fjw1KC"
      }
    },
    {
      "cell_type": "markdown",
      "source": [
        "### Exemplos"
      ],
      "metadata": {
        "id": "k00vHlkOxQLp"
      }
    },
    {
      "cell_type": "code",
      "source": [
        "# criando uma matriz\n",
        "x=random.randint(100, size=(3, 5)) + random.rand(3, 5) \n",
        "print(x)"
      ],
      "metadata": {
        "colab": {
          "base_uri": "https://localhost:8080/"
        },
        "id": "wa5wldpmw-Dg",
        "outputId": "c3989815-bda9-4e33-8273-47e4c0fd43d1"
      },
      "execution_count": null,
      "outputs": [
        {
          "output_type": "stream",
          "name": "stdout",
          "text": [
            "[[76.46847778 65.91710433 65.10177056 23.14489612 67.10225858]\n",
            " [57.43407735 97.80020536 98.81761875 48.77623166 92.24952723]\n",
            " [58.83099344 72.00681975 52.10860562 94.54878993 66.08777646]]\n"
          ]
        }
      ]
    },
    {
      "cell_type": "markdown",
      "source": [
        "#### floor(x, /[, out, where, casting, order, …])\n",
        "* arredondamento para o inteiro menor "
      ],
      "metadata": {
        "id": "TX53Tg8XytgC"
      }
    },
    {
      "cell_type": "code",
      "source": [
        "x=random.randint(100, size=(3, 5)) + random.rand(3, 5) \n",
        "print(x)\n",
        "\n",
        "print()\n",
        "print(np.floor(x))\n",
        "\n",
        "print()\n",
        "print(x)"
      ],
      "metadata": {
        "colab": {
          "base_uri": "https://localhost:8080/"
        },
        "id": "MFf3rt-VxmdP",
        "outputId": "59507c22-7afd-4cf2-9bd2-fcecb6487e62"
      },
      "execution_count": null,
      "outputs": [
        {
          "output_type": "stream",
          "name": "stdout",
          "text": [
            "[[70.63849257 36.90147618 26.41619917 82.60139608 60.00951833]\n",
            " [62.80974739 58.32135697 60.00600958 66.40085659  6.08626336]\n",
            " [13.60820626 96.2024278  73.72413228 95.74172539  7.20324337]]\n",
            "\n",
            "[[70. 36. 26. 82. 60.]\n",
            " [62. 58. 60. 66.  6.]\n",
            " [13. 96. 73. 95.  7.]]\n",
            "\n",
            "[[70.63849257 36.90147618 26.41619917 82.60139608 60.00951833]\n",
            " [62.80974739 58.32135697 60.00600958 66.40085659  6.08626336]\n",
            " [13.60820626 96.2024278  73.72413228 95.74172539  7.20324337]]\n"
          ]
        }
      ]
    },
    {
      "cell_type": "code",
      "source": [
        "x= np.random.randint(100, size=(3, 5)) + np.random.rand(3, 5) \n",
        "print(x)\n",
        "\n",
        "# sobreescreve os vetor inicial\n",
        "print()\n",
        "print(np.floor(x, out=x))\n",
        "\n",
        "print()\n",
        "print(x)"
      ],
      "metadata": {
        "colab": {
          "base_uri": "https://localhost:8080/"
        },
        "id": "az5xPlFJx8PI",
        "outputId": "dcbe4e75-b561-4c7b-afd3-78d3a19e13c9"
      },
      "execution_count": null,
      "outputs": [
        {
          "output_type": "stream",
          "name": "stdout",
          "text": [
            "[[ 4.2181484  30.15024815 63.37466302 78.08427286 77.72386484]\n",
            " [15.31197719 35.75833948 55.51627752 74.19087086 85.36181199]\n",
            " [10.71706484 23.19175558 84.49884426 86.47840313 70.80144707]]\n",
            "\n",
            "[[ 4. 30. 63. 78. 77.]\n",
            " [15. 35. 55. 74. 85.]\n",
            " [10. 23. 84. 86. 70.]]\n",
            "\n",
            "[[ 4. 30. 63. 78. 77.]\n",
            " [15. 35. 55. 74. 85.]\n",
            " [10. 23. 84. 86. 70.]]\n"
          ]
        }
      ]
    },
    {
      "cell_type": "code",
      "source": [
        "x=random.randint(100, size=(3, 5)) + random.rand(3, 5) \n",
        "print(x)\n",
        "print()\n",
        "\n",
        "resultado = np.zeros(x.shape)\n",
        "print(np.floor(x, where=x>50 , out=resultado))\n",
        "print()\n",
        "\n",
        "print(x)\n",
        "\n",
        "print()\n",
        "print(resultado)"
      ],
      "metadata": {
        "colab": {
          "base_uri": "https://localhost:8080/"
        },
        "id": "vXBKag9IyK-i",
        "outputId": "4bb95668-b45e-4861-d6f8-f2e5e8ae3e0f"
      },
      "execution_count": null,
      "outputs": [
        {
          "output_type": "stream",
          "name": "stdout",
          "text": [
            "[[69.34990506 12.85920997 38.36765478 89.55495549 75.37172524]\n",
            " [58.73199359 59.15294902 81.73389907 16.01260045 60.6851137 ]\n",
            " [65.80333697 19.78581428  2.38896536 99.81676684 75.27892194]]\n",
            "\n",
            "[[69.  0.  0. 89. 75.]\n",
            " [58. 59. 81.  0. 60.]\n",
            " [65.  0.  0. 99. 75.]]\n",
            "\n",
            "[[69.34990506 12.85920997 38.36765478 89.55495549 75.37172524]\n",
            " [58.73199359 59.15294902 81.73389907 16.01260045 60.6851137 ]\n",
            " [65.80333697 19.78581428  2.38896536 99.81676684 75.27892194]]\n",
            "\n",
            "[[69.  0.  0. 89. 75.]\n",
            " [58. 59. 81.  0. 60.]\n",
            " [65.  0.  0. 99. 75.]]\n"
          ]
        }
      ]
    },
    {
      "cell_type": "markdown",
      "source": [
        "#### ceil(x, /[, out, where, casting, order, …])\n",
        "* arredondamento para o inteiro superior"
      ],
      "metadata": {
        "id": "OYR94YLvy44V"
      }
    },
    {
      "cell_type": "code",
      "source": [
        "x=random.randint(100, size=(3, 5)) + random.rand(3, 5) \n",
        "\n",
        "print(x)\n",
        "print(np.ceil(x))"
      ],
      "metadata": {
        "colab": {
          "base_uri": "https://localhost:8080/"
        },
        "id": "7oOjKFURzBSz",
        "outputId": "d64fa21e-f85b-4e55-ac22-6fbde18ed310"
      },
      "execution_count": null,
      "outputs": [
        {
          "output_type": "stream",
          "name": "stdout",
          "text": [
            "[[19.4591658  67.6090435  33.81953548 22.90267868 29.5312748 ]\n",
            " [99.70978601 47.13204026  8.33990701 81.43393729 10.37526541]\n",
            " [23.78620242 43.45920013 15.72027905 45.59875731 72.87381124]]\n",
            "[[ 20.  68.  34.  23.  30.]\n",
            " [100.  48.   9.  82.  11.]\n",
            " [ 24.  44.  16.  46.  73.]]\n"
          ]
        }
      ]
    },
    {
      "cell_type": "markdown",
      "source": [
        "#### prod(a[, axis, dtype, out, keepdims, …])\n",
        "* Retorna o produto dos elementos de um array no eixo informado"
      ],
      "metadata": {
        "id": "dXhEd8ZyxWCW"
      }
    },
    {
      "cell_type": "code",
      "source": [
        "a=random.randint(1,5, size=(3, 2)) \n",
        "\n",
        "print(a)\n",
        "print(np.prod(a,axis=0)) # axis = 0 -> sentido das colunas"
      ],
      "metadata": {
        "colab": {
          "base_uri": "https://localhost:8080/"
        },
        "id": "DuvM5JkCzKeW",
        "outputId": "d70b3ad5-ea02-436a-daff-47d57208f3aa"
      },
      "execution_count": null,
      "outputs": [
        {
          "output_type": "stream",
          "name": "stdout",
          "text": [
            "[[1 2]\n",
            " [4 4]\n",
            " [4 3]]\n",
            "[16 24]\n"
          ]
        }
      ]
    },
    {
      "cell_type": "code",
      "source": [
        "# Produto das linhas\n",
        "a=random.randint(1,5, size=(3, 2)) \n",
        "\n",
        "print(a)\n",
        "print(np.prod(a,axis=1)) # axis = 1 -> sentido das linhas"
      ],
      "metadata": {
        "colab": {
          "base_uri": "https://localhost:8080/"
        },
        "id": "VuZRB0wTzRli",
        "outputId": "052c10e3-d531-4f26-fee1-d414fa6cdf80"
      },
      "execution_count": null,
      "outputs": [
        {
          "output_type": "stream",
          "name": "stdout",
          "text": [
            "[[2 1]\n",
            " [3 3]\n",
            " [3 2]]\n",
            "[2 9 6]\n"
          ]
        }
      ]
    },
    {
      "cell_type": "markdown",
      "source": [
        "#### sum(a[, axis, dtype, out, keepdims, …])\n",
        "* Retorna a soma dos elementos do array para o eixo escolhido"
      ],
      "metadata": {
        "id": "_WbCJhuHzv47"
      }
    },
    {
      "cell_type": "code",
      "source": [
        "# soma das colunas\n",
        "a=random.randint(1,5, size=(3, 2)) \n",
        "\n",
        "print(a)\n",
        "print(np.sum(a,axis=0))"
      ],
      "metadata": {
        "colab": {
          "base_uri": "https://localhost:8080/"
        },
        "id": "QVrVhJ8czWWp",
        "outputId": "0e7541a4-a129-4dbd-ef15-14e973ba8411"
      },
      "execution_count": null,
      "outputs": [
        {
          "output_type": "stream",
          "name": "stdout",
          "text": [
            "[[4 1]\n",
            " [1 2]\n",
            " [1 4]]\n",
            "[6 7]\n"
          ]
        }
      ]
    },
    {
      "cell_type": "code",
      "source": [
        "# soma das linhas\n",
        "a=random.randint(1,5, size=(3, 2)) \n",
        "\n",
        "print(a)\n",
        "print(np.sum(a,axis=1))"
      ],
      "metadata": {
        "colab": {
          "base_uri": "https://localhost:8080/"
        },
        "id": "ZK2JyqWoz25N",
        "outputId": "0cb4b3c6-eb42-4721-d79b-aad5b10628a5"
      },
      "execution_count": null,
      "outputs": [
        {
          "output_type": "stream",
          "name": "stdout",
          "text": [
            "[[2 4]\n",
            " [4 2]\n",
            " [4 2]]\n",
            "[6 6 6]\n"
          ]
        }
      ]
    },
    {
      "cell_type": "markdown",
      "source": [
        "#### exp(x, /[, out, where, casting, order, …])\n",
        "* Retorna o exponencial dos elementos de um array (e=2.718281)"
      ],
      "metadata": {
        "id": "A3jWlmmg0A__"
      }
    },
    {
      "cell_type": "code",
      "source": [
        "a=random.randint(1,5, size=(3, 2)) \n",
        "\n",
        "print(a)\n",
        "print(np.exp(a))"
      ],
      "metadata": {
        "colab": {
          "base_uri": "https://localhost:8080/"
        },
        "id": "fTdUy_gmz9-S",
        "outputId": "15fe0b9c-6dc1-4ea0-81c4-16b6af5acb81"
      },
      "execution_count": null,
      "outputs": [
        {
          "output_type": "stream",
          "name": "stdout",
          "text": [
            "[[3 2]\n",
            " [1 4]\n",
            " [3 2]]\n",
            "[[20.08553692  7.3890561 ]\n",
            " [ 2.71828183 54.59815003]\n",
            " [20.08553692  7.3890561 ]]\n"
          ]
        }
      ]
    },
    {
      "cell_type": "markdown",
      "source": [
        "#### log10(x, /[, out, where, casting, order, …])\n",
        "* Retorna o logarítimo na base 10 dos elementos do array"
      ],
      "metadata": {
        "id": "VOvaAzwu0JcI"
      }
    },
    {
      "cell_type": "code",
      "source": [
        "a=random.randint(1000,2000, size=(3, 2)) \n",
        "\n",
        "print(a)\n",
        "print(np.log10(a))"
      ],
      "metadata": {
        "colab": {
          "base_uri": "https://localhost:8080/"
        },
        "id": "vZxZwqbo0F9d",
        "outputId": "16949c28-be84-475e-e3a2-795b3595ac63"
      },
      "execution_count": null,
      "outputs": [
        {
          "output_type": "stream",
          "name": "stdout",
          "text": [
            "[[1257 1135]\n",
            " [1577 1707]\n",
            " [1292 1968]]\n",
            "[[3.09933528 3.05499586]\n",
            " [3.19783169 3.23223352]\n",
            " [3.11126251 3.29402509]]\n"
          ]
        }
      ]
    },
    {
      "cell_type": "markdown",
      "source": [
        "### Estatística\n",
        "* Cálculos estatísticos: https://numpy.org/doc/stable/reference/routines.statistics.html"
      ],
      "metadata": {
        "id": "wmR1_GaG0S9g"
      }
    },
    {
      "cell_type": "markdown",
      "source": [
        "#### amin(a[, axis, out, keepdims, initial, where])\n",
        "* Retorna o menor valor do array para o eixo informado\n",
        "\n",
        "\n",
        "*   axis=0 sentido das colunas\n",
        "*   axis=1 sentido das linhas\n",
        "\n"
      ],
      "metadata": {
        "id": "ar-K-ToK0cy4"
      }
    },
    {
      "cell_type": "code",
      "source": [
        "a=random.randint(10,70, size=(5, 5)) \n",
        "\n",
        "print(a)\n",
        "print(np.amin(a, axis=0)) # sentido das colunas\n",
        "print(np.amin(a, axis=1)) # sentido das linhas"
      ],
      "metadata": {
        "colab": {
          "base_uri": "https://localhost:8080/"
        },
        "id": "C7RiycAI0NS-",
        "outputId": "05eea731-2072-40c5-fcdd-baa730644b97"
      },
      "execution_count": null,
      "outputs": [
        {
          "output_type": "stream",
          "name": "stdout",
          "text": [
            "[[61 49 47 40 25]\n",
            " [53 12 24 27 28]\n",
            " [45 49 47 58 10]\n",
            " [34 56 56 43 33]\n",
            " [46 67 32 20 24]]\n",
            "[34 12 24 20 10]\n",
            "[25 12 10 33 20]\n"
          ]
        }
      ]
    },
    {
      "cell_type": "markdown",
      "source": [
        "#### amax(a[, axis, out, keepdims, initial, where])\n",
        "* Retorna o maior valor do array para o eixo informado"
      ],
      "metadata": {
        "id": "DEN5U4570r7e"
      }
    },
    {
      "cell_type": "code",
      "source": [
        "a=random.randint(10,70, size=(5, 5)) \n",
        "\n",
        "print(a)\n",
        "print(np.amax(a, axis=0))\n",
        "print(np.amax(a, axis=1))"
      ],
      "metadata": {
        "colab": {
          "base_uri": "https://localhost:8080/"
        },
        "id": "c5jYnlbw0h5R",
        "outputId": "3e6ffe58-adc2-42fe-e1e2-fe3ad3c5285a"
      },
      "execution_count": null,
      "outputs": [
        {
          "output_type": "stream",
          "name": "stdout",
          "text": [
            "[[64 64 35 26 24]\n",
            " [10 61 53 29 69]\n",
            " [61 51 59 49 18]\n",
            " [64 21 42 29 51]\n",
            " [51 46 19 36 61]]\n",
            "[64 64 59 49 69]\n",
            "[64 69 61 64 61]\n"
          ]
        }
      ]
    },
    {
      "cell_type": "markdown",
      "source": [
        "#### median(a[, axis, out, overwrite_input, keepdims])\n",
        "* Retorna a mediana dos valores do array para o eixo informado"
      ],
      "metadata": {
        "id": "Mnil4Y_U01Fa"
      }
    },
    {
      "cell_type": "code",
      "source": [
        "a=random.randint(10,70, size=(5, 5)) \n",
        "\n",
        "print(a)\n",
        "print(np.median(a, axis=0))\n",
        "print(np.median(a, axis=1))"
      ],
      "metadata": {
        "colab": {
          "base_uri": "https://localhost:8080/"
        },
        "id": "i6N7LH-50yiS",
        "outputId": "d7f0f5b3-a19e-4dcb-b669-4c0bac5e4764"
      },
      "execution_count": null,
      "outputs": [
        {
          "output_type": "stream",
          "name": "stdout",
          "text": [
            "[[58 64 43 44 60]\n",
            " [12 33 51 26 23]\n",
            " [58 66 23 66 25]\n",
            " [50 59 28 52 14]\n",
            " [18 48 55 52 15]]\n",
            "[50. 59. 43. 52. 23.]\n",
            "[58. 26. 58. 50. 48.]\n"
          ]
        }
      ]
    },
    {
      "cell_type": "markdown",
      "source": [
        "#### average(a[, axis, weights, returned])\n",
        "* Retorna a media ponderada dos valores do array para o eixo informado"
      ],
      "metadata": {
        "id": "fKUJqhHu1A8A"
      }
    },
    {
      "cell_type": "code",
      "source": [
        "a=random.randint(10,70, size=(5, 5)) \n",
        "print(a)\n",
        "\n",
        "print('media coluna',np.average(a, axis=0))\n",
        "print('media linha',np.average(a, axis=1))\n",
        "\n",
        "pesos = random.randint(1,5, size=(5, 5)) \n",
        "\n",
        "print('pesos',pesos)\n",
        "print('media ponderada coluna',np.average(a, axis=0, weights=pesos))\n",
        "print('media ponderada linha',np.average(a, axis=1, weights=pesos))"
      ],
      "metadata": {
        "colab": {
          "base_uri": "https://localhost:8080/"
        },
        "id": "c6VxyoxC07Yx",
        "outputId": "3bdb14cd-38ca-4f04-d4da-440804a3364a"
      },
      "execution_count": null,
      "outputs": [
        {
          "output_type": "stream",
          "name": "stdout",
          "text": [
            "[[56 26 43 55 33]\n",
            " [45 25 21 59 56]\n",
            " [13 68 51 19 69]\n",
            " [62 26 49 27 56]\n",
            " [62 36 30 45 62]]\n",
            "media coluna [47.6 36.2 38.8 41.  55.2]\n",
            "media linha [42.6 41.2 44.  44.  47. ]\n",
            "pesos [[3 1 3 2 3]\n",
            " [3 2 3 4 4]\n",
            " [1 2 2 2 1]\n",
            " [4 4 1 2 4]\n",
            " [3 4 3 2 4]]\n",
            "media ponderada coluna [53.57142857 35.38461538 36.08333333 44.         54.        ]\n",
            "media ponderada linha [44.33333333 44.25       44.75       45.26666667 47.375     ]\n"
          ]
        }
      ]
    },
    {
      "cell_type": "markdown",
      "source": [
        "#### mean(a[, axis, dtype, out, keepdims])\n",
        "* Retorna a media aritmética dos valores do array para o eixo informado"
      ],
      "metadata": {
        "id": "XCCUWXI51MM7"
      }
    },
    {
      "cell_type": "code",
      "source": [
        "a=random.randint(10,70, size=(5, 5)) \n",
        "\n",
        "print(a)\n",
        "print(np.mean(a, axis=0))\n",
        "print(np.mean(a, axis=1))"
      ],
      "metadata": {
        "colab": {
          "base_uri": "https://localhost:8080/"
        },
        "id": "iQbzMH6W1Ha1",
        "outputId": "1f645582-a038-4467-bb15-ab16226b174a"
      },
      "execution_count": null,
      "outputs": [
        {
          "output_type": "stream",
          "name": "stdout",
          "text": [
            "[[56 20 16 62 57]\n",
            " [49 43 58 53 22]\n",
            " [40 35 16 52 20]\n",
            " [58 24 14 23 47]\n",
            " [39 31 14 27 61]]\n",
            "[48.4 30.6 23.6 43.4 41.4]\n",
            "[42.2 45.  32.6 33.2 34.4]\n"
          ]
        }
      ]
    },
    {
      "cell_type": "markdown",
      "source": [
        "#### std(a[, axis, dtype, out, ddof, keepdims])\n",
        "* Retorna a desvio-padrao dos valores do array para o eixo informado"
      ],
      "metadata": {
        "id": "4BI1ixOP1UVa"
      }
    },
    {
      "cell_type": "code",
      "source": [
        "a=random.randint(10,70, size=(5, 5)) \n",
        "\n",
        "print(a)\n",
        "print(np.std(a, axis=0))\n",
        "print(np.std(a, axis=1))"
      ],
      "metadata": {
        "colab": {
          "base_uri": "https://localhost:8080/"
        },
        "id": "fiXtloaK1Q8B",
        "outputId": "00f31574-e060-4b46-a555-df5a283f87e1"
      },
      "execution_count": null,
      "outputs": [
        {
          "output_type": "stream",
          "name": "stdout",
          "text": [
            "[[24 61 26 38 19]\n",
            " [66 69 63 65 28]\n",
            " [55 49 15 43 65]\n",
            " [34 36 20 14 17]\n",
            " [28 10 11 13 48]]\n",
            "[16.29232948 20.7557221  18.6868938  19.4792197  18.42389752]\n",
            "[15.05456741 15.22366579 16.84755175  9.04212364 14.54647724]\n"
          ]
        }
      ]
    },
    {
      "cell_type": "markdown",
      "source": [
        "#### var(a[, axis, dtype, out, ddof, keepdims])\n",
        "* Retorna a variância dos valores do array para o eixo informado"
      ],
      "metadata": {
        "id": "0VqMdxc81eNQ"
      }
    },
    {
      "cell_type": "code",
      "source": [
        "a=random.randint(10,70, size=(5, 5)) \n",
        "\n",
        "print(a)\n",
        "print(np.var(a, axis=0))\n",
        "print(np.var(a, axis=1))"
      ],
      "metadata": {
        "colab": {
          "base_uri": "https://localhost:8080/"
        },
        "id": "fXuq7I1d1YgO",
        "outputId": "a050fa15-b7a4-4af1-b5e2-6fb933168b9f"
      },
      "execution_count": null,
      "outputs": [
        {
          "output_type": "stream",
          "name": "stdout",
          "text": [
            "[[34 40 23 22 17]\n",
            " [25 38 32 50 40]\n",
            " [33 32 63 12 47]\n",
            " [58 36 33 27 62]\n",
            " [68 57 11 53 44]]\n",
            "[270.64  74.24 296.64 257.36 211.6 ]\n",
            "[ 71.76  69.6  288.24 198.16 376.24]\n"
          ]
        }
      ]
    },
    {
      "cell_type": "markdown",
      "source": [
        "### Operações Aritméticas entre Arrays e Matrizes"
      ],
      "metadata": {
        "id": "j8QI46oL2Z31"
      }
    },
    {
      "cell_type": "markdown",
      "source": [
        "#### Adição\n",
        "* A função add() soma o conteúdo de duas matrizes e retorna os resultados em uma nova matriz."
      ],
      "metadata": {
        "id": "CYr8Pmwg2dLO"
      }
    },
    {
      "cell_type": "code",
      "source": [
        "arr1 = np.array([100, 110, 120, 130, 140, 150])\n",
        "arr2 = np.array([200, 210, 220, 230, 240, 250])\n",
        "\n",
        "novo_array = np.add(arr1, arr2)\n",
        "\n",
        "print(novo_array)\n",
        "print(arr1 + arr2)"
      ],
      "metadata": {
        "colab": {
          "base_uri": "https://localhost:8080/"
        },
        "id": "aYdj25F42ZC1",
        "outputId": "b65e2dc5-0e7a-4d28-ef7a-88c01ba3d7e7"
      },
      "execution_count": null,
      "outputs": [
        {
          "output_type": "stream",
          "name": "stdout",
          "text": [
            "[300 320 340 360 380 400]\n",
            "[300 320 340 360 380 400]\n"
          ]
        }
      ]
    },
    {
      "cell_type": "markdown",
      "source": [
        "#### Subtração\n",
        "* A função subtract() subtrai os valores de uma matriz com os valores de outra matriz e retorna os resultados em uma nova matriz."
      ],
      "metadata": {
        "id": "oJA-GWln2mK7"
      }
    },
    {
      "cell_type": "code",
      "source": [
        "arr1 = np.array([100, 110, 120, 130, 140, 150])\n",
        "arr2 = np.array([200, 210, 220, 230, 240, 250])\n",
        "\n",
        "novo_array = np.subtract(arr1, arr2)\n",
        "\n",
        "print(novo_array)\n",
        "print(arr1 - arr2)"
      ],
      "metadata": {
        "colab": {
          "base_uri": "https://localhost:8080/"
        },
        "id": "IThOk-nI1ilh",
        "outputId": "3796d347-2f1a-49fb-8332-3a8025a0d727"
      },
      "execution_count": null,
      "outputs": [
        {
          "output_type": "stream",
          "name": "stdout",
          "text": [
            "[-100 -100 -100 -100 -100 -100]\n",
            "[-100 -100 -100 -100 -100 -100]\n"
          ]
        }
      ]
    },
    {
      "cell_type": "markdown",
      "source": [
        "#### Divisão\n",
        "A função divide() divide os valores de uma matriz com os valores de outra matriz e retorna os resultados em uma nova matriz."
      ],
      "metadata": {
        "id": "hSkV3aNh58bU"
      }
    },
    {
      "cell_type": "code",
      "source": [
        "arr1 = np.array([100, 110, 120, 130, 140, 150])\n",
        "arr2 = np.array([200, 210, 220, 230, 240, 250])\n",
        "\n",
        "novo_array = np.divide(arr2, arr1)\n",
        "\n",
        "print(novo_array)"
      ],
      "metadata": {
        "colab": {
          "base_uri": "https://localhost:8080/"
        },
        "id": "_Dbv-RHQ2uvI",
        "outputId": "df2a4cb9-c7c4-4967-9817-242a0e4d2317"
      },
      "execution_count": null,
      "outputs": [
        {
          "output_type": "stream",
          "name": "stdout",
          "text": [
            "[2.         1.90909091 1.83333333 1.76923077 1.71428571 1.66666667]\n"
          ]
        }
      ]
    },
    {
      "cell_type": "markdown",
      "source": [
        "#### Potenciação\n",
        "* A função power() eleva os valores da primeira matriz à potência dos valores da segunda matriz e retorna os resultados em uma nova matriz."
      ],
      "metadata": {
        "id": "T8mkMjfp6FtC"
      }
    },
    {
      "cell_type": "code",
      "source": [
        "arr1 = np.array([10, 20, 30, 40, 50, 60])\n",
        "arr2 = np.array([2, 2, 2, 3, 3, 3])\n",
        "\n",
        "novo_array = np.power(arr1, arr2)\n",
        "print(novo_array)"
      ],
      "metadata": {
        "colab": {
          "base_uri": "https://localhost:8080/"
        },
        "id": "RSaZktQA6CHu",
        "outputId": "d4fae585-a5fb-4dc2-e694-6edd1c9b676b"
      },
      "execution_count": null,
      "outputs": [
        {
          "output_type": "stream",
          "name": "stdout",
          "text": [
            "[   100    400    900  64000 125000 216000]\n"
          ]
        }
      ]
    },
    {
      "cell_type": "markdown",
      "source": [
        "#### Resto da Divisão\n",
        "* As funções mod() e as remainder() retornar o resto da divisão da primeira matriz pela segunda matriz, e devolver os resultados de uma nova matriz."
      ],
      "metadata": {
        "id": "-8jlkmCS6QjO"
      }
    },
    {
      "cell_type": "code",
      "source": [
        "# mod\n",
        "arr1 = np.array([10, 20, 30, 40, 50, 60])\n",
        "arr2 = np.array([2, 5, 4, 6, 7, 9])\n",
        "\n",
        "novo_array = np.mod(arr1, arr2)\n",
        "print(novo_array)"
      ],
      "metadata": {
        "colab": {
          "base_uri": "https://localhost:8080/"
        },
        "id": "yIocbywT6MFU",
        "outputId": "d44057f6-d899-4100-f7f0-ebaeb24c7aa8"
      },
      "execution_count": null,
      "outputs": [
        {
          "output_type": "stream",
          "name": "stdout",
          "text": [
            "[0 0 2 4 1 6]\n"
          ]
        }
      ]
    },
    {
      "cell_type": "code",
      "source": [
        "# remainder\n",
        "arr1 = np.array([10, 20, 30, 40, 50, 60])\n",
        "arr2 = np.array([2, 5, 4, 6, 7, 9])\n",
        "\n",
        "novo_array = np.remainder(arr1, arr2)\n",
        "print(novo_array)"
      ],
      "metadata": {
        "colab": {
          "base_uri": "https://localhost:8080/"
        },
        "id": "I1W-yUoj6VGW",
        "outputId": "e408194b-85a0-4ed0-886d-94e73c5f8243"
      },
      "execution_count": null,
      "outputs": [
        {
          "output_type": "stream",
          "name": "stdout",
          "text": [
            "[0 0 2 4 1 6]\n"
          ]
        }
      ]
    },
    {
      "cell_type": "markdown",
      "source": [
        "#### Quociente e Resto da Divisão\n",
        "* A divmod()função retorna o quociente e o mod em dois arrays. O primeiro array contém o quociente e o segundo array contém o resto."
      ],
      "metadata": {
        "id": "si-hpKF56dLE"
      }
    },
    {
      "cell_type": "code",
      "source": [
        "arr1 = np.array([10, 20, 30, 40, 50, 60])\n",
        "arr2 = np.array([2, 5, 4, 6, 7, 9])\n",
        "\n",
        "novo_array = np.divmod(arr1, arr2)\n",
        "print(novo_array)"
      ],
      "metadata": {
        "colab": {
          "base_uri": "https://localhost:8080/"
        },
        "id": "KiZZRUG06Y1H",
        "outputId": "ff516c43-2405-48bc-8349-17ecf0ec2c7d"
      },
      "execution_count": null,
      "outputs": [
        {
          "output_type": "stream",
          "name": "stdout",
          "text": [
            "(array([5, 4, 7, 6, 7, 6]), array([0, 0, 2, 4, 1, 6]))\n"
          ]
        }
      ]
    },
    {
      "cell_type": "markdown",
      "source": [
        "#### Valores absolutos\n",
        "* As funções absolute()e as abs() servem para eliminar o sinal negativo dos valores."
      ],
      "metadata": {
        "id": "RQiSfTCP6mNZ"
      }
    },
    {
      "cell_type": "code",
      "source": [
        "ex_array = np.array([-10, -34, 11, 32, 34 -65])\n",
        "\n",
        "novo_array = np.absolute(ex_array)\n",
        "print(novo_array)"
      ],
      "metadata": {
        "colab": {
          "base_uri": "https://localhost:8080/"
        },
        "id": "PuPaJyw26j2R",
        "outputId": "ab360c14-9853-45a9-ba75-bab8ce97ecea"
      },
      "execution_count": null,
      "outputs": [
        {
          "output_type": "stream",
          "name": "stdout",
          "text": [
            "[10 34 11 32 31]\n"
          ]
        }
      ]
    },
    {
      "cell_type": "markdown",
      "source": [
        "#### Arredondamento de Casas Decimais\n"
      ],
      "metadata": {
        "id": "8cWL_lrk6vrU"
      }
    },
    {
      "cell_type": "markdown",
      "source": [
        "##### Truncamento\n",
        "* Remove os decimais e retorna o número flutuante menor mais próximo de zero"
      ],
      "metadata": {
        "id": "DGNloRhL6y9l"
      }
    },
    {
      "cell_type": "code",
      "source": [
        "ex_array = np.trunc([-12.234234, 54.12315])\n",
        "print(ex_array)"
      ],
      "metadata": {
        "colab": {
          "base_uri": "https://localhost:8080/"
        },
        "id": "v3d1cl0n6qIE",
        "outputId": "ec62f09d-2857-4a0b-e2d8-f6156787056e"
      },
      "execution_count": null,
      "outputs": [
        {
          "output_type": "stream",
          "name": "stdout",
          "text": [
            "[-12.  54.]\n"
          ]
        }
      ]
    },
    {
      "cell_type": "code",
      "source": [
        "ex_array = np.fix([-12.234234, 54.12315])\n",
        "print(ex_array)"
      ],
      "metadata": {
        "colab": {
          "base_uri": "https://localhost:8080/"
        },
        "id": "9T9ANuI264Dd",
        "outputId": "603fdd40-7070-465c-b362-6114d646f760"
      },
      "execution_count": null,
      "outputs": [
        {
          "output_type": "stream",
          "name": "stdout",
          "text": [
            "[-12.  54.]\n"
          ]
        }
      ]
    },
    {
      "cell_type": "markdown",
      "source": [
        "##### Arredondamento\n",
        "* A função around() incrementa o dígito anterior ou decimal em 1 se> = 5, caso contrário, não fará nada."
      ],
      "metadata": {
        "id": "GcfeZ8IM69hw"
      }
    },
    {
      "cell_type": "code",
      "source": [
        "ex_array = np.around([-12.57734234, 54.12315], 2)\n",
        "print(ex_array)"
      ],
      "metadata": {
        "colab": {
          "base_uri": "https://localhost:8080/"
        },
        "id": "YQSfc8zR67Ml",
        "outputId": "64cd7f4b-c1a3-4c83-db31-c8cc9139ec89"
      },
      "execution_count": null,
      "outputs": [
        {
          "output_type": "stream",
          "name": "stdout",
          "text": [
            "[-12.58  54.12]\n"
          ]
        }
      ]
    },
    {
      "cell_type": "code",
      "source": [
        "ex_array = np.floor([-12.634234, 54.12315])\n",
        "print(ex_array)"
      ],
      "metadata": {
        "colab": {
          "base_uri": "https://localhost:8080/"
        },
        "id": "xZ5CYE_77CRY",
        "outputId": "a5dea581-4cc8-4890-da88-8668a8dd6209"
      },
      "execution_count": null,
      "outputs": [
        {
          "output_type": "stream",
          "name": "stdout",
          "text": [
            "[-13.  54.]\n"
          ]
        }
      ]
    },
    {
      "cell_type": "code",
      "source": [
        "ex_array = np.ceil([-12.634234, 54.12315])\n",
        "print(ex_array)"
      ],
      "metadata": {
        "colab": {
          "base_uri": "https://localhost:8080/"
        },
        "id": "v9vr3y2j7FY_",
        "outputId": "6e39d70b-733d-4207-b4a5-d217bad261fd"
      },
      "execution_count": null,
      "outputs": [
        {
          "output_type": "stream",
          "name": "stdout",
          "text": [
            "[-12.  55.]\n"
          ]
        }
      ]
    },
    {
      "cell_type": "markdown",
      "source": [
        "#### Soma de Matrizes\n",
        "* Some os valores em arr1 e os valores em arr2:"
      ],
      "metadata": {
        "id": "UYbXuOyZ7RCm"
      }
    },
    {
      "cell_type": "code",
      "source": [
        "arr1 = np.array([10, 20, 30, 40, 50])\n",
        "arr2 = np.array([10, 20, 30, 40, 50])\n",
        "\n",
        "novo_array = np.sum([arr1, arr2])\n",
        "print(novo_array)"
      ],
      "metadata": {
        "colab": {
          "base_uri": "https://localhost:8080/"
        },
        "id": "pZ62kWlr7KMj",
        "outputId": "30d6985b-b4d0-4eaa-cfed-06fdc0db50d1"
      },
      "execution_count": null,
      "outputs": [
        {
          "output_type": "stream",
          "name": "stdout",
          "text": [
            "300\n"
          ]
        }
      ]
    },
    {
      "cell_type": "markdown",
      "source": [
        "#### Soma sobre determinado eixo\n",
        "* axis = 0 zero para somar as colunas axis = 1 para somar linhas"
      ],
      "metadata": {
        "id": "sYoGDbiT7esv"
      }
    },
    {
      "cell_type": "code",
      "source": [
        "arr1 = np.array([10, 20, 30, 40, 50])\n",
        "arr2 = np.array([10, 20, 30, 40, 50])\n",
        "\n",
        "novo_array = np.sum([arr1, arr2], axis=1)\n",
        "print(novo_array)"
      ],
      "metadata": {
        "colab": {
          "base_uri": "https://localhost:8080/"
        },
        "id": "rc87rRIm7WXd",
        "outputId": "8d781213-9f4f-4822-d1db-b585ee00fe17"
      },
      "execution_count": null,
      "outputs": [
        {
          "output_type": "stream",
          "name": "stdout",
          "text": [
            "[150 150]\n"
          ]
        }
      ]
    },
    {
      "cell_type": "code",
      "source": [
        "arr1 = np.array([10, 20, 30, 40, 50])\n",
        "arr2 = np.array([10, 20, 30, 40, 50])\n",
        "\n",
        "novo_array = np.sum([arr1, arr2], axis=0)\n",
        "print(novo_array)"
      ],
      "metadata": {
        "colab": {
          "base_uri": "https://localhost:8080/"
        },
        "id": "IlHUQlqJ7jZx",
        "outputId": "a0210696-5894-4ac3-cad1-c56c7c54ebcf"
      },
      "execution_count": null,
      "outputs": [
        {
          "output_type": "stream",
          "name": "stdout",
          "text": [
            "[ 20  40  60  80 100]\n"
          ]
        }
      ]
    },
    {
      "cell_type": "markdown",
      "source": [
        "#### Soma Cumulativa\n",
        "* Soma cumulativa significa adicionar parcialmente os elementos na matriz."
      ],
      "metadata": {
        "id": "j9ZdOl4X7r9k"
      }
    },
    {
      "cell_type": "code",
      "source": [
        "ex_array = np.array([10, 20, 30, 40, 50])\n",
        "\n",
        "novo_array = np.cumsum(ex_array)\n",
        "print(novo_array)"
      ],
      "metadata": {
        "colab": {
          "base_uri": "https://localhost:8080/"
        },
        "id": "oX33p8347ow8",
        "outputId": "4f11207c-469e-43dd-cdcf-5d17a251e53e"
      },
      "execution_count": null,
      "outputs": [
        {
          "output_type": "stream",
          "name": "stdout",
          "text": [
            "[ 10  30  60 100 150]\n"
          ]
        }
      ]
    },
    {
      "cell_type": "markdown",
      "source": [
        "#### Produto cumulativo\n",
        "* Produto cumulativo significa retirar o produto parcialmente."
      ],
      "metadata": {
        "id": "32yhXQu67yKH"
      }
    },
    {
      "cell_type": "code",
      "source": [
        "ex_array = np.array([1, 2, 3, 4, 5])\n",
        "\n",
        "novo_array = np.cumprod(ex_array)\n",
        "print(novo_array)"
      ],
      "metadata": {
        "colab": {
          "base_uri": "https://localhost:8080/"
        },
        "id": "7PCc5wDw7wDA",
        "outputId": "7dbc28b5-ec62-4afb-9d84-d178f83a2a7f"
      },
      "execution_count": null,
      "outputs": [
        {
          "output_type": "stream",
          "name": "stdout",
          "text": [
            "[  1   2   6  24 120]\n"
          ]
        }
      ]
    },
    {
      "cell_type": "markdown",
      "source": [
        "#### Diferenças\n",
        "* Uma diferença discreta significa subtrair dois elementos sucessivos."
      ],
      "metadata": {
        "id": "N8D7eJWo74z3"
      }
    },
    {
      "cell_type": "code",
      "source": [
        "ex_array = np.array([10, 20, 30, 40, 50])\n",
        "acum_array = np.cumsum(ex_array)\n",
        "\n",
        "print(acum_array)\n",
        "\n",
        "dif_array = np.diff(acum_array)\n",
        "print(dif_array)"
      ],
      "metadata": {
        "colab": {
          "base_uri": "https://localhost:8080/"
        },
        "id": "hAFLSpX572Lg",
        "outputId": "d485cd0e-238a-4f44-a112-5fc433e4c085"
      },
      "execution_count": null,
      "outputs": [
        {
          "output_type": "stream",
          "name": "stdout",
          "text": [
            "[ 10  30  60 100 150]\n",
            "[20 30 40 50]\n"
          ]
        }
      ]
    },
    {
      "cell_type": "markdown",
      "source": [
        "#### Operações de conjunto (Coleção de elementos únicos)\n",
        "* Usa dos para operações de intersecção, união e diferença. O método unique() do NumPy para encontrar elementos exclusivos de qualquer array."
      ],
      "metadata": {
        "id": "78heTW1S8C4Y"
      }
    },
    {
      "cell_type": "code",
      "source": [
        "ex_array = np.array([12, 12, 12, 22, 23, 24, 25, 25, 26, 27])\n",
        "\n",
        "x = np.unique(ex_array)\n",
        "print(x)"
      ],
      "metadata": {
        "colab": {
          "base_uri": "https://localhost:8080/"
        },
        "id": "c5tQedyb7-FW",
        "outputId": "dfed8ff4-85b5-45bf-dab6-a28b3496dbd1"
      },
      "execution_count": null,
      "outputs": [
        {
          "output_type": "stream",
          "name": "stdout",
          "text": [
            "[12 22 23 24 25 26 27]\n"
          ]
        }
      ]
    },
    {
      "cell_type": "markdown",
      "source": [
        "#### União"
      ],
      "metadata": {
        "id": "oD8D2lAi8Nws"
      }
    },
    {
      "cell_type": "code",
      "source": [
        "conj1 = np.array([21, 22, 23, 24, 25])\n",
        "conj2 = np.array([23, 24, 25, 26])\n",
        "\n",
        "novo_array = np.union1d(conj1, conj2)\n",
        "print(novo_array)"
      ],
      "metadata": {
        "colab": {
          "base_uri": "https://localhost:8080/"
        },
        "id": "v2ixJE1T8HGb",
        "outputId": "81e84420-126c-4a0d-8d19-1041a4d77089"
      },
      "execution_count": null,
      "outputs": [
        {
          "output_type": "stream",
          "name": "stdout",
          "text": [
            "[21 22 23 24 25 26]\n"
          ]
        }
      ]
    },
    {
      "cell_type": "markdown",
      "source": [
        "#### Encontrando intersecção"
      ],
      "metadata": {
        "id": "y_CwY4bM8SNW"
      }
    },
    {
      "cell_type": "code",
      "source": [
        "conj1 = np.array([21, 22, 23, 24, 25])\n",
        "conj2 = np.array([23, 24, 25, 26])\n",
        "\n",
        "novo_array = np.intersect1d(conj1, conj2, assume_unique=True)\n",
        "print(novo_array)"
      ],
      "metadata": {
        "colab": {
          "base_uri": "https://localhost:8080/"
        },
        "id": "CXxrVlqe8QDE",
        "outputId": "a8d1394e-b00e-49df-e437-84e9cdb4384a"
      },
      "execution_count": null,
      "outputs": [
        {
          "output_type": "stream",
          "name": "stdout",
          "text": [
            "[23 24 25]\n"
          ]
        }
      ]
    },
    {
      "cell_type": "markdown",
      "source": [
        "#### Encontrando Diferença\n",
        "* Use o método setdiff1d() para encontrar apenas os valores no primeiro conjunto que NÃO estão no segundos."
      ],
      "metadata": {
        "id": "rBeQAHWk8Yyy"
      }
    },
    {
      "cell_type": "code",
      "source": [
        "conj1 = np.array([21, 22, 23, 24, 25])\n",
        "conj2 = np.array([23, 24, 25, 26])\n",
        "\n",
        "novo_array = np.setdiff1d(conj1, conj2, assume_unique=True) # setdiff - traz o que é diferente\n",
        "print(novo_array)"
      ],
      "metadata": {
        "colab": {
          "base_uri": "https://localhost:8080/"
        },
        "id": "I2_3G79x8WhX",
        "outputId": "9e404550-f396-4290-fefe-178da61078df"
      },
      "execution_count": null,
      "outputs": [
        {
          "output_type": "stream",
          "name": "stdout",
          "text": [
            "[21 22]\n"
          ]
        }
      ]
    },
    {
      "cell_type": "markdown",
      "source": [
        "#### Encontrando Diferença Simétrica\n",
        "* Use o método setxor1d() para encontrar apenas os valores que NÃO estão presentes em AMBOS os conjuntos."
      ],
      "metadata": {
        "id": "Q6ltu5i_8fYJ"
      }
    },
    {
      "cell_type": "code",
      "source": [
        "set1 = np.array([21, 22, 23, 24, 25])\n",
        "set2 = np.array([23, 24, 25, 26])\n",
        "\n",
        "novo_array = np.setxor1d(set1, set2, assume_unique=True)\n",
        "print(novo_array)"
      ],
      "metadata": {
        "colab": {
          "base_uri": "https://localhost:8080/"
        },
        "id": "wL9dWR748ckf",
        "outputId": "9220d424-c943-4a6e-ea7c-c5bb9d19cc44"
      },
      "execution_count": null,
      "outputs": [
        {
          "output_type": "stream",
          "name": "stdout",
          "text": [
            "[21 22 26]\n"
          ]
        }
      ]
    },
    {
      "cell_type": "markdown",
      "source": [
        "#### Criar ufunc personalizadas\n",
        "ufunc: Universal Function\n",
        "\n",
        "Definir uma função, como você faz com funções normais em Python, e então adicioná-la à sua biblioteca ufunc NumPy com o método frompyfunc().\n",
        "\n",
        "O métodofrompyfunc() precisa dos seguintes argumentos:\n",
        "\n",
        "* function: o nome da função.\n",
        "* inputs: o número de argumentos de entrada - matrizes.\n",
        "* outputs: o número de matrizes de saída."
      ],
      "metadata": {
        "id": "sxTjGBLM8n-K"
      }
    },
    {
      "cell_type": "code",
      "source": [
        "# função que retorna um valor\n",
        "def adicionar(arr1, arr2):\n",
        "  return arr1 + arr2\n",
        "\n",
        "# recebe dois parâmetros e retorna um!\n",
        "func_adicionar = np.frompyfunc(adicionar, 2, 1)\n",
        "\n",
        "print(func_adicionar([21, 22, 23, 24], [25, 26, 27, 28]))"
      ],
      "metadata": {
        "colab": {
          "base_uri": "https://localhost:8080/"
        },
        "id": "EzrmJsCK8jOK",
        "outputId": "c3e8e45f-4de2-43c2-be36-cc6a99bf48f2"
      },
      "execution_count": null,
      "outputs": [
        {
          "output_type": "stream",
          "name": "stdout",
          "text": [
            "[46 48 50 52]\n"
          ]
        }
      ]
    },
    {
      "cell_type": "markdown",
      "source": [
        "#### Como checar se uma função é um ufunc\n",
        "* Verifique o tipo de função para verificar se é ufunc ou não."
      ],
      "metadata": {
        "id": "f-bHTiqT82OA"
      }
    },
    {
      "cell_type": "code",
      "source": [
        "print(type(func_adicionar))\n",
        "print(type(np.add))\n",
        "print(type(np.add) == np.ufunc)"
      ],
      "metadata": {
        "colab": {
          "base_uri": "https://localhost:8080/"
        },
        "id": "0zDoxRUH8zan",
        "outputId": "4cf2930f-5896-4cee-d2b0-5c8db4217a71"
      },
      "execution_count": null,
      "outputs": [
        {
          "output_type": "stream",
          "name": "stdout",
          "text": [
            "<class 'numpy.ufunc'>\n",
            "<class 'numpy.ufunc'>\n",
            "True\n"
          ]
        }
      ]
    },
    {
      "cell_type": "markdown",
      "source": [
        "## Numpy - Exportação e Importação de Arrays e Matrizes para Arquivos"
      ],
      "metadata": {
        "id": "n1_jRKou9WVA"
      }
    },
    {
      "cell_type": "markdown",
      "source": [
        "### Salvando Arrays em arquivos"
      ],
      "metadata": {
        "id": "0kZfmbfR9c9G"
      }
    },
    {
      "cell_type": "code",
      "source": [
        "ex_array =random.randint(10,70, size=(5, 5)) \n",
        "\n",
        "# fmt: salvando em string\n",
        "print(ex_array)\n",
        "np.savetxt(\"array.csv\", ex_array, delimiter=\";\", fmt='%s')"
      ],
      "metadata": {
        "colab": {
          "base_uri": "https://localhost:8080/"
        },
        "id": "Aqnq1irX86dj",
        "outputId": "8d8c5a8d-6438-482f-9934-920cc3b91547"
      },
      "execution_count": null,
      "outputs": [
        {
          "output_type": "stream",
          "name": "stdout",
          "text": [
            "[[10 14 35 23 32]\n",
            " [29 29 65 47 51]\n",
            " [18 16 14 58 60]\n",
            " [65 49 30 56 44]\n",
            " [37 58 63 14 25]]\n"
          ]
        }
      ]
    },
    {
      "cell_type": "code",
      "source": [
        "with open(\"array.csv\") as f:\n",
        "  print(f.read())"
      ],
      "metadata": {
        "colab": {
          "base_uri": "https://localhost:8080/"
        },
        "id": "nqaZHyU5bO63",
        "outputId": "3f654d12-c40c-48b2-aa66-c94ff0972485"
      },
      "execution_count": null,
      "outputs": [
        {
          "output_type": "stream",
          "name": "stdout",
          "text": [
            "10;14;35;23;32\n",
            "29;29;65;47;51\n",
            "18;16;14;58;60\n",
            "65;49;30;56;44\n",
            "37;58;63;14;25\n",
            "\n"
          ]
        }
      ]
    },
    {
      "cell_type": "code",
      "source": [
        "novo_arr = np.loadtxt('array.csv', delimiter=';', skiprows=0 , dtype=float)\n",
        "print(novo_arr)"
      ],
      "metadata": {
        "colab": {
          "base_uri": "https://localhost:8080/"
        },
        "id": "1hHUecaYbYol",
        "outputId": "1a58a52a-9f2f-4b5f-bebc-415f2fe3c63f"
      },
      "execution_count": null,
      "outputs": [
        {
          "output_type": "stream",
          "name": "stdout",
          "text": [
            "[[10. 14. 35. 23. 32.]\n",
            " [29. 29. 65. 47. 51.]\n",
            " [18. 16. 14. 58. 60.]\n",
            " [65. 49. 30. 56. 44.]\n",
            " [37. 58. 63. 14. 25.]]\n"
          ]
        }
      ]
    },
    {
      "cell_type": "markdown",
      "source": [
        "## Importação de dados externos"
      ],
      "metadata": {
        "id": "7orBIckOdgyZ"
      }
    },
    {
      "cell_type": "markdown",
      "source": [
        "### Usando dados do Ministério da Saúde\n",
        "\n",
        "(https://covid.saude.gov.br/)"
      ],
      "metadata": {
        "id": "O1MhZFN5eKh6"
      }
    },
    {
      "cell_type": "markdown",
      "source": [
        "### Endereçando os arquivos *.CSV"
      ],
      "metadata": {
        "id": "T6jFl7MkrOzk"
      }
    },
    {
      "cell_type": "code",
      "source": [
        "# criando uma variável para endereço do diretório - esse endereço dependerá de onde você salvará o teu arquivo CSV!\n",
        "diretorio = os.path.join('/content/drive/MyDrive/Colab Notebooks/[2023 Minor]/[2023 - MIN708]/[2023.03.11] Aula 04 - NumPy/datasets')"
      ],
      "metadata": {
        "id": "D6bq4pCfo8ct"
      },
      "execution_count": 12,
      "outputs": []
    },
    {
      "cell_type": "markdown",
      "source": [
        "### Lendo arquivos *.CSV"
      ],
      "metadata": {
        "id": "qkx8R2DKr9m_"
      }
    },
    {
      "cell_type": "code",
      "source": [
        "nome_arquivo_csv = 'HIST_PAINEL_COVIDBR_2023_Parte1_04mar2023.csv'\n",
        "caminho_arquivo_csv = os.path.join(diretorio, nome_arquivo_csv)\n",
        "with open(caminho_arquivo_csv) as f:\n",
        "  colunas = f.readline().strip('\\n').split(';')"
      ],
      "metadata": {
        "id": "HplegeMcqHnz"
      },
      "execution_count": 13,
      "outputs": []
    },
    {
      "cell_type": "code",
      "source": [
        "# visualizando a primeira linha do dataset\n",
        "print(colunas)"
      ],
      "metadata": {
        "colab": {
          "base_uri": "https://localhost:8080/"
        },
        "id": "JCvpn40TsLoW",
        "outputId": "ae295d50-c33a-4d4c-a064-442afc069516"
      },
      "execution_count": 14,
      "outputs": [
        {
          "output_type": "stream",
          "name": "stdout",
          "text": [
            "['regiao', 'estado', 'municipio', 'coduf', 'codmun', 'codRegiaoSaude', 'nomeRegiaoSaude', 'data', 'semanaEpi', 'populacaoTCU2019', 'casosAcumulado', 'casosNovos', 'obitosAcumulado', 'obitosNovos', 'Recuperadosnovos', 'emAcompanhamentoNovos', 'interior/metropolitana']\n"
          ]
        }
      ]
    },
    {
      "cell_type": "code",
      "source": [
        "# comando para ler os primeiros 500 bytes do arquivo\n",
        "with open(caminho_arquivo_csv) as f:\n",
        "  print(f.read(500))"
      ],
      "metadata": {
        "colab": {
          "base_uri": "https://localhost:8080/"
        },
        "id": "EIh3SGgKsdGD",
        "outputId": "709a4a26-ebb8-45a5-8ee7-c562ea8d95cc"
      },
      "execution_count": 15,
      "outputs": [
        {
          "output_type": "stream",
          "name": "stdout",
          "text": [
            "regiao;estado;municipio;coduf;codmun;codRegiaoSaude;nomeRegiaoSaude;data;semanaEpi;populacaoTCU2019;casosAcumulado;casosNovos;obitosAcumulado;obitosNovos;Recuperadosnovos;emAcompanhamentoNovos;interior/metropolitana\n",
            "Brasil;;;76;;;;2023-01-01;1;210147125;36331281;0;693853;0;35006153;631275;\n",
            "Brasil;;;76;;;;2023-01-02;1;210147125;36362366;31085;693981;128;35081933;586452;\n",
            "Brasil;;;76;;;;2023-01-03;1;210147125;36390423;28057;694192;211;35147500;548731;\n",
            "Brasil;;;76;;;;2023-01-04;1;210147125;36423138;\n"
          ]
        }
      ]
    },
    {
      "cell_type": "markdown",
      "source": [
        "### Usando o NumPy para ler os arquivos"
      ],
      "metadata": {
        "id": "kHr9K_AqwqgM"
      }
    },
    {
      "cell_type": "code",
      "source": [
        "## Carrega os dados no array\n",
        "dadoscovid = np.loadtxt(caminho_arquivo_csv,\n",
        "    delimiter=';', skiprows=1 ,     # skiprows ignora a primeira linha para exibir\n",
        "    dtype='U', encoding='utf-8')    # U = Dados unicode e utf-8 é o tipo de arquivo CSV\n",
        "\n",
        "## imprime as primeiras linhas do array\n",
        "print(dadoscovid[:5], '\\n')\n",
        "\n",
        "## imprime as ultimas linhas do \n",
        "print(dadoscovid[-5:], '\\n')\n",
        "\n",
        "## verifica a quantidade de dimensões\n",
        "print(dadoscovid.ndim, '\\n')\n",
        "\n",
        "## verifica a forma do array\n",
        "print(dadoscovid.shape, '\\n')"
      ],
      "metadata": {
        "colab": {
          "base_uri": "https://localhost:8080/"
        },
        "id": "JpeWTRLQuPJ7",
        "outputId": "083b2bd1-63ae-4b9f-fe79-54e742d493bb"
      },
      "execution_count": 16,
      "outputs": [
        {
          "output_type": "stream",
          "name": "stdout",
          "text": [
            "[['Brasil' '' '' '76' '' '' '' '2023-01-01' '1' '210147125' '36331281'\n",
            "  '0' '693853' '0' '35006153' '631275' '']\n",
            " ['Brasil' '' '' '76' '' '' '' '2023-01-02' '1' '210147125' '36362366'\n",
            "  '31085' '693981' '128' '35081933' '586452' '']\n",
            " ['Brasil' '' '' '76' '' '' '' '2023-01-03' '1' '210147125' '36390423'\n",
            "  '28057' '694192' '211' '35147500' '548731' '']\n",
            " ['Brasil' '' '' '76' '' '' '' '2023-01-04' '1' '210147125' '36423138'\n",
            "  '32715' '694411' '219' '35196324' '532403' '']\n",
            " ['Brasil' '' '' '76' '' '' '' '2023-01-05' '1' '210147125' '36450812'\n",
            "  '27674' '694569' '158' '35225196' '531047' '']] \n",
            "\n",
            "[['Centro-Oeste' 'DF' 'Brasília' '53' '530010' '53001' 'DISTRITO FEDERAL'\n",
            "  '2023-03-03' '9' '3015268' '897897' '143' '11844' '0' '' '' '1']\n",
            " ['Centro-Oeste' 'DF' 'Brasília' '53' '530010' '53001' 'DISTRITO FEDERAL'\n",
            "  '2023-03-04' '9' '3015268' '0' '-897897' '0' '-11844' '' '' '1']\n",
            " ['Centro-Oeste' 'DF' 'Brasília' '53' '530010' '53001' 'DISTRITO FEDERAL'\n",
            "  '2023-03-05' '10' '3015268' '0' '0' '0' '0' '' '' '1']\n",
            " ['Centro-Oeste' 'DF' 'Brasília' '53' '530010' '53001' 'DISTRITO FEDERAL'\n",
            "  '2023-03-06' '10' '3015268' '0' '0' '0' '0' '' '' '1']\n",
            " ['Centro-Oeste' 'DF' 'Brasília' '53' '530010' '53001' 'DISTRITO FEDERAL'\n",
            "  '2023-03-07' '10' '3015268' '898072' '898072' '11845' '11845' '' '' '1']] \n",
            "\n",
            "2 \n",
            "\n",
            "(370770, 17) \n",
            "\n"
          ]
        }
      ]
    },
    {
      "cell_type": "markdown",
      "source": [
        "### Gerando informações: Brasil"
      ],
      "metadata": {
        "id": "O0z89TpOyTb1"
      }
    },
    {
      "cell_type": "code",
      "source": [
        "## cria o fitro dos registros estatísticos da covid a nivel Brasil\n",
        "brasil = dadoscovid[: , 0] == 'Brasil'\n",
        "\n",
        "## gera array com apenas os dados do brasil\n",
        "brasilarr = dadoscovid[brasil]\n",
        "\n",
        "## imprime as primeiras linhas do array\n",
        "print(brasilarr[:5], '\\n')\n",
        "\n",
        "## imprime as ultimas linhas do \n",
        "print(brasilarr[-5:], '\\n')\n",
        "\n",
        "## verifica a quantidade de dimensões\n",
        "print(brasilarr.ndim, '\\n')\n",
        "\n",
        "## verifica a forma do array\n",
        "print(brasilarr.shape, '\\n')"
      ],
      "metadata": {
        "colab": {
          "base_uri": "https://localhost:8080/"
        },
        "id": "J8y7yktlw2Uc",
        "outputId": "21194fff-afc5-452e-c61f-8042c84e7e97"
      },
      "execution_count": 17,
      "outputs": [
        {
          "output_type": "stream",
          "name": "stdout",
          "text": [
            "[['Brasil' '' '' '76' '' '' '' '2023-01-01' '1' '210147125' '36331281'\n",
            "  '0' '693853' '0' '35006153' '631275' '']\n",
            " ['Brasil' '' '' '76' '' '' '' '2023-01-02' '1' '210147125' '36362366'\n",
            "  '31085' '693981' '128' '35081933' '586452' '']\n",
            " ['Brasil' '' '' '76' '' '' '' '2023-01-03' '1' '210147125' '36390423'\n",
            "  '28057' '694192' '211' '35147500' '548731' '']\n",
            " ['Brasil' '' '' '76' '' '' '' '2023-01-04' '1' '210147125' '36423138'\n",
            "  '32715' '694411' '219' '35196324' '532403' '']\n",
            " ['Brasil' '' '' '76' '' '' '' '2023-01-05' '1' '210147125' '36450812'\n",
            "  '27674' '694569' '158' '35225196' '531047' '']] \n",
            "\n",
            "[['Brasil' '' '' '76' '' '' '' '2023-02-28' '9' '210147125' '37052936'\n",
            "  '14706' '699087' '81' '36235329' '118520' '']\n",
            " ['Brasil' '' '' '76' '' '' '' '2023-03-01' '9' '210147125' '37063464'\n",
            "  '10528' '699197' '110' '36241001' '123266' '']\n",
            " ['Brasil' '' '' '76' '' '' '' '2023-03-02' '9' '210147125' '37066791'\n",
            "  '3327' '699243' '46' '36239891' '127657' '']\n",
            " ['Brasil' '' '' '76' '' '' '' '2023-03-03' '9' '210147125' '37076053'\n",
            "  '9262' '699276' '33' '36249161' '127616' '']\n",
            " ['Brasil' '' '' '76' '' '' '' '2023-03-04' '9' '210147125' '37085520'\n",
            "  '9467' '699310' '34' '36256816' '129394' '']] \n",
            "\n",
            "2 \n",
            "\n",
            "(63, 17) \n",
            "\n"
          ]
        }
      ]
    },
    {
      "cell_type": "code",
      "source": [
        "colunas # listando as colunas"
      ],
      "metadata": {
        "colab": {
          "base_uri": "https://localhost:8080/"
        },
        "id": "-_FeoEDVye6q",
        "outputId": "d56ca6db-42fc-490d-cbe4-27cb48cbde1f"
      },
      "execution_count": 18,
      "outputs": [
        {
          "output_type": "execute_result",
          "data": {
            "text/plain": [
              "['regiao',\n",
              " 'estado',\n",
              " 'municipio',\n",
              " 'coduf',\n",
              " 'codmun',\n",
              " 'codRegiaoSaude',\n",
              " 'nomeRegiaoSaude',\n",
              " 'data',\n",
              " 'semanaEpi',\n",
              " 'populacaoTCU2019',\n",
              " 'casosAcumulado',\n",
              " 'casosNovos',\n",
              " 'obitosAcumulado',\n",
              " 'obitosNovos',\n",
              " 'Recuperadosnovos',\n",
              " 'emAcompanhamentoNovos',\n",
              " 'interior/metropolitana']"
            ]
          },
          "metadata": {},
          "execution_count": 18
        }
      ]
    },
    {
      "cell_type": "code",
      "source": [
        "## verifica se o resultado do filtros gerou o array corretamente - é um teste\n",
        "# unique: traz apenas os valores unicos da coluna!\n",
        "print(np.unique(brasilarr[: , 0]))\n",
        "print(np.unique(brasilarr[: , 1]))\n",
        "print(np.unique(brasilarr[: , 2]))"
      ],
      "metadata": {
        "colab": {
          "base_uri": "https://localhost:8080/"
        },
        "id": "UhbWZjY00yK8",
        "outputId": "8691ea74-ded9-4241-b607-96b9874ac18d"
      },
      "execution_count": 19,
      "outputs": [
        {
          "output_type": "stream",
          "name": "stdout",
          "text": [
            "['Brasil']\n",
            "['']\n",
            "['']\n"
          ]
        }
      ]
    },
    {
      "cell_type": "code",
      "source": [
        "## obtem os índices das colunas que serão utilizadas\n",
        "colunasselecionadas = ['data',  'casosAcumulado',  'obitosAcumulado']\n",
        "print(colunasselecionadas, '\\n')\n",
        "print(colunas, '\\n')\n",
        "indice_colunas_selecionadas = [colunas.index(x) for x in colunasselecionadas ]\n",
        "print(indice_colunas_selecionadas, '\\n')"
      ],
      "metadata": {
        "colab": {
          "base_uri": "https://localhost:8080/"
        },
        "id": "l-TrxXEZ1X2I",
        "outputId": "7c529a65-22ae-46dc-dcea-c416682ec07a"
      },
      "execution_count": 20,
      "outputs": [
        {
          "output_type": "stream",
          "name": "stdout",
          "text": [
            "['data', 'casosAcumulado', 'obitosAcumulado'] \n",
            "\n",
            "['regiao', 'estado', 'municipio', 'coduf', 'codmun', 'codRegiaoSaude', 'nomeRegiaoSaude', 'data', 'semanaEpi', 'populacaoTCU2019', 'casosAcumulado', 'casosNovos', 'obitosAcumulado', 'obitosNovos', 'Recuperadosnovos', 'emAcompanhamentoNovos', 'interior/metropolitana'] \n",
            "\n",
            "[7, 10, 12] \n",
            "\n"
          ]
        }
      ]
    },
    {
      "cell_type": "code",
      "source": [
        "# formato do brasilarr: são 64 linhas com 17 colunas\n",
        "brasilarr.shape "
      ],
      "metadata": {
        "colab": {
          "base_uri": "https://localhost:8080/"
        },
        "id": "rEhEA78P168Z",
        "outputId": "d42e3357-f01b-4bfa-f3a0-698974c49c42"
      },
      "execution_count": 21,
      "outputs": [
        {
          "output_type": "execute_result",
          "data": {
            "text/plain": [
              "(63, 17)"
            ]
          },
          "metadata": {},
          "execution_count": 21
        }
      ]
    },
    {
      "cell_type": "code",
      "source": [
        "## remove as colunas desnecessárias do array - só vou trabalhar com 'data', 'casosAcumulado' e 'obtosAcumulado'\n",
        "brasilarr = brasilarr[: , indice_colunas_selecionadas]"
      ],
      "metadata": {
        "id": "Ukx4eqtO2ZRL"
      },
      "execution_count": 22,
      "outputs": []
    },
    {
      "cell_type": "code",
      "source": [
        "# verficando a dimensão do array: 'data',  'casosAcumulado',  'obitosAcumulado'\n",
        "brasilarr[0:5] "
      ],
      "metadata": {
        "colab": {
          "base_uri": "https://localhost:8080/"
        },
        "id": "mwUpYf9-296e",
        "outputId": "ac476d99-581b-41b8-b5b5-08aec49cf49d"
      },
      "execution_count": 23,
      "outputs": [
        {
          "output_type": "execute_result",
          "data": {
            "text/plain": [
              "array([['2023-01-01', '36331281', '693853'],\n",
              "       ['2023-01-02', '36362366', '693981'],\n",
              "       ['2023-01-03', '36390423', '694192'],\n",
              "       ['2023-01-04', '36423138', '694411'],\n",
              "       ['2023-01-05', '36450812', '694569']], dtype='<U32')"
            ]
          },
          "metadata": {},
          "execution_count": 23
        }
      ]
    },
    {
      "cell_type": "code",
      "source": [
        "# formato do brasilarr: são 64 linhas com 3 colunas, ou seja, redimensionado\n",
        "brasilarr.shape"
      ],
      "metadata": {
        "colab": {
          "base_uri": "https://localhost:8080/"
        },
        "id": "tcbIXWBh3AY9",
        "outputId": "a49f7090-03c5-4021-f8d5-cd4e14ad492c"
      },
      "execution_count": 24,
      "outputs": [
        {
          "output_type": "execute_result",
          "data": {
            "text/plain": [
              "(63, 3)"
            ]
          },
          "metadata": {},
          "execution_count": 24
        }
      ]
    },
    {
      "cell_type": "code",
      "source": [
        "# gera a coluna de novos casos a partir dos valores acumulados e adiciona na matriz\n",
        "# devido a metodologia de registro de novos casos, é necessário calcular esse número a partir de casos acumulados\n",
        "\n",
        "# calculando pela diferência\n",
        "novoscasos = np.diff(brasilarr[: , 1].astype('i')).astype(str)\n",
        "\n",
        "# verificando o resultados\n",
        "print(brasilarr[: , 1][:10], '\\n')      # casos acumulados\n",
        "print(novoscasos[:10], '\\n')            # novos casos a partir da diferença dos acumulados"
      ],
      "metadata": {
        "colab": {
          "base_uri": "https://localhost:8080/"
        },
        "id": "TB8IZh9e72yT",
        "outputId": "949a5216-d4f6-4952-a234-083b4a2e916f"
      },
      "execution_count": 25,
      "outputs": [
        {
          "output_type": "stream",
          "name": "stdout",
          "text": [
            "['36331281' '36362366' '36390423' '36423138' '36450812' '36477214'\n",
            " '36488386' '36490050' '36511286' '36552432'] \n",
            "\n",
            "['31085' '28057' '32715' '27674' '26402' '11172' '1664' '21236' '41146'\n",
            " '26433'] \n",
            "\n"
          ]
        }
      ]
    },
    {
      "cell_type": "code",
      "source": [
        "# linhas do array brasilarr\n",
        "brasilarr[: , 1].shape"
      ],
      "metadata": {
        "colab": {
          "base_uri": "https://localhost:8080/"
        },
        "id": "JhXwna9b80qe",
        "outputId": "f3e00b57-0880-461e-c149-739cd31b07bd"
      },
      "execution_count": 26,
      "outputs": [
        {
          "output_type": "execute_result",
          "data": {
            "text/plain": [
              "(63,)"
            ]
          },
          "metadata": {},
          "execution_count": 26
        }
      ]
    },
    {
      "cell_type": "code",
      "source": [
        "# linhas do array novoscasos\n",
        "novoscasos.shape"
      ],
      "metadata": {
        "colab": {
          "base_uri": "https://localhost:8080/"
        },
        "id": "ksJiu4SP85JI",
        "outputId": "a4e2de97-1404-43c3-f8e3-0aa98d753e7f"
      },
      "execution_count": 27,
      "outputs": [
        {
          "output_type": "execute_result",
          "data": {
            "text/plain": [
              "(62,)"
            ]
          },
          "metadata": {},
          "execution_count": 27
        }
      ]
    },
    {
      "cell_type": "code",
      "source": [
        "# inserindo no array novoscasos o primeiro elemento da diferença = 0\n",
        "novoscasos =  np.insert(novoscasos,0,0)"
      ],
      "metadata": {
        "id": "aQ9Bb1rJ89Dk"
      },
      "execution_count": 28,
      "outputs": []
    },
    {
      "cell_type": "code",
      "source": [
        "#verficando o resultado\n",
        "print(brasilarr[: , 1][:10], '\\n')\n",
        "print(novoscasos[:10], '\\n')"
      ],
      "metadata": {
        "colab": {
          "base_uri": "https://localhost:8080/"
        },
        "id": "3ef3CR8l9vrV",
        "outputId": "44a11e25-e6d1-4411-88de-5fc0ff2706e5"
      },
      "execution_count": 29,
      "outputs": [
        {
          "output_type": "stream",
          "name": "stdout",
          "text": [
            "['36331281' '36362366' '36390423' '36423138' '36450812' '36477214'\n",
            " '36488386' '36490050' '36511286' '36552432'] \n",
            "\n",
            "['0' '31085' '28057' '32715' '27674' '26402' '11172' '1664' '21236'\n",
            " '41146'] \n",
            "\n"
          ]
        }
      ]
    },
    {
      "cell_type": "code",
      "source": [
        "brasilarr.shape"
      ],
      "metadata": {
        "colab": {
          "base_uri": "https://localhost:8080/"
        },
        "id": "MI1w7hLS-eYn",
        "outputId": "d997729c-7129-4789-f6af-3ce44bd1b262"
      },
      "execution_count": 30,
      "outputs": [
        {
          "output_type": "execute_result",
          "data": {
            "text/plain": [
              "(63, 3)"
            ]
          },
          "metadata": {},
          "execution_count": 30
        }
      ]
    },
    {
      "cell_type": "code",
      "source": [
        "# linhas do array novoscasos - ajustado ao array brasilarr\n",
        "novoscasos.shape"
      ],
      "metadata": {
        "colab": {
          "base_uri": "https://localhost:8080/"
        },
        "id": "SxYc91aMD5vr",
        "outputId": "64582f06-bbe1-43a9-f5eb-682674d5bf14"
      },
      "execution_count": 31,
      "outputs": [
        {
          "output_type": "execute_result",
          "data": {
            "text/plain": [
              "(63,)"
            ]
          },
          "metadata": {},
          "execution_count": 31
        }
      ]
    },
    {
      "cell_type": "code",
      "source": [
        "# reshape novoscasos \n",
        "novoscasos = novoscasos.reshape((brasilarr.shape[0],1))"
      ],
      "metadata": {
        "id": "xWepDnAM-KAS"
      },
      "execution_count": 32,
      "outputs": []
    },
    {
      "cell_type": "code",
      "source": [
        "# verificando o array\n",
        "novoscasos[:5]"
      ],
      "metadata": {
        "colab": {
          "base_uri": "https://localhost:8080/"
        },
        "id": "RZhUiqJr_Ez4",
        "outputId": "d88ca4d6-8cca-47d2-837c-a2e68297f824"
      },
      "execution_count": 33,
      "outputs": [
        {
          "output_type": "execute_result",
          "data": {
            "text/plain": [
              "array([['0'],\n",
              "       ['31085'],\n",
              "       ['28057'],\n",
              "       ['32715'],\n",
              "       ['27674']], dtype='<U11')"
            ]
          },
          "metadata": {},
          "execution_count": 33
        }
      ]
    },
    {
      "cell_type": "code",
      "source": [
        "# concatenando os dois arrays\n",
        "brasilarr = np.concatenate((brasilarr, novoscasos), axis=1  )"
      ],
      "metadata": {
        "id": "YaRBoRLD_YR3"
      },
      "execution_count": 34,
      "outputs": []
    },
    {
      "cell_type": "code",
      "source": [
        "# checando os resultados: 'data', 'casosAcumulado', 'obitosAcumulado', 'novoscasos'\n",
        "print(brasilarr[0:3], '\\n')\n",
        "print(brasilarr[-3:], '\\n')"
      ],
      "metadata": {
        "colab": {
          "base_uri": "https://localhost:8080/"
        },
        "id": "zhUL6Yo8_e2i",
        "outputId": "acef4712-7c3a-42bb-8a17-e60d2181fa9f"
      },
      "execution_count": 35,
      "outputs": [
        {
          "output_type": "stream",
          "name": "stdout",
          "text": [
            "[['2023-01-01' '36331281' '693853' '0']\n",
            " ['2023-01-02' '36362366' '693981' '31085']\n",
            " ['2023-01-03' '36390423' '694192' '28057']] \n",
            "\n",
            "[['2023-03-02' '37066791' '699243' '3327']\n",
            " ['2023-03-03' '37076053' '699276' '9262']\n",
            " ['2023-03-04' '37085520' '699310' '9467']] \n",
            "\n"
          ]
        }
      ]
    },
    {
      "cell_type": "code",
      "source": [
        "# criando a coluna novosobitos - usando a mesma metodologia do exemplo anterior\n",
        "# gera a coluna de novos obitos a partir dos valores acumulados e adiciona na matriz\n",
        "# novos obtos pela diferença \n",
        "novosobitos = np.diff(brasilarr[: , 2].astype('i')).astype(str)\n",
        "novosobitos = np.insert(novosobitos,0,0)\n",
        "novosobitos = novosobitos.reshape((brasilarr.shape[0],1))\n",
        "brasilarr = np.concatenate((brasilarr, novosobitos), axis=1  )\n",
        "\n",
        "# exibindo os formatos da tabela final: 'data', 'casosAcumulado', 'obitosAcumulado', 'novoscasos', novosobitos\n",
        "print(brasilarr[0:3], '\\n')\n",
        "print(brasilarr[-3:], '\\n')"
      ],
      "metadata": {
        "colab": {
          "base_uri": "https://localhost:8080/"
        },
        "id": "uicrJhoq_4AK",
        "outputId": "20242b69-acbf-4582-98c8-76bf9e4da8a3"
      },
      "execution_count": 36,
      "outputs": [
        {
          "output_type": "stream",
          "name": "stdout",
          "text": [
            "[['2023-01-01' '36331281' '693853' '0' '0']\n",
            " ['2023-01-02' '36362366' '693981' '31085' '128']\n",
            " ['2023-01-03' '36390423' '694192' '28057' '211']] \n",
            "\n",
            "[['2023-03-02' '37066791' '699243' '3327' '46']\n",
            " ['2023-03-03' '37076053' '699276' '9262' '33']\n",
            " ['2023-03-04' '37085520' '699310' '9467' '34']] \n",
            "\n"
          ]
        }
      ]
    },
    {
      "cell_type": "code",
      "source": [
        "# verificando os novosobitos\n",
        "693981-693853"
      ],
      "metadata": {
        "colab": {
          "base_uri": "https://localhost:8080/"
        },
        "id": "lf3e3Ko45buu",
        "outputId": "fb69efd2-2cde-49de-8525-85497f747408"
      },
      "execution_count": 37,
      "outputs": [
        {
          "output_type": "execute_result",
          "data": {
            "text/plain": [
              "128"
            ]
          },
          "metadata": {},
          "execution_count": 37
        }
      ]
    },
    {
      "cell_type": "markdown",
      "source": [
        "### Organizar o total de obitos por mês"
      ],
      "metadata": {
        "id": "v9ae1eRWVFyC"
      }
    },
    {
      "cell_type": "markdown",
      "source": [
        "#### Gerando uma lista com Ano-Mês"
      ],
      "metadata": {
        "id": "N2PoJdmhVY-b"
      }
    },
    {
      "cell_type": "code",
      "source": [
        "# np.unique: apenas os valores únicos\n",
        "# lambda x: x[:7] - extraindo 7 caracteres\n",
        "# resultado: apenas a lista dos meses\n",
        "meses_arr = np.sort(np.unique(np.array(list(map(lambda x : x[:7] , np.unique(brasilarr[:,0]))))))\n",
        "meses_arr"
      ],
      "metadata": {
        "id": "Q31ToVbaOpD2",
        "colab": {
          "base_uri": "https://localhost:8080/"
        },
        "outputId": "89faec1b-6b13-4e53-b5e9-fedfb10fbce3"
      },
      "execution_count": 38,
      "outputs": [
        {
          "output_type": "execute_result",
          "data": {
            "text/plain": [
              "array(['2023-01', '2023-02', '2023-03'], dtype='<U7')"
            ]
          },
          "metadata": {},
          "execution_count": 38
        }
      ]
    },
    {
      "cell_type": "code",
      "source": [
        "casos_mes_arr = None\n",
        "for mes in meses_arr:                                                 # calcular para todos os meses\n",
        "  filtro =  np.array([mes in x for x in brasilarr[:,0]])              # criando um array de booleanos para usar como filtro!\n",
        "  casos_arr = brasilarr[filtro,3].astype('i')                         # criando um array e selecionando a coluna 3 - casosnovos\n",
        "  total_casos = np.sum(casos_arr)                                     # somar e obter a quantidade de casos\n",
        "  obitos_arr = brasilarr[filtro,4].astype('i')                        # criando um array e selecionando a coluna 3 - obitos\n",
        "  total_obitos = np.sum(obitos_arr)                                   # somar e obter a quantidade de obitos\n",
        "  arraytemp = np.array([mes, total_casos, total_obitos], dtype=str)   # criando um array temporário com os valores acumulados\n",
        "  if casos_mes_arr is None:                                           # inicia a primeira linha do array casos_mes_arr\n",
        "    casos_mes_arr = arraytemp\n",
        "  else: \n",
        "    casos_mes_arr = np.vstack((casos_mes_arr,arraytemp ))\n",
        "\n",
        "print(casos_mes_arr)"
      ],
      "metadata": {
        "colab": {
          "base_uri": "https://localhost:8080/"
        },
        "id": "VBOPZJfZVjhx",
        "outputId": "00329936-8c9f-4dcc-ceea-98abc9ff7452"
      },
      "execution_count": 40,
      "outputs": [
        {
          "output_type": "stream",
          "name": "stdout",
          "text": [
            "[['2023-01' '493299' '3221']\n",
            " ['2023-02' '228356' '2013']\n",
            " ['2023-03' '32584' '223']]\n"
          ]
        }
      ]
    },
    {
      "cell_type": "code",
      "source": [
        "# Calcular novos casos diferença mes a mes\n",
        "novoscasos = np.diff(casos_mes_arr[: , 1].astype('i')).astype(str)\n",
        "novoscasos =  np.insert(novoscasos,0,0)\n",
        "print(novoscasos)\n",
        "\n",
        "#Adicionar novos casos no array\n",
        "novoscasos = novoscasos.reshape((casos_mes_arr.shape[0],1))\n",
        "casos_mes_arr = np.concatenate((casos_mes_arr, novoscasos), axis=1)\n",
        "print(casos_mes_arr)"
      ],
      "metadata": {
        "colab": {
          "base_uri": "https://localhost:8080/"
        },
        "id": "hTLVtGV1WV-q",
        "outputId": "48bbf3bd-f788-484f-9a18-55cbb0704357"
      },
      "execution_count": 41,
      "outputs": [
        {
          "output_type": "stream",
          "name": "stdout",
          "text": [
            "['0' '-264943' '-195772']\n",
            "[['2023-01' '493299' '3221' '0']\n",
            " ['2023-02' '228356' '2013' '-264943']\n",
            " ['2023-03' '32584' '223' '-195772']]\n"
          ]
        }
      ]
    },
    {
      "cell_type": "code",
      "source": [
        "# Calcular novos obtidos diferença mes a mes\n",
        "novosobitos = np.diff(casos_mes_arr[: , 2].astype('i')).astype(str)\n",
        "novosobitos =  np.insert(novosobitos,0,0)\n",
        "print(novosobitos)\n",
        "\n",
        "#Adicionar novos casos no array\n",
        "novosobitos = novosobitos.reshape((casos_mes_arr.shape[0],1))\n",
        "casos_mes_arr = np.concatenate((casos_mes_arr, novosobitos), axis=1)\n",
        "print(casos_mes_arr)"
      ],
      "metadata": {
        "colab": {
          "base_uri": "https://localhost:8080/"
        },
        "id": "BDod9hVAYYvB",
        "outputId": "e85da22f-09af-40a0-8cd9-f0193954ebe2"
      },
      "execution_count": 42,
      "outputs": [
        {
          "output_type": "stream",
          "name": "stdout",
          "text": [
            "['0' '-1208' '-1790']\n",
            "[['2023-01' '493299' '3221' '0' '0']\n",
            " ['2023-02' '228356' '2013' '-264943' '-1208']\n",
            " ['2023-03' '32584' '223' '-195772' '-1790']]\n"
          ]
        }
      ]
    },
    {
      "cell_type": "code",
      "source": [
        "# Calcular casos acumulados mes a mes\n",
        "casosacumulados = np.cumsum(casos_mes_arr[: , 1].astype('i')).astype(str)\n",
        "print(casosacumulados)\n",
        "\n",
        "#Adicionar casos acumulados no array\n",
        "casosacumulados = casosacumulados.reshape((casos_mes_arr.shape[0],1))\n",
        "casos_mes_arr = np.concatenate((casos_mes_arr, casosacumulados), axis=1)\n",
        "print(casos_mes_arr)"
      ],
      "metadata": {
        "colab": {
          "base_uri": "https://localhost:8080/"
        },
        "id": "uYZSvR61Y-7D",
        "outputId": "1db180bc-79f3-464c-beb3-e97f5cff0485"
      },
      "execution_count": 43,
      "outputs": [
        {
          "output_type": "stream",
          "name": "stdout",
          "text": [
            "['493299' '721655' '754239']\n",
            "[['2023-01' '493299' '3221' '0' '0' '493299']\n",
            " ['2023-02' '228356' '2013' '-264943' '-1208' '721655']\n",
            " ['2023-03' '32584' '223' '-195772' '-1790' '754239']]\n"
          ]
        }
      ]
    },
    {
      "cell_type": "code",
      "source": [
        "# Calcular obitos acumulados mes a mes\n",
        "obitosacumulados = np.cumsum(casos_mes_arr[: , 2].astype('i')).astype(str)\n",
        "print(obitosacumulados)\n",
        "\n",
        "#Adicionar obitos acumulados no array\n",
        "obitosacumulados = obitosacumulados.reshape((casos_mes_arr.shape[0],1))\n",
        "casos_mes_arr = np.concatenate((casos_mes_arr, obitosacumulados), axis=1)\n",
        "print(casos_mes_arr)"
      ],
      "metadata": {
        "colab": {
          "base_uri": "https://localhost:8080/"
        },
        "id": "aEwJ3tHIZK50",
        "outputId": "22a06b11-b4e9-4016-b2a4-4ae9ccc9eaae"
      },
      "execution_count": 44,
      "outputs": [
        {
          "output_type": "stream",
          "name": "stdout",
          "text": [
            "['3221' '5234' '5457']\n",
            "[['2023-01' '493299' '3221' '0' '0' '493299' '3221']\n",
            " ['2023-02' '228356' '2013' '-264943' '-1208' '721655' '5234']\n",
            " ['2023-03' '32584' '223' '-195772' '-1790' '754239' '5457']]\n"
          ]
        }
      ]
    },
    {
      "cell_type": "code",
      "source": [
        "print(casos_mes_arr)"
      ],
      "metadata": {
        "colab": {
          "base_uri": "https://localhost:8080/"
        },
        "id": "iH1KkdBkZOLU",
        "outputId": "efa17dc2-3f07-48b5-80b2-506c6bc27d08"
      },
      "execution_count": 45,
      "outputs": [
        {
          "output_type": "stream",
          "name": "stdout",
          "text": [
            "[['2023-01' '493299' '3221' '0' '0' '493299' '3221']\n",
            " ['2023-02' '228356' '2013' '-264943' '-1208' '721655' '5234']\n",
            " ['2023-03' '32584' '223' '-195772' '-1790' '754239' '5457']]\n"
          ]
        }
      ]
    },
    {
      "cell_type": "code",
      "source": [
        "#Reorganizando as colunas\n",
        "casos_mes_arr = casos_mes_arr[: , [0,1,3,5,2,4,6]]\n",
        "print(casos_mes_arr)"
      ],
      "metadata": {
        "colab": {
          "base_uri": "https://localhost:8080/"
        },
        "id": "l66LfY2oZQ5i",
        "outputId": "9aae18fa-ea5a-47ba-cde9-91dd029f6cd7"
      },
      "execution_count": 46,
      "outputs": [
        {
          "output_type": "stream",
          "name": "stdout",
          "text": [
            "[['2023-01' '493299' '0' '493299' '3221' '0' '3221']\n",
            " ['2023-02' '228356' '-264943' '721655' '2013' '-1208' '5234']\n",
            " ['2023-03' '32584' '-195772' '754239' '223' '-1790' '5457']]\n"
          ]
        }
      ]
    },
    {
      "cell_type": "code",
      "source": [
        "# adicionando o nome das colunas\n",
        "colunas = np.array(['DATA', 'CASOS_NOVOS', 'CASOS_ACUMULADOS',\n",
        "           'CASOS_DIF_MES_ANT', \n",
        "           'OBITOS_NOVOS', 'OBITOS_ACUMULADOS',\n",
        "           'OBITOS_DIF_MES_ANT'])\n",
        "\n",
        "colunas.shape     "
      ],
      "metadata": {
        "colab": {
          "base_uri": "https://localhost:8080/"
        },
        "id": "F-ounPuFZUQU",
        "outputId": "e5d2c43e-8652-4d8e-8629-36a41d15ed6c"
      },
      "execution_count": 47,
      "outputs": [
        {
          "output_type": "execute_result",
          "data": {
            "text/plain": [
              "(7,)"
            ]
          },
          "metadata": {},
          "execution_count": 47
        }
      ]
    },
    {
      "cell_type": "code",
      "source": [
        "casos_mes_arr= np.vstack((colunas, casos_mes_arr))"
      ],
      "metadata": {
        "id": "coIgD1RdZZBH"
      },
      "execution_count": 48,
      "outputs": []
    },
    {
      "cell_type": "code",
      "source": [
        "casos_mes_arr.shape "
      ],
      "metadata": {
        "colab": {
          "base_uri": "https://localhost:8080/"
        },
        "id": "owN8Js87ZbMj",
        "outputId": "5611c4ad-5189-48b7-99be-c61c2c29005d"
      },
      "execution_count": 49,
      "outputs": [
        {
          "output_type": "execute_result",
          "data": {
            "text/plain": [
              "(4, 7)"
            ]
          },
          "metadata": {},
          "execution_count": 49
        }
      ]
    },
    {
      "cell_type": "code",
      "source": [
        "casos_mes_arr"
      ],
      "metadata": {
        "colab": {
          "base_uri": "https://localhost:8080/"
        },
        "id": "PNvWzd7FZdLb",
        "outputId": "96418598-fac0-4d86-ce36-266fce9ae2b2"
      },
      "execution_count": 50,
      "outputs": [
        {
          "output_type": "execute_result",
          "data": {
            "text/plain": [
              "array([['DATA', 'CASOS_NOVOS', 'CASOS_ACUMULADOS', 'CASOS_DIF_MES_ANT',\n",
              "        'OBITOS_NOVOS', 'OBITOS_ACUMULADOS', 'OBITOS_DIF_MES_ANT'],\n",
              "       ['2023-01', '493299', '0', '493299', '3221', '0', '3221'],\n",
              "       ['2023-02', '228356', '-264943', '721655', '2013', '-1208',\n",
              "        '5234'],\n",
              "       ['2023-03', '32584', '-195772', '754239', '223', '-1790', '5457']],\n",
              "      dtype='<U21')"
            ]
          },
          "metadata": {},
          "execution_count": 50
        }
      ]
    },
    {
      "cell_type": "code",
      "source": [
        "np.savetxt(\"casos_mes_arr.csv\", casos_mes_arr, delimiter=\";\", fmt='%s')"
      ],
      "metadata": {
        "id": "xarg9KYyZfjU"
      },
      "execution_count": 51,
      "outputs": []
    },
    {
      "cell_type": "code",
      "source": [],
      "metadata": {
        "id": "fdLo7Xs4Zmrn"
      },
      "execution_count": null,
      "outputs": []
    }
  ]
}