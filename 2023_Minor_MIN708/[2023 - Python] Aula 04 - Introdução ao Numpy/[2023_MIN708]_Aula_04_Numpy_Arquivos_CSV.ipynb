{
  "nbformat": 4,
  "nbformat_minor": 0,
  "metadata": {
    "colab": {
      "provenance": []
    },
    "kernelspec": {
      "name": "python3",
      "display_name": "Python 3"
    },
    "language_info": {
      "name": "python"
    }
  },
  "cells": [
    {
      "cell_type": "code",
      "execution_count": 22,
      "metadata": {
        "id": "Ags9gZQ7ksFN"
      },
      "outputs": [],
      "source": [
        "import numpy as np"
      ]
    },
    {
      "cell_type": "code",
      "source": [
        "# Carregar os arquivos CSV como matrizes"
      ],
      "metadata": {
        "id": "6Qevg4RPk3G1"
      },
      "execution_count": 8,
      "outputs": []
    },
    {
      "cell_type": "code",
      "source": [
        "# Carregar os arquivos CSV como matrizes\n",
        "matriz1 = np.loadtxt('/content/drive/MyDrive/Colab Notebooks/[2023 Minor]/[2023 - MIN708]/[2023.03.11] Aula 04 - NumPy/datasets/HIST_PAINEL_COVIDBR_2022_Parte1_04mar2023.csv', \n",
        "                     delimiter=';', skiprows=1 , dtype='U', encoding='utf-8')"
      ],
      "metadata": {
        "id": "9z5LdP4ynoF8"
      },
      "execution_count": 17,
      "outputs": []
    },
    {
      "cell_type": "code",
      "source": [
        "# Carregar os arquivos CSV como matrizes\n",
        "matriz2 = np.loadtxt('/content/drive/MyDrive/Colab Notebooks/[2023 Minor]/[2023 - MIN708]/[2023.03.11] Aula 04 - NumPy/datasets/HIST_PAINEL_COVIDBR_2022_Parte2_04mar2023.csv', \n",
        "                     delimiter=';', skiprows=1 , dtype='U', encoding='utf-8')"
      ],
      "metadata": {
        "id": "aYAuNRRMoL3m"
      },
      "execution_count": 18,
      "outputs": []
    },
    {
      "cell_type": "code",
      "source": [
        "# Concatenando os dois arrays\n",
        "matriz_final = np.vstack((matriz1, matriz2))"
      ],
      "metadata": {
        "id": "e9chctF3nGKC"
      },
      "execution_count": 19,
      "outputs": []
    },
    {
      "cell_type": "code",
      "source": [
        "matriz1.shape"
      ],
      "metadata": {
        "colab": {
          "base_uri": "https://localhost:8080/"
        },
        "id": "Z2RM1klZpC93",
        "outputId": "1facb2fb-71f1-4a74-e4ea-377ef2eb7c5d"
      },
      "execution_count": 23,
      "outputs": [
        {
          "output_type": "execute_result",
          "data": {
            "text/plain": [
              "(1017039, 17)"
            ]
          },
          "metadata": {},
          "execution_count": 23
        }
      ]
    },
    {
      "cell_type": "code",
      "source": [
        "matriz2.shape"
      ],
      "metadata": {
        "colab": {
          "base_uri": "https://localhost:8080/"
        },
        "id": "BmX78cfepGio",
        "outputId": "feadf3a3-de6c-4df4-a525-7fdc1c85e103"
      },
      "execution_count": 24,
      "outputs": [
        {
          "output_type": "execute_result",
          "data": {
            "text/plain": [
              "(1033896, 17)"
            ]
          },
          "metadata": {},
          "execution_count": 24
        }
      ]
    },
    {
      "cell_type": "code",
      "source": [
        "matriz_final.shape"
      ],
      "metadata": {
        "colab": {
          "base_uri": "https://localhost:8080/"
        },
        "id": "tbDkGW3GoVuH",
        "outputId": "eb5a71d7-17a9-48c6-9b81-b69b9bc91c56"
      },
      "execution_count": 20,
      "outputs": [
        {
          "output_type": "execute_result",
          "data": {
            "text/plain": [
              "(2050935, 17)"
            ]
          },
          "metadata": {},
          "execution_count": 20
        }
      ]
    },
    {
      "cell_type": "code",
      "source": [],
      "metadata": {
        "id": "fx2ugWIsophV"
      },
      "execution_count": null,
      "outputs": []
    }
  ]
}