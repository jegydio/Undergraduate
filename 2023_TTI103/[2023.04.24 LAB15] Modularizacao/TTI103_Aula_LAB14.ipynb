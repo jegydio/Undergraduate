{
  "nbformat": 4,
  "nbformat_minor": 0,
  "metadata": {
    "colab": {
      "provenance": []
    },
    "kernelspec": {
      "name": "python3",
      "display_name": "Python 3"
    },
    "language_info": {
      "name": "python"
    }
  },
  "cells": [
    {
      "cell_type": "markdown",
      "source": [
        "# TTI103 - Aula LAB14"
      ],
      "metadata": {
        "id": "PDPL77ECcuyT"
      }
    },
    {
      "cell_type": "markdown",
      "source": [
        "# Exercício 01 – Gerando o *user name*\n",
        "Em uma universidade, à cada estudante é atribuído um user name necessário para o acesso à rede discente. Como parte de seu estágio no Departamento de Tecnologia da Informação da universidade, foi-lhe atribuída a tarefa de escrever um programa responsável pela geração dos nomes de usuário para os estudantes. As regras para a construção são vistas a seguir:\n",
        "\n",
        "* Selecione os três primeiros caracteres do nome do estudante (caso o nome possua menos de três caracteres, use o nome completo);\n",
        "\n",
        "* Selecione os três primeiros caracteres do sobrenome do estudante (caso o sobrenome possua menos de três caracteres, use o sobrenome completo);\n",
        "\n",
        "* Selecione os três últimos caracteres do registro acadêmico [RA ou ID] do estudante (caso o registro acadêmico ou ID possua menos de três caracteres, use o registro completo);\n",
        "\n",
        "* O *user name* é criado pela concatenação dos três conjuntos de caracteres (em caixa baixa).\n",
        "\n",
        "Para a criação do programa, modularize seu código:\n",
        "\n",
        "**a)** Crie uma função *gera_login* que recebe como parâmetros o nome, o sobrenome e o registro acadêmico de um estudante e retorna o user name criado.\n"
      ],
      "metadata": {
        "id": "WaIyvXLa38Xo"
      }
    },
    {
      "cell_type": "code",
      "source": [
        "# Função gera_login\n",
        "def gera_login(nome, sobrenome, ID):\n",
        "    if len(nome) > 3:\n",
        "        inicio = nome[:3]\n",
        "    else:\n",
        "        inicio = nome\n",
        "    if len(sobrenome) > 3:\n",
        "        meio = sobrenome[:3]\n",
        "    else:\n",
        "        meio = sobrenome\n",
        "    if len(ID) > 3:\n",
        "        fim = ID[-3:]\n",
        "    else:\n",
        "        fim = ID\n",
        "    return inicio + meio + fim"
      ],
      "metadata": {
        "id": "T6hD6HtbhvmY"
      },
      "execution_count": 1,
      "outputs": []
    },
    {
      "cell_type": "markdown",
      "source": [
        "**b)** Elabore um programa que permita a entrada de dados de um estudante e exiba o respectivo user name."
      ],
      "metadata": {
        "id": "9H4LxlTAhykX"
      }
    },
    {
      "cell_type": "code",
      "source": [
        "# Programa\n",
        "import string\n",
        "\n",
        "nome, sobrenome = input('Digite o nome e sobrenome: ').lower().split()\n",
        "pontuacao = string.punctuation\n",
        "ID = input('Digite o ID: ')\n",
        "ID = ID.translate(str.maketrans('','',pontuacao))\n",
        "login = gera_login(nome, sobrenome, ID)\n",
        "print(f'\\nSeu login na rede é {login}')"
      ],
      "metadata": {
        "id": "JbFcLo9hh2SX"
      },
      "execution_count": null,
      "outputs": []
    },
    {
      "cell_type": "markdown",
      "source": [
        "# Exercício 02 - Validação de senha\n",
        "\n",
        "Continuando seu trabalho no Departamento de TI da universidade, sua nova tarefa é a criação de um programa que valide a escolha de senha de cada estudante para o acesso à rede de computadores. Quando da criação da senha, o estudante foi comunicado de que a senha escolhida devia:\n",
        "\n",
        "* Ser formada por, no mínimo, sete caracteres;\n",
        "* Conter ao menos uma letra maiúscula;\n",
        "* Conter ao menos uma letra minúscula;\n",
        "* Conter ao menos um dígito numérico.\n",
        "\n",
        "Para a criação do programa, modularize seu código:\n",
        "\n",
        "**a)** Crie uma função *valida_senha* que recebe como parâmetro a senha do usuário e retorna *True* se a senha é válida ou *False*, caso contrário."
      ],
      "metadata": {
        "id": "SMMs32Hih5VO"
      }
    },
    {
      "cell_type": "code",
      "source": [
        "# Função valida_senha\n",
        "def valida_senha(senha):\n",
        "    COMP_SENHA = 7\n",
        "    if len(senha) >= COMP_SENHA:\n",
        "        upper_ok = any(char.isupper() for char in senha)\n",
        "        lower_ok = any(char.islower() for char in senha)\n",
        "        dig_ok = any(char.isdigit() for char in senha)\n",
        "    else:\n",
        "        return False\n",
        "    return upper_ok and lower_ok and dig_ok"
      ],
      "metadata": {
        "id": "mW2vUxpkiV6I"
      },
      "execution_count": 4,
      "outputs": []
    },
    {
      "cell_type": "markdown",
      "source": [
        "**b)** Elabore um programa que solicite a digitação da senha. Caso se trate de uma senha válida, o programa deve exibir a mensagem “Senha validada”. Caso seja inválida, o processo de entrada deve se repetir até que uma senha válida seja informada."
      ],
      "metadata": {
        "id": "kTSNZ6RKibmf"
      }
    },
    {
      "cell_type": "code",
      "source": [
        "# Programa\n",
        "senha = input('Digite sua senha: ')\n",
        "while not valida_senha(senha):\n",
        "    print('ERRO: Senha inválida!')\n",
        "    senha = input('Digite sua senha: ')\n",
        "print('Senha validada!')"
      ],
      "metadata": {
        "id": "3oedrWboiYY_"
      },
      "execution_count": null,
      "outputs": []
    },
    {
      "cell_type": "markdown",
      "source": [
        "# Exercício 03 - Exercício 03 – Vogais e consoantes \n",
        "\n",
        "Escreva um programa que peça ao usuário a entrada de uma string (uma frase, por exemplo) e exiba o número de vogais e consoantes presentes nela. Para tanto:\n",
        "\n",
        "**a)** Crie uma função *conta_vogais* que recebe como parâmetro uma *string* e retorna o número de vogais nela contida.\n",
        "\n",
        "**b)** Crie uma função *conta_consoantes* que recebe como parâmetro uma *string* e retorna o número de consoantes nela contida."
      ],
      "metadata": {
        "id": "my2vbFJ8imjo"
      }
    },
    {
      "cell_type": "code",
      "source": [
        "# Função conta_vogais\n",
        "def conta_vogais(txt):\n",
        "    txt = txt.lower()\n",
        "    vogais = 'aeiou'\n",
        "    ocorrencias = 0\n",
        "    for letra in txt:\n",
        "        if letra in vogais:\n",
        "            ocorrencias += 1\n",
        "    return ocorrencias"
      ],
      "metadata": {
        "id": "bYt1iwPyilw2"
      },
      "execution_count": 6,
      "outputs": []
    },
    {
      "cell_type": "code",
      "source": [
        "# Função conta_consosantes\n",
        "def conta_consoantes(txt):\n",
        "    txt = txt.lower()\n",
        "    consoantes = 'bcdfghjklmnpqrstvwxyz'\n",
        "    ocorrencias = 0\n",
        "    for letra in txt:\n",
        "        if letra in consoantes:\n",
        "            ocorrencias += 1\n",
        "    return ocorrencias"
      ],
      "metadata": {
        "id": "cT9unCeIjOwY"
      },
      "execution_count": 7,
      "outputs": []
    },
    {
      "cell_type": "code",
      "source": [
        "# Programa\n",
        "texto = input('Digite uma frase: ')\n",
        "num_vogais = conta_vogais(texto)\n",
        "num_consoantes = conta_consoantes(texto)\n",
        "print(f'''A frase '{texto}' possui:\n",
        "      {num_vogais} vogais\n",
        "      {num_consoantes} consoantes''')"
      ],
      "metadata": {
        "id": "30jdsVYdjRsW"
      },
      "execution_count": null,
      "outputs": []
    },
    {
      "cell_type": "markdown",
      "source": [
        "# Exercício 04 – Pig Latin (“Latim porco”, em uma tradução livre)\n",
        "\n",
        "Escreva um programa que solicita uma frase como entrada e a traduza para o “Latim porco”. Em uma de suas versões, a tradução de uma palavra para o “Latim porco” se dá em duas etapas:\n",
        "\n",
        "* Remoção da primeira letra da palavra e inserção dessa ao final;\n",
        "* Concatenar “ay” à palavra.\n",
        "\n",
        "Veja um exemplo:\n",
        "\n",
        "**Frase original:** Eu quero ver o oco (Refrão de “Eu quero ver o oco”, sucesso dos Raimundos (1995)\n",
        "\n",
        "**Frase em \"latim porco\":** ueay ueroqay ervay oay cooay\n",
        "\n",
        "Para a criação do programa, modularize seu código:\n",
        "\n",
        "**a)** Crie uma função *pig_latin* que recebe como parâmetro uma frase e retorna sua tradução para o “latim porco”.\n",
        "\n",
        "**b)** Elabore um programa que solicite a digitação de uma frase e exiba a versão traduzida em “latim porco”."
      ],
      "metadata": {
        "id": "TZW5nhe9jTlx"
      }
    },
    {
      "cell_type": "code",
      "source": [
        "# Função pig_latin\n",
        "def pig_latin(txt):\n",
        "    txt = txt.lower().split()\n",
        "    traducao = [word[1:] + word[0] + 'ay' for word in txt]\n",
        "    return ' '.join(traducao)"
      ],
      "metadata": {
        "id": "_wqRzUd9kBnB"
      },
      "execution_count": 10,
      "outputs": []
    },
    {
      "cell_type": "code",
      "source": [
        "# Programa\n",
        "frase = input('Digite uma frase: ')\n",
        "frase_pig_latin = pig_latin(frase)\n",
        "print('Frase original:')\n",
        "print(frase)\n",
        "print('Frase em \"latim porco\":')\n",
        "print(frase_pig_latin)"
      ],
      "metadata": {
        "id": "Zm_zjRKakIKW"
      },
      "execution_count": null,
      "outputs": []
    }
  ]
}